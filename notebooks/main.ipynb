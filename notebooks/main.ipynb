{
 "cells": [
  {
   "cell_type": "code",
   "execution_count": 1,
   "metadata": {},
   "outputs": [],
   "source": [
    "import pandas as pd\n",
    "import numpy as np\n",
    "from math import *\n",
    "import matplotlib.pyplot as plt\n",
    "import scipy.stats as stats"
   ]
  },
  {
   "cell_type": "code",
   "execution_count": 2,
   "metadata": {
    "scrolled": true
   },
   "outputs": [
    {
     "output_type": "execute_result",
     "data": {
      "text/plain": [
       "     STT  Mã sinh viên          Họ đệm   Tên  \\\n",
       "0    NaN           NaN             NaN   NaN   \n",
       "1    1.0    19489471.0       Đinh Tuấn   Anh   \n",
       "2    2.0    19442001.0          Hà Bảo   Anh   \n",
       "3    3.0    19478881.0         Lưu Đức   Anh   \n",
       "4    4.0    19506751.0        Trần Nam    Bá   \n",
       "..   ...           ...             ...   ...   \n",
       "56  56.0    19446701.0       Huỳnh Anh    Tú   \n",
       "57  57.0    19497581.0  Nguyễn Văn Anh  Tuấn   \n",
       "58  58.0    19469421.0       Phạm Minh  Tuấn   \n",
       "59  59.0    19512321.0   Phan Lê Hoàng  Việt   \n",
       "60  60.0    19474281.0       Trần Tuấn    Vũ   \n",
       "\n",
       "    Những nguyên lý cơ bản của Chủ nghĩa Mác - Lênin  Nhập môn Tin học   \\\n",
       "0                                                5.0                2.0   \n",
       "1                                                5.1                8.3   \n",
       "2                                                5.3                6.1   \n",
       "3                                                5.6                7.7   \n",
       "4                                                6.7                7.5   \n",
       "..                                               ...                ...   \n",
       "56                                               6.4                6.3   \n",
       "57                                               5.6                7.5   \n",
       "58                                               6.3                6.4   \n",
       "59                                               1.0                7.6   \n",
       "60                                               7.9                6.5   \n",
       "\n",
       "    Giáo dục Quốc phòng và An ninh 1  Toán cao cấp 1  Giáo dục thể chất 1  \\\n",
       "0                                4.0             2.0                  2.0   \n",
       "1                                7.0             8.5                  6.5   \n",
       "2                                7.5             7.1                  7.5   \n",
       "3                                7.0             8.4                  6.5   \n",
       "4                                6.5             8.6                  6.5   \n",
       "..                               ...             ...                  ...   \n",
       "56                               6.5             7.7                  7.0   \n",
       "57                               7.0             6.0                  6.5   \n",
       "58                               6.5             7.0                  5.5   \n",
       "59                               6.5             5.7                  5.0   \n",
       "60                               6.5             9.6                  5.5   \n",
       "\n",
       "    Nhập môn Lập trình  ...  Chứng chỉ TOEIC 450  Khóa luận tốt nghiệp  \\\n",
       "0                  2.0  ...                  0.0                   5.0   \n",
       "1                  7.3  ...                  NaN                   NaN   \n",
       "2                  8.0  ...                  NaN                   NaN   \n",
       "3                  6.8  ...                  NaN                   NaN   \n",
       "4                  7.8  ...                  NaN                   NaN   \n",
       "..                 ...  ...                  ...                   ...   \n",
       "56                 6.7  ...                  NaN                   NaN   \n",
       "57                 9.7  ...                  NaN                   NaN   \n",
       "58                 4.7  ...                  NaN                   NaN   \n",
       "59                 9.0  ...                  NaN                   NaN   \n",
       "60                 6.8  ...                  NaN                   NaN   \n",
       "\n",
       "    Thực tập doanh nghiệp     Học lực  Unnamed: 85  Unnamed: 86  Unnamed: 87  \\\n",
       "0                     5.0  Số tín chỉ      Điểm 10       Điểm 4     Điểm chữ   \n",
       "1                     NaN          29         5.90         2.21           C    \n",
       "2                     NaN          18         4.90         1.90           D    \n",
       "3                     NaN          21         5.90         2.26           C    \n",
       "4                     NaN          21         6.40         2.63           C+   \n",
       "..                    ...         ...          ...          ...          ...   \n",
       "56                    NaN          25         6.30         2.28           C+   \n",
       "57                    NaN          25         7.20         2.80           B    \n",
       "58                    NaN          21         5.70         2.18           C    \n",
       "59                    NaN          17         5.30         2.06           D+   \n",
       "60                    NaN          22         7.00         2.82           B    \n",
       "\n",
       "       Unnamed: 88  Hạnh kiểm  Unnamed: 90  \n",
       "0         Xếp loại       Điểm     Xếp loại  \n",
       "1       Trung bình          0          NaN  \n",
       "2   Trung bình yếu          0          NaN  \n",
       "3       Trung bình          0          NaN  \n",
       "4              Khá          0          NaN  \n",
       "..             ...        ...          ...  \n",
       "56      Trung bình          0          NaN  \n",
       "57             Khá          0          NaN  \n",
       "58      Trung bình          0          NaN  \n",
       "59      Trung bình          0          NaN  \n",
       "60             Khá          0          NaN  \n",
       "\n",
       "[61 rows x 91 columns]"
      ],
      "text/html": "<div>\n<style scoped>\n    .dataframe tbody tr th:only-of-type {\n        vertical-align: middle;\n    }\n\n    .dataframe tbody tr th {\n        vertical-align: top;\n    }\n\n    .dataframe thead th {\n        text-align: right;\n    }\n</style>\n<table border=\"1\" class=\"dataframe\">\n  <thead>\n    <tr style=\"text-align: right;\">\n      <th></th>\n      <th>STT</th>\n      <th>Mã sinh viên</th>\n      <th>Họ đệm</th>\n      <th>Tên</th>\n      <th>Những nguyên lý cơ bản của Chủ nghĩa Mác - Lênin</th>\n      <th>Nhập môn Tin học</th>\n      <th>Giáo dục Quốc phòng và An ninh 1</th>\n      <th>Toán cao cấp 1</th>\n      <th>Giáo dục thể chất 1</th>\n      <th>Nhập môn Lập trình</th>\n      <th>...</th>\n      <th>Chứng chỉ TOEIC 450</th>\n      <th>Khóa luận tốt nghiệp</th>\n      <th>Thực tập doanh nghiệp</th>\n      <th>Học lực</th>\n      <th>Unnamed: 85</th>\n      <th>Unnamed: 86</th>\n      <th>Unnamed: 87</th>\n      <th>Unnamed: 88</th>\n      <th>Hạnh kiểm</th>\n      <th>Unnamed: 90</th>\n    </tr>\n  </thead>\n  <tbody>\n    <tr>\n      <th>0</th>\n      <td>NaN</td>\n      <td>NaN</td>\n      <td>NaN</td>\n      <td>NaN</td>\n      <td>5.0</td>\n      <td>2.0</td>\n      <td>4.0</td>\n      <td>2.0</td>\n      <td>2.0</td>\n      <td>2.0</td>\n      <td>...</td>\n      <td>0.0</td>\n      <td>5.0</td>\n      <td>5.0</td>\n      <td>Số tín chỉ</td>\n      <td>Điểm 10</td>\n      <td>Điểm 4</td>\n      <td>Điểm chữ</td>\n      <td>Xếp loại</td>\n      <td>Điểm</td>\n      <td>Xếp loại</td>\n    </tr>\n    <tr>\n      <th>1</th>\n      <td>1.0</td>\n      <td>19489471.0</td>\n      <td>Đinh Tuấn</td>\n      <td>Anh</td>\n      <td>5.1</td>\n      <td>8.3</td>\n      <td>7.0</td>\n      <td>8.5</td>\n      <td>6.5</td>\n      <td>7.3</td>\n      <td>...</td>\n      <td>NaN</td>\n      <td>NaN</td>\n      <td>NaN</td>\n      <td>29</td>\n      <td>5.90</td>\n      <td>2.21</td>\n      <td>C</td>\n      <td>Trung bình</td>\n      <td>0</td>\n      <td>NaN</td>\n    </tr>\n    <tr>\n      <th>2</th>\n      <td>2.0</td>\n      <td>19442001.0</td>\n      <td>Hà Bảo</td>\n      <td>Anh</td>\n      <td>5.3</td>\n      <td>6.1</td>\n      <td>7.5</td>\n      <td>7.1</td>\n      <td>7.5</td>\n      <td>8.0</td>\n      <td>...</td>\n      <td>NaN</td>\n      <td>NaN</td>\n      <td>NaN</td>\n      <td>18</td>\n      <td>4.90</td>\n      <td>1.90</td>\n      <td>D</td>\n      <td>Trung bình yếu</td>\n      <td>0</td>\n      <td>NaN</td>\n    </tr>\n    <tr>\n      <th>3</th>\n      <td>3.0</td>\n      <td>19478881.0</td>\n      <td>Lưu Đức</td>\n      <td>Anh</td>\n      <td>5.6</td>\n      <td>7.7</td>\n      <td>7.0</td>\n      <td>8.4</td>\n      <td>6.5</td>\n      <td>6.8</td>\n      <td>...</td>\n      <td>NaN</td>\n      <td>NaN</td>\n      <td>NaN</td>\n      <td>21</td>\n      <td>5.90</td>\n      <td>2.26</td>\n      <td>C</td>\n      <td>Trung bình</td>\n      <td>0</td>\n      <td>NaN</td>\n    </tr>\n    <tr>\n      <th>4</th>\n      <td>4.0</td>\n      <td>19506751.0</td>\n      <td>Trần Nam</td>\n      <td>Bá</td>\n      <td>6.7</td>\n      <td>7.5</td>\n      <td>6.5</td>\n      <td>8.6</td>\n      <td>6.5</td>\n      <td>7.8</td>\n      <td>...</td>\n      <td>NaN</td>\n      <td>NaN</td>\n      <td>NaN</td>\n      <td>21</td>\n      <td>6.40</td>\n      <td>2.63</td>\n      <td>C+</td>\n      <td>Khá</td>\n      <td>0</td>\n      <td>NaN</td>\n    </tr>\n    <tr>\n      <th>...</th>\n      <td>...</td>\n      <td>...</td>\n      <td>...</td>\n      <td>...</td>\n      <td>...</td>\n      <td>...</td>\n      <td>...</td>\n      <td>...</td>\n      <td>...</td>\n      <td>...</td>\n      <td>...</td>\n      <td>...</td>\n      <td>...</td>\n      <td>...</td>\n      <td>...</td>\n      <td>...</td>\n      <td>...</td>\n      <td>...</td>\n      <td>...</td>\n      <td>...</td>\n      <td>...</td>\n    </tr>\n    <tr>\n      <th>56</th>\n      <td>56.0</td>\n      <td>19446701.0</td>\n      <td>Huỳnh Anh</td>\n      <td>Tú</td>\n      <td>6.4</td>\n      <td>6.3</td>\n      <td>6.5</td>\n      <td>7.7</td>\n      <td>7.0</td>\n      <td>6.7</td>\n      <td>...</td>\n      <td>NaN</td>\n      <td>NaN</td>\n      <td>NaN</td>\n      <td>25</td>\n      <td>6.30</td>\n      <td>2.28</td>\n      <td>C+</td>\n      <td>Trung bình</td>\n      <td>0</td>\n      <td>NaN</td>\n    </tr>\n    <tr>\n      <th>57</th>\n      <td>57.0</td>\n      <td>19497581.0</td>\n      <td>Nguyễn Văn Anh</td>\n      <td>Tuấn</td>\n      <td>5.6</td>\n      <td>7.5</td>\n      <td>7.0</td>\n      <td>6.0</td>\n      <td>6.5</td>\n      <td>9.7</td>\n      <td>...</td>\n      <td>NaN</td>\n      <td>NaN</td>\n      <td>NaN</td>\n      <td>25</td>\n      <td>7.20</td>\n      <td>2.80</td>\n      <td>B</td>\n      <td>Khá</td>\n      <td>0</td>\n      <td>NaN</td>\n    </tr>\n    <tr>\n      <th>58</th>\n      <td>58.0</td>\n      <td>19469421.0</td>\n      <td>Phạm Minh</td>\n      <td>Tuấn</td>\n      <td>6.3</td>\n      <td>6.4</td>\n      <td>6.5</td>\n      <td>7.0</td>\n      <td>5.5</td>\n      <td>4.7</td>\n      <td>...</td>\n      <td>NaN</td>\n      <td>NaN</td>\n      <td>NaN</td>\n      <td>21</td>\n      <td>5.70</td>\n      <td>2.18</td>\n      <td>C</td>\n      <td>Trung bình</td>\n      <td>0</td>\n      <td>NaN</td>\n    </tr>\n    <tr>\n      <th>59</th>\n      <td>59.0</td>\n      <td>19512321.0</td>\n      <td>Phan Lê Hoàng</td>\n      <td>Việt</td>\n      <td>1.0</td>\n      <td>7.6</td>\n      <td>6.5</td>\n      <td>5.7</td>\n      <td>5.0</td>\n      <td>9.0</td>\n      <td>...</td>\n      <td>NaN</td>\n      <td>NaN</td>\n      <td>NaN</td>\n      <td>17</td>\n      <td>5.30</td>\n      <td>2.06</td>\n      <td>D+</td>\n      <td>Trung bình</td>\n      <td>0</td>\n      <td>NaN</td>\n    </tr>\n    <tr>\n      <th>60</th>\n      <td>60.0</td>\n      <td>19474281.0</td>\n      <td>Trần Tuấn</td>\n      <td>Vũ</td>\n      <td>7.9</td>\n      <td>6.5</td>\n      <td>6.5</td>\n      <td>9.6</td>\n      <td>5.5</td>\n      <td>6.8</td>\n      <td>...</td>\n      <td>NaN</td>\n      <td>NaN</td>\n      <td>NaN</td>\n      <td>22</td>\n      <td>7.00</td>\n      <td>2.82</td>\n      <td>B</td>\n      <td>Khá</td>\n      <td>0</td>\n      <td>NaN</td>\n    </tr>\n  </tbody>\n</table>\n<p>61 rows × 91 columns</p>\n</div>"
     },
     "metadata": {},
     "execution_count": 2
    }
   ],
   "source": [
    "df = pd.read_excel('../csv_files/raw_data_dhkhdl15a.xlsx')\n",
    "df"
   ]
  },
  {
   "cell_type": "code",
   "execution_count": 3,
   "metadata": {},
   "outputs": [],
   "source": [
    "# Loại bỏ dấu cách\n",
    "df = df.rename(columns={i : i.strip() for i in df.columns})\n",
    "\n",
    "# Làm tròn mã số sv\n",
    "df.loc[1:, 'Mã sinh viên'] = df.loc[1:, 'Mã sinh viên'].astype('int64')\n",
    "\n",
    "# Xóa cột Unamed 90\n",
    "df.drop('Unnamed: 90', axis=1, inplace=True)\n",
    "\n",
    "# Cột Hạnh kiểm chỉ có số 0, nên xóa đi\n",
    "df.drop('Hạnh kiểm', axis=1, inplace=True)"
   ]
  },
  {
   "cell_type": "code",
   "execution_count": 4,
   "metadata": {},
   "outputs": [],
   "source": [
    "hk1_nam1 = [\n",
    "    'Những nguyên lý cơ bản của Chủ nghĩa Mác – Lênin',\n",
    "    'Nhập môn Tin học',\n",
    "    'Toán cao cấp 1',\n",
    "    'Nhập môn Lập trình'\n",
    "]\n",
    "\n",
    "hk2_nam1 = [\n",
    "    'Kỹ thuật lập trình',\n",
    "    'Hệ thống Máy tính',\n",
    "    'Kỹ năng làm việc nhóm',\n",
    "    'Toán cao cấp 2',\n",
    "    'Toán ứng dụng',\n",
    "    'Hàm phức và phép biến đổi Laplace',\n",
    "    'Phương pháp tính',\n",
    "    'Vật lý đại cương',\n",
    "    'Logic học'\n",
    "]\n",
    "\n",
    "hk1_nam2 = [\n",
    "    'Cấu trúc rời rạc',\n",
    "    'Cấu trúc dữ liệu và giải thuật',\n",
    "    'Hệ cơ sở dữ liệu',\n",
    "    'Lập trình hướng đối tượng',\n",
    "    'Xác suất trong Khoa học Dữ liệu',\n",
    "    'Giải thuật và tối ưu hóa phân tán',\n",
    "    'Trực quan hóa dữ liệu',\n",
    "    'Đại số tuyến tính tính toán'\n",
    "]\n",
    "\n",
    "hk2_nam2 = [\n",
    "    'Mạng máy tính',\n",
    "    'Pháp luật đại cương',\n",
    "    'Phương pháp luận nghiên cứu khoa học',\n",
    "    'Thống kê máy tính và ứng dụng',\n",
    "    'Nhập môn Khoa học Dữ liệu',\n",
    "    'Lập trình phân tích dữ liệu',\n",
    "    'Quá trình ngẫu nhiên',\n",
    "    'Các ngôn ngữ truy vấn cơ sở dữ liệu',\n",
    "    'Kiến trúc hướng dịch vụ và Điện toán đám mây',\n",
    "    'Giao tiếp kinh doanh',\n",
    "    'Kỹ năng xây dựng kế hoạch',\n",
    "    'Quản trị doanh nghiệp',\n",
    "    'Môi trường và con người',\n",
    "    'Quản trị học',\n",
    "    'Kế toán cơ bản'\n",
    "]\n",
    "\n",
    "so_tin_chi = df.loc[0].to_list()\n",
    "mon_hoc = df.columns[4:-7].to_list()\n",
    "outlier = ['Giáo dục Quốc phòng và An ninh 1', 'Giáo dục thể chất 1', 'Tiếng anh 1', 'Giáo dục thể chất 2',\n",
    "       'Giáo dục quốc phòng và an ninh 2', 'Tiếng anh 2']\n",
    "df = df.rename(columns={'Học lực': 'Số tín chỉ', 'Unnamed: 85' : 'Điểm 10', 'Unnamed: 86': 'Điểm 4', 'Unnamed: 87' : 'Điểm chữ', 'Unnamed: 88': 'Xếp loại'})"
   ]
  },
  {
   "cell_type": "code",
   "execution_count": 5,
   "metadata": {},
   "outputs": [],
   "source": [
    "diem_xeploai = {\n",
    "    (9, 10) : ['A+', 'Xuất sắc'],\n",
    "    (8.5, 8.9) : ['A', 'Giỏi'],\n",
    "    (8, 8.4) : ['B+', 'Khá'],\n",
    "    (7, 7.9) : ['B', 'Khá'],\n",
    "    (6, 6.9) : ['C+', 'Trung bình'],\n",
    "    (5.5, 5.9) : ['C', 'Trung bình'],\n",
    "    (5, 5.4) : ['D+', 'Trung bình yếu'],\n",
    "    (4, 4.9) : ['D', 'Trung bình yếu'],\n",
    "    (0, 3.9) : ['F', 'Kém']\n",
    "}\n",
    "\n",
    "diem_he4 = {\n",
    "    'A+': 4, 'A': 3.8,\n",
    "    'B+': 3.5, 'B': 3,\n",
    "    'C+': 2.5, 'C': 2,\n",
    "    'D+': 1.5, 'D': 1,\n",
    "    'F': 0\n",
    "}\n",
    "\n",
    "subjects = list(df.columns[4:-6])"
   ]
  },
  {
   "cell_type": "code",
   "execution_count": 6,
   "metadata": {},
   "outputs": [
    {
     "output_type": "execute_result",
     "data": {
      "text/plain": [
       "['Những nguyên lý cơ bản của Chủ nghĩa Mác - Lênin',\n",
       " 'Nhập môn Tin học',\n",
       " 'Giáo dục Quốc phòng và An ninh 1',\n",
       " 'Toán cao cấp 1',\n",
       " 'Giáo dục thể chất 1',\n",
       " 'Nhập môn Lập trình',\n",
       " 'Kỹ thuật lập trình',\n",
       " 'Hệ thống Máy tính',\n",
       " 'Tiếng anh 1',\n",
       " 'Kỹ năng làm việc nhóm',\n",
       " 'Giao tiếp kinh doanh',\n",
       " 'Kỹ năng xây dựng kế hoạch',\n",
       " 'Quản trị doanh nghiệp',\n",
       " 'Môi trường và con người',\n",
       " 'Quản trị học',\n",
       " 'Kế toán cơ bản',\n",
       " 'Toán cao cấp 2',\n",
       " 'Giáo dục thể chất 2',\n",
       " 'Giáo dục quốc phòng và an ninh 2',\n",
       " 'Cấu trúc rời rạc',\n",
       " 'Cấu trúc dữ liệu và giải thuật',\n",
       " 'Hệ cơ sở dữ liệu',\n",
       " 'Tiếng anh 2',\n",
       " 'Lập trình hướng đối tượng',\n",
       " 'Xác suất trong Khoa học Dữ liệu',\n",
       " 'Giải thuật và tối ưu hóa phân tán',\n",
       " 'Trực quan hóa dữ liệu',\n",
       " 'Đại số tuyến tính tính toán',\n",
       " 'Mạng máy tính',\n",
       " 'Pháp luật đại cương',\n",
       " 'Toán ứng dụng',\n",
       " 'Phương pháp luận nghiên cứu khoa học',\n",
       " 'Hàm phức và phép biến đổi Laplace',\n",
       " 'Phương pháp tính',\n",
       " 'Vật lý đại cương',\n",
       " 'Logic học',\n",
       " 'Thống kê máy tính và ứng dụng',\n",
       " 'Nhập môn Khoa học Dữ liệu',\n",
       " 'Lập trình phân tích dữ liệu',\n",
       " 'Quá trình ngẫu nhiên',\n",
       " 'Các ngôn ngữ truy vấn cơ sở dữ liệu',\n",
       " 'Kiến trúc hướng dịch vụ và Điện toán đám mây',\n",
       " 'Những vấn đề xã hội và đạo đức nghề nghiệp',\n",
       " 'Khai thác dữ liệu và ứng dụng',\n",
       " 'Phát triển ứng dụng',\n",
       " 'Máy học',\n",
       " 'Tối ưu hóa cho Khoa học dữ liệu',\n",
       " 'Phân tích chuỗi thời gian',\n",
       " 'Kỹ thuật tài chính',\n",
       " 'Xử lý ảnh',\n",
       " 'Tư tưởng Hồ Chí Minh',\n",
       " 'Nhập môn an toàn thông tin',\n",
       " 'Tương tác người máy',\n",
       " 'Công nghệ phần mềm',\n",
       " 'Xử lý ngôn ngữ tự nhiên',\n",
       " 'Nhập môn dữ liệu lớn',\n",
       " 'Tiếp thị điện tử',\n",
       " 'Nhập môn Robot',\n",
       " 'Giao dịch định lượng',\n",
       " 'Tính toán song song',\n",
       " 'Khai phá đồ thị',\n",
       " 'Hệ khuyến nghị',\n",
       " 'Lý thuyết trò chơi',\n",
       " 'Đường lối cách mạng của Đảng Cộng sản Việt Nam',\n",
       " 'Công nghệ mới trong phát triển ứng dụng CNTT',\n",
       " 'Hội họa',\n",
       " 'Xã hội học',\n",
       " 'Cơ sở văn hóa Việt Nam',\n",
       " 'Âm nhạc – Nhạc lý và Guitar căn bản',\n",
       " 'Tâm lý học đại cương',\n",
       " 'Đảm bảo chất lượng và Kiểm thử phần mềm',\n",
       " 'Học sâu',\n",
       " 'Tiếng Việt thực hành',\n",
       " 'Thị giác máy tính',\n",
       " 'Phân tích dữ liệu Bayesian',\n",
       " 'Phân tích kinh doanh',\n",
       " 'Giải tích ngẫu nhiên cho tài chính',\n",
       " 'Chứng chỉ TOEIC 450',\n",
       " 'Khóa luận tốt nghiệp']"
      ]
     },
     "metadata": {},
     "execution_count": 6
    }
   ],
   "source": [
    "subjects"
   ]
  },
  {
   "cell_type": "code",
   "execution_count": 7,
   "metadata": {},
   "outputs": [],
   "source": [
    "def get_xeploai(diem):\n",
    "    for i in diem_xeploai.items():\n",
    "        if (i[0][0] <= diem <= i[0][1]):\n",
    "            return i[1]\n",
    "    ok = ['NO']\n",
    "    if (diem >= 250):\n",
    "        ok = ['Tiếng anh 1']\n",
    "        if (diem >= 350):\n",
    "            ok = ['Tiếng anh 2']\n",
    "        ok += ['kk', 'kk']\n",
    "    return ok"
   ]
  },
  {
   "cell_type": "code",
   "execution_count": 8,
   "metadata": {},
   "outputs": [],
   "source": [
    "# Tạo một dataframe tín chỉ\n",
    "tin_chi_mon_hoc = {}\n",
    "for i in df.loc[[0]].items():\n",
    "    dat = i[1].values[0]\n",
    "    if (not type(dat) == str) and (not np.isnan(i[1].values[0])):\n",
    "        tin_chi_mon_hoc[i[0]] = i[1].values[0]\n",
    "tin_chi_mon_hoc_df = pd.DataFrame(tin_chi_mon_hoc.items()).T\n",
    "tin_chi_mon_hoc_df.columns = tin_chi_mon_hoc_df.loc[0]\n",
    "tin_chi_mon_hoc_df.drop(0, inplace=True)"
   ]
  },
  {
   "cell_type": "code",
   "execution_count": 9,
   "metadata": {},
   "outputs": [],
   "source": [
    "tin_chi_mon_hoc_df.to_csv('../csv_files/tin_chi.csv')"
   ]
  },
  {
   "cell_type": "code",
   "execution_count": 10,
   "metadata": {},
   "outputs": [],
   "source": [
    "# xóa hàng 0, do hàng 0 chứa tín chỉ của các môn, mà đã sử dụng rồi nên không cần nữa\n",
    "df.drop(0, inplace=True)\n",
    "df.reset_index(inplace=True)"
   ]
  },
  {
   "cell_type": "code",
   "execution_count": 11,
   "metadata": {},
   "outputs": [],
   "source": [
    "# gán họ và tên vào một cột\n",
    "for i in range(len(df)):\n",
    "    df.loc[i, 'Họ và tên'] = ' '.join(df.loc[i, ['Họ đệm', 'Tên']].values)"
   ]
  },
  {
   "cell_type": "code",
   "execution_count": 12,
   "metadata": {},
   "outputs": [],
   "source": [
    "# Tạo một dict trỏ từ tên đến index của người có tên đó (thường biết đến với biến num trong các hàm trên)\n",
    "index_of = {}\n",
    "for i in range(len(df)):\n",
    "    index_of[df.loc[i, 'Họ và tên']] = i"
   ]
  },
  {
   "cell_type": "code",
   "execution_count": 13,
   "metadata": {},
   "outputs": [],
   "source": [
    "# tính điểm hệ 10\n",
    "def cal_10(num, data):\n",
    "    s = 0\n",
    "    tin_chi = 0\n",
    "    for i in data:\n",
    "        foo = df.loc[num, i]\n",
    "        if (np.isnan(foo)):\n",
    "            continue\n",
    "        dat = tin_chi_mon_hoc_df[i]\n",
    "        xeploai = get_xeploai(foo)\n",
    "        if (xeploai[0] == 'NO' or len(xeploai) >= 3):\n",
    "            continue\n",
    "        tin_chi += dat.values[0]\n",
    "        s += foo * dat.values[0]\n",
    "    if (tin_chi == 0):\n",
    "        return 0\n",
    "    return round(s / tin_chi, 1)"
   ]
  },
  {
   "cell_type": "code",
   "execution_count": 14,
   "metadata": {},
   "outputs": [],
   "source": [
    "# tính điểm hệ 4\n",
    "# điểm hệ 4 thì tính các điểm mà không phải outlier\n",
    "def cal_4(num, data):\n",
    "    s = 0\n",
    "    tin_chi = 0\n",
    "    for i in data:\n",
    "        foo = df.loc[num, i]\n",
    "        if (np.isnan(foo)):\n",
    "            continue\n",
    "        dat = tin_chi_mon_hoc_df[i]\n",
    "        xeploai = get_xeploai(foo)\n",
    "        if (xeploai[0] == 'NO' or len(xeploai) >= 3):\n",
    "            continue\n",
    "        tin_chi += dat.values[0]\n",
    "        s += diem_he4[xeploai[0]] * dat.values[0]\n",
    "    if (tin_chi == 0):\n",
    "        return 0\n",
    "    return round(s / tin_chi, 2)"
   ]
  },
  {
   "cell_type": "code",
   "execution_count": 15,
   "metadata": {},
   "outputs": [],
   "source": [
    "# số tín chỉ của sinh viên có index là num\n",
    "def so_tin_chi_sv(num, data):\n",
    "    tin_chi = 0\n",
    "    for i in df.loc[num, data].items():\n",
    "        if np.isnan(i[1]):\n",
    "            continue\n",
    "        xeploai = get_xeploai(i[1])\n",
    "        if (xeploai[0] not in ['NO', 'F']):\n",
    "            flag = True\n",
    "            if (len(xeploai) >= 3):\n",
    "                flag = i[0] in xeploai\n",
    "            tin_chi += tin_chi_mon_hoc_df[i[0]].values[0]\n",
    "    return int(tin_chi)"
   ]
  },
  {
   "cell_type": "code",
   "execution_count": 16,
   "metadata": {},
   "outputs": [
    {
     "output_type": "stream",
     "name": "stdout",
     "text": [
      "Những nguyên lý cơ bản của Chủ nghĩa Mác - Lênin 5.0\nNhập môn Tin học 2.0\nGiáo dục Quốc phòng và An ninh 1 4.0\nToán cao cấp 1 2.0\nGiáo dục thể chất 1 2.0\nNhập môn Lập trình 2.0\nKỹ thuật lập trình 3.0\nHệ thống Máy tính 4.0\nTiếng anh 1 3.0\nKỹ năng làm việc nhóm 2.0\nToán cao cấp 2 2.0\nGiáo dục thể chất 2 2.0\nGiáo dục quốc phòng và an ninh 2 4.0\nCấu trúc rời rạc 3.0\nCấu trúc dữ liệu và giải thuật 4.0\nHệ cơ sở dữ liệu 4.0\nTiếng anh 2 3.0\nLập trình hướng đối tượng 3.0\nXác suất trong Khoa học Dữ liệu 2.0\nTrực quan hóa dữ liệu 3.0\nLogic học 3.0\n"
     ]
    }
   ],
   "source": [
    "s = 0\n",
    "for i in df.loc[df['Họ và tên'] == 'Nguyễn Văn Anh Tuấn', subjects].items():\n",
    "    if not np.isnan(i[1].values[0]):\n",
    "        s += tin_chi_mon_hoc_df[i[0]].values[0]\n",
    "        print(i[0], tin_chi_mon_hoc_df[i[0]].values[0])"
   ]
  },
  {
   "cell_type": "code",
   "execution_count": 17,
   "metadata": {},
   "outputs": [],
   "source": [
    "# số tín chỉ của sinh viên có tên là name\n",
    "def so_tin_chi_sv2(name):\n",
    "    tin_chi = 0\n",
    "    for i in df.loc[df['Họ và tên'] == name, subjects].items():\n",
    "        if np.isnan(i[1].values[0]):\n",
    "            continue\n",
    "        xeploai = get_xeploai(i[1].values[0])\n",
    "        if (xeploai[0] not in ['NO', 'F']):\n",
    "            flag = True\n",
    "            if (len(xeploai) >= 3):\n",
    "                flag = i[0] in xeploai\n",
    "            tin_chi += tin_chi_mon_hoc_df[i[0]].values[0]\n",
    "    return int(tin_chi)"
   ]
  },
  {
   "cell_type": "code",
   "execution_count": 18,
   "metadata": {},
   "outputs": [
    {
     "output_type": "execute_result",
     "data": {
      "text/plain": [
       "46"
      ]
     },
     "metadata": {},
     "execution_count": 18
    }
   ],
   "source": [
    "so_tin_chi_sv2('Đoàn Minh Trường')"
   ]
  },
  {
   "cell_type": "code",
   "execution_count": 19,
   "metadata": {},
   "outputs": [],
   "source": [
    "# Lấy ra được danh sách tên người có học bổng\n",
    "def scholarship(stc, data):\n",
    "    scholarship_members = []\n",
    "    for i in range(len(df)):\n",
    "        if (so_tin_chi_sv(i, data) >= stc and cal_4(i, data) >= 3.2):\n",
    "            scholarship_members += [' '.join(df.loc[i, ['Họ đệm', 'Tên']].values)]\n",
    "    return scholarship_members"
   ]
  },
  {
   "cell_type": "code",
   "execution_count": 20,
   "metadata": {
    "scrolled": true
   },
   "outputs": [],
   "source": [
    "# Tạo một dic các môn đã học của từng sinh viên\n",
    "monhoc_cua_sv = {}\n",
    "for i in range(len(df)):\n",
    "    name = ' '.join(df.loc[i, ['Họ đệm', 'Tên']])\n",
    "    monhoc_cua_sv[name] = []  \n",
    "    for subj in mon_hoc:\n",
    "        if (np.isnan(df.loc[i, subj]) or subj in outlier):\n",
    "            continue\n",
    "        monhoc_cua_sv[name] += [subj]"
   ]
  },
  {
   "cell_type": "code",
   "execution_count": 21,
   "metadata": {},
   "outputs": [
    {
     "output_type": "execute_result",
     "data": {
      "text/plain": [
       "'Đinh Tuấn Anh'"
      ]
     },
     "metadata": {},
     "execution_count": 21
    }
   ],
   "source": [
    "df.loc[0, 'Họ và tên']"
   ]
  },
  {
   "cell_type": "code",
   "execution_count": 22,
   "metadata": {},
   "outputs": [
    {
     "output_type": "execute_result",
     "data": {
      "text/plain": [
       "2.49"
      ]
     },
     "metadata": {},
     "execution_count": 22
    }
   ],
   "source": [
    "cal_4(0, monhoc_cua_sv['Đinh Tuấn Anh'])"
   ]
  },
  {
   "cell_type": "code",
   "execution_count": 23,
   "metadata": {},
   "outputs": [],
   "source": [
    "# Thay đổi điểm 10, 4, điểm chữ và xếp loại cho đúng\n",
    "for i in range(len(df)):\n",
    "    df.loc[i, 'Điểm 10'] = cal_10(i, monhoc_cua_sv[df.loc[i, 'Họ và tên']])\n",
    "    df.loc[i, 'Điểm 4'] = cal_4(i, monhoc_cua_sv[df.loc[i, 'Họ và tên']])\n",
    "    df.loc[i, ['Điểm chữ', 'Xếp loại']] = get_xeploai(int(df.loc[i, 'Điểm 10']))"
   ]
  },
  {
   "cell_type": "code",
   "execution_count": 24,
   "metadata": {},
   "outputs": [],
   "source": [
    "hocbong_hk2_nam1 = scholarship(14, hk2_nam1)\n",
    "hocbong_hk1_nam2 = scholarship(15, hk1_nam2)"
   ]
  },
  {
   "cell_type": "code",
   "execution_count": 25,
   "metadata": {},
   "outputs": [
    {
     "output_type": "display_data",
     "data": {
      "application/vnd.plotly.v1+json": {
       "config": {
        "plotlyServerURL": "https://plot.ly"
       },
       "data": [
        {
         "alignmentgroup": "True",
         "hovertemplate": "Năm=I<br>Tên=%{x}<br>Điểm=%{y}<extra></extra>",
         "legendgroup": "I",
         "marker": {
          "color": "#636efa"
         },
         "name": "I",
         "offsetgroup": "I",
         "orientation": "v",
         "showlegend": true,
         "textposition": "auto",
         "type": "bar",
         "x": [
          "Trần Nam Bá",
          "Trịnh Thị Bảo Bảo",
          "Phạm Thế Hiển",
          "Nguyễn Thị Thanh Hòa",
          "Ngô Quốc Hoàng",
          "Nguyễn Văn Phúc Nhân",
          "Lưu Thị Yến Nhi",
          "Lê Thanh Phong",
          "Văn Sỹ",
          "Đỗ Văn Thắng",
          "Lê Văn Tiến",
          "Phạm Thành Trung",
          "Trần Tuấn Vũ"
         ],
         "xaxis": "x",
         "y": [
          3.4,
          3.21,
          3.21,
          3.54,
          3.57,
          3.29,
          3.5,
          3.31,
          3.47,
          3.33,
          3.36,
          3.55,
          3.49
         ],
         "yaxis": "y"
        },
        {
         "alignmentgroup": "True",
         "hovertemplate": "Năm=II<br>Tên=%{x}<br>Điểm=%{y}<extra></extra>",
         "legendgroup": "II",
         "marker": {
          "color": "#EF553B"
         },
         "name": "II",
         "offsetgroup": "II",
         "orientation": "v",
         "showlegend": true,
         "textposition": "auto",
         "type": "bar",
         "x": [
          "Hà Bảo Anh",
          "Trịnh Thị Bảo Bảo",
          "Thái Thị Hiền",
          "Ngô Quốc Hoàng",
          "Hồ Quang Huy",
          "Trương Thị Cẩm Ly",
          "Lưu Thị Yến Nhi",
          "Lê Thanh Phong",
          "Nguyễn Tuấn Sinh",
          "Văn Sỹ",
          "Phan Nguyễn Trọng Tân",
          "Huỳnh Minh Toàn",
          "Phạm Thành Trung",
          "Nguyễn Văn Anh Tuấn"
         ],
         "xaxis": "x",
         "y": [
          3.42,
          3.31,
          3.23,
          3.58,
          3.37,
          3.51,
          3.65,
          3.31,
          3.22,
          3.26,
          3.23,
          3.63,
          3.85,
          3.23
         ],
         "yaxis": "y"
        }
       ],
       "layout": {
        "barmode": "relative",
        "legend": {
         "title": {
          "text": "Năm"
         },
         "tracegroupgap": 0
        },
        "margin": {
         "t": 60
        },
        "template": {
         "data": {
          "bar": [
           {
            "error_x": {
             "color": "#2a3f5f"
            },
            "error_y": {
             "color": "#2a3f5f"
            },
            "marker": {
             "line": {
              "color": "#E5ECF6",
              "width": 0.5
             }
            },
            "type": "bar"
           }
          ],
          "barpolar": [
           {
            "marker": {
             "line": {
              "color": "#E5ECF6",
              "width": 0.5
             }
            },
            "type": "barpolar"
           }
          ],
          "carpet": [
           {
            "aaxis": {
             "endlinecolor": "#2a3f5f",
             "gridcolor": "white",
             "linecolor": "white",
             "minorgridcolor": "white",
             "startlinecolor": "#2a3f5f"
            },
            "baxis": {
             "endlinecolor": "#2a3f5f",
             "gridcolor": "white",
             "linecolor": "white",
             "minorgridcolor": "white",
             "startlinecolor": "#2a3f5f"
            },
            "type": "carpet"
           }
          ],
          "choropleth": [
           {
            "colorbar": {
             "outlinewidth": 0,
             "ticks": ""
            },
            "type": "choropleth"
           }
          ],
          "contour": [
           {
            "colorbar": {
             "outlinewidth": 0,
             "ticks": ""
            },
            "colorscale": [
             [
              0,
              "#0d0887"
             ],
             [
              0.1111111111111111,
              "#46039f"
             ],
             [
              0.2222222222222222,
              "#7201a8"
             ],
             [
              0.3333333333333333,
              "#9c179e"
             ],
             [
              0.4444444444444444,
              "#bd3786"
             ],
             [
              0.5555555555555556,
              "#d8576b"
             ],
             [
              0.6666666666666666,
              "#ed7953"
             ],
             [
              0.7777777777777778,
              "#fb9f3a"
             ],
             [
              0.8888888888888888,
              "#fdca26"
             ],
             [
              1,
              "#f0f921"
             ]
            ],
            "type": "contour"
           }
          ],
          "contourcarpet": [
           {
            "colorbar": {
             "outlinewidth": 0,
             "ticks": ""
            },
            "type": "contourcarpet"
           }
          ],
          "heatmap": [
           {
            "colorbar": {
             "outlinewidth": 0,
             "ticks": ""
            },
            "colorscale": [
             [
              0,
              "#0d0887"
             ],
             [
              0.1111111111111111,
              "#46039f"
             ],
             [
              0.2222222222222222,
              "#7201a8"
             ],
             [
              0.3333333333333333,
              "#9c179e"
             ],
             [
              0.4444444444444444,
              "#bd3786"
             ],
             [
              0.5555555555555556,
              "#d8576b"
             ],
             [
              0.6666666666666666,
              "#ed7953"
             ],
             [
              0.7777777777777778,
              "#fb9f3a"
             ],
             [
              0.8888888888888888,
              "#fdca26"
             ],
             [
              1,
              "#f0f921"
             ]
            ],
            "type": "heatmap"
           }
          ],
          "heatmapgl": [
           {
            "colorbar": {
             "outlinewidth": 0,
             "ticks": ""
            },
            "colorscale": [
             [
              0,
              "#0d0887"
             ],
             [
              0.1111111111111111,
              "#46039f"
             ],
             [
              0.2222222222222222,
              "#7201a8"
             ],
             [
              0.3333333333333333,
              "#9c179e"
             ],
             [
              0.4444444444444444,
              "#bd3786"
             ],
             [
              0.5555555555555556,
              "#d8576b"
             ],
             [
              0.6666666666666666,
              "#ed7953"
             ],
             [
              0.7777777777777778,
              "#fb9f3a"
             ],
             [
              0.8888888888888888,
              "#fdca26"
             ],
             [
              1,
              "#f0f921"
             ]
            ],
            "type": "heatmapgl"
           }
          ],
          "histogram": [
           {
            "marker": {
             "colorbar": {
              "outlinewidth": 0,
              "ticks": ""
             }
            },
            "type": "histogram"
           }
          ],
          "histogram2d": [
           {
            "colorbar": {
             "outlinewidth": 0,
             "ticks": ""
            },
            "colorscale": [
             [
              0,
              "#0d0887"
             ],
             [
              0.1111111111111111,
              "#46039f"
             ],
             [
              0.2222222222222222,
              "#7201a8"
             ],
             [
              0.3333333333333333,
              "#9c179e"
             ],
             [
              0.4444444444444444,
              "#bd3786"
             ],
             [
              0.5555555555555556,
              "#d8576b"
             ],
             [
              0.6666666666666666,
              "#ed7953"
             ],
             [
              0.7777777777777778,
              "#fb9f3a"
             ],
             [
              0.8888888888888888,
              "#fdca26"
             ],
             [
              1,
              "#f0f921"
             ]
            ],
            "type": "histogram2d"
           }
          ],
          "histogram2dcontour": [
           {
            "colorbar": {
             "outlinewidth": 0,
             "ticks": ""
            },
            "colorscale": [
             [
              0,
              "#0d0887"
             ],
             [
              0.1111111111111111,
              "#46039f"
             ],
             [
              0.2222222222222222,
              "#7201a8"
             ],
             [
              0.3333333333333333,
              "#9c179e"
             ],
             [
              0.4444444444444444,
              "#bd3786"
             ],
             [
              0.5555555555555556,
              "#d8576b"
             ],
             [
              0.6666666666666666,
              "#ed7953"
             ],
             [
              0.7777777777777778,
              "#fb9f3a"
             ],
             [
              0.8888888888888888,
              "#fdca26"
             ],
             [
              1,
              "#f0f921"
             ]
            ],
            "type": "histogram2dcontour"
           }
          ],
          "mesh3d": [
           {
            "colorbar": {
             "outlinewidth": 0,
             "ticks": ""
            },
            "type": "mesh3d"
           }
          ],
          "parcoords": [
           {
            "line": {
             "colorbar": {
              "outlinewidth": 0,
              "ticks": ""
             }
            },
            "type": "parcoords"
           }
          ],
          "pie": [
           {
            "automargin": true,
            "type": "pie"
           }
          ],
          "scatter": [
           {
            "marker": {
             "colorbar": {
              "outlinewidth": 0,
              "ticks": ""
             }
            },
            "type": "scatter"
           }
          ],
          "scatter3d": [
           {
            "line": {
             "colorbar": {
              "outlinewidth": 0,
              "ticks": ""
             }
            },
            "marker": {
             "colorbar": {
              "outlinewidth": 0,
              "ticks": ""
             }
            },
            "type": "scatter3d"
           }
          ],
          "scattercarpet": [
           {
            "marker": {
             "colorbar": {
              "outlinewidth": 0,
              "ticks": ""
             }
            },
            "type": "scattercarpet"
           }
          ],
          "scattergeo": [
           {
            "marker": {
             "colorbar": {
              "outlinewidth": 0,
              "ticks": ""
             }
            },
            "type": "scattergeo"
           }
          ],
          "scattergl": [
           {
            "marker": {
             "colorbar": {
              "outlinewidth": 0,
              "ticks": ""
             }
            },
            "type": "scattergl"
           }
          ],
          "scattermapbox": [
           {
            "marker": {
             "colorbar": {
              "outlinewidth": 0,
              "ticks": ""
             }
            },
            "type": "scattermapbox"
           }
          ],
          "scatterpolar": [
           {
            "marker": {
             "colorbar": {
              "outlinewidth": 0,
              "ticks": ""
             }
            },
            "type": "scatterpolar"
           }
          ],
          "scatterpolargl": [
           {
            "marker": {
             "colorbar": {
              "outlinewidth": 0,
              "ticks": ""
             }
            },
            "type": "scatterpolargl"
           }
          ],
          "scatterternary": [
           {
            "marker": {
             "colorbar": {
              "outlinewidth": 0,
              "ticks": ""
             }
            },
            "type": "scatterternary"
           }
          ],
          "surface": [
           {
            "colorbar": {
             "outlinewidth": 0,
             "ticks": ""
            },
            "colorscale": [
             [
              0,
              "#0d0887"
             ],
             [
              0.1111111111111111,
              "#46039f"
             ],
             [
              0.2222222222222222,
              "#7201a8"
             ],
             [
              0.3333333333333333,
              "#9c179e"
             ],
             [
              0.4444444444444444,
              "#bd3786"
             ],
             [
              0.5555555555555556,
              "#d8576b"
             ],
             [
              0.6666666666666666,
              "#ed7953"
             ],
             [
              0.7777777777777778,
              "#fb9f3a"
             ],
             [
              0.8888888888888888,
              "#fdca26"
             ],
             [
              1,
              "#f0f921"
             ]
            ],
            "type": "surface"
           }
          ],
          "table": [
           {
            "cells": {
             "fill": {
              "color": "#EBF0F8"
             },
             "line": {
              "color": "white"
             }
            },
            "header": {
             "fill": {
              "color": "#C8D4E3"
             },
             "line": {
              "color": "white"
             }
            },
            "type": "table"
           }
          ]
         },
         "layout": {
          "annotationdefaults": {
           "arrowcolor": "#2a3f5f",
           "arrowhead": 0,
           "arrowwidth": 1
          },
          "autotypenumbers": "strict",
          "coloraxis": {
           "colorbar": {
            "outlinewidth": 0,
            "ticks": ""
           }
          },
          "colorscale": {
           "diverging": [
            [
             0,
             "#8e0152"
            ],
            [
             0.1,
             "#c51b7d"
            ],
            [
             0.2,
             "#de77ae"
            ],
            [
             0.3,
             "#f1b6da"
            ],
            [
             0.4,
             "#fde0ef"
            ],
            [
             0.5,
             "#f7f7f7"
            ],
            [
             0.6,
             "#e6f5d0"
            ],
            [
             0.7,
             "#b8e186"
            ],
            [
             0.8,
             "#7fbc41"
            ],
            [
             0.9,
             "#4d9221"
            ],
            [
             1,
             "#276419"
            ]
           ],
           "sequential": [
            [
             0,
             "#0d0887"
            ],
            [
             0.1111111111111111,
             "#46039f"
            ],
            [
             0.2222222222222222,
             "#7201a8"
            ],
            [
             0.3333333333333333,
             "#9c179e"
            ],
            [
             0.4444444444444444,
             "#bd3786"
            ],
            [
             0.5555555555555556,
             "#d8576b"
            ],
            [
             0.6666666666666666,
             "#ed7953"
            ],
            [
             0.7777777777777778,
             "#fb9f3a"
            ],
            [
             0.8888888888888888,
             "#fdca26"
            ],
            [
             1,
             "#f0f921"
            ]
           ],
           "sequentialminus": [
            [
             0,
             "#0d0887"
            ],
            [
             0.1111111111111111,
             "#46039f"
            ],
            [
             0.2222222222222222,
             "#7201a8"
            ],
            [
             0.3333333333333333,
             "#9c179e"
            ],
            [
             0.4444444444444444,
             "#bd3786"
            ],
            [
             0.5555555555555556,
             "#d8576b"
            ],
            [
             0.6666666666666666,
             "#ed7953"
            ],
            [
             0.7777777777777778,
             "#fb9f3a"
            ],
            [
             0.8888888888888888,
             "#fdca26"
            ],
            [
             1,
             "#f0f921"
            ]
           ]
          },
          "colorway": [
           "#636efa",
           "#EF553B",
           "#00cc96",
           "#ab63fa",
           "#FFA15A",
           "#19d3f3",
           "#FF6692",
           "#B6E880",
           "#FF97FF",
           "#FECB52"
          ],
          "font": {
           "color": "#2a3f5f"
          },
          "geo": {
           "bgcolor": "white",
           "lakecolor": "white",
           "landcolor": "#E5ECF6",
           "showlakes": true,
           "showland": true,
           "subunitcolor": "white"
          },
          "hoverlabel": {
           "align": "left"
          },
          "hovermode": "closest",
          "mapbox": {
           "style": "light"
          },
          "paper_bgcolor": "white",
          "plot_bgcolor": "#E5ECF6",
          "polar": {
           "angularaxis": {
            "gridcolor": "white",
            "linecolor": "white",
            "ticks": ""
           },
           "bgcolor": "#E5ECF6",
           "radialaxis": {
            "gridcolor": "white",
            "linecolor": "white",
            "ticks": ""
           }
          },
          "scene": {
           "xaxis": {
            "backgroundcolor": "#E5ECF6",
            "gridcolor": "white",
            "gridwidth": 2,
            "linecolor": "white",
            "showbackground": true,
            "ticks": "",
            "zerolinecolor": "white"
           },
           "yaxis": {
            "backgroundcolor": "#E5ECF6",
            "gridcolor": "white",
            "gridwidth": 2,
            "linecolor": "white",
            "showbackground": true,
            "ticks": "",
            "zerolinecolor": "white"
           },
           "zaxis": {
            "backgroundcolor": "#E5ECF6",
            "gridcolor": "white",
            "gridwidth": 2,
            "linecolor": "white",
            "showbackground": true,
            "ticks": "",
            "zerolinecolor": "white"
           }
          },
          "shapedefaults": {
           "line": {
            "color": "#2a3f5f"
           }
          },
          "ternary": {
           "aaxis": {
            "gridcolor": "white",
            "linecolor": "white",
            "ticks": ""
           },
           "baxis": {
            "gridcolor": "white",
            "linecolor": "white",
            "ticks": ""
           },
           "bgcolor": "#E5ECF6",
           "caxis": {
            "gridcolor": "white",
            "linecolor": "white",
            "ticks": ""
           }
          },
          "title": {
           "x": 0.05
          },
          "xaxis": {
           "automargin": true,
           "gridcolor": "white",
           "linecolor": "white",
           "ticks": "",
           "title": {
            "standoff": 15
           },
           "zerolinecolor": "white",
           "zerolinewidth": 2
          },
          "yaxis": {
           "automargin": true,
           "gridcolor": "white",
           "linecolor": "white",
           "ticks": "",
           "title": {
            "standoff": 15
           },
           "zerolinecolor": "white",
           "zerolinewidth": 2
          }
         }
        },
        "title": {
         "text": "Biểu đồ thể hiện lượng học bổng của HK2 năm 1 và HK1 năm 2"
        },
        "xaxis": {
         "anchor": "y",
         "domain": [
          0,
          1
         ],
         "title": {
          "text": "Tên"
         }
        },
        "yaxis": {
         "anchor": "x",
         "domain": [
          0,
          1
         ],
         "title": {
          "text": "Điểm"
         }
        }
       }
      }
     },
     "metadata": {}
    }
   ],
   "source": [
    "import plotly.express as px\n",
    "\n",
    "scholarship_df = pd.DataFrame({\n",
    "    'Tên': hocbong_hk2_nam1 + hocbong_hk1_nam2,\n",
    "    'Năm': ['I'] * len(hocbong_hk2_nam1) + ['II'] * len(hocbong_hk1_nam2),\n",
    "    'Điểm': [cal_4(i - 1, hk2_nam1) for i in df[df['Họ và tên'].isin(hocbong_hk2_nam1)]['STT'].values] + [cal_4(i - 1, hk1_nam2) for i in df[df['Họ và tên'].isin(hocbong_hk1_nam2)]['STT'].values]\n",
    "})\n",
    "\n",
    "fig = px.bar(scholarship_df, x='Tên', y='Điểm', color='Năm')\n",
    "fig.update_layout(title_text='Biểu đồ thể hiện lượng học bổng của HK2 năm 1 và HK1 năm 2')\n",
    "fig.show()"
   ]
  },
  {
   "cell_type": "code",
   "execution_count": 26,
   "metadata": {
    "scrolled": false
   },
   "outputs": [
    {
     "output_type": "display_data",
     "data": {
      "application/vnd.plotly.v1+json": {
       "config": {
        "plotlyServerURL": "https://plot.ly"
       },
       "data": [
        {
         "alignmentgroup": "True",
         "hovertemplate": "Điểm tích lũy kỳ 3=%{x}<br>Họ và tên=%{y}<extra></extra>",
         "legendgroup": "",
         "marker": {
          "color": "#636efa"
         },
         "name": "",
         "offsetgroup": "",
         "orientation": "h",
         "showlegend": false,
         "textposition": "auto",
         "type": "bar",
         "x": [
          2.5,
          3.42,
          2.18,
          2.97,
          2.67,
          3.31,
          0,
          1.18,
          0.9,
          1.18,
          2.16,
          2.19,
          3.23,
          2.58,
          2.03,
          3.15,
          3.58,
          3.37,
          0,
          2.39,
          2.37,
          2.61,
          3.51,
          2.29,
          0.84,
          2.72,
          3.65,
          2.22,
          3.31,
          2.6,
          2.58,
          1.79,
          2.33,
          3.22,
          2.94,
          2.77,
          3.26,
          3,
          3.23,
          2.32,
          2.89,
          2.74,
          2.66,
          3.13,
          2.6,
          1.53,
          3.63,
          2.87,
          0.53,
          1.55,
          1.67,
          3.85,
          2.97,
          1.87,
          2.91,
          1.95,
          3.23,
          1.42,
          2.34,
          3.11,
          2.47
         ],
         "xaxis": "x",
         "y": [
          "Đinh Tuấn Anh",
          "Hà Bảo Anh",
          "Lưu Đức Anh",
          "Trần Nam Bá",
          "Ngô Đức Bảo",
          "Trịnh Thị Bảo Bảo",
          "Đỗ Xuân Đức Chung",
          "Phạm Tài Đức Phú Đa",
          "Lê Tấn Đạt",
          "Phạm Hà Văn Đông",
          "Trịnh Ngọc Đức",
          "Tăng Hoài Duy",
          "Thái Thị Hiền",
          "Phạm Thế Hiển",
          "Trần Minh Hiếu",
          "Nguyễn Thị Thanh Hòa",
          "Ngô Quốc Hoàng",
          "Hồ Quang Huy",
          "Lương Quang Khải",
          "Phạm Hoàng Duy Khang",
          "Lê Mỹ Thanh Lành",
          "Trần Hồ Phi Long",
          "Trương Thị Cẩm Ly",
          "Quách Trọng Nghĩa",
          "Nguyễn Thành Nhân",
          "Nguyễn Văn Phúc Nhân",
          "Lưu Thị Yến Nhi",
          "Lê Huy Phát",
          "Lê Thanh Phong",
          "Phan Nguyễn Mai Phương",
          "Vũ Minh Quang",
          "Nguyễn Quang Quốc",
          "Dương Văn Sang",
          "Nguyễn Tuấn Sinh",
          "Phạm Trung Sơn",
          "Nguyễn Tiến Sỹ",
          "Văn Sỹ",
          "Lê Duy Tâm",
          "Phan Nguyễn Trọng Tân",
          "Trương Nguyễn Duy Tân",
          "Đỗ Văn Thắng",
          "Nguyễn Đức Thịnh",
          "Phạm Huỳnh Trường Thịnh",
          "Trần Xuân Thủy",
          "Lê Văn Tiến",
          "Nguyễn Đặng Minh Toại",
          "Huỳnh Minh Toàn",
          "Nguyễn Anh Toàn",
          "Lưu Hoàng Ngọc Trinh",
          "Lê Văn Trung",
          "Nguyễn Tuấn Trung",
          "Phạm Thành Trung",
          "Phan Chí Trung",
          "Đào Duy Trường",
          "Đoàn Minh Trường",
          "Huỳnh Anh Tú",
          "Nguyễn Văn Anh Tuấn",
          "Phạm Minh Tuấn",
          "Phan Lê Hoàng Việt",
          "Trần Tuấn Vũ",
          "K15DS"
         ],
         "yaxis": "y"
        }
       ],
       "layout": {
        "barmode": "relative",
        "legend": {
         "tracegroupgap": 0
        },
        "margin": {
         "t": 60
        },
        "template": {
         "data": {
          "bar": [
           {
            "error_x": {
             "color": "#2a3f5f"
            },
            "error_y": {
             "color": "#2a3f5f"
            },
            "marker": {
             "line": {
              "color": "#E5ECF6",
              "width": 0.5
             }
            },
            "type": "bar"
           }
          ],
          "barpolar": [
           {
            "marker": {
             "line": {
              "color": "#E5ECF6",
              "width": 0.5
             }
            },
            "type": "barpolar"
           }
          ],
          "carpet": [
           {
            "aaxis": {
             "endlinecolor": "#2a3f5f",
             "gridcolor": "white",
             "linecolor": "white",
             "minorgridcolor": "white",
             "startlinecolor": "#2a3f5f"
            },
            "baxis": {
             "endlinecolor": "#2a3f5f",
             "gridcolor": "white",
             "linecolor": "white",
             "minorgridcolor": "white",
             "startlinecolor": "#2a3f5f"
            },
            "type": "carpet"
           }
          ],
          "choropleth": [
           {
            "colorbar": {
             "outlinewidth": 0,
             "ticks": ""
            },
            "type": "choropleth"
           }
          ],
          "contour": [
           {
            "colorbar": {
             "outlinewidth": 0,
             "ticks": ""
            },
            "colorscale": [
             [
              0,
              "#0d0887"
             ],
             [
              0.1111111111111111,
              "#46039f"
             ],
             [
              0.2222222222222222,
              "#7201a8"
             ],
             [
              0.3333333333333333,
              "#9c179e"
             ],
             [
              0.4444444444444444,
              "#bd3786"
             ],
             [
              0.5555555555555556,
              "#d8576b"
             ],
             [
              0.6666666666666666,
              "#ed7953"
             ],
             [
              0.7777777777777778,
              "#fb9f3a"
             ],
             [
              0.8888888888888888,
              "#fdca26"
             ],
             [
              1,
              "#f0f921"
             ]
            ],
            "type": "contour"
           }
          ],
          "contourcarpet": [
           {
            "colorbar": {
             "outlinewidth": 0,
             "ticks": ""
            },
            "type": "contourcarpet"
           }
          ],
          "heatmap": [
           {
            "colorbar": {
             "outlinewidth": 0,
             "ticks": ""
            },
            "colorscale": [
             [
              0,
              "#0d0887"
             ],
             [
              0.1111111111111111,
              "#46039f"
             ],
             [
              0.2222222222222222,
              "#7201a8"
             ],
             [
              0.3333333333333333,
              "#9c179e"
             ],
             [
              0.4444444444444444,
              "#bd3786"
             ],
             [
              0.5555555555555556,
              "#d8576b"
             ],
             [
              0.6666666666666666,
              "#ed7953"
             ],
             [
              0.7777777777777778,
              "#fb9f3a"
             ],
             [
              0.8888888888888888,
              "#fdca26"
             ],
             [
              1,
              "#f0f921"
             ]
            ],
            "type": "heatmap"
           }
          ],
          "heatmapgl": [
           {
            "colorbar": {
             "outlinewidth": 0,
             "ticks": ""
            },
            "colorscale": [
             [
              0,
              "#0d0887"
             ],
             [
              0.1111111111111111,
              "#46039f"
             ],
             [
              0.2222222222222222,
              "#7201a8"
             ],
             [
              0.3333333333333333,
              "#9c179e"
             ],
             [
              0.4444444444444444,
              "#bd3786"
             ],
             [
              0.5555555555555556,
              "#d8576b"
             ],
             [
              0.6666666666666666,
              "#ed7953"
             ],
             [
              0.7777777777777778,
              "#fb9f3a"
             ],
             [
              0.8888888888888888,
              "#fdca26"
             ],
             [
              1,
              "#f0f921"
             ]
            ],
            "type": "heatmapgl"
           }
          ],
          "histogram": [
           {
            "marker": {
             "colorbar": {
              "outlinewidth": 0,
              "ticks": ""
             }
            },
            "type": "histogram"
           }
          ],
          "histogram2d": [
           {
            "colorbar": {
             "outlinewidth": 0,
             "ticks": ""
            },
            "colorscale": [
             [
              0,
              "#0d0887"
             ],
             [
              0.1111111111111111,
              "#46039f"
             ],
             [
              0.2222222222222222,
              "#7201a8"
             ],
             [
              0.3333333333333333,
              "#9c179e"
             ],
             [
              0.4444444444444444,
              "#bd3786"
             ],
             [
              0.5555555555555556,
              "#d8576b"
             ],
             [
              0.6666666666666666,
              "#ed7953"
             ],
             [
              0.7777777777777778,
              "#fb9f3a"
             ],
             [
              0.8888888888888888,
              "#fdca26"
             ],
             [
              1,
              "#f0f921"
             ]
            ],
            "type": "histogram2d"
           }
          ],
          "histogram2dcontour": [
           {
            "colorbar": {
             "outlinewidth": 0,
             "ticks": ""
            },
            "colorscale": [
             [
              0,
              "#0d0887"
             ],
             [
              0.1111111111111111,
              "#46039f"
             ],
             [
              0.2222222222222222,
              "#7201a8"
             ],
             [
              0.3333333333333333,
              "#9c179e"
             ],
             [
              0.4444444444444444,
              "#bd3786"
             ],
             [
              0.5555555555555556,
              "#d8576b"
             ],
             [
              0.6666666666666666,
              "#ed7953"
             ],
             [
              0.7777777777777778,
              "#fb9f3a"
             ],
             [
              0.8888888888888888,
              "#fdca26"
             ],
             [
              1,
              "#f0f921"
             ]
            ],
            "type": "histogram2dcontour"
           }
          ],
          "mesh3d": [
           {
            "colorbar": {
             "outlinewidth": 0,
             "ticks": ""
            },
            "type": "mesh3d"
           }
          ],
          "parcoords": [
           {
            "line": {
             "colorbar": {
              "outlinewidth": 0,
              "ticks": ""
             }
            },
            "type": "parcoords"
           }
          ],
          "pie": [
           {
            "automargin": true,
            "type": "pie"
           }
          ],
          "scatter": [
           {
            "marker": {
             "colorbar": {
              "outlinewidth": 0,
              "ticks": ""
             }
            },
            "type": "scatter"
           }
          ],
          "scatter3d": [
           {
            "line": {
             "colorbar": {
              "outlinewidth": 0,
              "ticks": ""
             }
            },
            "marker": {
             "colorbar": {
              "outlinewidth": 0,
              "ticks": ""
             }
            },
            "type": "scatter3d"
           }
          ],
          "scattercarpet": [
           {
            "marker": {
             "colorbar": {
              "outlinewidth": 0,
              "ticks": ""
             }
            },
            "type": "scattercarpet"
           }
          ],
          "scattergeo": [
           {
            "marker": {
             "colorbar": {
              "outlinewidth": 0,
              "ticks": ""
             }
            },
            "type": "scattergeo"
           }
          ],
          "scattergl": [
           {
            "marker": {
             "colorbar": {
              "outlinewidth": 0,
              "ticks": ""
             }
            },
            "type": "scattergl"
           }
          ],
          "scattermapbox": [
           {
            "marker": {
             "colorbar": {
              "outlinewidth": 0,
              "ticks": ""
             }
            },
            "type": "scattermapbox"
           }
          ],
          "scatterpolar": [
           {
            "marker": {
             "colorbar": {
              "outlinewidth": 0,
              "ticks": ""
             }
            },
            "type": "scatterpolar"
           }
          ],
          "scatterpolargl": [
           {
            "marker": {
             "colorbar": {
              "outlinewidth": 0,
              "ticks": ""
             }
            },
            "type": "scatterpolargl"
           }
          ],
          "scatterternary": [
           {
            "marker": {
             "colorbar": {
              "outlinewidth": 0,
              "ticks": ""
             }
            },
            "type": "scatterternary"
           }
          ],
          "surface": [
           {
            "colorbar": {
             "outlinewidth": 0,
             "ticks": ""
            },
            "colorscale": [
             [
              0,
              "#0d0887"
             ],
             [
              0.1111111111111111,
              "#46039f"
             ],
             [
              0.2222222222222222,
              "#7201a8"
             ],
             [
              0.3333333333333333,
              "#9c179e"
             ],
             [
              0.4444444444444444,
              "#bd3786"
             ],
             [
              0.5555555555555556,
              "#d8576b"
             ],
             [
              0.6666666666666666,
              "#ed7953"
             ],
             [
              0.7777777777777778,
              "#fb9f3a"
             ],
             [
              0.8888888888888888,
              "#fdca26"
             ],
             [
              1,
              "#f0f921"
             ]
            ],
            "type": "surface"
           }
          ],
          "table": [
           {
            "cells": {
             "fill": {
              "color": "#EBF0F8"
             },
             "line": {
              "color": "white"
             }
            },
            "header": {
             "fill": {
              "color": "#C8D4E3"
             },
             "line": {
              "color": "white"
             }
            },
            "type": "table"
           }
          ]
         },
         "layout": {
          "annotationdefaults": {
           "arrowcolor": "#2a3f5f",
           "arrowhead": 0,
           "arrowwidth": 1
          },
          "autotypenumbers": "strict",
          "coloraxis": {
           "colorbar": {
            "outlinewidth": 0,
            "ticks": ""
           }
          },
          "colorscale": {
           "diverging": [
            [
             0,
             "#8e0152"
            ],
            [
             0.1,
             "#c51b7d"
            ],
            [
             0.2,
             "#de77ae"
            ],
            [
             0.3,
             "#f1b6da"
            ],
            [
             0.4,
             "#fde0ef"
            ],
            [
             0.5,
             "#f7f7f7"
            ],
            [
             0.6,
             "#e6f5d0"
            ],
            [
             0.7,
             "#b8e186"
            ],
            [
             0.8,
             "#7fbc41"
            ],
            [
             0.9,
             "#4d9221"
            ],
            [
             1,
             "#276419"
            ]
           ],
           "sequential": [
            [
             0,
             "#0d0887"
            ],
            [
             0.1111111111111111,
             "#46039f"
            ],
            [
             0.2222222222222222,
             "#7201a8"
            ],
            [
             0.3333333333333333,
             "#9c179e"
            ],
            [
             0.4444444444444444,
             "#bd3786"
            ],
            [
             0.5555555555555556,
             "#d8576b"
            ],
            [
             0.6666666666666666,
             "#ed7953"
            ],
            [
             0.7777777777777778,
             "#fb9f3a"
            ],
            [
             0.8888888888888888,
             "#fdca26"
            ],
            [
             1,
             "#f0f921"
            ]
           ],
           "sequentialminus": [
            [
             0,
             "#0d0887"
            ],
            [
             0.1111111111111111,
             "#46039f"
            ],
            [
             0.2222222222222222,
             "#7201a8"
            ],
            [
             0.3333333333333333,
             "#9c179e"
            ],
            [
             0.4444444444444444,
             "#bd3786"
            ],
            [
             0.5555555555555556,
             "#d8576b"
            ],
            [
             0.6666666666666666,
             "#ed7953"
            ],
            [
             0.7777777777777778,
             "#fb9f3a"
            ],
            [
             0.8888888888888888,
             "#fdca26"
            ],
            [
             1,
             "#f0f921"
            ]
           ]
          },
          "colorway": [
           "#636efa",
           "#EF553B",
           "#00cc96",
           "#ab63fa",
           "#FFA15A",
           "#19d3f3",
           "#FF6692",
           "#B6E880",
           "#FF97FF",
           "#FECB52"
          ],
          "font": {
           "color": "#2a3f5f"
          },
          "geo": {
           "bgcolor": "white",
           "lakecolor": "white",
           "landcolor": "#E5ECF6",
           "showlakes": true,
           "showland": true,
           "subunitcolor": "white"
          },
          "hoverlabel": {
           "align": "left"
          },
          "hovermode": "closest",
          "mapbox": {
           "style": "light"
          },
          "paper_bgcolor": "white",
          "plot_bgcolor": "#E5ECF6",
          "polar": {
           "angularaxis": {
            "gridcolor": "white",
            "linecolor": "white",
            "ticks": ""
           },
           "bgcolor": "#E5ECF6",
           "radialaxis": {
            "gridcolor": "white",
            "linecolor": "white",
            "ticks": ""
           }
          },
          "scene": {
           "xaxis": {
            "backgroundcolor": "#E5ECF6",
            "gridcolor": "white",
            "gridwidth": 2,
            "linecolor": "white",
            "showbackground": true,
            "ticks": "",
            "zerolinecolor": "white"
           },
           "yaxis": {
            "backgroundcolor": "#E5ECF6",
            "gridcolor": "white",
            "gridwidth": 2,
            "linecolor": "white",
            "showbackground": true,
            "ticks": "",
            "zerolinecolor": "white"
           },
           "zaxis": {
            "backgroundcolor": "#E5ECF6",
            "gridcolor": "white",
            "gridwidth": 2,
            "linecolor": "white",
            "showbackground": true,
            "ticks": "",
            "zerolinecolor": "white"
           }
          },
          "shapedefaults": {
           "line": {
            "color": "#2a3f5f"
           }
          },
          "ternary": {
           "aaxis": {
            "gridcolor": "white",
            "linecolor": "white",
            "ticks": ""
           },
           "baxis": {
            "gridcolor": "white",
            "linecolor": "white",
            "ticks": ""
           },
           "bgcolor": "#E5ECF6",
           "caxis": {
            "gridcolor": "white",
            "linecolor": "white",
            "ticks": ""
           }
          },
          "title": {
           "x": 0.05
          },
          "xaxis": {
           "automargin": true,
           "gridcolor": "white",
           "linecolor": "white",
           "ticks": "",
           "title": {
            "standoff": 15
           },
           "zerolinecolor": "white",
           "zerolinewidth": 2
          },
          "yaxis": {
           "automargin": true,
           "gridcolor": "white",
           "linecolor": "white",
           "ticks": "",
           "title": {
            "standoff": 15
           },
           "zerolinecolor": "white",
           "zerolinewidth": 2
          }
         }
        },
        "xaxis": {
         "anchor": "y",
         "domain": [
          0,
          1
         ],
         "title": {
          "text": "Điểm tích lũy kỳ 3"
         }
        },
        "yaxis": {
         "anchor": "x",
         "domain": [
          0,
          1
         ],
         "title": {
          "text": "Họ và tên"
         }
        }
       }
      }
     },
     "metadata": {}
    }
   ],
   "source": [
    "import plotly.express as px\n",
    "\n",
    "data = pd.DataFrame({\n",
    "    'Họ và tên': [df.loc[i, 'Họ và tên'] for i in range(len(df))],\n",
    "    'Điểm tích lũy kỳ 3': [round(cal_4(i, hk1_nam2), 2) for i in range(len(df))],\n",
    "    'Điểm tích lũy 3 kỳ': [round(cal_4(i, monhoc_cua_sv[df.loc[i, 'Họ và tên']]), 2) for i in range(len(df))],\n",
    "    'Tín chỉ tích lũy': [so_tin_chi_sv(i, monhoc_cua_sv[df.loc[i, 'Họ và tên']] + outlier) for i in range(len(df))]\n",
    "})\n",
    "\n",
    "data = data.append({        \n",
    "    'Họ và tên': 'K15DS', \n",
    "    'Điểm tích lũy kỳ 3': round(sum(data['Điểm tích lũy kỳ 3']) / len(data), 2), \n",
    "    'Điểm tích lũy 3 kỳ': round(sum(data['Điểm tích lũy 3 kỳ']) / len(data), 2),\n",
    "    'Tín chỉ tích lũy': sum(data['Tín chỉ tích lũy']) // len(data)\n",
    "}, ignore_index=True)\n",
    "\n",
    "fig = px.bar(data, y='Họ và tên', x='Điểm tích lũy kỳ 3', orientation='h')\n",
    "fig.show()"
   ]
  },
  {
   "cell_type": "code",
   "execution_count": 27,
   "metadata": {},
   "outputs": [],
   "source": [
    "zscore_df = pd.DataFrame({\n",
    "    'Họ và tên': df['Họ và tên']\n",
    "})"
   ]
  },
  {
   "cell_type": "code",
   "execution_count": 28,
   "metadata": {
    "scrolled": false
   },
   "outputs": [],
   "source": [
    "# # Mean cột điểm hệ 4 - điểm tích lũy 3 kỳ\n",
    "# mu = round(df['Điểm 4'].mean(), 2)\n",
    "\n",
    "# # Std cột điểm hệ 4\n",
    "# std = round(np.std(df['Điểm 4']), 2)\n",
    "\n",
    "# # zscore điểm hệ 4\n",
    "# zscore_diem4 = [round((x - mu) / std, 2) for x in df['Điểm 4']]\n",
    "# cal_df['zscore_diem4'] = zscore_diem4"
   ]
  },
  {
   "cell_type": "code",
   "execution_count": 29,
   "metadata": {},
   "outputs": [],
   "source": [
    "# zscore Điểm 4\n",
    "zscore_df['Điểm 4'] = stats.zscore(list(df['Điểm 4']))"
   ]
  },
  {
   "cell_type": "code",
   "execution_count": 30,
   "metadata": {},
   "outputs": [
    {
     "output_type": "execute_result",
     "data": {
      "text/plain": [
       "               Họ và tên    Điểm 4\n",
       "6      Đỗ Xuân Đức Chung -2.136500\n",
       "24     Nguyễn Thành Nhân -2.259998\n",
       "48  Lưu Hoàng Ngọc Trinh -2.118858\n",
       "51      Phạm Thành Trung  2.027117"
      ],
      "text/html": "<div>\n<style scoped>\n    .dataframe tbody tr th:only-of-type {\n        vertical-align: middle;\n    }\n\n    .dataframe tbody tr th {\n        vertical-align: top;\n    }\n\n    .dataframe thead th {\n        text-align: right;\n    }\n</style>\n<table border=\"1\" class=\"dataframe\">\n  <thead>\n    <tr style=\"text-align: right;\">\n      <th></th>\n      <th>Họ và tên</th>\n      <th>Điểm 4</th>\n    </tr>\n  </thead>\n  <tbody>\n    <tr>\n      <th>6</th>\n      <td>Đỗ Xuân Đức Chung</td>\n      <td>-2.136500</td>\n    </tr>\n    <tr>\n      <th>24</th>\n      <td>Nguyễn Thành Nhân</td>\n      <td>-2.259998</td>\n    </tr>\n    <tr>\n      <th>48</th>\n      <td>Lưu Hoàng Ngọc Trinh</td>\n      <td>-2.118858</td>\n    </tr>\n    <tr>\n      <th>51</th>\n      <td>Phạm Thành Trung</td>\n      <td>2.027117</td>\n    </tr>\n  </tbody>\n</table>\n</div>"
     },
     "metadata": {},
     "execution_count": 30
    }
   ],
   "source": [
    "zscore_df[(zscore_df['Điểm 4'] < -2) | (zscore_df['Điểm 4'] > 2)]"
   ]
  },
  {
   "cell_type": "code",
   "execution_count": 31,
   "metadata": {},
   "outputs": [
    {
     "output_type": "execute_result",
     "data": {
      "text/plain": [
       "21"
      ]
     },
     "metadata": {},
     "execution_count": 31
    }
   ],
   "source": [
    "df['Điểm chữ'].to_list().count('C+')"
   ]
  },
  {
   "cell_type": "code",
   "execution_count": 32,
   "metadata": {
    "scrolled": false
   },
   "outputs": [
    {
     "output_type": "execute_result",
     "data": {
      "text/plain": [
       "[('C+', 21), ('B', 22), ('D+', 7), ('F', 3), ('D', 3), ('B+', 4)]"
      ]
     },
     "metadata": {},
     "execution_count": 32
    }
   ],
   "source": [
    "[(i, df['Điểm chữ'].to_list().count(i)) for i in df['Điểm chữ'].unique()]"
   ]
  },
  {
   "cell_type": "code",
   "execution_count": 33,
   "metadata": {},
   "outputs": [
    {
     "output_type": "execute_result",
     "data": {
      "text/plain": [
       "    index   STT  Mã sinh viên       Họ đệm    Tên  \\\n",
       "16     17  17.0    19477071.0     Ngô Quốc  Hoàng   \n",
       "26     27  27.0    19522491.0  Lưu Thị Yến    Nhi   \n",
       "28     29  29.0    19475611.0     Lê Thanh  Phong   \n",
       "51     52  52.0    19502701.0   Phạm Thành  Trung   \n",
       "\n",
       "    Những nguyên lý cơ bản của Chủ nghĩa Mác - Lênin  Nhập môn Tin học  \\\n",
       "16                                               7.1               7.8   \n",
       "26                                               7.0               7.5   \n",
       "28                                               7.0               8.2   \n",
       "51                                               8.0               7.9   \n",
       "\n",
       "    Giáo dục Quốc phòng và An ninh 1  Toán cao cấp 1  Giáo dục thể chất 1  \\\n",
       "16                               7.5             9.8                  6.0   \n",
       "26                               7.0             9.5                  7.0   \n",
       "28                               7.5             9.5                  6.5   \n",
       "51                               7.5             9.9                  6.5   \n",
       "\n",
       "    ...  Giải tích ngẫu nhiên cho tài chính  Chứng chỉ TOEIC 450  \\\n",
       "16  ...                                 NaN                  NaN   \n",
       "26  ...                                 NaN                  NaN   \n",
       "28  ...                                 NaN                  NaN   \n",
       "51  ...                                 NaN                  NaN   \n",
       "\n",
       "    Khóa luận tốt nghiệp  Thực tập doanh nghiệp  Số tín chỉ  Điểm 10  Điểm 4  \\\n",
       "16                   NaN                    NaN          27      8.3    3.47   \n",
       "26                   NaN                    NaN          22      8.3    3.47   \n",
       "28                   NaN                    NaN          21        8    3.31   \n",
       "51                   NaN                    NaN          25      8.7    3.69   \n",
       "\n",
       "    Điểm chữ  Xếp loại         Họ và tên  \n",
       "16        B+       Khá    Ngô Quốc Hoàng  \n",
       "26        B+       Khá   Lưu Thị Yến Nhi  \n",
       "28        B+       Khá    Lê Thanh Phong  \n",
       "51        B+       Khá  Phạm Thành Trung  \n",
       "\n",
       "[4 rows x 91 columns]"
      ],
      "text/html": "<div>\n<style scoped>\n    .dataframe tbody tr th:only-of-type {\n        vertical-align: middle;\n    }\n\n    .dataframe tbody tr th {\n        vertical-align: top;\n    }\n\n    .dataframe thead th {\n        text-align: right;\n    }\n</style>\n<table border=\"1\" class=\"dataframe\">\n  <thead>\n    <tr style=\"text-align: right;\">\n      <th></th>\n      <th>index</th>\n      <th>STT</th>\n      <th>Mã sinh viên</th>\n      <th>Họ đệm</th>\n      <th>Tên</th>\n      <th>Những nguyên lý cơ bản của Chủ nghĩa Mác - Lênin</th>\n      <th>Nhập môn Tin học</th>\n      <th>Giáo dục Quốc phòng và An ninh 1</th>\n      <th>Toán cao cấp 1</th>\n      <th>Giáo dục thể chất 1</th>\n      <th>...</th>\n      <th>Giải tích ngẫu nhiên cho tài chính</th>\n      <th>Chứng chỉ TOEIC 450</th>\n      <th>Khóa luận tốt nghiệp</th>\n      <th>Thực tập doanh nghiệp</th>\n      <th>Số tín chỉ</th>\n      <th>Điểm 10</th>\n      <th>Điểm 4</th>\n      <th>Điểm chữ</th>\n      <th>Xếp loại</th>\n      <th>Họ và tên</th>\n    </tr>\n  </thead>\n  <tbody>\n    <tr>\n      <th>16</th>\n      <td>17</td>\n      <td>17.0</td>\n      <td>19477071.0</td>\n      <td>Ngô Quốc</td>\n      <td>Hoàng</td>\n      <td>7.1</td>\n      <td>7.8</td>\n      <td>7.5</td>\n      <td>9.8</td>\n      <td>6.0</td>\n      <td>...</td>\n      <td>NaN</td>\n      <td>NaN</td>\n      <td>NaN</td>\n      <td>NaN</td>\n      <td>27</td>\n      <td>8.3</td>\n      <td>3.47</td>\n      <td>B+</td>\n      <td>Khá</td>\n      <td>Ngô Quốc Hoàng</td>\n    </tr>\n    <tr>\n      <th>26</th>\n      <td>27</td>\n      <td>27.0</td>\n      <td>19522491.0</td>\n      <td>Lưu Thị Yến</td>\n      <td>Nhi</td>\n      <td>7.0</td>\n      <td>7.5</td>\n      <td>7.0</td>\n      <td>9.5</td>\n      <td>7.0</td>\n      <td>...</td>\n      <td>NaN</td>\n      <td>NaN</td>\n      <td>NaN</td>\n      <td>NaN</td>\n      <td>22</td>\n      <td>8.3</td>\n      <td>3.47</td>\n      <td>B+</td>\n      <td>Khá</td>\n      <td>Lưu Thị Yến Nhi</td>\n    </tr>\n    <tr>\n      <th>28</th>\n      <td>29</td>\n      <td>29.0</td>\n      <td>19475611.0</td>\n      <td>Lê Thanh</td>\n      <td>Phong</td>\n      <td>7.0</td>\n      <td>8.2</td>\n      <td>7.5</td>\n      <td>9.5</td>\n      <td>6.5</td>\n      <td>...</td>\n      <td>NaN</td>\n      <td>NaN</td>\n      <td>NaN</td>\n      <td>NaN</td>\n      <td>21</td>\n      <td>8</td>\n      <td>3.31</td>\n      <td>B+</td>\n      <td>Khá</td>\n      <td>Lê Thanh Phong</td>\n    </tr>\n    <tr>\n      <th>51</th>\n      <td>52</td>\n      <td>52.0</td>\n      <td>19502701.0</td>\n      <td>Phạm Thành</td>\n      <td>Trung</td>\n      <td>8.0</td>\n      <td>7.9</td>\n      <td>7.5</td>\n      <td>9.9</td>\n      <td>6.5</td>\n      <td>...</td>\n      <td>NaN</td>\n      <td>NaN</td>\n      <td>NaN</td>\n      <td>NaN</td>\n      <td>25</td>\n      <td>8.7</td>\n      <td>3.69</td>\n      <td>B+</td>\n      <td>Khá</td>\n      <td>Phạm Thành Trung</td>\n    </tr>\n  </tbody>\n</table>\n<p>4 rows × 91 columns</p>\n</div>"
     },
     "metadata": {},
     "execution_count": 33
    }
   ],
   "source": [
    "df[df['Điểm chữ'] == 'B+']"
   ]
  },
  {
   "cell_type": "code",
   "execution_count": 34,
   "metadata": {},
   "outputs": [],
   "source": [
    "quantile = df['Điểm 4'].quantile([.25, .5, .75])"
   ]
  },
  {
   "cell_type": "code",
   "execution_count": 35,
   "metadata": {},
   "outputs": [
    {
     "output_type": "execute_result",
     "data": {
      "text/plain": [
       "0.25    2.1475\n",
       "0.50     2.565\n",
       "0.75    2.9625\n",
       "Name: Điểm 4, dtype: object"
      ]
     },
     "metadata": {},
     "execution_count": 35
    }
   ],
   "source": [
    "quantile"
   ]
  },
  {
   "cell_type": "code",
   "execution_count": 36,
   "metadata": {},
   "outputs": [
    {
     "output_type": "execute_result",
     "data": {
      "text/plain": [
       "0.815"
      ]
     },
     "metadata": {},
     "execution_count": 36
    }
   ],
   "source": [
    "# IQR\n",
    "IQR_diem4 = quantile[.75] - quantile[.25]\n",
    "IQR_diem4"
   ]
  },
  {
   "cell_type": "code",
   "execution_count": 37,
   "metadata": {},
   "outputs": [
    {
     "output_type": "execute_result",
     "data": {
      "text/plain": [
       "2.4299999999999997"
      ]
     },
     "metadata": {},
     "execution_count": 37
    }
   ],
   "source": [
    "# Miền giá trị của điểm 4\n",
    "df['Điểm 4'].max() - df['Điểm 4'].min()"
   ]
  },
  {
   "cell_type": "code",
   "execution_count": 38,
   "metadata": {},
   "outputs": [
    {
     "output_type": "execute_result",
     "data": {
      "text/plain": [
       "<matplotlib.axes._subplots.AxesSubplot at 0x23d833de2b0>"
      ]
     },
     "metadata": {},
     "execution_count": 38
    },
    {
     "output_type": "display_data",
     "data": {
      "text/plain": "<Figure size 432x288 with 1 Axes>",
      "image/svg+xml": "<?xml version=\"1.0\" encoding=\"utf-8\" standalone=\"no\"?>\r\n<!DOCTYPE svg PUBLIC \"-//W3C//DTD SVG 1.1//EN\"\r\n  \"http://www.w3.org/Graphics/SVG/1.1/DTD/svg11.dtd\">\r\n<!-- Created with matplotlib (https://matplotlib.org/) -->\r\n<svg height=\"248.518125pt\" version=\"1.1\" viewBox=\"0 0 382.603125 248.518125\" width=\"382.603125pt\" xmlns=\"http://www.w3.org/2000/svg\" xmlns:xlink=\"http://www.w3.org/1999/xlink\">\r\n <defs>\r\n  <style type=\"text/css\">\r\n*{stroke-linecap:butt;stroke-linejoin:round;}\r\n  </style>\r\n </defs>\r\n <g id=\"figure_1\">\r\n  <g id=\"patch_1\">\r\n   <path d=\"M 0 248.518125 \r\nL 382.603125 248.518125 \r\nL 382.603125 0 \r\nL 0 0 \r\nz\r\n\" style=\"fill:none;\"/>\r\n  </g>\r\n  <g id=\"axes_1\">\r\n   <g id=\"patch_2\">\r\n    <path d=\"M 40.603125 224.64 \r\nL 375.403125 224.64 \r\nL 375.403125 7.2 \r\nL 40.603125 7.2 \r\nz\r\n\" style=\"fill:#ffffff;\"/>\r\n   </g>\r\n   <g id=\"patch_3\">\r\n    <path clip-path=\"url(#p1f89dccdbf)\" d=\"M 55.821307 224.64 \r\nL 86.25767 224.64 \r\nL 86.25767 168.162078 \r\nL 55.821307 168.162078 \r\nz\r\n\" style=\"fill:#1f77b4;\"/>\r\n   </g>\r\n   <g id=\"patch_4\">\r\n    <path clip-path=\"url(#p1f89dccdbf)\" d=\"M 86.25767 224.64 \r\nL 116.694034 224.64 \r\nL 116.694034 149.336104 \r\nL 86.25767 149.336104 \r\nz\r\n\" style=\"fill:#1f77b4;\"/>\r\n   </g>\r\n   <g id=\"patch_5\">\r\n    <path clip-path=\"url(#p1f89dccdbf)\" d=\"M 116.694034 224.64 \r\nL 147.130398 224.64 \r\nL 147.130398 186.988052 \r\nL 116.694034 186.988052 \r\nz\r\n\" style=\"fill:#1f77b4;\"/>\r\n   </g>\r\n   <g id=\"patch_6\">\r\n    <path clip-path=\"url(#p1f89dccdbf)\" d=\"M 147.130398 224.64 \r\nL 177.566761 224.64 \r\nL 177.566761 36.38026 \r\nL 147.130398 36.38026 \r\nz\r\n\" style=\"fill:#1f77b4;\"/>\r\n   </g>\r\n   <g id=\"patch_7\">\r\n    <path clip-path=\"url(#p1f89dccdbf)\" d=\"M 177.566761 224.64 \r\nL 208.003125 224.64 \r\nL 208.003125 74.032208 \r\nL 177.566761 74.032208 \r\nz\r\n\" style=\"fill:#1f77b4;\"/>\r\n   </g>\r\n   <g id=\"patch_8\">\r\n    <path clip-path=\"url(#p1f89dccdbf)\" d=\"M 208.003125 224.64 \r\nL 238.439489 224.64 \r\nL 238.439489 92.858182 \r\nL 208.003125 92.858182 \r\nz\r\n\" style=\"fill:#1f77b4;\"/>\r\n   </g>\r\n   <g id=\"patch_9\">\r\n    <path clip-path=\"url(#p1f89dccdbf)\" d=\"M 238.439489 224.64 \r\nL 268.875852 224.64 \r\nL 268.875852 17.554286 \r\nL 238.439489 17.554286 \r\nz\r\n\" style=\"fill:#1f77b4;\"/>\r\n   </g>\r\n   <g id=\"patch_10\">\r\n    <path clip-path=\"url(#p1f89dccdbf)\" d=\"M 268.875852 224.64 \r\nL 299.312216 224.64 \r\nL 299.312216 55.206234 \r\nL 268.875852 55.206234 \r\nz\r\n\" style=\"fill:#1f77b4;\"/>\r\n   </g>\r\n   <g id=\"patch_11\">\r\n    <path clip-path=\"url(#p1f89dccdbf)\" d=\"M 299.312216 224.64 \r\nL 329.74858 224.64 \r\nL 329.74858 168.162078 \r\nL 299.312216 168.162078 \r\nz\r\n\" style=\"fill:#1f77b4;\"/>\r\n   </g>\r\n   <g id=\"patch_12\">\r\n    <path clip-path=\"url(#p1f89dccdbf)\" d=\"M 329.74858 224.64 \r\nL 360.184943 224.64 \r\nL 360.184943 168.162078 \r\nL 329.74858 168.162078 \r\nz\r\n\" style=\"fill:#1f77b4;\"/>\r\n   </g>\r\n   <g id=\"matplotlib.axis_1\">\r\n    <g id=\"xtick_1\">\r\n     <g id=\"line2d_1\">\r\n      <defs>\r\n       <path d=\"M 0 0 \r\nL 0 3.5 \r\n\" id=\"m7a315ffbf0\" style=\"stroke:#000000;stroke-width:0.8;\"/>\r\n      </defs>\r\n      <g>\r\n       <use style=\"stroke:#000000;stroke-width:0.8;\" x=\"85.881913\" xlink:href=\"#m7a315ffbf0\" y=\"224.64\"/>\r\n      </g>\r\n     </g>\r\n     <g id=\"text_1\">\r\n      <!-- 1.5 -->\r\n      <defs>\r\n       <path d=\"M 12.40625 8.296875 \r\nL 28.515625 8.296875 \r\nL 28.515625 63.921875 \r\nL 10.984375 60.40625 \r\nL 10.984375 69.390625 \r\nL 28.421875 72.90625 \r\nL 38.28125 72.90625 \r\nL 38.28125 8.296875 \r\nL 54.390625 8.296875 \r\nL 54.390625 0 \r\nL 12.40625 0 \r\nz\r\n\" id=\"DejaVuSans-49\"/>\r\n       <path d=\"M 10.6875 12.40625 \r\nL 21 12.40625 \r\nL 21 0 \r\nL 10.6875 0 \r\nz\r\n\" id=\"DejaVuSans-46\"/>\r\n       <path d=\"M 10.796875 72.90625 \r\nL 49.515625 72.90625 \r\nL 49.515625 64.59375 \r\nL 19.828125 64.59375 \r\nL 19.828125 46.734375 \r\nQ 21.96875 47.46875 24.109375 47.828125 \r\nQ 26.265625 48.1875 28.421875 48.1875 \r\nQ 40.625 48.1875 47.75 41.5 \r\nQ 54.890625 34.8125 54.890625 23.390625 \r\nQ 54.890625 11.625 47.5625 5.09375 \r\nQ 40.234375 -1.421875 26.90625 -1.421875 \r\nQ 22.3125 -1.421875 17.546875 -0.640625 \r\nQ 12.796875 0.140625 7.71875 1.703125 \r\nL 7.71875 11.625 \r\nQ 12.109375 9.234375 16.796875 8.0625 \r\nQ 21.484375 6.890625 26.703125 6.890625 \r\nQ 35.15625 6.890625 40.078125 11.328125 \r\nQ 45.015625 15.765625 45.015625 23.390625 \r\nQ 45.015625 31 40.078125 35.4375 \r\nQ 35.15625 39.890625 26.703125 39.890625 \r\nQ 22.75 39.890625 18.8125 39.015625 \r\nQ 14.890625 38.140625 10.796875 36.28125 \r\nz\r\n\" id=\"DejaVuSans-53\"/>\r\n      </defs>\r\n      <g transform=\"translate(77.93035 239.238437)scale(0.1 -0.1)\">\r\n       <use xlink:href=\"#DejaVuSans-49\"/>\r\n       <use x=\"63.623047\" xlink:href=\"#DejaVuSans-46\"/>\r\n       <use x=\"95.410156\" xlink:href=\"#DejaVuSans-53\"/>\r\n      </g>\r\n     </g>\r\n    </g>\r\n    <g id=\"xtick_2\">\r\n     <g id=\"line2d_2\">\r\n      <g>\r\n       <use style=\"stroke:#000000;stroke-width:0.8;\" x=\"148.508176\" xlink:href=\"#m7a315ffbf0\" y=\"224.64\"/>\r\n      </g>\r\n     </g>\r\n     <g id=\"text_2\">\r\n      <!-- 2.0 -->\r\n      <defs>\r\n       <path d=\"M 19.1875 8.296875 \r\nL 53.609375 8.296875 \r\nL 53.609375 0 \r\nL 7.328125 0 \r\nL 7.328125 8.296875 \r\nQ 12.9375 14.109375 22.625 23.890625 \r\nQ 32.328125 33.6875 34.8125 36.53125 \r\nQ 39.546875 41.84375 41.421875 45.53125 \r\nQ 43.3125 49.21875 43.3125 52.78125 \r\nQ 43.3125 58.59375 39.234375 62.25 \r\nQ 35.15625 65.921875 28.609375 65.921875 \r\nQ 23.96875 65.921875 18.8125 64.3125 \r\nQ 13.671875 62.703125 7.8125 59.421875 \r\nL 7.8125 69.390625 \r\nQ 13.765625 71.78125 18.9375 73 \r\nQ 24.125 74.21875 28.421875 74.21875 \r\nQ 39.75 74.21875 46.484375 68.546875 \r\nQ 53.21875 62.890625 53.21875 53.421875 \r\nQ 53.21875 48.921875 51.53125 44.890625 \r\nQ 49.859375 40.875 45.40625 35.40625 \r\nQ 44.1875 33.984375 37.640625 27.21875 \r\nQ 31.109375 20.453125 19.1875 8.296875 \r\nz\r\n\" id=\"DejaVuSans-50\"/>\r\n       <path d=\"M 31.78125 66.40625 \r\nQ 24.171875 66.40625 20.328125 58.90625 \r\nQ 16.5 51.421875 16.5 36.375 \r\nQ 16.5 21.390625 20.328125 13.890625 \r\nQ 24.171875 6.390625 31.78125 6.390625 \r\nQ 39.453125 6.390625 43.28125 13.890625 \r\nQ 47.125 21.390625 47.125 36.375 \r\nQ 47.125 51.421875 43.28125 58.90625 \r\nQ 39.453125 66.40625 31.78125 66.40625 \r\nz\r\nM 31.78125 74.21875 \r\nQ 44.046875 74.21875 50.515625 64.515625 \r\nQ 56.984375 54.828125 56.984375 36.375 \r\nQ 56.984375 17.96875 50.515625 8.265625 \r\nQ 44.046875 -1.421875 31.78125 -1.421875 \r\nQ 19.53125 -1.421875 13.0625 8.265625 \r\nQ 6.59375 17.96875 6.59375 36.375 \r\nQ 6.59375 54.828125 13.0625 64.515625 \r\nQ 19.53125 74.21875 31.78125 74.21875 \r\nz\r\n\" id=\"DejaVuSans-48\"/>\r\n      </defs>\r\n      <g transform=\"translate(140.556613 239.238437)scale(0.1 -0.1)\">\r\n       <use xlink:href=\"#DejaVuSans-50\"/>\r\n       <use x=\"63.623047\" xlink:href=\"#DejaVuSans-46\"/>\r\n       <use x=\"95.410156\" xlink:href=\"#DejaVuSans-48\"/>\r\n      </g>\r\n     </g>\r\n    </g>\r\n    <g id=\"xtick_3\">\r\n     <g id=\"line2d_3\">\r\n      <g>\r\n       <use style=\"stroke:#000000;stroke-width:0.8;\" x=\"211.134438\" xlink:href=\"#m7a315ffbf0\" y=\"224.64\"/>\r\n      </g>\r\n     </g>\r\n     <g id=\"text_3\">\r\n      <!-- 2.5 -->\r\n      <g transform=\"translate(203.182876 239.238437)scale(0.1 -0.1)\">\r\n       <use xlink:href=\"#DejaVuSans-50\"/>\r\n       <use x=\"63.623047\" xlink:href=\"#DejaVuSans-46\"/>\r\n       <use x=\"95.410156\" xlink:href=\"#DejaVuSans-53\"/>\r\n      </g>\r\n     </g>\r\n    </g>\r\n    <g id=\"xtick_4\">\r\n     <g id=\"line2d_4\">\r\n      <g>\r\n       <use style=\"stroke:#000000;stroke-width:0.8;\" x=\"273.760701\" xlink:href=\"#m7a315ffbf0\" y=\"224.64\"/>\r\n      </g>\r\n     </g>\r\n     <g id=\"text_4\">\r\n      <!-- 3.0 -->\r\n      <defs>\r\n       <path d=\"M 40.578125 39.3125 \r\nQ 47.65625 37.796875 51.625 33 \r\nQ 55.609375 28.21875 55.609375 21.1875 \r\nQ 55.609375 10.40625 48.1875 4.484375 \r\nQ 40.765625 -1.421875 27.09375 -1.421875 \r\nQ 22.515625 -1.421875 17.65625 -0.515625 \r\nQ 12.796875 0.390625 7.625 2.203125 \r\nL 7.625 11.71875 \r\nQ 11.71875 9.328125 16.59375 8.109375 \r\nQ 21.484375 6.890625 26.8125 6.890625 \r\nQ 36.078125 6.890625 40.9375 10.546875 \r\nQ 45.796875 14.203125 45.796875 21.1875 \r\nQ 45.796875 27.640625 41.28125 31.265625 \r\nQ 36.765625 34.90625 28.71875 34.90625 \r\nL 20.21875 34.90625 \r\nL 20.21875 43.015625 \r\nL 29.109375 43.015625 \r\nQ 36.375 43.015625 40.234375 45.921875 \r\nQ 44.09375 48.828125 44.09375 54.296875 \r\nQ 44.09375 59.90625 40.109375 62.90625 \r\nQ 36.140625 65.921875 28.71875 65.921875 \r\nQ 24.65625 65.921875 20.015625 65.03125 \r\nQ 15.375 64.15625 9.8125 62.3125 \r\nL 9.8125 71.09375 \r\nQ 15.4375 72.65625 20.34375 73.4375 \r\nQ 25.25 74.21875 29.59375 74.21875 \r\nQ 40.828125 74.21875 47.359375 69.109375 \r\nQ 53.90625 64.015625 53.90625 55.328125 \r\nQ 53.90625 49.265625 50.4375 45.09375 \r\nQ 46.96875 40.921875 40.578125 39.3125 \r\nz\r\n\" id=\"DejaVuSans-51\"/>\r\n      </defs>\r\n      <g transform=\"translate(265.809138 239.238437)scale(0.1 -0.1)\">\r\n       <use xlink:href=\"#DejaVuSans-51\"/>\r\n       <use x=\"63.623047\" xlink:href=\"#DejaVuSans-46\"/>\r\n       <use x=\"95.410156\" xlink:href=\"#DejaVuSans-48\"/>\r\n      </g>\r\n     </g>\r\n    </g>\r\n    <g id=\"xtick_5\">\r\n     <g id=\"line2d_5\">\r\n      <g>\r\n       <use style=\"stroke:#000000;stroke-width:0.8;\" x=\"336.386963\" xlink:href=\"#m7a315ffbf0\" y=\"224.64\"/>\r\n      </g>\r\n     </g>\r\n     <g id=\"text_5\">\r\n      <!-- 3.5 -->\r\n      <g transform=\"translate(328.435401 239.238437)scale(0.1 -0.1)\">\r\n       <use xlink:href=\"#DejaVuSans-51\"/>\r\n       <use x=\"63.623047\" xlink:href=\"#DejaVuSans-46\"/>\r\n       <use x=\"95.410156\" xlink:href=\"#DejaVuSans-53\"/>\r\n      </g>\r\n     </g>\r\n    </g>\r\n   </g>\r\n   <g id=\"matplotlib.axis_2\">\r\n    <g id=\"ytick_1\">\r\n     <g id=\"line2d_6\">\r\n      <defs>\r\n       <path d=\"M 0 0 \r\nL -3.5 0 \r\n\" id=\"mbd6e3f378d\" style=\"stroke:#000000;stroke-width:0.8;\"/>\r\n      </defs>\r\n      <g>\r\n       <use style=\"stroke:#000000;stroke-width:0.8;\" x=\"40.603125\" xlink:href=\"#mbd6e3f378d\" y=\"224.64\"/>\r\n      </g>\r\n     </g>\r\n     <g id=\"text_6\">\r\n      <!-- 0 -->\r\n      <g transform=\"translate(27.240625 228.439219)scale(0.1 -0.1)\">\r\n       <use xlink:href=\"#DejaVuSans-48\"/>\r\n      </g>\r\n     </g>\r\n    </g>\r\n    <g id=\"ytick_2\">\r\n     <g id=\"line2d_7\">\r\n      <g>\r\n       <use style=\"stroke:#000000;stroke-width:0.8;\" x=\"40.603125\" xlink:href=\"#mbd6e3f378d\" y=\"186.988052\"/>\r\n      </g>\r\n     </g>\r\n     <g id=\"text_7\">\r\n      <!-- 2 -->\r\n      <g transform=\"translate(27.240625 190.787271)scale(0.1 -0.1)\">\r\n       <use xlink:href=\"#DejaVuSans-50\"/>\r\n      </g>\r\n     </g>\r\n    </g>\r\n    <g id=\"ytick_3\">\r\n     <g id=\"line2d_8\">\r\n      <g>\r\n       <use style=\"stroke:#000000;stroke-width:0.8;\" x=\"40.603125\" xlink:href=\"#mbd6e3f378d\" y=\"149.336104\"/>\r\n      </g>\r\n     </g>\r\n     <g id=\"text_8\">\r\n      <!-- 4 -->\r\n      <defs>\r\n       <path d=\"M 37.796875 64.3125 \r\nL 12.890625 25.390625 \r\nL 37.796875 25.390625 \r\nz\r\nM 35.203125 72.90625 \r\nL 47.609375 72.90625 \r\nL 47.609375 25.390625 \r\nL 58.015625 25.390625 \r\nL 58.015625 17.1875 \r\nL 47.609375 17.1875 \r\nL 47.609375 0 \r\nL 37.796875 0 \r\nL 37.796875 17.1875 \r\nL 4.890625 17.1875 \r\nL 4.890625 26.703125 \r\nz\r\n\" id=\"DejaVuSans-52\"/>\r\n      </defs>\r\n      <g transform=\"translate(27.240625 153.135323)scale(0.1 -0.1)\">\r\n       <use xlink:href=\"#DejaVuSans-52\"/>\r\n      </g>\r\n     </g>\r\n    </g>\r\n    <g id=\"ytick_4\">\r\n     <g id=\"line2d_9\">\r\n      <g>\r\n       <use style=\"stroke:#000000;stroke-width:0.8;\" x=\"40.603125\" xlink:href=\"#mbd6e3f378d\" y=\"111.684156\"/>\r\n      </g>\r\n     </g>\r\n     <g id=\"text_9\">\r\n      <!-- 6 -->\r\n      <defs>\r\n       <path d=\"M 33.015625 40.375 \r\nQ 26.375 40.375 22.484375 35.828125 \r\nQ 18.609375 31.296875 18.609375 23.390625 \r\nQ 18.609375 15.53125 22.484375 10.953125 \r\nQ 26.375 6.390625 33.015625 6.390625 \r\nQ 39.65625 6.390625 43.53125 10.953125 \r\nQ 47.40625 15.53125 47.40625 23.390625 \r\nQ 47.40625 31.296875 43.53125 35.828125 \r\nQ 39.65625 40.375 33.015625 40.375 \r\nz\r\nM 52.59375 71.296875 \r\nL 52.59375 62.3125 \r\nQ 48.875 64.0625 45.09375 64.984375 \r\nQ 41.3125 65.921875 37.59375 65.921875 \r\nQ 27.828125 65.921875 22.671875 59.328125 \r\nQ 17.53125 52.734375 16.796875 39.40625 \r\nQ 19.671875 43.65625 24.015625 45.921875 \r\nQ 28.375 48.1875 33.59375 48.1875 \r\nQ 44.578125 48.1875 50.953125 41.515625 \r\nQ 57.328125 34.859375 57.328125 23.390625 \r\nQ 57.328125 12.15625 50.6875 5.359375 \r\nQ 44.046875 -1.421875 33.015625 -1.421875 \r\nQ 20.359375 -1.421875 13.671875 8.265625 \r\nQ 6.984375 17.96875 6.984375 36.375 \r\nQ 6.984375 53.65625 15.1875 63.9375 \r\nQ 23.390625 74.21875 37.203125 74.21875 \r\nQ 40.921875 74.21875 44.703125 73.484375 \r\nQ 48.484375 72.75 52.59375 71.296875 \r\nz\r\n\" id=\"DejaVuSans-54\"/>\r\n      </defs>\r\n      <g transform=\"translate(27.240625 115.483375)scale(0.1 -0.1)\">\r\n       <use xlink:href=\"#DejaVuSans-54\"/>\r\n      </g>\r\n     </g>\r\n    </g>\r\n    <g id=\"ytick_5\">\r\n     <g id=\"line2d_10\">\r\n      <g>\r\n       <use style=\"stroke:#000000;stroke-width:0.8;\" x=\"40.603125\" xlink:href=\"#mbd6e3f378d\" y=\"74.032208\"/>\r\n      </g>\r\n     </g>\r\n     <g id=\"text_10\">\r\n      <!-- 8 -->\r\n      <defs>\r\n       <path d=\"M 31.78125 34.625 \r\nQ 24.75 34.625 20.71875 30.859375 \r\nQ 16.703125 27.09375 16.703125 20.515625 \r\nQ 16.703125 13.921875 20.71875 10.15625 \r\nQ 24.75 6.390625 31.78125 6.390625 \r\nQ 38.8125 6.390625 42.859375 10.171875 \r\nQ 46.921875 13.96875 46.921875 20.515625 \r\nQ 46.921875 27.09375 42.890625 30.859375 \r\nQ 38.875 34.625 31.78125 34.625 \r\nz\r\nM 21.921875 38.8125 \r\nQ 15.578125 40.375 12.03125 44.71875 \r\nQ 8.5 49.078125 8.5 55.328125 \r\nQ 8.5 64.0625 14.71875 69.140625 \r\nQ 20.953125 74.21875 31.78125 74.21875 \r\nQ 42.671875 74.21875 48.875 69.140625 \r\nQ 55.078125 64.0625 55.078125 55.328125 \r\nQ 55.078125 49.078125 51.53125 44.71875 \r\nQ 48 40.375 41.703125 38.8125 \r\nQ 48.828125 37.15625 52.796875 32.3125 \r\nQ 56.78125 27.484375 56.78125 20.515625 \r\nQ 56.78125 9.90625 50.3125 4.234375 \r\nQ 43.84375 -1.421875 31.78125 -1.421875 \r\nQ 19.734375 -1.421875 13.25 4.234375 \r\nQ 6.78125 9.90625 6.78125 20.515625 \r\nQ 6.78125 27.484375 10.78125 32.3125 \r\nQ 14.796875 37.15625 21.921875 38.8125 \r\nz\r\nM 18.3125 54.390625 \r\nQ 18.3125 48.734375 21.84375 45.5625 \r\nQ 25.390625 42.390625 31.78125 42.390625 \r\nQ 38.140625 42.390625 41.71875 45.5625 \r\nQ 45.3125 48.734375 45.3125 54.390625 \r\nQ 45.3125 60.0625 41.71875 63.234375 \r\nQ 38.140625 66.40625 31.78125 66.40625 \r\nQ 25.390625 66.40625 21.84375 63.234375 \r\nQ 18.3125 60.0625 18.3125 54.390625 \r\nz\r\n\" id=\"DejaVuSans-56\"/>\r\n      </defs>\r\n      <g transform=\"translate(27.240625 77.831427)scale(0.1 -0.1)\">\r\n       <use xlink:href=\"#DejaVuSans-56\"/>\r\n      </g>\r\n     </g>\r\n    </g>\r\n    <g id=\"ytick_6\">\r\n     <g id=\"line2d_11\">\r\n      <g>\r\n       <use style=\"stroke:#000000;stroke-width:0.8;\" x=\"40.603125\" xlink:href=\"#mbd6e3f378d\" y=\"36.38026\"/>\r\n      </g>\r\n     </g>\r\n     <g id=\"text_11\">\r\n      <!-- 10 -->\r\n      <g transform=\"translate(20.878125 40.179478)scale(0.1 -0.1)\">\r\n       <use xlink:href=\"#DejaVuSans-49\"/>\r\n       <use x=\"63.623047\" xlink:href=\"#DejaVuSans-48\"/>\r\n      </g>\r\n     </g>\r\n    </g>\r\n    <g id=\"text_12\">\r\n     <!-- Frequency -->\r\n     <defs>\r\n      <path d=\"M 9.8125 72.90625 \r\nL 51.703125 72.90625 \r\nL 51.703125 64.59375 \r\nL 19.671875 64.59375 \r\nL 19.671875 43.109375 \r\nL 48.578125 43.109375 \r\nL 48.578125 34.8125 \r\nL 19.671875 34.8125 \r\nL 19.671875 0 \r\nL 9.8125 0 \r\nz\r\n\" id=\"DejaVuSans-70\"/>\r\n      <path d=\"M 41.109375 46.296875 \r\nQ 39.59375 47.171875 37.8125 47.578125 \r\nQ 36.03125 48 33.890625 48 \r\nQ 26.265625 48 22.1875 43.046875 \r\nQ 18.109375 38.09375 18.109375 28.8125 \r\nL 18.109375 0 \r\nL 9.078125 0 \r\nL 9.078125 54.6875 \r\nL 18.109375 54.6875 \r\nL 18.109375 46.1875 \r\nQ 20.953125 51.171875 25.484375 53.578125 \r\nQ 30.03125 56 36.53125 56 \r\nQ 37.453125 56 38.578125 55.875 \r\nQ 39.703125 55.765625 41.0625 55.515625 \r\nz\r\n\" id=\"DejaVuSans-114\"/>\r\n      <path d=\"M 56.203125 29.59375 \r\nL 56.203125 25.203125 \r\nL 14.890625 25.203125 \r\nQ 15.484375 15.921875 20.484375 11.0625 \r\nQ 25.484375 6.203125 34.421875 6.203125 \r\nQ 39.59375 6.203125 44.453125 7.46875 \r\nQ 49.3125 8.734375 54.109375 11.28125 \r\nL 54.109375 2.78125 \r\nQ 49.265625 0.734375 44.1875 -0.34375 \r\nQ 39.109375 -1.421875 33.890625 -1.421875 \r\nQ 20.796875 -1.421875 13.15625 6.1875 \r\nQ 5.515625 13.8125 5.515625 26.8125 \r\nQ 5.515625 40.234375 12.765625 48.109375 \r\nQ 20.015625 56 32.328125 56 \r\nQ 43.359375 56 49.78125 48.890625 \r\nQ 56.203125 41.796875 56.203125 29.59375 \r\nz\r\nM 47.21875 32.234375 \r\nQ 47.125 39.59375 43.09375 43.984375 \r\nQ 39.0625 48.390625 32.421875 48.390625 \r\nQ 24.90625 48.390625 20.390625 44.140625 \r\nQ 15.875 39.890625 15.1875 32.171875 \r\nz\r\n\" id=\"DejaVuSans-101\"/>\r\n      <path d=\"M 14.796875 27.296875 \r\nQ 14.796875 17.390625 18.875 11.75 \r\nQ 22.953125 6.109375 30.078125 6.109375 \r\nQ 37.203125 6.109375 41.296875 11.75 \r\nQ 45.40625 17.390625 45.40625 27.296875 \r\nQ 45.40625 37.203125 41.296875 42.84375 \r\nQ 37.203125 48.484375 30.078125 48.484375 \r\nQ 22.953125 48.484375 18.875 42.84375 \r\nQ 14.796875 37.203125 14.796875 27.296875 \r\nz\r\nM 45.40625 8.203125 \r\nQ 42.578125 3.328125 38.25 0.953125 \r\nQ 33.9375 -1.421875 27.875 -1.421875 \r\nQ 17.96875 -1.421875 11.734375 6.484375 \r\nQ 5.515625 14.40625 5.515625 27.296875 \r\nQ 5.515625 40.1875 11.734375 48.09375 \r\nQ 17.96875 56 27.875 56 \r\nQ 33.9375 56 38.25 53.625 \r\nQ 42.578125 51.265625 45.40625 46.390625 \r\nL 45.40625 54.6875 \r\nL 54.390625 54.6875 \r\nL 54.390625 -20.796875 \r\nL 45.40625 -20.796875 \r\nz\r\n\" id=\"DejaVuSans-113\"/>\r\n      <path d=\"M 8.5 21.578125 \r\nL 8.5 54.6875 \r\nL 17.484375 54.6875 \r\nL 17.484375 21.921875 \r\nQ 17.484375 14.15625 20.5 10.265625 \r\nQ 23.53125 6.390625 29.59375 6.390625 \r\nQ 36.859375 6.390625 41.078125 11.03125 \r\nQ 45.3125 15.671875 45.3125 23.6875 \r\nL 45.3125 54.6875 \r\nL 54.296875 54.6875 \r\nL 54.296875 0 \r\nL 45.3125 0 \r\nL 45.3125 8.40625 \r\nQ 42.046875 3.421875 37.71875 1 \r\nQ 33.40625 -1.421875 27.6875 -1.421875 \r\nQ 18.265625 -1.421875 13.375 4.4375 \r\nQ 8.5 10.296875 8.5 21.578125 \r\nz\r\nM 31.109375 56 \r\nz\r\n\" id=\"DejaVuSans-117\"/>\r\n      <path d=\"M 54.890625 33.015625 \r\nL 54.890625 0 \r\nL 45.90625 0 \r\nL 45.90625 32.71875 \r\nQ 45.90625 40.484375 42.875 44.328125 \r\nQ 39.84375 48.1875 33.796875 48.1875 \r\nQ 26.515625 48.1875 22.3125 43.546875 \r\nQ 18.109375 38.921875 18.109375 30.90625 \r\nL 18.109375 0 \r\nL 9.078125 0 \r\nL 9.078125 54.6875 \r\nL 18.109375 54.6875 \r\nL 18.109375 46.1875 \r\nQ 21.34375 51.125 25.703125 53.5625 \r\nQ 30.078125 56 35.796875 56 \r\nQ 45.21875 56 50.046875 50.171875 \r\nQ 54.890625 44.34375 54.890625 33.015625 \r\nz\r\n\" id=\"DejaVuSans-110\"/>\r\n      <path d=\"M 48.78125 52.59375 \r\nL 48.78125 44.1875 \r\nQ 44.96875 46.296875 41.140625 47.34375 \r\nQ 37.3125 48.390625 33.40625 48.390625 \r\nQ 24.65625 48.390625 19.8125 42.84375 \r\nQ 14.984375 37.3125 14.984375 27.296875 \r\nQ 14.984375 17.28125 19.8125 11.734375 \r\nQ 24.65625 6.203125 33.40625 6.203125 \r\nQ 37.3125 6.203125 41.140625 7.25 \r\nQ 44.96875 8.296875 48.78125 10.40625 \r\nL 48.78125 2.09375 \r\nQ 45.015625 0.34375 40.984375 -0.53125 \r\nQ 36.96875 -1.421875 32.421875 -1.421875 \r\nQ 20.0625 -1.421875 12.78125 6.34375 \r\nQ 5.515625 14.109375 5.515625 27.296875 \r\nQ 5.515625 40.671875 12.859375 48.328125 \r\nQ 20.21875 56 33.015625 56 \r\nQ 37.15625 56 41.109375 55.140625 \r\nQ 45.0625 54.296875 48.78125 52.59375 \r\nz\r\n\" id=\"DejaVuSans-99\"/>\r\n      <path d=\"M 32.171875 -5.078125 \r\nQ 28.375 -14.84375 24.75 -17.8125 \r\nQ 21.140625 -20.796875 15.09375 -20.796875 \r\nL 7.90625 -20.796875 \r\nL 7.90625 -13.28125 \r\nL 13.1875 -13.28125 \r\nQ 16.890625 -13.28125 18.9375 -11.515625 \r\nQ 21 -9.765625 23.484375 -3.21875 \r\nL 25.09375 0.875 \r\nL 2.984375 54.6875 \r\nL 12.5 54.6875 \r\nL 29.59375 11.921875 \r\nL 46.6875 54.6875 \r\nL 56.203125 54.6875 \r\nz\r\n\" id=\"DejaVuSans-121\"/>\r\n     </defs>\r\n     <g transform=\"translate(14.798438 141.749687)rotate(-90)scale(0.1 -0.1)\">\r\n      <use xlink:href=\"#DejaVuSans-70\"/>\r\n      <use x=\"50.269531\" xlink:href=\"#DejaVuSans-114\"/>\r\n      <use x=\"89.132812\" xlink:href=\"#DejaVuSans-101\"/>\r\n      <use x=\"150.65625\" xlink:href=\"#DejaVuSans-113\"/>\r\n      <use x=\"214.132812\" xlink:href=\"#DejaVuSans-117\"/>\r\n      <use x=\"277.511719\" xlink:href=\"#DejaVuSans-101\"/>\r\n      <use x=\"339.035156\" xlink:href=\"#DejaVuSans-110\"/>\r\n      <use x=\"402.414062\" xlink:href=\"#DejaVuSans-99\"/>\r\n      <use x=\"457.394531\" xlink:href=\"#DejaVuSans-121\"/>\r\n     </g>\r\n    </g>\r\n   </g>\r\n   <g id=\"patch_13\">\r\n    <path d=\"M 40.603125 224.64 \r\nL 40.603125 7.2 \r\n\" style=\"fill:none;stroke:#000000;stroke-linecap:square;stroke-linejoin:miter;stroke-width:0.8;\"/>\r\n   </g>\r\n   <g id=\"patch_14\">\r\n    <path d=\"M 375.403125 224.64 \r\nL 375.403125 7.2 \r\n\" style=\"fill:none;stroke:#000000;stroke-linecap:square;stroke-linejoin:miter;stroke-width:0.8;\"/>\r\n   </g>\r\n   <g id=\"patch_15\">\r\n    <path d=\"M 40.603125 224.64 \r\nL 375.403125 224.64 \r\n\" style=\"fill:none;stroke:#000000;stroke-linecap:square;stroke-linejoin:miter;stroke-width:0.8;\"/>\r\n   </g>\r\n   <g id=\"patch_16\">\r\n    <path d=\"M 40.603125 7.2 \r\nL 375.403125 7.2 \r\n\" style=\"fill:none;stroke:#000000;stroke-linecap:square;stroke-linejoin:miter;stroke-width:0.8;\"/>\r\n   </g>\r\n  </g>\r\n </g>\r\n <defs>\r\n  <clipPath id=\"p1f89dccdbf\">\r\n   <rect height=\"217.44\" width=\"334.8\" x=\"40.603125\" y=\"7.2\"/>\r\n  </clipPath>\r\n </defs>\r\n</svg>\r\n",
      "image/png": "[encoded data removed]"
     },
     "metadata": {
      "needs_background": "light"
     }
    }
   ],
   "source": [
    "df['Điểm 4'].plot.hist()"
   ]
  },
  {
   "cell_type": "code",
   "execution_count": 39,
   "metadata": {},
   "outputs": [
    {
     "output_type": "display_data",
     "data": {
      "text/plain": "<Figure size 432x288 with 1 Axes>",
      "image/svg+xml": "<?xml version=\"1.0\" encoding=\"utf-8\" standalone=\"no\"?>\r\n<!DOCTYPE svg PUBLIC \"-//W3C//DTD SVG 1.1//EN\"\r\n  \"http://www.w3.org/Graphics/SVG/1.1/DTD/svg11.dtd\">\r\n<!-- Created with matplotlib (https://matplotlib.org/) -->\r\n<svg height=\"231.84pt\" version=\"1.1\" viewBox=\"0 0 231.84 231.84\" width=\"231.84pt\" xmlns=\"http://www.w3.org/2000/svg\" xmlns:xlink=\"http://www.w3.org/1999/xlink\">\r\n <defs>\r\n  <style type=\"text/css\">\r\n*{stroke-linecap:butt;stroke-linejoin:round;}\r\n  </style>\r\n </defs>\r\n <g id=\"figure_1\">\r\n  <g id=\"patch_1\">\r\n   <path d=\"M 0 231.84 \r\nL 231.84 231.84 \r\nL 231.84 0 \r\nL 0 0 \r\nz\r\n\" style=\"fill:none;\"/>\r\n  </g>\r\n  <g id=\"axes_1\">\r\n   <g id=\"patch_2\">\r\n    <path d=\"M 202.896 115.92 \r\nC 202.896 100.650572 198.874969 85.647024 191.23887 72.424111 \r\nC 183.602771 59.201198 172.617532 48.21941 159.392221 40.587467 \r\nL 115.92 115.92 \r\nL 202.896 115.92 \r\nz\r\n\" style=\"fill:#1f77b4;\"/>\r\n   </g>\r\n   <g id=\"patch_3\">\r\n    <path d=\"M 159.392221 40.587467 \r\nC 151.156757 35.835019 142.197432 32.465044 132.871423 30.611889 \r\nC 123.545414 28.758734 113.978321 28.447358 104.551549 29.690174 \r\nC 95.124776 30.93299 85.965283 33.71326 77.438223 37.920145 \r\nC 68.911163 42.12703 61.131378 47.703872 54.409019 54.428344 \r\nC 47.68666 61.152815 42.112263 68.934352 37.908057 77.462733 \r\nC 33.703852 85.991114 30.92646 95.151481 29.686606 104.578644 \r\nC 28.446752 114.005806 28.761134 123.572801 30.617219 132.898227 \r\nC 32.473304 142.223653 35.846095 151.181918 40.60113 159.415889 \r\nC 45.356165 167.649859 51.429405 175.048642 58.578731 181.317274 \r\nC 65.728058 187.585907 73.857187 192.639964 82.642038 196.277961 \r\nC 91.426889 199.915957 100.749151 202.088895 110.237179 202.71015 \r\nC 119.725206 203.331404 129.251218 202.392607 138.435445 199.931186 \r\nC 147.619672 197.469764 156.338424 193.518867 164.244117 188.236003 \r\nC 172.149809 182.953139 179.13597 176.409456 184.924086 168.865827 \r\nC 190.712203 161.322198 195.224321 152.880219 198.280561 143.876441 \r\nC 201.3368 134.872662 202.896 125.428345 202.896 115.92 \r\nL 115.92 115.92 \r\nL 159.392221 40.587467 \r\nz\r\n\" style=\"fill:#ff7f0e;\"/>\r\n   </g>\r\n   <g id=\"matplotlib.axis_1\"/>\r\n   <g id=\"matplotlib.axis_2\"/>\r\n  </g>\r\n </g>\r\n</svg>\r\n",
      "image/png": "[encoded data removed]"
     },
     "metadata": {}
    }
   ],
   "source": [
    "fig, ax = plt.subplots()\n",
    "\n",
    "ax.pie([16.67, 100 - 16.67])\n",
    "\n",
    "plt.show()"
   ]
  },
  {
   "cell_type": "code",
   "execution_count": 40,
   "metadata": {
    "scrolled": false
   },
   "outputs": [],
   "source": [
    "mon_hoc = 'Toán cao cấp 1'"
   ]
  },
  {
   "cell_type": "code",
   "execution_count": 41,
   "metadata": {
    "scrolled": true
   },
   "outputs": [
    {
     "output_type": "execute_result",
     "data": {
      "text/plain": [
       "                  Họ và tên  Toán cao cấp 1\n",
       "0             Đinh Tuấn Anh             8.5\n",
       "1                Hà Bảo Anh             7.1\n",
       "2               Lưu Đức Anh             8.4\n",
       "3               Trần Nam Bá             8.6\n",
       "4               Ngô Đức Bảo             9.5\n",
       "5         Trịnh Thị Bảo Bảo             8.6\n",
       "6         Đỗ Xuân Đức Chung             5.4\n",
       "7       Phạm Tài Đức Phú Đa             8.5\n",
       "8                Lê Tấn Đạt             4.5\n",
       "9          Phạm Hà Văn Đông             6.7\n",
       "10           Trịnh Ngọc Đức             7.6\n",
       "11            Tăng Hoài Duy             7.6\n",
       "12            Thái Thị Hiền             9.0\n",
       "13            Phạm Thế Hiển             8.1\n",
       "14           Trần Minh Hiếu             7.9\n",
       "15     Nguyễn Thị Thanh Hòa             9.8\n",
       "16           Ngô Quốc Hoàng             9.8\n",
       "17             Hồ Quang Huy             9.0\n",
       "18         Lương Quang Khải             7.5\n",
       "19     Phạm Hoàng Duy Khang             6.5\n",
       "20         Lê Mỹ Thanh Lành             5.6\n",
       "21         Trần Hồ Phi Long             8.9\n",
       "22        Trương Thị Cẩm Ly             8.4\n",
       "23        Quách Trọng Nghĩa             6.1\n",
       "24        Nguyễn Thành Nhân             2.5\n",
       "25     Nguyễn Văn Phúc Nhân             7.4\n",
       "26          Lưu Thị Yến Nhi             9.5\n",
       "27              Lê Huy Phát             7.5\n",
       "28           Lê Thanh Phong             9.5\n",
       "29   Phan Nguyễn Mai Phương             7.1\n",
       "30            Vũ Minh Quang             8.6\n",
       "31        Nguyễn Quang Quốc             7.7\n",
       "32           Dương Văn Sang             9.1\n",
       "33         Nguyễn Tuấn Sinh             7.9\n",
       "34           Phạm Trung Sơn             8.0\n",
       "35           Nguyễn Tiến Sỹ             8.1\n",
       "36                   Văn Sỹ             7.5\n",
       "37               Lê Duy Tâm             9.2\n",
       "38    Phan Nguyễn Trọng Tân             6.0\n",
       "39    Trương Nguyễn Duy Tân             6.7\n",
       "40             Đỗ Văn Thắng             7.4\n",
       "41         Nguyễn Đức Thịnh             5.7\n",
       "42  Phạm Huỳnh Trường Thịnh             7.9\n",
       "43           Trần Xuân Thủy             9.5\n",
       "44              Lê Văn Tiến             7.0\n",
       "45    Nguyễn Đặng Minh Toại             7.0\n",
       "46          Huỳnh Minh Toàn             8.5\n",
       "47          Nguyễn Anh Toàn             8.8\n",
       "48     Lưu Hoàng Ngọc Trinh             6.4\n",
       "49             Lê Văn Trung             7.4\n",
       "50        Nguyễn Tuấn Trung             7.5\n",
       "51         Phạm Thành Trung             9.9\n",
       "52           Phan Chí Trung             6.6\n",
       "53           Đào Duy Trường             7.6\n",
       "54         Đoàn Minh Trường             0.0\n",
       "55             Huỳnh Anh Tú             7.7\n",
       "56      Nguyễn Văn Anh Tuấn             6.0\n",
       "57           Phạm Minh Tuấn             7.0\n",
       "58       Phan Lê Hoàng Việt             5.7\n",
       "59             Trần Tuấn Vũ             9.6"
      ],
      "text/html": "<div>\n<style scoped>\n    .dataframe tbody tr th:only-of-type {\n        vertical-align: middle;\n    }\n\n    .dataframe tbody tr th {\n        vertical-align: top;\n    }\n\n    .dataframe thead th {\n        text-align: right;\n    }\n</style>\n<table border=\"1\" class=\"dataframe\">\n  <thead>\n    <tr style=\"text-align: right;\">\n      <th></th>\n      <th>Họ và tên</th>\n      <th>Toán cao cấp 1</th>\n    </tr>\n  </thead>\n  <tbody>\n    <tr>\n      <th>0</th>\n      <td>Đinh Tuấn Anh</td>\n      <td>8.5</td>\n    </tr>\n    <tr>\n      <th>1</th>\n      <td>Hà Bảo Anh</td>\n      <td>7.1</td>\n    </tr>\n    <tr>\n      <th>2</th>\n      <td>Lưu Đức Anh</td>\n      <td>8.4</td>\n    </tr>\n    <tr>\n      <th>3</th>\n      <td>Trần Nam Bá</td>\n      <td>8.6</td>\n    </tr>\n    <tr>\n      <th>4</th>\n      <td>Ngô Đức Bảo</td>\n      <td>9.5</td>\n    </tr>\n    <tr>\n      <th>5</th>\n      <td>Trịnh Thị Bảo Bảo</td>\n      <td>8.6</td>\n    </tr>\n    <tr>\n      <th>6</th>\n      <td>Đỗ Xuân Đức Chung</td>\n      <td>5.4</td>\n    </tr>\n    <tr>\n      <th>7</th>\n      <td>Phạm Tài Đức Phú Đa</td>\n      <td>8.5</td>\n    </tr>\n    <tr>\n      <th>8</th>\n      <td>Lê Tấn Đạt</td>\n      <td>4.5</td>\n    </tr>\n    <tr>\n      <th>9</th>\n      <td>Phạm Hà Văn Đông</td>\n      <td>6.7</td>\n    </tr>\n    <tr>\n      <th>10</th>\n      <td>Trịnh Ngọc Đức</td>\n      <td>7.6</td>\n    </tr>\n    <tr>\n      <th>11</th>\n      <td>Tăng Hoài Duy</td>\n      <td>7.6</td>\n    </tr>\n    <tr>\n      <th>12</th>\n      <td>Thái Thị Hiền</td>\n      <td>9.0</td>\n    </tr>\n    <tr>\n      <th>13</th>\n      <td>Phạm Thế Hiển</td>\n      <td>8.1</td>\n    </tr>\n    <tr>\n      <th>14</th>\n      <td>Trần Minh Hiếu</td>\n      <td>7.9</td>\n    </tr>\n    <tr>\n      <th>15</th>\n      <td>Nguyễn Thị Thanh Hòa</td>\n      <td>9.8</td>\n    </tr>\n    <tr>\n      <th>16</th>\n      <td>Ngô Quốc Hoàng</td>\n      <td>9.8</td>\n    </tr>\n    <tr>\n      <th>17</th>\n      <td>Hồ Quang Huy</td>\n      <td>9.0</td>\n    </tr>\n    <tr>\n      <th>18</th>\n      <td>Lương Quang Khải</td>\n      <td>7.5</td>\n    </tr>\n    <tr>\n      <th>19</th>\n      <td>Phạm Hoàng Duy Khang</td>\n      <td>6.5</td>\n    </tr>\n    <tr>\n      <th>20</th>\n      <td>Lê Mỹ Thanh Lành</td>\n      <td>5.6</td>\n    </tr>\n    <tr>\n      <th>21</th>\n      <td>Trần Hồ Phi Long</td>\n      <td>8.9</td>\n    </tr>\n    <tr>\n      <th>22</th>\n      <td>Trương Thị Cẩm Ly</td>\n      <td>8.4</td>\n    </tr>\n    <tr>\n      <th>23</th>\n      <td>Quách Trọng Nghĩa</td>\n      <td>6.1</td>\n    </tr>\n    <tr>\n      <th>24</th>\n      <td>Nguyễn Thành Nhân</td>\n      <td>2.5</td>\n    </tr>\n    <tr>\n      <th>25</th>\n      <td>Nguyễn Văn Phúc Nhân</td>\n      <td>7.4</td>\n    </tr>\n    <tr>\n      <th>26</th>\n      <td>Lưu Thị Yến Nhi</td>\n      <td>9.5</td>\n    </tr>\n    <tr>\n      <th>27</th>\n      <td>Lê Huy Phát</td>\n      <td>7.5</td>\n    </tr>\n    <tr>\n      <th>28</th>\n      <td>Lê Thanh Phong</td>\n      <td>9.5</td>\n    </tr>\n    <tr>\n      <th>29</th>\n      <td>Phan Nguyễn Mai Phương</td>\n      <td>7.1</td>\n    </tr>\n    <tr>\n      <th>30</th>\n      <td>Vũ Minh Quang</td>\n      <td>8.6</td>\n    </tr>\n    <tr>\n      <th>31</th>\n      <td>Nguyễn Quang Quốc</td>\n      <td>7.7</td>\n    </tr>\n    <tr>\n      <th>32</th>\n      <td>Dương Văn Sang</td>\n      <td>9.1</td>\n    </tr>\n    <tr>\n      <th>33</th>\n      <td>Nguyễn Tuấn Sinh</td>\n      <td>7.9</td>\n    </tr>\n    <tr>\n      <th>34</th>\n      <td>Phạm Trung Sơn</td>\n      <td>8.0</td>\n    </tr>\n    <tr>\n      <th>35</th>\n      <td>Nguyễn Tiến Sỹ</td>\n      <td>8.1</td>\n    </tr>\n    <tr>\n      <th>36</th>\n      <td>Văn Sỹ</td>\n      <td>7.5</td>\n    </tr>\n    <tr>\n      <th>37</th>\n      <td>Lê Duy Tâm</td>\n      <td>9.2</td>\n    </tr>\n    <tr>\n      <th>38</th>\n      <td>Phan Nguyễn Trọng Tân</td>\n      <td>6.0</td>\n    </tr>\n    <tr>\n      <th>39</th>\n      <td>Trương Nguyễn Duy Tân</td>\n      <td>6.7</td>\n    </tr>\n    <tr>\n      <th>40</th>\n      <td>Đỗ Văn Thắng</td>\n      <td>7.4</td>\n    </tr>\n    <tr>\n      <th>41</th>\n      <td>Nguyễn Đức Thịnh</td>\n      <td>5.7</td>\n    </tr>\n    <tr>\n      <th>42</th>\n      <td>Phạm Huỳnh Trường Thịnh</td>\n      <td>7.9</td>\n    </tr>\n    <tr>\n      <th>43</th>\n      <td>Trần Xuân Thủy</td>\n      <td>9.5</td>\n    </tr>\n    <tr>\n      <th>44</th>\n      <td>Lê Văn Tiến</td>\n      <td>7.0</td>\n    </tr>\n    <tr>\n      <th>45</th>\n      <td>Nguyễn Đặng Minh Toại</td>\n      <td>7.0</td>\n    </tr>\n    <tr>\n      <th>46</th>\n      <td>Huỳnh Minh Toàn</td>\n      <td>8.5</td>\n    </tr>\n    <tr>\n      <th>47</th>\n      <td>Nguyễn Anh Toàn</td>\n      <td>8.8</td>\n    </tr>\n    <tr>\n      <th>48</th>\n      <td>Lưu Hoàng Ngọc Trinh</td>\n      <td>6.4</td>\n    </tr>\n    <tr>\n      <th>49</th>\n      <td>Lê Văn Trung</td>\n      <td>7.4</td>\n    </tr>\n    <tr>\n      <th>50</th>\n      <td>Nguyễn Tuấn Trung</td>\n      <td>7.5</td>\n    </tr>\n    <tr>\n      <th>51</th>\n      <td>Phạm Thành Trung</td>\n      <td>9.9</td>\n    </tr>\n    <tr>\n      <th>52</th>\n      <td>Phan Chí Trung</td>\n      <td>6.6</td>\n    </tr>\n    <tr>\n      <th>53</th>\n      <td>Đào Duy Trường</td>\n      <td>7.6</td>\n    </tr>\n    <tr>\n      <th>54</th>\n      <td>Đoàn Minh Trường</td>\n      <td>0.0</td>\n    </tr>\n    <tr>\n      <th>55</th>\n      <td>Huỳnh Anh Tú</td>\n      <td>7.7</td>\n    </tr>\n    <tr>\n      <th>56</th>\n      <td>Nguyễn Văn Anh Tuấn</td>\n      <td>6.0</td>\n    </tr>\n    <tr>\n      <th>57</th>\n      <td>Phạm Minh Tuấn</td>\n      <td>7.0</td>\n    </tr>\n    <tr>\n      <th>58</th>\n      <td>Phan Lê Hoàng Việt</td>\n      <td>5.7</td>\n    </tr>\n    <tr>\n      <th>59</th>\n      <td>Trần Tuấn Vũ</td>\n      <td>9.6</td>\n    </tr>\n  </tbody>\n</table>\n</div>"
     },
     "metadata": {},
     "execution_count": 41
    }
   ],
   "source": [
    "df[['Họ và tên'] + [mon_hoc]]"
   ]
  },
  {
   "cell_type": "code",
   "execution_count": 42,
   "metadata": {},
   "outputs": [
    {
     "output_type": "execute_result",
     "data": {
      "text/plain": [
       "array([-0.08997648,  0.75686099, -0.6545348 ,  0.96857036, -0.17818872,\n",
       "        1.21556462, -2.13650038, -1.06031109, -1.50137227, -0.9897413 ,\n",
       "       -0.21347361, -0.47811032,  0.73921854,  0.47458183, -0.63689235,\n",
       "        0.88035812,  1.63898336,  1.10970994, -1.76600898, -0.77803193,\n",
       "       -0.17818872,  0.17466023,  1.23320707, -0.76038948, -2.25999751,\n",
       "        0.65100631,  1.63898336, -0.83095927,  1.3567042 ,  0.59807897,\n",
       "        0.66864875, -0.88388661,  0.10409044,  0.98621281,  0.19230268,\n",
       "        0.61572141,  0.91564302,  0.45693939,  0.42165449,  0.0158782 ,\n",
       "        0.61572141, -0.47811032,  0.0158782 ,  0.59807897, -0.24875851,\n",
       "       -1.53665717,  1.14499483,  0.06880554, -2.11885793, -0.68981969,\n",
       "       -0.56632256,  2.0271172 ,  0.66864875, -0.38989809, -1.51901472,\n",
       "       -0.70746214,  0.84507323, -0.97209885, -0.33697074,  1.16263728])"
      ]
     },
     "metadata": {},
     "execution_count": 42
    }
   ],
   "source": [
    "stats.zscore(df['Điểm 4'].to_list())"
   ]
  },
  {
   "cell_type": "code",
   "execution_count": 43,
   "metadata": {},
   "outputs": [],
   "source": [
    "# Tính điểm zscore Toán cao cấp 1\n",
    "zscore_df['Toán cao cấp 1'] = [round(i, 2) for i in stats.zscore(list(df['Toán cao cấp 1']))]"
   ]
  },
  {
   "cell_type": "code",
   "execution_count": 44,
   "metadata": {},
   "outputs": [],
   "source": [
    "zscore_df['Điểm 4'] = zscore_df['Điểm 4'].apply(lambda x: round(x, 2))"
   ]
  },
  {
   "cell_type": "code",
   "execution_count": 45,
   "metadata": {},
   "outputs": [
    {
     "output_type": "execute_result",
     "data": {
      "text/plain": [
       "            Họ và tên  Điểm 4  Toán cao cấp 1\n",
       "24  Nguyễn Thành Nhân   -2.26           -2.94\n",
       "54   Đoàn Minh Trường   -1.52           -4.40"
      ],
      "text/html": "<div>\n<style scoped>\n    .dataframe tbody tr th:only-of-type {\n        vertical-align: middle;\n    }\n\n    .dataframe tbody tr th {\n        vertical-align: top;\n    }\n\n    .dataframe thead th {\n        text-align: right;\n    }\n</style>\n<table border=\"1\" class=\"dataframe\">\n  <thead>\n    <tr style=\"text-align: right;\">\n      <th></th>\n      <th>Họ và tên</th>\n      <th>Điểm 4</th>\n      <th>Toán cao cấp 1</th>\n    </tr>\n  </thead>\n  <tbody>\n    <tr>\n      <th>24</th>\n      <td>Nguyễn Thành Nhân</td>\n      <td>-2.26</td>\n      <td>-2.94</td>\n    </tr>\n    <tr>\n      <th>54</th>\n      <td>Đoàn Minh Trường</td>\n      <td>-1.52</td>\n      <td>-4.40</td>\n    </tr>\n  </tbody>\n</table>\n</div>"
     },
     "metadata": {},
     "execution_count": 45
    }
   ],
   "source": [
    "zscore_df[(zscore_df[mon_hoc] < -2) | (zscore_df[mon_hoc] > 2)]"
   ]
  },
  {
   "cell_type": "markdown",
   "metadata": {},
   "source": [
    "Nhận xét điểm:\n",
    "- có Đoàn Minh Trường là outlier quá lớn so với lớp\n",
    "- ngoài ra có Nguyễn Thành Nhân"
   ]
  },
  {
   "cell_type": "code",
   "execution_count": 46,
   "metadata": {},
   "outputs": [
    {
     "output_type": "display_data",
     "data": {
      "text/plain": "<Figure size 432x288 with 1 Axes>",
      "image/svg+xml": "<?xml version=\"1.0\" encoding=\"utf-8\" standalone=\"no\"?>\r\n<!DOCTYPE svg PUBLIC \"-//W3C//DTD SVG 1.1//EN\"\r\n  \"http://www.w3.org/Graphics/SVG/1.1/DTD/svg11.dtd\">\r\n<!-- Created with matplotlib (https://matplotlib.org/) -->\r\n<svg height=\"263.060313pt\" version=\"1.1\" viewBox=\"0 0 352.7 263.060313\" width=\"352.7pt\" xmlns=\"http://www.w3.org/2000/svg\" xmlns:xlink=\"http://www.w3.org/1999/xlink\">\r\n <defs>\r\n  <style type=\"text/css\">\r\n*{stroke-linecap:butt;stroke-linejoin:round;}\r\n  </style>\r\n </defs>\r\n <g id=\"figure_1\">\r\n  <g id=\"patch_1\">\r\n   <path d=\"M 0 263.060313 \r\nL 352.7 263.060313 \r\nL 352.7 0 \r\nL 0 0 \r\nz\r\n\" style=\"fill:none;\"/>\r\n  </g>\r\n  <g id=\"axes_1\">\r\n   <g id=\"patch_2\">\r\n    <path d=\"M 10.7 224.64 \r\nL 345.5 224.64 \r\nL 345.5 7.2 \r\nL 10.7 7.2 \r\nz\r\n\" style=\"fill:#ffffff;\"/>\r\n   </g>\r\n   <g id=\"patch_3\">\r\n    <path clip-path=\"url(#p0472464367)\" d=\"M 238.76173 28.944 \r\nL 238.76173 202.896 \r\nL 290.192327 202.896 \r\nL 290.192327 28.944 \r\nL 238.76173 28.944 \r\nz\r\n\" style=\"fill:#3274a1;stroke:#3f3f3f;stroke-linejoin:miter;stroke-width:1.5;\"/>\r\n   </g>\r\n   <g id=\"matplotlib.axis_1\">\r\n    <g id=\"xtick_1\">\r\n     <g id=\"line2d_1\">\r\n      <defs>\r\n       <path d=\"M 0 0 \r\nL 0 3.5 \r\n\" id=\"mbcca411d23\" style=\"stroke:#000000;stroke-width:0.8;\"/>\r\n      </defs>\r\n      <g>\r\n       <use style=\"stroke:#000000;stroke-width:0.8;\" x=\"47.017914\" xlink:href=\"#mbcca411d23\" y=\"224.64\"/>\r\n      </g>\r\n     </g>\r\n     <g id=\"text_1\">\r\n      <!-- −4 -->\r\n      <defs>\r\n       <path d=\"M 10.59375 35.5 \r\nL 73.1875 35.5 \r\nL 73.1875 27.203125 \r\nL 10.59375 27.203125 \r\nz\r\n\" id=\"DejaVuSans-8722\"/>\r\n       <path d=\"M 37.796875 64.3125 \r\nL 12.890625 25.390625 \r\nL 37.796875 25.390625 \r\nz\r\nM 35.203125 72.90625 \r\nL 47.609375 72.90625 \r\nL 47.609375 25.390625 \r\nL 58.015625 25.390625 \r\nL 58.015625 17.1875 \r\nL 47.609375 17.1875 \r\nL 47.609375 0 \r\nL 37.796875 0 \r\nL 37.796875 17.1875 \r\nL 4.890625 17.1875 \r\nL 4.890625 26.703125 \r\nz\r\n\" id=\"DejaVuSans-52\"/>\r\n      </defs>\r\n      <g transform=\"translate(39.64682 239.238438)scale(0.1 -0.1)\">\r\n       <use xlink:href=\"#DejaVuSans-8722\"/>\r\n       <use x=\"83.789062\" xlink:href=\"#DejaVuSans-52\"/>\r\n      </g>\r\n     </g>\r\n    </g>\r\n    <g id=\"xtick_2\">\r\n     <g id=\"line2d_2\">\r\n      <g>\r\n       <use style=\"stroke:#000000;stroke-width:0.8;\" x=\"99.767244\" xlink:href=\"#mbcca411d23\" y=\"224.64\"/>\r\n      </g>\r\n     </g>\r\n     <g id=\"text_2\">\r\n      <!-- −3 -->\r\n      <defs>\r\n       <path d=\"M 40.578125 39.3125 \r\nQ 47.65625 37.796875 51.625 33 \r\nQ 55.609375 28.21875 55.609375 21.1875 \r\nQ 55.609375 10.40625 48.1875 4.484375 \r\nQ 40.765625 -1.421875 27.09375 -1.421875 \r\nQ 22.515625 -1.421875 17.65625 -0.515625 \r\nQ 12.796875 0.390625 7.625 2.203125 \r\nL 7.625 11.71875 \r\nQ 11.71875 9.328125 16.59375 8.109375 \r\nQ 21.484375 6.890625 26.8125 6.890625 \r\nQ 36.078125 6.890625 40.9375 10.546875 \r\nQ 45.796875 14.203125 45.796875 21.1875 \r\nQ 45.796875 27.640625 41.28125 31.265625 \r\nQ 36.765625 34.90625 28.71875 34.90625 \r\nL 20.21875 34.90625 \r\nL 20.21875 43.015625 \r\nL 29.109375 43.015625 \r\nQ 36.375 43.015625 40.234375 45.921875 \r\nQ 44.09375 48.828125 44.09375 54.296875 \r\nQ 44.09375 59.90625 40.109375 62.90625 \r\nQ 36.140625 65.921875 28.71875 65.921875 \r\nQ 24.65625 65.921875 20.015625 65.03125 \r\nQ 15.375 64.15625 9.8125 62.3125 \r\nL 9.8125 71.09375 \r\nQ 15.4375 72.65625 20.34375 73.4375 \r\nQ 25.25 74.21875 29.59375 74.21875 \r\nQ 40.828125 74.21875 47.359375 69.109375 \r\nQ 53.90625 64.015625 53.90625 55.328125 \r\nQ 53.90625 49.265625 50.4375 45.09375 \r\nQ 46.96875 40.921875 40.578125 39.3125 \r\nz\r\n\" id=\"DejaVuSans-51\"/>\r\n      </defs>\r\n      <g transform=\"translate(92.396151 239.238438)scale(0.1 -0.1)\">\r\n       <use xlink:href=\"#DejaVuSans-8722\"/>\r\n       <use x=\"83.789062\" xlink:href=\"#DejaVuSans-51\"/>\r\n      </g>\r\n     </g>\r\n    </g>\r\n    <g id=\"xtick_3\">\r\n     <g id=\"line2d_3\">\r\n      <g>\r\n       <use style=\"stroke:#000000;stroke-width:0.8;\" x=\"152.516575\" xlink:href=\"#mbcca411d23\" y=\"224.64\"/>\r\n      </g>\r\n     </g>\r\n     <g id=\"text_3\">\r\n      <!-- −2 -->\r\n      <defs>\r\n       <path d=\"M 19.1875 8.296875 \r\nL 53.609375 8.296875 \r\nL 53.609375 0 \r\nL 7.328125 0 \r\nL 7.328125 8.296875 \r\nQ 12.9375 14.109375 22.625 23.890625 \r\nQ 32.328125 33.6875 34.8125 36.53125 \r\nQ 39.546875 41.84375 41.421875 45.53125 \r\nQ 43.3125 49.21875 43.3125 52.78125 \r\nQ 43.3125 58.59375 39.234375 62.25 \r\nQ 35.15625 65.921875 28.609375 65.921875 \r\nQ 23.96875 65.921875 18.8125 64.3125 \r\nQ 13.671875 62.703125 7.8125 59.421875 \r\nL 7.8125 69.390625 \r\nQ 13.765625 71.78125 18.9375 73 \r\nQ 24.125 74.21875 28.421875 74.21875 \r\nQ 39.75 74.21875 46.484375 68.546875 \r\nQ 53.21875 62.890625 53.21875 53.421875 \r\nQ 53.21875 48.921875 51.53125 44.890625 \r\nQ 49.859375 40.875 45.40625 35.40625 \r\nQ 44.1875 33.984375 37.640625 27.21875 \r\nQ 31.109375 20.453125 19.1875 8.296875 \r\nz\r\n\" id=\"DejaVuSans-50\"/>\r\n      </defs>\r\n      <g transform=\"translate(145.145481 239.238438)scale(0.1 -0.1)\">\r\n       <use xlink:href=\"#DejaVuSans-8722\"/>\r\n       <use x=\"83.789062\" xlink:href=\"#DejaVuSans-50\"/>\r\n      </g>\r\n     </g>\r\n    </g>\r\n    <g id=\"xtick_4\">\r\n     <g id=\"line2d_4\">\r\n      <g>\r\n       <use style=\"stroke:#000000;stroke-width:0.8;\" x=\"205.265905\" xlink:href=\"#mbcca411d23\" y=\"224.64\"/>\r\n      </g>\r\n     </g>\r\n     <g id=\"text_4\">\r\n      <!-- −1 -->\r\n      <defs>\r\n       <path d=\"M 12.40625 8.296875 \r\nL 28.515625 8.296875 \r\nL 28.515625 63.921875 \r\nL 10.984375 60.40625 \r\nL 10.984375 69.390625 \r\nL 28.421875 72.90625 \r\nL 38.28125 72.90625 \r\nL 38.28125 8.296875 \r\nL 54.390625 8.296875 \r\nL 54.390625 0 \r\nL 12.40625 0 \r\nz\r\n\" id=\"DejaVuSans-49\"/>\r\n      </defs>\r\n      <g transform=\"translate(197.894811 239.238438)scale(0.1 -0.1)\">\r\n       <use xlink:href=\"#DejaVuSans-8722\"/>\r\n       <use x=\"83.789062\" xlink:href=\"#DejaVuSans-49\"/>\r\n      </g>\r\n     </g>\r\n    </g>\r\n    <g id=\"xtick_5\">\r\n     <g id=\"line2d_5\">\r\n      <g>\r\n       <use style=\"stroke:#000000;stroke-width:0.8;\" x=\"258.015236\" xlink:href=\"#mbcca411d23\" y=\"224.64\"/>\r\n      </g>\r\n     </g>\r\n     <g id=\"text_5\">\r\n      <!-- 0 -->\r\n      <defs>\r\n       <path d=\"M 31.78125 66.40625 \r\nQ 24.171875 66.40625 20.328125 58.90625 \r\nQ 16.5 51.421875 16.5 36.375 \r\nQ 16.5 21.390625 20.328125 13.890625 \r\nQ 24.171875 6.390625 31.78125 6.390625 \r\nQ 39.453125 6.390625 43.28125 13.890625 \r\nQ 47.125 21.390625 47.125 36.375 \r\nQ 47.125 51.421875 43.28125 58.90625 \r\nQ 39.453125 66.40625 31.78125 66.40625 \r\nz\r\nM 31.78125 74.21875 \r\nQ 44.046875 74.21875 50.515625 64.515625 \r\nQ 56.984375 54.828125 56.984375 36.375 \r\nQ 56.984375 17.96875 50.515625 8.265625 \r\nQ 44.046875 -1.421875 31.78125 -1.421875 \r\nQ 19.53125 -1.421875 13.0625 8.265625 \r\nQ 6.59375 17.96875 6.59375 36.375 \r\nQ 6.59375 54.828125 13.0625 64.515625 \r\nQ 19.53125 74.21875 31.78125 74.21875 \r\nz\r\n\" id=\"DejaVuSans-48\"/>\r\n      </defs>\r\n      <g transform=\"translate(254.833986 239.238438)scale(0.1 -0.1)\">\r\n       <use xlink:href=\"#DejaVuSans-48\"/>\r\n      </g>\r\n     </g>\r\n    </g>\r\n    <g id=\"xtick_6\">\r\n     <g id=\"line2d_6\">\r\n      <g>\r\n       <use style=\"stroke:#000000;stroke-width:0.8;\" x=\"310.764566\" xlink:href=\"#mbcca411d23\" y=\"224.64\"/>\r\n      </g>\r\n     </g>\r\n     <g id=\"text_6\">\r\n      <!-- 1 -->\r\n      <g transform=\"translate(307.583316 239.238438)scale(0.1 -0.1)\">\r\n       <use xlink:href=\"#DejaVuSans-49\"/>\r\n      </g>\r\n     </g>\r\n    </g>\r\n    <g id=\"text_7\">\r\n     <!-- Toán cao cấp 1 -->\r\n     <defs>\r\n      <path d=\"M -0.296875 72.90625 \r\nL 61.375 72.90625 \r\nL 61.375 64.59375 \r\nL 35.5 64.59375 \r\nL 35.5 0 \r\nL 25.59375 0 \r\nL 25.59375 64.59375 \r\nL -0.296875 64.59375 \r\nz\r\n\" id=\"DejaVuSans-84\"/>\r\n      <path d=\"M 30.609375 48.390625 \r\nQ 23.390625 48.390625 19.1875 42.75 \r\nQ 14.984375 37.109375 14.984375 27.296875 \r\nQ 14.984375 17.484375 19.15625 11.84375 \r\nQ 23.34375 6.203125 30.609375 6.203125 \r\nQ 37.796875 6.203125 41.984375 11.859375 \r\nQ 46.1875 17.53125 46.1875 27.296875 \r\nQ 46.1875 37.015625 41.984375 42.703125 \r\nQ 37.796875 48.390625 30.609375 48.390625 \r\nz\r\nM 30.609375 56 \r\nQ 42.328125 56 49.015625 48.375 \r\nQ 55.71875 40.765625 55.71875 27.296875 \r\nQ 55.71875 13.875 49.015625 6.21875 \r\nQ 42.328125 -1.421875 30.609375 -1.421875 \r\nQ 18.84375 -1.421875 12.171875 6.21875 \r\nQ 5.515625 13.875 5.515625 27.296875 \r\nQ 5.515625 40.765625 12.171875 48.375 \r\nQ 18.84375 56 30.609375 56 \r\nz\r\n\" id=\"DejaVuSans-111\"/>\r\n      <path d=\"M 34.28125 27.484375 \r\nQ 23.390625 27.484375 19.1875 25 \r\nQ 14.984375 22.515625 14.984375 16.5 \r\nQ 14.984375 11.71875 18.140625 8.90625 \r\nQ 21.296875 6.109375 26.703125 6.109375 \r\nQ 34.1875 6.109375 38.703125 11.40625 \r\nQ 43.21875 16.703125 43.21875 25.484375 \r\nL 43.21875 27.484375 \r\nz\r\nM 52.203125 31.203125 \r\nL 52.203125 0 \r\nL 43.21875 0 \r\nL 43.21875 8.296875 \r\nQ 40.140625 3.328125 35.546875 0.953125 \r\nQ 30.953125 -1.421875 24.3125 -1.421875 \r\nQ 15.921875 -1.421875 10.953125 3.296875 \r\nQ 6 8.015625 6 15.921875 \r\nQ 6 25.140625 12.171875 29.828125 \r\nQ 18.359375 34.515625 30.609375 34.515625 \r\nL 43.21875 34.515625 \r\nL 43.21875 35.40625 \r\nQ 43.21875 41.609375 39.140625 45 \r\nQ 35.0625 48.390625 27.6875 48.390625 \r\nQ 23 48.390625 18.546875 47.265625 \r\nQ 14.109375 46.140625 10.015625 43.890625 \r\nL 10.015625 52.203125 \r\nQ 14.9375 54.109375 19.578125 55.046875 \r\nQ 24.21875 56 28.609375 56 \r\nQ 40.484375 56 46.34375 49.84375 \r\nQ 52.203125 43.703125 52.203125 31.203125 \r\nz\r\nM 35.796875 79.984375 \r\nL 45.515625 79.984375 \r\nL 29.59375 61.625 \r\nL 22.125 61.625 \r\nz\r\n\" id=\"DejaVuSans-225\"/>\r\n      <path d=\"M 54.890625 33.015625 \r\nL 54.890625 0 \r\nL 45.90625 0 \r\nL 45.90625 32.71875 \r\nQ 45.90625 40.484375 42.875 44.328125 \r\nQ 39.84375 48.1875 33.796875 48.1875 \r\nQ 26.515625 48.1875 22.3125 43.546875 \r\nQ 18.109375 38.921875 18.109375 30.90625 \r\nL 18.109375 0 \r\nL 9.078125 0 \r\nL 9.078125 54.6875 \r\nL 18.109375 54.6875 \r\nL 18.109375 46.1875 \r\nQ 21.34375 51.125 25.703125 53.5625 \r\nQ 30.078125 56 35.796875 56 \r\nQ 45.21875 56 50.046875 50.171875 \r\nQ 54.890625 44.34375 54.890625 33.015625 \r\nz\r\n\" id=\"DejaVuSans-110\"/>\r\n      <path id=\"DejaVuSans-32\"/>\r\n      <path d=\"M 48.78125 52.59375 \r\nL 48.78125 44.1875 \r\nQ 44.96875 46.296875 41.140625 47.34375 \r\nQ 37.3125 48.390625 33.40625 48.390625 \r\nQ 24.65625 48.390625 19.8125 42.84375 \r\nQ 14.984375 37.3125 14.984375 27.296875 \r\nQ 14.984375 17.28125 19.8125 11.734375 \r\nQ 24.65625 6.203125 33.40625 6.203125 \r\nQ 37.3125 6.203125 41.140625 7.25 \r\nQ 44.96875 8.296875 48.78125 10.40625 \r\nL 48.78125 2.09375 \r\nQ 45.015625 0.34375 40.984375 -0.53125 \r\nQ 36.96875 -1.421875 32.421875 -1.421875 \r\nQ 20.0625 -1.421875 12.78125 6.34375 \r\nQ 5.515625 14.109375 5.515625 27.296875 \r\nQ 5.515625 40.671875 12.859375 48.328125 \r\nQ 20.21875 56 33.015625 56 \r\nQ 37.15625 56 41.109375 55.140625 \r\nQ 45.0625 54.296875 48.78125 52.59375 \r\nz\r\n\" id=\"DejaVuSans-99\"/>\r\n      <path d=\"M 34.28125 27.484375 \r\nQ 23.390625 27.484375 19.1875 25 \r\nQ 14.984375 22.515625 14.984375 16.5 \r\nQ 14.984375 11.71875 18.140625 8.90625 \r\nQ 21.296875 6.109375 26.703125 6.109375 \r\nQ 34.1875 6.109375 38.703125 11.40625 \r\nQ 43.21875 16.703125 43.21875 25.484375 \r\nL 43.21875 27.484375 \r\nz\r\nM 52.203125 31.203125 \r\nL 52.203125 0 \r\nL 43.21875 0 \r\nL 43.21875 8.296875 \r\nQ 40.140625 3.328125 35.546875 0.953125 \r\nQ 30.953125 -1.421875 24.3125 -1.421875 \r\nQ 15.921875 -1.421875 10.953125 3.296875 \r\nQ 6 8.015625 6 15.921875 \r\nQ 6 25.140625 12.171875 29.828125 \r\nQ 18.359375 34.515625 30.609375 34.515625 \r\nL 43.21875 34.515625 \r\nL 43.21875 35.40625 \r\nQ 43.21875 41.609375 39.140625 45 \r\nQ 35.0625 48.390625 27.6875 48.390625 \r\nQ 23 48.390625 18.546875 47.265625 \r\nQ 14.109375 46.140625 10.015625 43.890625 \r\nL 10.015625 52.203125 \r\nQ 14.9375 54.109375 19.578125 55.046875 \r\nQ 24.21875 56 28.609375 56 \r\nQ 40.484375 56 46.34375 49.84375 \r\nQ 52.203125 43.703125 52.203125 31.203125 \r\nz\r\n\" id=\"DejaVuSans-97\"/>\r\n      <path d=\"M 24.46875 74.609375 \r\nL 33.640625 74.609375 \r\nL 43.953125 61.625 \r\nL 37.15625 61.625 \r\nL 29.046875 70.3125 \r\nL 20.953125 61.625 \r\nL 14.15625 61.625 \r\nz\r\nM 49.515625 84.625 \r\nL 58.546875 84.625 \r\nL 47.40625 71.734375 \r\nL 39.9375 71.734375 \r\nz\r\nM 34.28125 27.484375 \r\nQ 23.390625 27.484375 19.1875 25 \r\nQ 14.984375 22.515625 14.984375 16.5 \r\nQ 14.984375 11.71875 18.140625 8.90625 \r\nQ 21.296875 6.109375 26.703125 6.109375 \r\nQ 34.1875 6.109375 38.703125 11.40625 \r\nQ 43.21875 16.703125 43.21875 25.484375 \r\nL 43.21875 27.484375 \r\nz\r\nM 52.203125 31.203125 \r\nL 52.203125 0 \r\nL 43.21875 0 \r\nL 43.21875 8.296875 \r\nQ 40.140625 3.328125 35.546875 0.953125 \r\nQ 30.953125 -1.421875 24.3125 -1.421875 \r\nQ 15.921875 -1.421875 10.953125 3.296875 \r\nQ 6 8.015625 6 15.921875 \r\nQ 6 25.140625 12.171875 29.828125 \r\nQ 18.359375 34.515625 30.609375 34.515625 \r\nL 43.21875 34.515625 \r\nL 43.21875 35.40625 \r\nQ 43.21875 41.609375 39.140625 45 \r\nQ 35.0625 48.390625 27.6875 48.390625 \r\nQ 23 48.390625 18.546875 47.265625 \r\nQ 14.109375 46.140625 10.015625 43.890625 \r\nL 10.015625 52.203125 \r\nQ 14.9375 54.109375 19.578125 55.046875 \r\nQ 24.21875 56 28.609375 56 \r\nQ 40.484375 56 46.34375 49.84375 \r\nQ 52.203125 43.703125 52.203125 31.203125 \r\nz\r\n\" id=\"DejaVuSans-7845\"/>\r\n      <path d=\"M 18.109375 8.203125 \r\nL 18.109375 -20.796875 \r\nL 9.078125 -20.796875 \r\nL 9.078125 54.6875 \r\nL 18.109375 54.6875 \r\nL 18.109375 46.390625 \r\nQ 20.953125 51.265625 25.265625 53.625 \r\nQ 29.59375 56 35.59375 56 \r\nQ 45.5625 56 51.78125 48.09375 \r\nQ 58.015625 40.1875 58.015625 27.296875 \r\nQ 58.015625 14.40625 51.78125 6.484375 \r\nQ 45.5625 -1.421875 35.59375 -1.421875 \r\nQ 29.59375 -1.421875 25.265625 0.953125 \r\nQ 20.953125 3.328125 18.109375 8.203125 \r\nz\r\nM 48.6875 27.296875 \r\nQ 48.6875 37.203125 44.609375 42.84375 \r\nQ 40.53125 48.484375 33.40625 48.484375 \r\nQ 26.265625 48.484375 22.1875 42.84375 \r\nQ 18.109375 37.203125 18.109375 27.296875 \r\nQ 18.109375 17.390625 22.1875 11.75 \r\nQ 26.265625 6.109375 33.40625 6.109375 \r\nQ 40.53125 6.109375 44.609375 11.75 \r\nQ 48.6875 17.390625 48.6875 27.296875 \r\nz\r\n\" id=\"DejaVuSans-112\"/>\r\n     </defs>\r\n     <g transform=\"translate(140.795313 253.780625)scale(0.1 -0.1)\">\r\n      <use xlink:href=\"#DejaVuSans-84\"/>\r\n      <use x=\"44.083984\" xlink:href=\"#DejaVuSans-111\"/>\r\n      <use x=\"105.265625\" xlink:href=\"#DejaVuSans-225\"/>\r\n      <use x=\"166.544922\" xlink:href=\"#DejaVuSans-110\"/>\r\n      <use x=\"229.923828\" xlink:href=\"#DejaVuSans-32\"/>\r\n      <use x=\"261.710938\" xlink:href=\"#DejaVuSans-99\"/>\r\n      <use x=\"316.691406\" xlink:href=\"#DejaVuSans-97\"/>\r\n      <use x=\"377.970703\" xlink:href=\"#DejaVuSans-111\"/>\r\n      <use x=\"439.152344\" xlink:href=\"#DejaVuSans-32\"/>\r\n      <use x=\"470.939453\" xlink:href=\"#DejaVuSans-99\"/>\r\n      <use x=\"525.919922\" xlink:href=\"#DejaVuSans-7845\"/>\r\n      <use x=\"587.199219\" xlink:href=\"#DejaVuSans-112\"/>\r\n      <use x=\"650.675781\" xlink:href=\"#DejaVuSans-32\"/>\r\n      <use x=\"682.462891\" xlink:href=\"#DejaVuSans-49\"/>\r\n     </g>\r\n    </g>\r\n   </g>\r\n   <g id=\"matplotlib.axis_2\">\r\n    <g id=\"ytick_1\">\r\n     <g id=\"line2d_7\">\r\n      <defs>\r\n       <path d=\"M 0 0 \r\nL -3.5 0 \r\n\" id=\"mf5f98c7da4\" style=\"stroke:#000000;stroke-width:0.8;\"/>\r\n      </defs>\r\n      <g>\r\n       <use style=\"stroke:#000000;stroke-width:0.8;\" x=\"10.7\" xlink:href=\"#mf5f98c7da4\" y=\"115.92\"/>\r\n      </g>\r\n     </g>\r\n    </g>\r\n   </g>\r\n   <g id=\"line2d_8\">\r\n    <path clip-path=\"url(#p0472464367)\" d=\"M 238.76173 115.92 \r\nL 164.121427 115.92 \r\n\" style=\"fill:none;stroke:#3f3f3f;stroke-linecap:square;stroke-width:1.5;\"/>\r\n   </g>\r\n   <g id=\"line2d_9\">\r\n    <path clip-path=\"url(#p0472464367)\" d=\"M 290.192327 115.92 \r\nL 330.281818 115.92 \r\n\" style=\"fill:none;stroke:#3f3f3f;stroke-linecap:square;stroke-width:1.5;\"/>\r\n   </g>\r\n   <g id=\"line2d_10\">\r\n    <path clip-path=\"url(#p0472464367)\" d=\"M 164.121427 72.432 \r\nL 164.121427 159.408 \r\n\" style=\"fill:none;stroke:#3f3f3f;stroke-linecap:square;stroke-width:1.5;\"/>\r\n   </g>\r\n   <g id=\"line2d_11\">\r\n    <path clip-path=\"url(#p0472464367)\" d=\"M 330.281818 72.432 \r\nL 330.281818 159.408 \r\n\" style=\"fill:none;stroke:#3f3f3f;stroke-linecap:square;stroke-width:1.5;\"/>\r\n   </g>\r\n   <g id=\"line2d_12\">\r\n    <defs>\r\n     <path d=\"M 0 3.535534 \r\nL 2.12132 0 \r\nL 0 -3.535534 \r\nL -2.12132 0 \r\nz\r\n\" id=\"mbdb5feb704\" style=\"stroke:#3f3f3f;stroke-linejoin:miter;\"/>\r\n    </defs>\r\n    <g clip-path=\"url(#p0472464367)\">\r\n     <use style=\"fill:#3f3f3f;stroke:#3f3f3f;stroke-linejoin:miter;\" x=\"102.932204\" xlink:href=\"#mbdb5feb704\" y=\"115.92\"/>\r\n     <use style=\"fill:#3f3f3f;stroke:#3f3f3f;stroke-linejoin:miter;\" x=\"25.918182\" xlink:href=\"#mbdb5feb704\" y=\"115.92\"/>\r\n    </g>\r\n   </g>\r\n   <g id=\"line2d_13\">\r\n    <path clip-path=\"url(#p0472464367)\" d=\"M 261.180195 28.944 \r\nL 261.180195 202.896 \r\n\" style=\"fill:none;stroke:#3f3f3f;stroke-linecap:square;stroke-width:1.5;\"/>\r\n   </g>\r\n   <g id=\"patch_4\">\r\n    <path d=\"M 10.7 224.64 \r\nL 10.7 7.2 \r\n\" style=\"fill:none;stroke:#000000;stroke-linecap:square;stroke-linejoin:miter;stroke-width:0.8;\"/>\r\n   </g>\r\n   <g id=\"patch_5\">\r\n    <path d=\"M 345.5 224.64 \r\nL 345.5 7.2 \r\n\" style=\"fill:none;stroke:#000000;stroke-linecap:square;stroke-linejoin:miter;stroke-width:0.8;\"/>\r\n   </g>\r\n   <g id=\"patch_6\">\r\n    <path d=\"M 10.7 224.64 \r\nL 345.5 224.64 \r\n\" style=\"fill:none;stroke:#000000;stroke-linecap:square;stroke-linejoin:miter;stroke-width:0.8;\"/>\r\n   </g>\r\n   <g id=\"patch_7\">\r\n    <path d=\"M 10.7 7.2 \r\nL 345.5 7.2 \r\n\" style=\"fill:none;stroke:#000000;stroke-linecap:square;stroke-linejoin:miter;stroke-width:0.8;\"/>\r\n   </g>\r\n  </g>\r\n </g>\r\n <defs>\r\n  <clipPath id=\"p0472464367\">\r\n   <rect height=\"217.44\" width=\"334.8\" x=\"10.7\" y=\"7.2\"/>\r\n  </clipPath>\r\n </defs>\r\n</svg>\r\n",
      "image/png": "[encoded data removed]"
     },
     "metadata": {
      "needs_background": "light"
     }
    }
   ],
   "source": [
    "import seaborn as sns\n",
    "ax = sns.boxplot(x=zscore_df[mon_hoc])"
   ]
  },
  {
   "cell_type": "code",
   "execution_count": 47,
   "metadata": {},
   "outputs": [
    {
     "output_type": "display_data",
     "data": {
      "application/vnd.plotly.v1+json": {
       "config": {
        "plotlyServerURL": "https://plot.ly"
       },
       "data": [
        {
         "alignmentgroup": "True",
         "customdata": [
          [
           "Đinh Tuấn Anh"
          ],
          [
           "Hà Bảo Anh"
          ],
          [
           "Lưu Đức Anh"
          ],
          [
           "Trần Nam Bá"
          ],
          [
           "Ngô Đức Bảo"
          ],
          [
           "Trịnh Thị Bảo Bảo"
          ],
          [
           "Đỗ Xuân Đức Chung"
          ],
          [
           "Phạm Tài Đức Phú Đa"
          ],
          [
           "Lê Tấn Đạt"
          ],
          [
           "Phạm Hà Văn Đông"
          ],
          [
           "Trịnh Ngọc Đức"
          ],
          [
           "Tăng Hoài Duy"
          ],
          [
           "Thái Thị Hiền"
          ],
          [
           "Phạm Thế Hiển"
          ],
          [
           "Trần Minh Hiếu"
          ],
          [
           "Nguyễn Thị Thanh Hòa"
          ],
          [
           "Ngô Quốc Hoàng"
          ],
          [
           "Hồ Quang Huy"
          ],
          [
           "Lương Quang Khải"
          ],
          [
           "Phạm Hoàng Duy Khang"
          ],
          [
           "Lê Mỹ Thanh Lành"
          ],
          [
           "Trần Hồ Phi Long"
          ],
          [
           "Trương Thị Cẩm Ly"
          ],
          [
           "Quách Trọng Nghĩa"
          ],
          [
           "Nguyễn Thành Nhân"
          ],
          [
           "Nguyễn Văn Phúc Nhân"
          ],
          [
           "Lưu Thị Yến Nhi"
          ],
          [
           "Lê Huy Phát"
          ],
          [
           "Lê Thanh Phong"
          ],
          [
           "Phan Nguyễn Mai Phương"
          ],
          [
           "Vũ Minh Quang"
          ],
          [
           "Nguyễn Quang Quốc"
          ],
          [
           "Dương Văn Sang"
          ],
          [
           "Nguyễn Tuấn Sinh"
          ],
          [
           "Phạm Trung Sơn"
          ],
          [
           "Nguyễn Tiến Sỹ"
          ],
          [
           "Văn Sỹ"
          ],
          [
           "Lê Duy Tâm"
          ],
          [
           "Phan Nguyễn Trọng Tân"
          ],
          [
           "Trương Nguyễn Duy Tân"
          ],
          [
           "Đỗ Văn Thắng"
          ],
          [
           "Nguyễn Đức Thịnh"
          ],
          [
           "Phạm Huỳnh Trường Thịnh"
          ],
          [
           "Trần Xuân Thủy"
          ],
          [
           "Lê Văn Tiến"
          ],
          [
           "Nguyễn Đặng Minh Toại"
          ],
          [
           "Huỳnh Minh Toàn"
          ],
          [
           "Nguyễn Anh Toàn"
          ],
          [
           "Lưu Hoàng Ngọc Trinh"
          ],
          [
           "Lê Văn Trung"
          ],
          [
           "Nguyễn Tuấn Trung"
          ],
          [
           "Phạm Thành Trung"
          ],
          [
           "Phan Chí Trung"
          ],
          [
           "Đào Duy Trường"
          ],
          [
           "Đoàn Minh Trường"
          ],
          [
           "Huỳnh Anh Tú"
          ],
          [
           "Nguyễn Văn Anh Tuấn"
          ],
          [
           "Phạm Minh Tuấn"
          ],
          [
           "Phan Lê Hoàng Việt"
          ],
          [
           "Trần Tuấn Vũ"
          ]
         ],
         "hovertemplate": "Toán cao cấp 1=%{y}<br>Họ và tên=%{customdata[0]}<extra></extra>",
         "legendgroup": "",
         "marker": {
          "color": "#636efa"
         },
         "name": "",
         "notched": false,
         "offsetgroup": "",
         "orientation": "v",
         "showlegend": false,
         "type": "box",
         "x0": " ",
         "xaxis": "x",
         "y": [
          8.5,
          7.1,
          8.4,
          8.6,
          9.5,
          8.6,
          5.4,
          8.5,
          4.5,
          6.7,
          7.6,
          7.6,
          9,
          8.1,
          7.9,
          9.8,
          9.8,
          9,
          7.5,
          6.5,
          5.6,
          8.9,
          8.4,
          6.1,
          2.5,
          7.4,
          9.5,
          7.5,
          9.5,
          7.1,
          8.6,
          7.7,
          9.1,
          7.9,
          8,
          8.1,
          7.5,
          9.2,
          6,
          6.7,
          7.4,
          5.7,
          7.9,
          9.5,
          7,
          7,
          8.5,
          8.8,
          6.4,
          7.4,
          7.5,
          9.9,
          6.6,
          7.6,
          0,
          7.7,
          6,
          7,
          5.7,
          9.6
         ],
         "y0": " ",
         "yaxis": "y"
        }
       ],
       "layout": {
        "boxmode": "group",
        "legend": {
         "tracegroupgap": 0
        },
        "margin": {
         "t": 60
        },
        "template": {
         "data": {
          "bar": [
           {
            "error_x": {
             "color": "#2a3f5f"
            },
            "error_y": {
             "color": "#2a3f5f"
            },
            "marker": {
             "line": {
              "color": "#E5ECF6",
              "width": 0.5
             }
            },
            "type": "bar"
           }
          ],
          "barpolar": [
           {
            "marker": {
             "line": {
              "color": "#E5ECF6",
              "width": 0.5
             }
            },
            "type": "barpolar"
           }
          ],
          "carpet": [
           {
            "aaxis": {
             "endlinecolor": "#2a3f5f",
             "gridcolor": "white",
             "linecolor": "white",
             "minorgridcolor": "white",
             "startlinecolor": "#2a3f5f"
            },
            "baxis": {
             "endlinecolor": "#2a3f5f",
             "gridcolor": "white",
             "linecolor": "white",
             "minorgridcolor": "white",
             "startlinecolor": "#2a3f5f"
            },
            "type": "carpet"
           }
          ],
          "choropleth": [
           {
            "colorbar": {
             "outlinewidth": 0,
             "ticks": ""
            },
            "type": "choropleth"
           }
          ],
          "contour": [
           {
            "colorbar": {
             "outlinewidth": 0,
             "ticks": ""
            },
            "colorscale": [
             [
              0,
              "#0d0887"
             ],
             [
              0.1111111111111111,
              "#46039f"
             ],
             [
              0.2222222222222222,
              "#7201a8"
             ],
             [
              0.3333333333333333,
              "#9c179e"
             ],
             [
              0.4444444444444444,
              "#bd3786"
             ],
             [
              0.5555555555555556,
              "#d8576b"
             ],
             [
              0.6666666666666666,
              "#ed7953"
             ],
             [
              0.7777777777777778,
              "#fb9f3a"
             ],
             [
              0.8888888888888888,
              "#fdca26"
             ],
             [
              1,
              "#f0f921"
             ]
            ],
            "type": "contour"
           }
          ],
          "contourcarpet": [
           {
            "colorbar": {
             "outlinewidth": 0,
             "ticks": ""
            },
            "type": "contourcarpet"
           }
          ],
          "heatmap": [
           {
            "colorbar": {
             "outlinewidth": 0,
             "ticks": ""
            },
            "colorscale": [
             [
              0,
              "#0d0887"
             ],
             [
              0.1111111111111111,
              "#46039f"
             ],
             [
              0.2222222222222222,
              "#7201a8"
             ],
             [
              0.3333333333333333,
              "#9c179e"
             ],
             [
              0.4444444444444444,
              "#bd3786"
             ],
             [
              0.5555555555555556,
              "#d8576b"
             ],
             [
              0.6666666666666666,
              "#ed7953"
             ],
             [
              0.7777777777777778,
              "#fb9f3a"
             ],
             [
              0.8888888888888888,
              "#fdca26"
             ],
             [
              1,
              "#f0f921"
             ]
            ],
            "type": "heatmap"
           }
          ],
          "heatmapgl": [
           {
            "colorbar": {
             "outlinewidth": 0,
             "ticks": ""
            },
            "colorscale": [
             [
              0,
              "#0d0887"
             ],
             [
              0.1111111111111111,
              "#46039f"
             ],
             [
              0.2222222222222222,
              "#7201a8"
             ],
             [
              0.3333333333333333,
              "#9c179e"
             ],
             [
              0.4444444444444444,
              "#bd3786"
             ],
             [
              0.5555555555555556,
              "#d8576b"
             ],
             [
              0.6666666666666666,
              "#ed7953"
             ],
             [
              0.7777777777777778,
              "#fb9f3a"
             ],
             [
              0.8888888888888888,
              "#fdca26"
             ],
             [
              1,
              "#f0f921"
             ]
            ],
            "type": "heatmapgl"
           }
          ],
          "histogram": [
           {
            "marker": {
             "colorbar": {
              "outlinewidth": 0,
              "ticks": ""
             }
            },
            "type": "histogram"
           }
          ],
          "histogram2d": [
           {
            "colorbar": {
             "outlinewidth": 0,
             "ticks": ""
            },
            "colorscale": [
             [
              0,
              "#0d0887"
             ],
             [
              0.1111111111111111,
              "#46039f"
             ],
             [
              0.2222222222222222,
              "#7201a8"
             ],
             [
              0.3333333333333333,
              "#9c179e"
             ],
             [
              0.4444444444444444,
              "#bd3786"
             ],
             [
              0.5555555555555556,
              "#d8576b"
             ],
             [
              0.6666666666666666,
              "#ed7953"
             ],
             [
              0.7777777777777778,
              "#fb9f3a"
             ],
             [
              0.8888888888888888,
              "#fdca26"
             ],
             [
              1,
              "#f0f921"
             ]
            ],
            "type": "histogram2d"
           }
          ],
          "histogram2dcontour": [
           {
            "colorbar": {
             "outlinewidth": 0,
             "ticks": ""
            },
            "colorscale": [
             [
              0,
              "#0d0887"
             ],
             [
              0.1111111111111111,
              "#46039f"
             ],
             [
              0.2222222222222222,
              "#7201a8"
             ],
             [
              0.3333333333333333,
              "#9c179e"
             ],
             [
              0.4444444444444444,
              "#bd3786"
             ],
             [
              0.5555555555555556,
              "#d8576b"
             ],
             [
              0.6666666666666666,
              "#ed7953"
             ],
             [
              0.7777777777777778,
              "#fb9f3a"
             ],
             [
              0.8888888888888888,
              "#fdca26"
             ],
             [
              1,
              "#f0f921"
             ]
            ],
            "type": "histogram2dcontour"
           }
          ],
          "mesh3d": [
           {
            "colorbar": {
             "outlinewidth": 0,
             "ticks": ""
            },
            "type": "mesh3d"
           }
          ],
          "parcoords": [
           {
            "line": {
             "colorbar": {
              "outlinewidth": 0,
              "ticks": ""
             }
            },
            "type": "parcoords"
           }
          ],
          "pie": [
           {
            "automargin": true,
            "type": "pie"
           }
          ],
          "scatter": [
           {
            "marker": {
             "colorbar": {
              "outlinewidth": 0,
              "ticks": ""
             }
            },
            "type": "scatter"
           }
          ],
          "scatter3d": [
           {
            "line": {
             "colorbar": {
              "outlinewidth": 0,
              "ticks": ""
             }
            },
            "marker": {
             "colorbar": {
              "outlinewidth": 0,
              "ticks": ""
             }
            },
            "type": "scatter3d"
           }
          ],
          "scattercarpet": [
           {
            "marker": {
             "colorbar": {
              "outlinewidth": 0,
              "ticks": ""
             }
            },
            "type": "scattercarpet"
           }
          ],
          "scattergeo": [
           {
            "marker": {
             "colorbar": {
              "outlinewidth": 0,
              "ticks": ""
             }
            },
            "type": "scattergeo"
           }
          ],
          "scattergl": [
           {
            "marker": {
             "colorbar": {
              "outlinewidth": 0,
              "ticks": ""
             }
            },
            "type": "scattergl"
           }
          ],
          "scattermapbox": [
           {
            "marker": {
             "colorbar": {
              "outlinewidth": 0,
              "ticks": ""
             }
            },
            "type": "scattermapbox"
           }
          ],
          "scatterpolar": [
           {
            "marker": {
             "colorbar": {
              "outlinewidth": 0,
              "ticks": ""
             }
            },
            "type": "scatterpolar"
           }
          ],
          "scatterpolargl": [
           {
            "marker": {
             "colorbar": {
              "outlinewidth": 0,
              "ticks": ""
             }
            },
            "type": "scatterpolargl"
           }
          ],
          "scatterternary": [
           {
            "marker": {
             "colorbar": {
              "outlinewidth": 0,
              "ticks": ""
             }
            },
            "type": "scatterternary"
           }
          ],
          "surface": [
           {
            "colorbar": {
             "outlinewidth": 0,
             "ticks": ""
            },
            "colorscale": [
             [
              0,
              "#0d0887"
             ],
             [
              0.1111111111111111,
              "#46039f"
             ],
             [
              0.2222222222222222,
              "#7201a8"
             ],
             [
              0.3333333333333333,
              "#9c179e"
             ],
             [
              0.4444444444444444,
              "#bd3786"
             ],
             [
              0.5555555555555556,
              "#d8576b"
             ],
             [
              0.6666666666666666,
              "#ed7953"
             ],
             [
              0.7777777777777778,
              "#fb9f3a"
             ],
             [
              0.8888888888888888,
              "#fdca26"
             ],
             [
              1,
              "#f0f921"
             ]
            ],
            "type": "surface"
           }
          ],
          "table": [
           {
            "cells": {
             "fill": {
              "color": "#EBF0F8"
             },
             "line": {
              "color": "white"
             }
            },
            "header": {
             "fill": {
              "color": "#C8D4E3"
             },
             "line": {
              "color": "white"
             }
            },
            "type": "table"
           }
          ]
         },
         "layout": {
          "annotationdefaults": {
           "arrowcolor": "#2a3f5f",
           "arrowhead": 0,
           "arrowwidth": 1
          },
          "autotypenumbers": "strict",
          "coloraxis": {
           "colorbar": {
            "outlinewidth": 0,
            "ticks": ""
           }
          },
          "colorscale": {
           "diverging": [
            [
             0,
             "#8e0152"
            ],
            [
             0.1,
             "#c51b7d"
            ],
            [
             0.2,
             "#de77ae"
            ],
            [
             0.3,
             "#f1b6da"
            ],
            [
             0.4,
             "#fde0ef"
            ],
            [
             0.5,
             "#f7f7f7"
            ],
            [
             0.6,
             "#e6f5d0"
            ],
            [
             0.7,
             "#b8e186"
            ],
            [
             0.8,
             "#7fbc41"
            ],
            [
             0.9,
             "#4d9221"
            ],
            [
             1,
             "#276419"
            ]
           ],
           "sequential": [
            [
             0,
             "#0d0887"
            ],
            [
             0.1111111111111111,
             "#46039f"
            ],
            [
             0.2222222222222222,
             "#7201a8"
            ],
            [
             0.3333333333333333,
             "#9c179e"
            ],
            [
             0.4444444444444444,
             "#bd3786"
            ],
            [
             0.5555555555555556,
             "#d8576b"
            ],
            [
             0.6666666666666666,
             "#ed7953"
            ],
            [
             0.7777777777777778,
             "#fb9f3a"
            ],
            [
             0.8888888888888888,
             "#fdca26"
            ],
            [
             1,
             "#f0f921"
            ]
           ],
           "sequentialminus": [
            [
             0,
             "#0d0887"
            ],
            [
             0.1111111111111111,
             "#46039f"
            ],
            [
             0.2222222222222222,
             "#7201a8"
            ],
            [
             0.3333333333333333,
             "#9c179e"
            ],
            [
             0.4444444444444444,
             "#bd3786"
            ],
            [
             0.5555555555555556,
             "#d8576b"
            ],
            [
             0.6666666666666666,
             "#ed7953"
            ],
            [
             0.7777777777777778,
             "#fb9f3a"
            ],
            [
             0.8888888888888888,
             "#fdca26"
            ],
            [
             1,
             "#f0f921"
            ]
           ]
          },
          "colorway": [
           "#636efa",
           "#EF553B",
           "#00cc96",
           "#ab63fa",
           "#FFA15A",
           "#19d3f3",
           "#FF6692",
           "#B6E880",
           "#FF97FF",
           "#FECB52"
          ],
          "font": {
           "color": "#2a3f5f"
          },
          "geo": {
           "bgcolor": "white",
           "lakecolor": "white",
           "landcolor": "#E5ECF6",
           "showlakes": true,
           "showland": true,
           "subunitcolor": "white"
          },
          "hoverlabel": {
           "align": "left"
          },
          "hovermode": "closest",
          "mapbox": {
           "style": "light"
          },
          "paper_bgcolor": "white",
          "plot_bgcolor": "#E5ECF6",
          "polar": {
           "angularaxis": {
            "gridcolor": "white",
            "linecolor": "white",
            "ticks": ""
           },
           "bgcolor": "#E5ECF6",
           "radialaxis": {
            "gridcolor": "white",
            "linecolor": "white",
            "ticks": ""
           }
          },
          "scene": {
           "xaxis": {
            "backgroundcolor": "#E5ECF6",
            "gridcolor": "white",
            "gridwidth": 2,
            "linecolor": "white",
            "showbackground": true,
            "ticks": "",
            "zerolinecolor": "white"
           },
           "yaxis": {
            "backgroundcolor": "#E5ECF6",
            "gridcolor": "white",
            "gridwidth": 2,
            "linecolor": "white",
            "showbackground": true,
            "ticks": "",
            "zerolinecolor": "white"
           },
           "zaxis": {
            "backgroundcolor": "#E5ECF6",
            "gridcolor": "white",
            "gridwidth": 2,
            "linecolor": "white",
            "showbackground": true,
            "ticks": "",
            "zerolinecolor": "white"
           }
          },
          "shapedefaults": {
           "line": {
            "color": "#2a3f5f"
           }
          },
          "ternary": {
           "aaxis": {
            "gridcolor": "white",
            "linecolor": "white",
            "ticks": ""
           },
           "baxis": {
            "gridcolor": "white",
            "linecolor": "white",
            "ticks": ""
           },
           "bgcolor": "#E5ECF6",
           "caxis": {
            "gridcolor": "white",
            "linecolor": "white",
            "ticks": ""
           }
          },
          "title": {
           "x": 0.05
          },
          "xaxis": {
           "automargin": true,
           "gridcolor": "white",
           "linecolor": "white",
           "ticks": "",
           "title": {
            "standoff": 15
           },
           "zerolinecolor": "white",
           "zerolinewidth": 2
          },
          "yaxis": {
           "automargin": true,
           "gridcolor": "white",
           "linecolor": "white",
           "ticks": "",
           "title": {
            "standoff": 15
           },
           "zerolinecolor": "white",
           "zerolinewidth": 2
          }
         }
        },
        "xaxis": {
         "anchor": "y",
         "domain": [
          0,
          1
         ]
        },
        "yaxis": {
         "anchor": "x",
         "domain": [
          0,
          1
         ],
         "title": {
          "text": "Toán cao cấp 1"
         }
        }
       }
      }
     },
     "metadata": {}
    }
   ],
   "source": [
    "import plotly.express as px\n",
    "fig = px.box(df, y='Toán cao cấp 1', hover_data={'Họ và tên': True})\n",
    "fig.show()"
   ]
  },
  {
   "cell_type": "code",
   "execution_count": 48,
   "metadata": {},
   "outputs": [
    {
     "output_type": "execute_result",
     "data": {
      "text/plain": [
       "             7.3   \n",
       "22                                               6.3               6.5   \n",
       "23                                               5.7               6.3   \n",
       "24                                               4.5               7.6   \n",
       "25                                               6.0               7.9   \n",
       "26                                               7.0               7.5   \n",
       "27                                               5.7               5.6   \n",
       "28                                               7.0               8.2   \n",
       "29                                               8.1               7.6   \n",
       "30                                               6.5               7.2   \n",
       "31                                               5.9               5.3   \n",
       "32                                               5.2               7.1   \n",
       "33                                               7.1               7.2   \n",
       "34                                               5.3               7.4   \n",
       "35                                               5.7               6.6   \n",
       "36                                               4.5               7.1   \n",
       "37                                               4.6               7.1   \n",
       "38                                               6.3               6.8   \n",
       "39                                               5.5               8.3   \n",
       "40                                               6.3               6.8   \n",
       "41                                               2.0               6.7   \n",
       "42                                               5.8               5.2   \n",
       "43                                               4.6               7.5   \n",
       "44                                               1.5               5.8   \n",
       "45                                               5.0               5.6   \n",
       "46                                               6.0               7.9   \n",
       "47                                               4.4               7.7   \n",
       "48                                               5.9               6.2   \n",
       "49                                               7.9               6.7   \n",
       "50                                               4.7               6.1   \n",
       "51                                               8.0               7.9   \n",
       "52                                               6.3               6.1   \n",
       "53                                               5.2               5.2   \n",
       "54                                               4.9               5.2   \n",
       "55                                               6.4               6.3   \n",
       "56                                               5.6               7.5   \n",
       "57                                               6.3               6.4   \n",
       "58                                               1.0               7.6   \n",
       "59                                               7.9               6.5   \n",
       "\n",
       "    Giáo dục Quốc phòng và An ninh 1  Toán cao cấp 1  Giáo dục thể chất 1  \\\n",
       "0                                7.0             8.5                  6.5   \n",
       "1                                7.5             7.1                  7.5   \n",
       "2                                7.0             8.4                  6.5   \n",
       "3                                6.5             8.6                  6.5   \n",
       "4                                7.5             9.5                  5.0   \n",
       "5                                8.0             8.6                  7.0   \n",
       "6                                7.0             5.4                  6.0   \n",
       "7                                7.0             8.5                  5.5   \n",
       "8                                5.0             4.5                  5.0   \n",
       "9                                7.0             6.7                  5.5   \n",
       "10                               6.5             7.6                  5.5   \n",
       "11                               6.5             7.6                  6.0   \n",
       "12                               7.5             9.0                  6.5   \n",
       "13                               7.5             8.1                  6.5   \n",
       "14                               7.5             7.9                  8.0   \n",
       "15                               8.0             9.8                  7.0   \n",
       "16                               7.5             9.8                  6.0   \n",
       "17                               6.5             9.0                  7.0   \n",
       "18                               7.0             7.5                  5.5   \n",
       "19                               6.0             6.5                  6.5   \n",
       "20                               7.0             5.6                  5.5   \n",
       "21                               7.0             8.9                  5.5   \n",
       "22                               8.0             8.4                  5.5   \n",
       "23                               8.0             6.1                  6.5   \n",
       "24                               7.0             2.5                  5.5   \n",
       "25                               7.0             7.4                  7.0   \n",
       "26                               7.0             9.5                  7.0   \n",
       "27                               7.5             7.5                  5.0   \n",
       "28                               7.5             9.5                  6.5   \n",
       "29                               8.0             7.1                  7.5   \n",
       "30                               7.0             8.6                  7.5   \n",
       "31                               6.5             7.7                  5.0   \n",
       "32                               7.0             9.1                  7.0   \n",
       "33                               6.0             7.9                  7.5   \n",
       "34                               7.5             8.0                  6.5   \n",
       "35                               8.0             8.1                  6.5   \n",
       "36                               7.0             7.5                  6.0   \n",
       "37                               6.5             9.2                  6.0   \n",
       "38                               7.5             6.0                  7.5   \n",
       "39                               7.0             6.7                  6.5   \n",
       "40                               7.0             7.4                  7.5   \n",
       "41                               7.0             5.7                  6.5   \n",
       "42                               7.0             7.9                  6.5   \n",
       "43                               6.5             9.5                  7.0   \n",
       "44                               6.5             7.0                  6.5   \n",
       "45                               7.5             7.0                  6.5   \n",
       "46                               7.5             8.5                  7.5   \n",
       "47                               6.5             8.8                  6.0   \n",
       "48                               7.5             6.4                  6.5   \n",
       "49                               7.0             7.4                  7.0   \n",
       "50                               6.5             7.5                  5.5   \n",
       "51                               7.5             9.9                  6.5   \n",
       "52                               6.5             6.6                  5.5   \n",
       "53                               7.0             7.6                  5.5   \n",
       "54                               7.5             0.0                  6.0   \n",
       "55                               6.5             7.7                  7.0   \n",
       "56                               7.0             6.0                  6.5   \n",
       "57                               6.5             7.0                  5.5   \n",
       "58                               6.5             5.7                  5.0   \n",
       "59                               6.5             9.6                  5.5   \n",
       "\n",
       "    ...  Giải tích ngẫu nhiên cho tài chính  Chứng chỉ TOEIC 450  \\\n",
       "0   ...                                 NaN                  NaN   \n",
       "1   ...                                 NaN                  NaN   \n",
       "2   ...                                 NaN                  NaN   \n",
       "3   ...                                 NaN                  NaN   \n",
       "4   ...                                 NaN                  NaN   \n",
       "5   ...                                 NaN                  NaN   \n",
       "6   ...                                 NaN                  NaN   \n",
       "7   ...                                 NaN                  NaN   \n",
       "8   ...                                 NaN                  NaN   \n",
       "9   ...                                 NaN                  NaN   \n",
       "10  ...                                 NaN                  NaN   \n",
       "11  ...                                 NaN                  NaN   \n",
       "12  ...                                 NaN                  NaN   \n",
       "13  ...                                 NaN                  NaN   \n",
       "14  ...                                 NaN                  NaN   \n",
       "15  ...                                 NaN                  NaN   \n",
       "16  ...                                 NaN                  NaN   \n",
       "17  ...                                 NaN                  NaN   \n",
       "18  ...                                 NaN                  NaN   \n",
       "19  ...                                 NaN                  NaN   \n",
       "20  ...                                 NaN                  NaN   \n",
       "21  ...                                 NaN                  NaN   \n",
       "22  ...                                 NaN                  NaN   \n",
       "23  ...                                 NaN                  NaN   \n",
       "24  ...                                 NaN                  NaN   \n",
       "25  ...                                 NaN                  NaN   \n",
       "26  ...                                 NaN                  NaN   \n",
       "27  ...                                 NaN                  NaN   \n",
       "28  ...                                 NaN                  NaN   \n",
       "29  ...                                 NaN                  NaN   \n",
       "30  ...                                 NaN                  NaN   \n",
       "31  ...                                 NaN                  NaN   \n",
       "32  ...                                 NaN                  NaN   \n",
       "33  ...                                 NaN                  NaN   \n",
       "34  ...                                 NaN                  NaN   \n",
       "35  ...                                 NaN                  NaN   \n",
       "36  ...                                 NaN                  NaN   \n",
       "37  ...                                 NaN                  NaN   \n",
       "38  ...                                 NaN                  NaN   \n",
       "39  ...                                 NaN                  NaN   \n",
       "40  ...                                 NaN                  NaN   \n",
       "41  ...                                 NaN                  NaN   \n",
       "42  ...                                 NaN                  NaN   \n",
       "43  ...                                 NaN                  NaN   \n",
       "44  ...                                 NaN                  NaN   \n",
       "45  ...                                 NaN                  NaN   \n",
       "46  ...                                 NaN                  NaN   \n",
       "47  ...                                 NaN                  NaN   \n",
       "48  ...                                 NaN                  NaN   \n",
       "49  ...                                 NaN                  NaN   \n",
       "50  ...                                 NaN                  NaN   \n",
       "51  ...                                 NaN                  NaN   \n",
       "52  ...                                 NaN                  NaN   \n",
       "53  ...                                 NaN                  NaN   \n",
       "54  ...                                 NaN                  NaN   \n",
       "55  ...                                 NaN                  NaN   \n",
       "56  ...                                 NaN                  NaN   \n",
       "57  ...                                 NaN                  NaN   \n",
       "58  ...                                 NaN                  NaN   \n",
       "59  ...                                 NaN                  NaN   \n",
       "\n",
       "    Khóa luận tốt nghiệp  Thực tập doanh nghiệp  Số tín chỉ  Điểm 10  Điểm 4  \\\n",
       "0                    NaN                    NaN          29      6.6    2.49   \n",
       "1                    NaN                    NaN          18      7.4    2.97   \n",
       "2                    NaN                    NaN          21      5.9    2.17   \n",
       "3                    NaN                    NaN          21      7.5    3.09   \n",
       "4                    NaN                    NaN          15      6.5    2.44   \n",
       "5                    NaN                    NaN          18      7.7    3.23   \n",
       "6                    NaN                    NaN          16      3.9    1.33   \n",
       "7                    NaN                    NaN          25      5.4    1.94   \n",
       "8                    NaN                    NaN          19      4.9    1.69   \n",
       "9                    NaN                    NaN          20      5.7    1.98   \n",
       "10                   NaN                    NaN          22      6.5    2.42   \n",
       "11                   NaN                    NaN          25      6.3    2.27   \n",
       "12                   NaN                    NaN          21      7.3    2.96   \n",
       "13                   NaN                    NaN          21      7.1    2.81   \n",
       "14                   NaN                    NaN          18      6.2    2.18   \n",
       "15                   NaN                    NaN          18      7.6    3.04   \n",
       "16                   NaN                    NaN          27      8.3    3.47   \n",
       "17                   NaN                    NaN          25      7.8    3.17   \n",
       "18                   NaN                    NaN          21      3.9    1.54   \n",
       "19                   NaN                    NaN          18      5.7     2.1   \n",
       "20                   NaN                    NaN          25      6.4    2.44   \n",
       "21                   NaN                    NaN          25      6.8    2.64   \n",
       "22                   NaN                    NaN          25      7.9    3.24   \n",
       "23                   NaN                    NaN          18        6    2.11   \n",
       "24                   NaN                    NaN          13        4    1.26   \n",
       "25                   NaN                    NaN          25      7.2    2.91   \n",
       "26                   NaN                    NaN          22      8.3    3.47   \n",
       "27                   NaN                    NaN          19      5.9    2.07   \n",
       "28                   NaN                    NaN          21        8    3.31   \n",
       "29                   NaN                    NaN          25      7.3    2.88   \n",
       "30                   NaN                    NaN          15      7.2    2.92   \n",
       "31                   NaN                    NaN          11      6.1    2.04   \n",
       "32                   NaN                    NaN          18      6.8     2.6   \n",
       "33                   NaN                    NaN          19      7.6     3.1   \n",
       "34                   NaN                    NaN          21      6.9    2.65   \n",
       "35                   NaN                    NaN          25      7.2    2.89   \n",
       "36                   NaN                    NaN          21      7.5    3.06   \n",
       "37                   NaN                    NaN          25      7.1     2.8   \n",
       "38                   NaN                    NaN          21      7.2    2.78   \n",
       "39                   NaN                    NaN          21      6.6    2.55   \n",
       "40                   NaN                    NaN          23      7.3    2.89   \n",
       "41                   NaN                    NaN          18      6.2    2.27   \n",
       "42                   NaN                    NaN          18      6.6    2.55   \n",
       "43                   NaN                    NaN          21      7.3    2.88   \n",
       "44                   NaN                    NaN          20      6.3     2.4   \n",
       "45                   NaN                    NaN          25        5    1.67   \n",
       "46                   NaN                    NaN          21      7.6    3.19   \n",
       "47                   NaN                    NaN          18      6.7    2.58   \n",
       "48                   NaN                    NaN          11      3.8    1.34   \n",
       "49                   NaN                    NaN          13      6.1    2.15   \n",
       "50                   NaN                    NaN          15        6    2.22   \n",
       "51                   NaN                    NaN          25      8.7    3.69   \n",
       "52                   NaN                    NaN          22      7.3    2.92   \n",
       "53                   NaN                    NaN          21      6.3    2.32   \n",
       "54                   NaN                    NaN           9      4.5    1.68   \n",
       "55                   NaN                    NaN          25        6    2.14   \n",
       "56                   NaN                    NaN          25      7.5    3.02   \n",
       "57                   NaN                    NaN          21      5.4    1.99   \n",
       "58                   NaN                    NaN          17      6.2    2.35   \n",
       "59                   NaN                    NaN          22      7.9     3.2   \n",
       "\n",
       "    Điểm chữ        Xếp loại                Họ và tên  \n",
       "0         C+      Trung bình            Đinh Tuấn Anh  \n",
       "1          B             Khá               Hà Bảo Anh  \n",
       "2         D+  Trung bình yếu              Lưu Đức Anh  \n",
       "3          B             Khá              Trần Nam Bá  \n",
       "4         C+      Trung bình              Ngô Đức Bảo  \n",
       "5          B             Khá        Trịnh Thị Bảo Bảo  \n",
       "6          F             Kém        Đỗ Xuân Đức Chung  \n",
       "7         D+  Trung bình yếu      Phạm Tài Đức Phú Đa  \n",
       "8          D  Trung bình yếu               Lê Tấn Đạt  \n",
       "9         D+  Trung bình yếu         Phạm Hà Văn Đông  \n",
       "10        C+      Trung bình           Trịnh Ngọc Đức  \n",
       "11        C+      Trung bình            Tăng Hoài Duy  \n",
       "12         B             Khá            Thái Thị Hiền  \n",
       "13         B             Khá            Phạm Thế Hiển  \n",
       "14        C+      Trung bình           Trần Minh Hiếu  \n",
       "15         B             Khá     Nguyễn Thị Thanh Hòa  \n",
       "16        B+             Khá           Ngô Quốc Hoàng  \n",
       "17         B             Khá             Hồ Quang Huy  \n",
       "18         F             Kém         Lương Quang Khải  \n",
       "19        D+  Trung bình yếu     Phạm Hoàng Duy Khang  \n",
       "20        C+      Trung bình         Lê Mỹ Thanh Lành  \n",
       "21        C+      Trung bình         Trần Hồ Phi Long  \n",
       "22         B             Khá        Trương Thị Cẩm Ly  \n",
       "23        C+      Trung bình        Quách Trọng Nghĩa  \n",
       "24         D  Trung bình yếu        Nguyễn Thành Nhân  \n",
       "25         B             Khá     Nguyễn Văn Phúc Nhân  \n",
       "26        B+             Khá          Lưu Thị Yến Nhi  \n",
       "27        D+  Trung bình yếu              Lê Huy Phát  \n",
       "28        B+             Khá           Lê Thanh Phong  \n",
       "29         B             Khá   Phan Nguyễn Mai Phương  \n",
       "30         B             Khá            Vũ Minh Quang  \n",
       "31        C+      Trung bình        Nguyễn Quang Quốc  \n",
       "32        C+      Trung bình           Dương Văn Sang  \n",
       "33         B             Khá         Nguyễn Tuấn Sinh  \n",
       "34        C+      Trung bình           Phạm Trung Sơn  \n",
       "35         B             Khá           Nguyễn Tiến Sỹ  \n",
       "36         B             Khá                   Văn Sỹ  \n",
       "37         B             Khá               Lê Duy Tâm  \n",
       "38         B             Khá    Phan Nguyễn Trọng Tân  \n",
       "39        C+      Trung bình    Trương Nguyễn Duy Tân  \n",
       "40         B             Khá             Đỗ Văn Thắng  \n",
       "41        C+      Trung bình         Nguyễn Đức Thịnh  \n",
       "42        C+      Trung bình  Phạm Huỳnh Trường Thịnh  \n",
       "43         B             Khá           Trần Xuân Thủy  \n",
       "44        C+      Trung bình              Lê Văn Tiến  \n",
       "45        D+  Trung bình yếu    Nguyễn Đặng Minh Toại  \n",
       "46         B             Khá          Huỳnh Minh Toàn  \n",
       "47        C+      Trung bình          Nguyễn Anh Toàn  \n",
       "48         F             Kém     Lưu Hoàng Ngọc Trinh  \n",
       "49        C+      Trung bình             Lê Văn Trung  \n",
       "50        C+      Trung bình        Nguyễn Tuấn Trung  \n",
       "51        B+             Khá         Phạm Thành Trung  \n",
       "52         B             Khá           Phan Chí Trung  \n",
       "53        C+      Trung bình           Đào Duy Trường  \n",
       "54         D  Trung bình yếu         Đoàn Minh Trường  \n",
       "55        C+      Trung bình             Huỳnh Anh Tú  \n",
       "56         B             Khá      Nguyễn Văn Anh Tuấn  \n",
       "57        D+  Trung bình yếu           Phạm Minh Tuấn  \n",
       "58        C+      Trung bình       Phan Lê Hoàng Việt  \n",
       "59         B             Khá             Trần Tuấn Vũ  \n",
       "\n",
       "[60 rows x 91 columns]"
      ],
      "text/html": "<div>\n<style scoped>\n    .dataframe tbody tr th:only-of-type {\n        vertical-align: middle;\n    }\n\n    .dataframe tbody tr th {\n        vertical-align: top;\n    }\n\n    .dataframe thead th {\n        text-align: right;\n    }\n</style>\n<table border=\"1\" class=\"dataframe\">\n  <thead>\n    <tr style=\"text-align: right;\">\n      <th></th>\n      <th>index</th>\n      <th>STT</th>\n      <th>Mã sinh viên</th>\n      <th>Họ đệm</th>\n      <th>Tên</th>\n      <th>Những nguyên lý cơ bản của Chủ nghĩa Mác - Lênin</th>\n      <th>Nhập môn Tin học</th>\n      <th>Giáo dục Quốc phòng và An ninh 1</th>\n      <th>Toán cao cấp 1</th>\n      <th>Giáo dục thể chất 1</th>\n      <th>...</th>\n      <th>Giải tích ngẫu nhiên cho tài chính</th>\n      <th>Chứng chỉ TOEIC 450</th>\n      <th>Khóa luận tốt nghiệp</th>\n      <th>Thực tập doanh nghiệp</th>\n      <th>Số tín chỉ</th>\n      <th>Điểm 10</th>\n      <th>Điểm 4</th>\n      <th>Điểm chữ</th>\n      <th>Xếp loại</th>\n      <th>Họ và tên</th>\n    </tr>\n  </thead>\n  <tbody>\n    <tr>\n      <th>0</th>\n      <td>1</td>\n      <td>1.0</td>\n      <td>19489471.0</td>\n      <td>Đinh Tuấn</td>\n      <td>Anh</td>\n      <td>5.1</td>\n      <td>8.3</td>\n      <td>7.0</td>\n      <td>8.5</td>\n      <td>6.5</td>\n      <td>...</td>\n      <td>NaN</td>\n      <td>NaN</td>\n      <td>NaN</td>\n      <td>NaN</td>\n      <td>29</td>\n      <td>6.6</td>\n      <td>2.49</td>\n      <td>C+</td>\n      <td>Trung bình</td>\n      <td>Đinh Tuấn Anh</td>\n    </tr>\n    <tr>\n      <th>1</th>\n      <td>2</td>\n      <td>2.0</td>\n      <td>19442001.0</td>\n      <td>Hà Bảo</td>\n      <td>Anh</td>\n      <td>5.3</td>\n      <td>6.1</td>\n      <td>7.5</td>\n      <td>7.1</td>\n      <td>7.5</td>\n      <td>...</td>\n      <td>NaN</td>\n      <td>NaN</td>\n      <td>NaN</td>\n      <td>NaN</td>\n      <td>18</td>\n      <td>7.4</td>\n      <td>2.97</td>\n      <td>B</td>\n      <td>Khá</td>\n      <td>Hà Bảo Anh</td>\n    </tr>\n    <tr>\n      <th>2</th>\n      <td>3</td>\n      <td>3.0</td>\n      <td>19478881.0</td>\n      <td>Lưu Đức</td>\n      <td>Anh</td>\n      <td>5.6</td>\n      <td>7.7</td>\n      <td>7.0</td>\n      <td>8.4</td>\n      <td>6.5</td>\n      <td>...</td>\n      <td>NaN</td>\n      <td>NaN</td>\n      <td>NaN</td>\n      <td>NaN</td>\n      <td>21</td>\n      <td>5.9</td>\n      <td>2.17</td>\n      <td>D+</td>\n      <td>Trung bình yếu</td>\n      <td>Lưu Đức Anh</td>\n    </tr>\n    <tr>\n      <th>3</th>\n      <td>4</td>\n      <td>4.0</td>\n      <td>19506751.0</td>\n      <td>Trần Nam</td>\n      <td>Bá</td>\n      <td>6.7</td>\n      <td>7.5</td>\n      <td>6.5</td>\n      <td>8.6</td>\n      <td>6.5</td>\n      <td>...</td>\n      <td>NaN</td>\n      <td>NaN</td>\n      <td>NaN</td>\n      <td>NaN</td>\n      <td>21</td>\n      <td>7.5</td>\n      <td>3.09</td>\n      <td>B</td>\n      <td>Khá</td>\n      <td>Trần Nam Bá</td>\n    </tr>\n    <tr>\n      <th>4</th>\n      <td>5</td>\n      <td>5.0</td>\n      <td>19487461.0</td>\n      <td>Ngô Đức</td>\n      <td>Bảo</td>\n      <td>5.3</td>\n      <td>7.8</td>\n      <td>7.5</td>\n      <td>9.5</td>\n      <td>5.0</td>\n      <td>...</td>\n      <td>NaN</td>\n      <td>NaN</td>\n      <td>NaN</td>\n      <td>NaN</td>\n      <td>15</td>\n      <td>6.5</td>\n      <td>2.44</td>\n      <td>C+</td>\n      <td>Trung bình</td>\n      <td>Ngô Đức Bảo</td>\n    </tr>\n    <tr>\n      <th>5</th>\n      <td>6</td>\n      <td>6.0</td>\n      <td>19514491.0</td>\n      <td>Trịnh Thị Bảo</td>\n      <td>Bảo</td>\n      <td>6.2</td>\n      <td>7.7</td>\n      <td>8.0</td>\n      <td>8.6</td>\n      <td>7.0</td>\n      <td>...</td>\n      <td>NaN</td>\n      <td>NaN</td>\n      <td>NaN</td>\n      <td>NaN</td>\n      <td>18</td>\n      <td>7.7</td>\n      <td>3.23</td>\n      <td>B</td>\n      <td>Khá</td>\n      <td>Trịnh Thị Bảo Bảo</td>\n    </tr>\n    <tr>\n      <th>6</th>\n      <td>7</td>\n      <td>7.0</td>\n      <td>19498401.0</td>\n      <td>Đỗ Xuân Đức</td>\n      <td>Chung</td>\n      <td>5.4</td>\n      <td>NaN</td>\n      <td>7.0</td>\n      <td>5.4</td>\n      <td>6.0</td>\n      <td>...</td>\n      <td>NaN</td>\n      <td>NaN</td>\n      <td>NaN</td>\n      <td>NaN</td>\n      <td>16</td>\n      <td>3.9</td>\n      <td>1.33</td>\n      <td>F</td>\n      <td>Kém</td>\n      <td>Đỗ Xuân Đức Chung</td>\n    </tr>\n    <tr>\n      <th>7</th>\n      <td>8</td>\n      <td>8.0</td>\n      <td>19442481.0</td>\n      <td>Phạm Tài Đức Phú</td>\n      <td>Đa</td>\n      <td>5.3</td>\n      <td>6.6</td>\n      <td>7.0</td>\n      <td>8.5</td>\n      <td>5.5</td>\n      <td>...</td>\n      <td>NaN</td>\n      <td>NaN</td>\n      <td>NaN</td>\n      <td>NaN</td>\n      <td>25</td>\n      <td>5.4</td>\n      <td>1.94</td>\n      <td>D+</td>\n      <td>Trung bình yếu</td>\n      <td>Phạm Tài Đức Phú Đa</td>\n    </tr>\n    <tr>\n      <th>8</th>\n      <td>9</td>\n      <td>9.0</td>\n      <td>19463951.0</td>\n      <td>Lê Tấn</td>\n      <td>Đạt</td>\n      <td>5.9</td>\n      <td>5.9</td>\n      <td>5.0</td>\n      <td>4.5</td>\n      <td>5.0</td>\n      <td>...</td>\n      <td>NaN</td>\n      <td>NaN</td>\n      <td>NaN</td>\n      <td>NaN</td>\n      <td>19</td>\n      <td>4.9</td>\n      <td>1.69</td>\n      <td>D</td>\n      <td>Trung bình yếu</td>\n      <td>Lê Tấn Đạt</td>\n    </tr>\n    <tr>\n      <th>9</th>\n      <td>10</td>\n      <td>10.0</td>\n      <td>19500311.0</td>\n      <td>Phạm Hà Văn</td>\n      <td>Đông</td>\n      <td>5.0</td>\n      <td>NaN</td>\n      <td>7.0</td>\n      <td>6.7</td>\n      <td>5.5</td>\n      <td>...</td>\n      <td>NaN</td>\n      <td>NaN</td>\n      <td>NaN</td>\n      <td>NaN</td>\n      <td>20</td>\n      <td>5.7</td>\n      <td>1.98</td>\n      <td>D+</td>\n      <td>Trung bình yếu</td>\n      <td>Phạm Hà Văn Đông</td>\n    </tr>\n    <tr>\n      <th>10</th>\n      <td>11</td>\n      <td>11.0</td>\n      <td>19469091.0</td>\n      <td>Trịnh Ngọc</td>\n      <td>Đức</td>\n      <td>5.7</td>\n      <td>7.4</td>\n      <td>6.5</td>\n      <td>7.6</td>\n      <td>5.5</td>\n      <td>...</td>\n      <td>NaN</td>\n      <td>NaN</td>\n      <td>NaN</td>\n      <td>NaN</td>\n      <td>22</td>\n      <td>6.5</td>\n      <td>2.42</td>\n      <td>C+</td>\n      <td>Trung bình</td>\n      <td>Trịnh Ngọc Đức</td>\n    </tr>\n    <tr>\n      <th>11</th>\n      <td>12</td>\n      <td>12.0</td>\n      <td>19498561.0</td>\n      <td>Tăng Hoài</td>\n      <td>Duy</td>\n      <td>5.8</td>\n      <td>6.9</td>\n      <td>6.5</td>\n      <td>7.6</td>\n      <td>6.0</td>\n      <td>...</td>\n      <td>NaN</td>\n      <td>NaN</td>\n      <td>NaN</td>\n      <td>NaN</td>\n      <td>25</td>\n      <td>6.3</td>\n      <td>2.27</td>\n      <td>C+</td>\n      <td>Trung bình</td>\n      <td>Tăng Hoài Duy</td>\n    </tr>\n    <tr>\n      <th>12</th>\n      <td>13</td>\n      <td>13.0</td>\n      <td>19527801.0</td>\n      <td>Thái Thị</td>\n      <td>Hiền</td>\n      <td>6.0</td>\n      <td>6.4</td>\n      <td>7.5</td>\n      <td>9.0</td>\n      <td>6.5</td>\n      <td>...</td>\n      <td>NaN</td>\n      <td>NaN</td>\n      <td>NaN</td>\n      <td>NaN</td>\n      <td>21</td>\n      <td>7.3</td>\n      <td>2.96</td>\n      <td>B</td>\n      <td>Khá</td>\n      <td>Thái Thị Hiền</td>\n    </tr>\n    <tr>\n      <th>13</th>\n      <td>14</td>\n      <td>14.0</td>\n      <td>19529741.0</td>\n      <td>Phạm Thế</td>\n      <td>Hiển</td>\n      <td>6.4</td>\n      <td>5.5</td>\n      <td>7.5</td>\n      <td>8.1</td>\n      <td>6.5</td>\n      <td>...</td>\n      <td>NaN</td>\n      <td>NaN</td>\n      <td>NaN</td>\n      <td>NaN</td>\n      <td>21</td>\n      <td>7.1</td>\n      <td>2.81</td>\n      <td>B</td>\n      <td>Khá</td>\n      <td>Phạm Thế Hiển</td>\n    </tr>\n    <tr>\n      <th>14</th>\n      <td>15</td>\n      <td>15.0</td>\n      <td>19441341.0</td>\n      <td>Trần Minh</td>\n      <td>Hiếu</td>\n      <td>5.7</td>\n      <td>7.6</td>\n      <td>7.5</td>\n      <td>7.9</td>\n      <td>8.0</td>\n      <td>...</td>\n      <td>NaN</td>\n      <td>NaN</td>\n      <td>NaN</td>\n      <td>NaN</td>\n      <td>18</td>\n      <td>6.2</td>\n      <td>2.18</td>\n      <td>C+</td>\n      <td>Trung bình</td>\n      <td>Trần Minh Hiếu</td>\n    </tr>\n    <tr>\n      <th>15</th>\n      <td>16</td>\n      <td>16.0</td>\n      <td>19429041.0</td>\n      <td>Nguyễn Thị Thanh</td>\n      <td>Hòa</td>\n      <td>4.9</td>\n      <td>5.7</td>\n      <td>8.0</td>\n      <td>9.8</td>\n      <td>7.0</td>\n      <td>...</td>\n      <td>NaN</td>\n      <td>NaN</td>\n      <td>NaN</td>\n      <td>NaN</td>\n      <td>18</td>\n      <td>7.6</td>\n      <td>3.04</td>\n      <td>B</td>\n      <td>Khá</td>\n      <td>Nguyễn Thị Thanh Hòa</td>\n    </tr>\n    <tr>\n      <th>16</th>\n      <td>17</td>\n      <td>17.0</td>\n      <td>19477071.0</td>\n      <td>Ngô Quốc</td>\n      <td>Hoàng</td>\n      <td>7.1</td>\n      <td>7.8</td>\n      <td>7.5</td>\n      <td>9.8</td>\n      <td>6.0</td>\n      <td>...</td>\n      <td>NaN</td>\n      <td>NaN</td>\n      <td>NaN</td>\n      <td>NaN</td>\n      <td>27</td>\n      <td>8.3</td>\n      <td>3.47</td>\n      <td>B+</td>\n      <td>Khá</td>\n      <td>Ngô Quốc Hoàng</td>\n    </tr>\n    <tr>\n      <th>17</th>\n      <td>18</td>\n      <td>18.0</td>\n      <td>19443561.0</td>\n      <td>Hồ Quang</td>\n      <td>Huy</td>\n      <td>5.6</td>\n      <td>8.3</td>\n      <td>6.5</td>\n      <td>9.0</td>\n      <td>7.0</td>\n      <td>...</td>\n      <td>NaN</td>\n      <td>NaN</td>\n      <td>NaN</td>\n      <td>NaN</td>\n      <td>25</td>\n      <td>7.8</td>\n      <td>3.17</td>\n      <td>B</td>\n      <td>Khá</td>\n      <td>Hồ Quang Huy</td>\n    </tr>\n    <tr>\n      <th>18</th>\n      <td>19</td>\n      <td>19.0</td>\n      <td>19529041.0</td>\n      <td>Lương Quang</td>\n      <td>Khải</td>\n      <td>5.6</td>\n      <td>6.2</td>\n      <td>7.0</td>\n      <td>7.5</td>\n      <td>5.5</td>\n      <td>...</td>\n      <td>NaN</td>\n      <td>NaN</td>\n      <td>NaN</td>\n      <td>NaN</td>\n      <td>21</td>\n      <td>3.9</td>\n      <td>1.54</td>\n      <td>F</td>\n      <td>Kém</td>\n      <td>Lương Quang Khải</td>\n    </tr>\n    <tr>\n      <th>19</th>\n      <td>20</td>\n      <td>20.0</td>\n      <td>19526961.0</td>\n      <td>Phạm Hoàng Duy</td>\n      <td>Khang</td>\n      <td>6.4</td>\n      <td>5.9</td>\n      <td>6.0</td>\n      <td>6.5</td>\n      <td>6.5</td>\n      <td>...</td>\n      <td>NaN</td>\n      <td>NaN</td>\n      <td>NaN</td>\n      <td>NaN</td>\n      <td>18</td>\n      <td>5.7</td>\n      <td>2.1</td>\n      <td>D+</td>\n      <td>Trung bình yếu</td>\n      <td>Phạm Hoàng Duy Khang</td>\n    </tr>\n    <tr>\n      <th>20</th>\n      <td>21</td>\n      <td>21.0</td>\n      <td>19525231.0</td>\n      <td>Lê Mỹ Thanh</td>\n      <td>Lành</td>\n      <td>5.1</td>\n      <td>7.6</td>\n      <td>7.0</td>\n      <td>5.6</td>\n      <td>5.5</td>\n      <td>...</td>\n      <td>NaN</td>\n      <td>NaN</td>\n      <td>NaN</td>\n      <td>NaN</td>\n      <td>25</td>\n      <td>6.4</td>\n      <td>2.44</td>\n      <td>C+</td>\n      <td>Trung bình</td>\n      <td>Lê Mỹ Thanh Lành</td>\n    </tr>\n    <tr>\n      <th>21</th>\n      <td>22</td>\n      <td>22.0</td>\n      <td>19500551.0</td>\n      <td>Trần Hồ Phi</td>\n      <td>Long</td>\n      <td>6.5</td>\n      <td>7.3</td>\n      <td>7.0</td>\n      <td>8.9</td>\n      <td>5.5</td>\n      <td>...</td>\n      <td>NaN</td>\n      <td>NaN</td>\n      <td>NaN</td>\n      <td>NaN</td>\n      <td>25</td>\n      <td>6.8</td>\n      <td>2.64</td>\n      <td>C+</td>\n      <td>Trung bình</td>\n      <td>Trần Hồ Phi Long</td>\n    </tr>\n    <tr>\n      <th>22</th>\n      <td>23</td>\n      <td>23.0</td>\n      <td>19532211.0</td>\n      <td>Trương Thị Cẩm</td>\n      <td>Ly</td>\n      <td>6.3</td>\n      <td>6.5</td>\n      <td>8.0</td>\n      <td>8.4</td>\n      <td>5.5</td>\n      <td>...</td>\n      <td>NaN</td>\n      <td>NaN</td>\n      <td>NaN</td>\n      <td>NaN</td>\n      <td>25</td>\n      <td>7.9</td>\n      <td>3.24</td>\n      <td>B</td>\n      <td>Khá</td>\n      <td>Trương Thị Cẩm Ly</td>\n    </tr>\n    <tr>\n      <th>23</th>\n      <td>24</td>\n      <td>24.0</td>\n      <td>19502841.0</td>\n      <td>Quách Trọng</td>\n      <td>Nghĩa</td>\n      <td>5.7</td>\n      <td>6.3</td>\n      <td>8.0</td>\n      <td>6.1</td>\n      <td>6.5</td>\n      <td>...</td>\n      <td>NaN</td>\n      <td>NaN</td>\n      <td>NaN</td>\n      <td>NaN</td>\n      <td>18</td>\n      <td>6</td>\n      <td>2.11</td>\n      <td>C+</td>\n      <td>Trung bình</td>\n      <td>Quách Trọng Nghĩa</td>\n    </tr>\n    <tr>\n      <th>24</th>\n      <td>25</td>\n      <td>25.0</td>\n      <td>19499101.0</td>\n      <td>Nguyễn Thành</td>\n      <td>Nhân</td>\n      <td>4.5</td>\n      <td>7.6</td>\n      <td>7.0</td>\n      <td>2.5</td>\n      <td>5.5</td>\n      <td>...</td>\n      <td>NaN</td>\n      <td>NaN</td>\n      <td>NaN</td>\n      <td>NaN</td>\n      <td>13</td>\n      <td>4</td>\n      <td>1.26</td>\n      <td>D</td>\n      <td>Trung bình yếu</td>\n      <td>Nguyễn Thành Nhân</td>\n    </tr>\n    <tr>\n      <th>25</th>\n      <td>26</td>\n      <td>26.0</td>\n      <td>19440221.0</td>\n      <td>Nguyễn Văn Phúc</td>\n      <td>Nhân</td>\n      <td>6.0</td>\n      <td>7.9</td>\n      <td>7.0</td>\n      <td>7.4</td>\n      <td>7.0</td>\n      <td>...</td>\n      <td>NaN</td>\n      <td>NaN</td>\n      <td>NaN</td>\n      <td>NaN</td>\n      <td>25</td>\n      <td>7.2</td>\n      <td>2.91</td>\n      <td>B</td>\n      <td>Khá</td>\n      <td>Nguyễn Văn Phúc Nhân</td>\n    </tr>\n    <tr>\n      <th>26</th>\n      <td>27</td>\n      <td>27.0</td>\n      <td>19522491.0</td>\n      <td>Lưu Thị Yến</td>\n      <td>Nhi</td>\n      <td>7.0</td>\n      <td>7.5</td>\n      <td>7.0</td>\n      <td>9.5</td>\n      <td>7.0</td>\n      <td>...</td>\n      <td>NaN</td>\n      <td>NaN</td>\n      <td>NaN</td>\n      <td>NaN</td>\n      <td>22</td>\n      <td>8.3</td>\n      <td>3.47</td>\n      <td>B+</td>\n      <td>Khá</td>\n      <td>Lưu Thị Yến Nhi</td>\n    </tr>\n    <tr>\n      <th>27</th>\n      <td>28</td>\n      <td>28.0</td>\n      <td>19469351.0</td>\n      <td>Lê Huy</td>\n      <td>Phát</td>\n      <td>5.7</td>\n      <td>5.6</td>\n      <td>7.5</td>\n      <td>7.5</td>\n      <td>5.0</td>\n      <td>...</td>\n      <td>NaN</td>\n      <td>NaN</td>\n      <td>NaN</td>\n      <td>NaN</td>\n      <td>19</td>\n      <td>5.9</td>\n      <td>2.07</td>\n      <td>D+</td>\n      <td>Trung bình yếu</td>\n      <td>Lê Huy Phát</td>\n    </tr>\n    <tr>\n      <th>28</th>\n      <td>29</td>\n      <td>29.0</td>\n      <td>19475611.0</td>\n      <td>Lê Thanh</td>\n      <td>Phong</td>\n      <td>7.0</td>\n      <td>8.2</td>\n      <td>7.5</td>\n      <td>9.5</td>\n      <td>6.5</td>\n      <td>...</td>\n      <td>NaN</td>\n      <td>NaN</td>\n      <td>NaN</td>\n      <td>NaN</td>\n      <td>21</td>\n      <td>8</td>\n      <td>3.31</td>\n      <td>B+</td>\n      <td>Khá</td>\n      <td>Lê Thanh Phong</td>\n    </tr>\n    <tr>\n      <th>29</th>\n      <td>30</td>\n      <td>30.0</td>\n      <td>19469121.0</td>\n      <td>Phan Nguyễn Mai</td>\n      <td>Phương</td>\n      <td>8.1</td>\n      <td>7.6</td>\n      <td>8.0</td>\n      <td>7.1</td>\n      <td>7.5</td>\n      <td>...</td>\n      <td>NaN</td>\n      <td>NaN</td>\n      <td>NaN</td>\n      <td>NaN</td>\n      <td>25</td>\n      <td>7.3</td>\n      <td>2.88</td>\n      <td>B</td>\n      <td>Khá</td>\n      <td>Phan Nguyễn Mai Phương</td>\n    </tr>\n    <tr>\n      <th>30</th>\n      <td>31</td>\n      <td>31.0</td>\n      <td>19495101.0</td>\n      <td>Vũ Minh</td>\n      <td>Quang</td>\n      <td>6.5</td>\n      <td>7.2</td>\n      <td>7.0</td>\n      <td>8.6</td>\n      <td>7.5</td>\n      <td>...</td>\n      <td>NaN</td>\n      <td>NaN</td>\n      <td>NaN</td>\n      <td>NaN</td>\n      <td>15</td>\n      <td>7.2</td>\n      <td>2.92</td>\n      <td>B</td>\n      <td>Khá</td>\n      <td>Vũ Minh Quang</td>\n    </tr>\n    <tr>\n      <th>31</th>\n      <td>32</td>\n      <td>32.0</td>\n      <td>19477141.0</td>\n      <td>Nguyễn Quang</td>\n      <td>Quốc</td>\n      <td>5.9</td>\n      <td>5.3</td>\n      <td>6.5</td>\n      <td>7.7</td>\n      <td>5.0</td>\n      <td>...</td>\n      <td>NaN</td>\n      <td>NaN</td>\n      <td>NaN</td>\n      <td>NaN</td>\n      <td>11</td>\n      <td>6.1</td>\n      <td>2.04</td>\n      <td>C+</td>\n      <td>Trung bình</td>\n      <td>Nguyễn Quang Quốc</td>\n    </tr>\n    <tr>\n      <th>32</th>\n      <td>33</td>\n      <td>33.0</td>\n      <td>19495031.0</td>\n      <td>Dương Văn</td>\n      <td>Sang</td>\n      <td>5.2</td>\n      <td>7.1</td>\n      <td>7.0</td>\n      <td>9.1</td>\n      <td>7.0</td>\n      <td>...</td>\n      <td>NaN</td>\n      <td>NaN</td>\n      <td>NaN</td>\n      <td>NaN</td>\n      <td>18</td>\n      <td>6.8</td>\n      <td>2.6</td>\n      <td>C+</td>\n      <td>Trung bình</td>\n      <td>Dương Văn Sang</td>\n    </tr>\n    <tr>\n      <th>33</th>\n      <td>34</td>\n      <td>34.0</td>\n      <td>19477821.0</td>\n      <td>Nguyễn Tuấn</td>\n      <td>Sinh</td>\n      <td>7.1</td>\n      <td>7.2</td>\n      <td>6.0</td>\n      <td>7.9</td>\n      <td>7.5</td>\n      <td>...</td>\n      <td>NaN</td>\n      <td>NaN</td>\n      <td>NaN</td>\n      <td>NaN</td>\n      <td>19</td>\n      <td>7.6</td>\n      <td>3.1</td>\n      <td>B</td>\n      <td>Khá</td>\n      <td>Nguyễn Tuấn Sinh</td>\n    </tr>\n    <tr>\n      <th>34</th>\n      <td>35</td>\n      <td>35.0</td>\n      <td>19518291.0</td>\n      <td>Phạm Trung</td>\n      <td>Sơn</td>\n      <td>5.3</td>\n      <td>7.4</td>\n      <td>7.5</td>\n      <td>8.0</td>\n      <td>6.5</td>\n      <td>...</td>\n      <td>NaN</td>\n      <td>NaN</td>\n      <td>NaN</td>\n      <td>NaN</td>\n      <td>21</td>\n      <td>6.9</td>\n      <td>2.65</td>\n      <td>C+</td>\n      <td>Trung bình</td>\n      <td>Phạm Trung Sơn</td>\n    </tr>\n    <tr>\n      <th>35</th>\n      <td>36</td>\n      <td>36.0</td>\n      <td>19440181.0</td>\n      <td>Nguyễn Tiến</td>\n      <td>Sỹ</td>\n      <td>5.7</td>\n      <td>6.6</td>\n      <td>8.0</td>\n      <td>8.1</td>\n      <td>6.5</td>\n      <td>...</td>\n      <td>NaN</td>\n      <td>NaN</td>\n      <td>NaN</td>\n      <td>NaN</td>\n      <td>25</td>\n      <td>7.2</td>\n      <td>2.89</td>\n      <td>B</td>\n      <td>Khá</td>\n      <td>Nguyễn Tiến Sỹ</td>\n    </tr>\n    <tr>\n      <th>36</th>\n      <td>37</td>\n      <td>37.0</td>\n      <td>19495751.0</td>\n      <td>Văn</td>\n      <td>Sỹ</td>\n      <td>4.5</td>\n      <td>7.1</td>\n      <td>7.0</td>\n      <td>7.5</td>\n      <td>6.0</td>\n      <td>...</td>\n      <td>NaN</td>\n      <td>NaN</td>\n      <td>NaN</td>\n      <td>NaN</td>\n      <td>21</td>\n      <td>7.5</td>\n      <td>3.06</td>\n      <td>B</td>\n      <td>Khá</td>\n      <td>Văn Sỹ</td>\n    </tr>\n    <tr>\n      <th>37</th>\n      <td>38</td>\n      <td>38.0</td>\n      <td>19445631.0</td>\n      <td>Lê Duy</td>\n      <td>Tâm</td>\n      <td>4.6</td>\n      <td>7.1</td>\n      <td>6.5</td>\n      <td>9.2</td>\n      <td>6.0</td>\n      <td>...</td>\n      <td>NaN</td>\n      <td>NaN</td>\n      <td>NaN</td>\n      <td>NaN</td>\n      <td>25</td>\n      <td>7.1</td>\n      <td>2.8</td>\n      <td>B</td>\n      <td>Khá</td>\n      <td>Lê Duy Tâm</td>\n    </tr>\n    <tr>\n      <th>38</th>\n      <td>39</td>\n      <td>39.0</td>\n      <td>19502821.0</td>\n      <td>Phan Nguyễn Trọng</td>\n      <td>Tân</td>\n      <td>6.3</td>\n      <td>6.8</td>\n      <td>7.5</td>\n      <td>6.0</td>\n      <td>7.5</td>\n      <td>...</td>\n      <td>NaN</td>\n      <td>NaN</td>\n      <td>NaN</td>\n      <td>NaN</td>\n      <td>21</td>\n      <td>7.2</td>\n      <td>2.78</td>\n      <td>B</td>\n      <td>Khá</td>\n      <td>Phan Nguyễn Trọng Tân</td>\n    </tr>\n    <tr>\n      <th>39</th>\n      <td>40</td>\n      <td>40.0</td>\n      <td>19485441.0</td>\n      <td>Trương Nguyễn Duy</td>\n      <td>Tân</td>\n      <td>5.5</td>\n      <td>8.3</td>\n      <td>7.0</td>\n      <td>6.7</td>\n      <td>6.5</td>\n      <td>...</td>\n      <td>NaN</td>\n      <td>NaN</td>\n      <td>NaN</td>\n      <td>NaN</td>\n      <td>21</td>\n      <td>6.6</td>\n      <td>2.55</td>\n      <td>C+</td>\n      <td>Trung bình</td>\n      <td>Trương Nguyễn Duy Tân</td>\n    </tr>\n    <tr>\n      <th>40</th>\n      <td>41</td>\n      <td>41.0</td>\n      <td>19469481.0</td>\n      <td>Đỗ Văn</td>\n      <td>Thắng</td>\n      <td>6.3</td>\n      <td>6.8</td>\n      <td>7.0</td>\n      <td>7.4</td>\n      <td>7.5</td>\n      <td>...</td>\n      <td>NaN</td>\n      <td>NaN</td>\n      <td>NaN</td>\n      <td>NaN</td>\n      <td>23</td>\n      <td>7.3</td>\n      <td>2.89</td>\n      <td>B</td>\n      <td>Khá</td>\n      <td>Đỗ Văn Thắng</td>\n    </tr>\n    <tr>\n      <th>41</th>\n      <td>42</td>\n      <td>42.0</td>\n      <td>19501001.0</td>\n      <td>Nguyễn Đức</td>\n      <td>Thịnh</td>\n      <td>2.0</td>\n      <td>6.7</td>\n      <td>7.0</td>\n      <td>5.7</td>\n      <td>6.5</td>\n      <td>...</td>\n      <td>NaN</td>\n      <td>NaN</td>\n      <td>NaN</td>\n      <td>NaN</td>\n      <td>18</td>\n      <td>6.2</td>\n      <td>2.27</td>\n      <td>C+</td>\n      <td>Trung bình</td>\n      <td>Nguyễn Đức Thịnh</td>\n    </tr>\n    <tr>\n      <th>42</th>\n      <td>43</td>\n      <td>43.0</td>\n      <td>19471271.0</td>\n      <td>Phạm Huỳnh Trường</td>\n      <td>Thịnh</td>\n      <td>5.8</td>\n      <td>5.2</td>\n      <td>7.0</td>\n      <td>7.9</td>\n      <td>6.5</td>\n      <td>...</td>\n      <td>NaN</td>\n      <td>NaN</td>\n      <td>NaN</td>\n      <td>NaN</td>\n      <td>18</td>\n      <td>6.6</td>\n      <td>2.55</td>\n      <td>C+</td>\n      <td>Trung bình</td>\n      <td>Phạm Huỳnh Trường Thịnh</td>\n    </tr>\n    <tr>\n      <th>43</th>\n      <td>44</td>\n      <td>44.0</td>\n      <td>19446021.0</td>\n      <td>Trần Xuân</td>\n      <td>Thủy</td>\n      <td>4.6</td>\n      <td>7.5</td>\n      <td>6.5</td>\n      <td>9.5</td>\n      <td>7.0</td>\n      <td>...</td>\n      <td>NaN</td>\n      <td>NaN</td>\n      <td>NaN</td>\n      <td>NaN</td>\n      <td>21</td>\n      <td>7.3</td>\n      <td>2.88</td>\n      <td>B</td>\n      <td>Khá</td>\n      <td>Trần Xuân Thủy</td>\n    </tr>\n    <tr>\n      <th>44</th>\n      <td>45</td>\n      <td>45.0</td>\n      <td>19430791.0</td>\n      <td>Lê Văn</td>\n      <td>Tiến</td>\n      <td>1.5</td>\n      <td>5.8</td>\n      <td>6.5</td>\n      <td>7.0</td>\n      <td>6.5</td>\n      <td>...</td>\n      <td>NaN</td>\n      <td>NaN</td>\n      <td>NaN</td>\n      <td>NaN</td>\n      <td>20</td>\n      <td>6.3</td>\n      <td>2.4</td>\n      <td>C+</td>\n      <td>Trung bình</td>\n      <td>Lê Văn Tiến</td>\n    </tr>\n    <tr>\n      <th>45</th>\n      <td>46</td>\n      <td>46.0</td>\n      <td>19529711.0</td>\n      <td>Nguyễn Đặng Minh</td>\n      <td>Toại</td>\n      <td>5.0</td>\n      <td>5.6</td>\n      <td>7.5</td>\n      <td>7.0</td>\n      <td>6.5</td>\n      <td>...</td>\n      <td>NaN</td>\n      <td>NaN</td>\n      <td>NaN</td>\n      <td>NaN</td>\n      <td>25</td>\n      <td>5</td>\n      <td>1.67</td>\n      <td>D+</td>\n      <td>Trung bình yếu</td>\n      <td>Nguyễn Đặng Minh Toại</td>\n    </tr>\n    <tr>\n      <th>46</th>\n      <td>47</td>\n      <td>47.0</td>\n      <td>19500761.0</td>\n      <td>Huỳnh Minh</td>\n      <td>Toàn</td>\n      <td>6.0</td>\n      <td>7.9</td>\n      <td>7.5</td>\n      <td>8.5</td>\n      <td>7.5</td>\n      <td>...</td>\n      <td>NaN</td>\n      <td>NaN</td>\n      <td>NaN</td>\n      <td>NaN</td>\n      <td>21</td>\n      <td>7.6</td>\n      <td>3.19</td>\n      <td>B</td>\n      <td>Khá</td>\n      <td>Huỳnh Minh Toàn</td>\n    </tr>\n    <tr>\n      <th>47</th>\n      <td>48</td>\n      <td>48.0</td>\n      <td>19447201.0</td>\n      <td>Nguyễn Anh</td>\n      <td>Toàn</td>\n      <td>4.4</td>\n      <td>7.7</td>\n      <td>6.5</td>\n      <td>8.8</td>\n      <td>6.0</td>\n      <td>...</td>\n      <td>NaN</td>\n      <td>NaN</td>\n      <td>NaN</td>\n      <td>NaN</td>\n      <td>18</td>\n      <td>6.7</td>\n      <td>2.58</td>\n      <td>C+</td>\n      <td>Trung bình</td>\n      <td>Nguyễn Anh Toàn</td>\n    </tr>\n    <tr>\n      <th>48</th>\n      <td>49</td>\n      <td>49.0</td>\n      <td>19477811.0</td>\n      <td>Lưu Hoàng Ngọc</td>\n      <td>Trinh</td>\n      <td>5.9</td>\n      <td>6.2</td>\n      <td>7.5</td>\n      <td>6.4</td>\n      <td>6.5</td>\n      <td>...</td>\n      <td>NaN</td>\n      <td>NaN</td>\n      <td>NaN</td>\n      <td>NaN</td>\n      <td>11</td>\n      <td>3.8</td>\n      <td>1.34</td>\n      <td>F</td>\n      <td>Kém</td>\n      <td>Lưu Hoàng Ngọc Trinh</td>\n    </tr>\n    <tr>\n      <th>49</th>\n      <td>50</td>\n      <td>50.0</td>\n      <td>19491741.0</td>\n      <td>Lê Văn</td>\n      <td>Trung</td>\n      <td>7.9</td>\n      <td>6.7</td>\n      <td>7.0</td>\n      <td>7.4</td>\n      <td>7.0</td>\n      <td>...</td>\n      <td>NaN</td>\n      <td>NaN</td>\n      <td>NaN</td>\n      <td>NaN</td>\n      <td>13</td>\n      <td>6.1</td>\n      <td>2.15</td>\n      <td>C+</td>\n      <td>Trung bình</td>\n      <td>Lê Văn Trung</td>\n    </tr>\n    <tr>\n      <th>50</th>\n      <td>51</td>\n      <td>51.0</td>\n      <td>19477111.0</td>\n      <td>Nguyễn Tuấn</td>\n      <td>Trung</td>\n      <td>4.7</td>\n      <td>6.1</td>\n      <td>6.5</td>\n      <td>7.5</td>\n      <td>5.5</td>\n      <td>...</td>\n      <td>NaN</td>\n      <td>NaN</td>\n      <td>NaN</td>\n      <td>NaN</td>\n      <td>15</td>\n      <td>6</td>\n      <td>2.22</td>\n      <td>C+</td>\n      <td>Trung bình</td>\n      <td>Nguyễn Tuấn Trung</td>\n    </tr>\n    <tr>\n      <th>51</th>\n      <td>52</td>\n      <td>52.0</td>\n      <td>19502701.0</td>\n      <td>Phạm Thành</td>\n      <td>Trung</td>\n      <td>8.0</td>\n      <td>7.9</td>\n      <td>7.5</td>\n      <td>9.9</td>\n      <td>6.5</td>\n      <td>...</td>\n      <td>NaN</td>\n      <td>NaN</td>\n      <td>NaN</td>\n      <td>NaN</td>\n      <td>25</td>\n      <td>8.7</td>\n      <td>3.69</td>\n      <td>B+</td>\n      <td>Khá</td>\n      <td>Phạm Thành Trung</td>\n    </tr>\n    <tr>\n      <th>52</th>\n      <td>53</td>\n      <td>53.0</td>\n      <td>19499041.0</td>\n      <td>Phan Chí</td>\n      <td>Trung</td>\n      <td>6.3</td>\n      <td>6.1</td>\n      <td>6.5</td>\n      <td>6.6</td>\n      <td>5.5</td>\n      <td>...</td>\n      <td>NaN</td>\n      <td>NaN</td>\n      <td>NaN</td>\n      <td>NaN</td>\n      <td>22</td>\n      <td>7.3</td>\n      <td>2.92</td>\n      <td>B</td>\n      <td>Khá</td>\n      <td>Phan Chí Trung</td>\n    </tr>\n    <tr>\n      <th>53</th>\n      <td>54</td>\n      <td>54.0</td>\n      <td>19510211.0</td>\n      <td>Đào Duy</td>\n      <td>Trường</td>\n      <td>5.2</td>\n      <td>5.2</td>\n      <td>7.0</td>\n      <td>7.6</td>\n      <td>5.5</td>\n      <td>...</td>\n      <td>NaN</td>\n      <td>NaN</td>\n      <td>NaN</td>\n      <td>NaN</td>\n      <td>21</td>\n      <td>6.3</td>\n      <td>2.32</td>\n      <td>C+</td>\n      <td>Trung bình</td>\n      <td>Đào Duy Trường</td>\n    </tr>\n    <tr>\n      <th>54</th>\n      <td>55</td>\n      <td>55.0</td>\n      <td>19519011.0</td>\n      <td>Đoàn Minh</td>\n      <td>Trường</td>\n      <td>4.9</td>\n      <td>5.2</td>\n      <td>7.5</td>\n      <td>0.0</td>\n      <td>6.0</td>\n      <td>...</td>\n      <td>NaN</td>\n      <td>NaN</td>\n      <td>NaN</td>\n      <td>NaN</td>\n      <td>9</td>\n      <td>4.5</td>\n      <td>1.68</td>\n      <td>D</td>\n      <td>Trung bình yếu</td>\n      <td>Đoàn Minh Trường</td>\n    </tr>\n    <tr>\n      <th>55</th>\n      <td>56</td>\n      <td>56.0</td>\n      <td>19446701.0</td>\n      <td>Huỳnh Anh</td>\n      <td>Tú</td>\n      <td>6.4</td>\n      <td>6.3</td>\n      <td>6.5</td>\n      <td>7.7</td>\n      <td>7.0</td>\n      <td>...</td>\n      <td>NaN</td>\n      <td>NaN</td>\n      <td>NaN</td>\n      <td>NaN</td>\n      <td>25</td>\n      <td>6</td>\n      <td>2.14</td>\n      <td>C+</td>\n      <td>Trung bình</td>\n      <td>Huỳnh Anh Tú</td>\n    </tr>\n    <tr>\n      <th>56</th>\n      <td>57</td>\n      <td>57.0</td>\n      <td>19497581.0</td>\n      <td>Nguyễn Văn Anh</td>\n      <td>Tuấn</td>\n      <td>5.6</td>\n      <td>7.5</td>\n      <td>7.0</td>\n      <td>6.0</td>\n      <td>6.5</td>\n      <td>...</td>\n      <td>NaN</td>\n      <td>NaN</td>\n      <td>NaN</td>\n      <td>NaN</td>\n      <td>25</td>\n      <td>7.5</td>\n      <td>3.02</td>\n      <td>B</td>\n      <td>Khá</td>\n      <td>Nguyễn Văn Anh Tuấn</td>\n    </tr>\n    <tr>\n      <th>57</th>\n      <td>58</td>\n      <td>58.0</td>\n      <td>19469421.0</td>\n      <td>Phạm Minh</td>\n      <td>Tuấn</td>\n      <td>6.3</td>\n      <td>6.4</td>\n      <td>6.5</td>\n      <td>7.0</td>\n      <td>5.5</td>\n      <td>...</td>\n      <td>NaN</td>\n      <td>NaN</td>\n      <td>NaN</td>\n      <td>NaN</td>\n      <td>21</td>\n      <td>5.4</td>\n      <td>1.99</td>\n      <td>D+</td>\n      <td>Trung bình yếu</td>\n      <td>Phạm Minh Tuấn</td>\n    </tr>\n    <tr>\n      <th>58</th>\n      <td>59</td>\n      <td>59.0</td>\n      <td>19512321.0</td>\n      <td>Phan Lê Hoàng</td>\n      <td>Việt</td>\n      <td>1.0</td>\n      <td>7.6</td>\n      <td>6.5</td>\n      <td>5.7</td>\n      <td>5.0</td>\n      <td>...</td>\n      <td>NaN</td>\n      <td>NaN</td>\n      <td>NaN</td>\n      <td>NaN</td>\n      <td>17</td>\n      <td>6.2</td>\n      <td>2.35</td>\n      <td>C+</td>\n      <td>Trung bình</td>\n      <td>Phan Lê Hoàng Việt</td>\n    </tr>\n    <tr>\n      <th>59</th>\n      <td>60</td>\n      <td>60.0</td>\n      <td>19474281.0</td>\n      <td>Trần Tuấn</td>\n      <td>Vũ</td>\n      <td>7.9</td>\n      <td>6.5</td>\n      <td>6.5</td>\n      <td>9.6</td>\n      <td>5.5</td>\n      <td>...</td>\n      <td>NaN</td>\n      <td>NaN</td>\n      <td>NaN</td>\n      <td>NaN</td>\n      <td>22</td>\n      <td>7.9</td>\n      <td>3.2</td>\n      <td>B</td>\n      <td>Khá</td>\n      <td>Trần Tuấn Vũ</td>\n    </tr>\n  </tbody>\n</table>\n<p>60 rows × 91 columns</p>\n</div>"
     },
     "metadata": {},
     "execution_count": 48
    }
   ],
   "source": [
    "df"
   ]
  },
  {
   "cell_type": "code",
   "execution_count": 49,
   "metadata": {},
   "outputs": [
    {
     "output_type": "execute_result",
     "data": {
      "text/plain": [
       "Họ và tên             Nguyễn Tuấn Trung\n",
       "Kỹ thuật lập trình                  8.5\n",
       "Name: 50, dtype: object"
      ]
     },
     "metadata": {},
     "execution_count": 49
    }
   ],
   "source": [
    "df.loc[50, ['Họ và tên', 'Kỹ thuật lập trình']]"
   ]
  },
  {
   "cell_type": "code",
   "execution_count": 50,
   "metadata": {
    "scrolled": true
   },
   "outputs": [
    {
     "output_type": "execute_result",
     "data": {
      "text/plain": [
       "                  Họ và tên  Cấu trúc dữ liệu và giải thuật\n",
       "0             Đinh Tuấn Anh                             6.1\n",
       "1                Hà Bảo Anh                             7.2\n",
       "2               Lưu Đức Anh                             5.7\n",
       "3               Trần Nam Bá                             7.1\n",
       "4               Ngô Đức Bảo                             NaN\n",
       "5         Trịnh Thị Bảo Bảo                             7.2\n",
       "6         Đỗ Xuân Đức Chung                             NaN\n",
       "7       Phạm Tài Đức Phú Đa                             4.3\n",
       "8                Lê Tấn Đạt                             NaN\n",
       "9          Phạm Hà Văn Đông                             5.2\n",
       "10           Trịnh Ngọc Đức                             5.5\n",
       "11            Tăng Hoài Duy                             5.2\n",
       "12            Thái Thị Hiền                             7.3\n",
       "13            Phạm Thế Hiển                             6.6\n",
       "14           Trần Minh Hiếu                             6.9\n",
       "15     Nguyễn Thị Thanh Hòa                             NaN\n",
       "16           Ngô Quốc Hoàng                             8.4\n",
       "17             Hồ Quang Huy                             7.6\n",
       "18         Lương Quang Khải                             0.0\n",
       "19     Phạm Hoàng Duy Khang                             6.7\n",
       "20         Lê Mỹ Thanh Lành                             6.4\n",
       "21         Trần Hồ Phi Long                             6.0\n",
       "22        Trương Thị Cẩm Ly                             8.5\n",
       "23        Quách Trọng Nghĩa                             5.4\n",
       "24        Nguyễn Thành Nhân                             0.0\n",
       "25     Nguyễn Văn Phúc Nhân                             5.7\n",
       "26          Lưu Thị Yến Nhi                             9.5\n",
       "27              Lê Huy Phát                             6.3\n",
       "28           Lê Thanh Phong                             7.6\n",
       "29   Phan Nguyễn Mai Phương                             4.6\n",
       "30            Vũ Minh Quang                             7.3\n",
       "31        Nguyễn Quang Quốc                             6.6\n",
       "32           Dương Văn Sang                             NaN\n",
       "33         Nguyễn Tuấn Sinh                             7.4\n",
       "34           Phạm Trung Sơn                             6.3\n",
       "35           Nguyễn Tiến Sỹ                             6.0\n",
       "36                   Văn Sỹ                             8.0\n",
       "37               Lê Duy Tâm                             7.2\n",
       "38    Phan Nguyễn Trọng Tân                             7.6\n",
       "39    Trương Nguyễn Duy Tân                             5.7\n",
       "40             Đỗ Văn Thắng                             7.8\n",
       "41         Nguyễn Đức Thịnh                             6.7\n",
       "42  Phạm Huỳnh Trường Thịnh                             7.0\n",
       "43           Trần Xuân Thủy                             8.2\n",
       "44              Lê Văn Tiến                             NaN\n",
       "45    Nguyễn Đặng Minh Toại                             4.7\n",
       "46          Huỳnh Minh Toàn                             8.2\n",
       "47          Nguyễn Anh Toàn                             7.1\n",
       "48     Lưu Hoàng Ngọc Trinh                             0.0\n",
       "49             Lê Văn Trung                             5.3\n",
       "50        Nguyễn Tuấn Trung                             NaN\n",
       "51         Phạm Thành Trung                             8.9\n",
       "52           Phan Chí Trung                             8.2\n",
       "53           Đào Duy Trường                             5.5\n",
       "54         Đoàn Minh Trường                             9.1\n",
       "55             Huỳnh Anh Tú                             5.0\n",
       "56      Nguyễn Văn Anh Tuấn                             8.9\n",
       "57           Phạm Minh Tuấn                             0.0\n",
       "58       Phan Lê Hoàng Việt                             4.6\n",
       "59             Trần Tuấn Vũ                             7.7"
      ],
      "text/html": "<div>\n<style scoped>\n    .dataframe tbody tr th:only-of-type {\n        vertical-align: middle;\n    }\n\n    .dataframe tbody tr th {\n        vertical-align: top;\n    }\n\n    .dataframe thead th {\n        text-align: right;\n    }\n</style>\n<table border=\"1\" class=\"dataframe\">\n  <thead>\n    <tr style=\"text-align: right;\">\n      <th></th>\n      <th>Họ và tên</th>\n      <th>Cấu trúc dữ liệu và giải thuật</th>\n    </tr>\n  </thead>\n  <tbody>\n    <tr>\n      <th>0</th>\n      <td>Đinh Tuấn Anh</td>\n      <td>6.1</td>\n    </tr>\n    <tr>\n      <th>1</th>\n      <td>Hà Bảo Anh</td>\n      <td>7.2</td>\n    </tr>\n    <tr>\n      <th>2</th>\n      <td>Lưu Đức Anh</td>\n      <td>5.7</td>\n    </tr>\n    <tr>\n      <th>3</th>\n      <td>Trần Nam Bá</td>\n      <td>7.1</td>\n    </tr>\n    <tr>\n      <th>4</th>\n      <td>Ngô Đức Bảo</td>\n      <td>NaN</td>\n    </tr>\n    <tr>\n      <th>5</th>\n      <td>Trịnh Thị Bảo Bảo</td>\n      <td>7.2</td>\n    </tr>\n    <tr>\n      <th>6</th>\n      <td>Đỗ Xuân Đức Chung</td>\n      <td>NaN</td>\n    </tr>\n    <tr>\n      <th>7</th>\n      <td>Phạm Tài Đức Phú Đa</td>\n      <td>4.3</td>\n    </tr>\n    <tr>\n      <th>8</th>\n      <td>Lê Tấn Đạt</td>\n      <td>NaN</td>\n    </tr>\n    <tr>\n      <th>9</th>\n      <td>Phạm Hà Văn Đông</td>\n      <td>5.2</td>\n    </tr>\n    <tr>\n      <th>10</th>\n      <td>Trịnh Ngọc Đức</td>\n      <td>5.5</td>\n    </tr>\n    <tr>\n      <th>11</th>\n      <td>Tăng Hoài Duy</td>\n      <td>5.2</td>\n    </tr>\n    <tr>\n      <th>12</th>\n      <td>Thái Thị Hiền</td>\n      <td>7.3</td>\n    </tr>\n    <tr>\n      <th>13</th>\n      <td>Phạm Thế Hiển</td>\n      <td>6.6</td>\n    </tr>\n    <tr>\n      <th>14</th>\n      <td>Trần Minh Hiếu</td>\n      <td>6.9</td>\n    </tr>\n    <tr>\n      <th>15</th>\n      <td>Nguyễn Thị Thanh Hòa</td>\n      <td>NaN</td>\n    </tr>\n    <tr>\n      <th>16</th>\n      <td>Ngô Quốc Hoàng</td>\n      <td>8.4</td>\n    </tr>\n    <tr>\n      <th>17</th>\n      <td>Hồ Quang Huy</td>\n      <td>7.6</td>\n    </tr>\n    <tr>\n      <th>18</th>\n      <td>Lương Quang Khải</td>\n      <td>0.0</td>\n    </tr>\n    <tr>\n      <th>19</th>\n      <td>Phạm Hoàng Duy Khang</td>\n      <td>6.7</td>\n    </tr>\n    <tr>\n      <th>20</th>\n      <td>Lê Mỹ Thanh Lành</td>\n      <td>6.4</td>\n    </tr>\n    <tr>\n      <th>21</th>\n      <td>Trần Hồ Phi Long</td>\n      <td>6.0</td>\n    </tr>\n    <tr>\n      <th>22</th>\n      <td>Trương Thị Cẩm Ly</td>\n      <td>8.5</td>\n    </tr>\n    <tr>\n      <th>23</th>\n      <td>Quách Trọng Nghĩa</td>\n      <td>5.4</td>\n    </tr>\n    <tr>\n      <th>24</th>\n      <td>Nguyễn Thành Nhân</td>\n      <td>0.0</td>\n    </tr>\n    <tr>\n      <th>25</th>\n      <td>Nguyễn Văn Phúc Nhân</td>\n      <td>5.7</td>\n    </tr>\n    <tr>\n      <th>26</th>\n      <td>Lưu Thị Yến Nhi</td>\n      <td>9.5</td>\n    </tr>\n    <tr>\n      <th>27</th>\n      <td>Lê Huy Phát</td>\n      <td>6.3</td>\n    </tr>\n    <tr>\n      <th>28</th>\n      <td>Lê Thanh Phong</td>\n      <td>7.6</td>\n    </tr>\n    <tr>\n      <th>29</th>\n      <td>Phan Nguyễn Mai Phương</td>\n      <td>4.6</td>\n    </tr>\n    <tr>\n      <th>30</th>\n      <td>Vũ Minh Quang</td>\n      <td>7.3</td>\n    </tr>\n    <tr>\n      <th>31</th>\n      <td>Nguyễn Quang Quốc</td>\n      <td>6.6</td>\n    </tr>\n    <tr>\n      <th>32</th>\n      <td>Dương Văn Sang</td>\n      <td>NaN</td>\n    </tr>\n    <tr>\n      <th>33</th>\n      <td>Nguyễn Tuấn Sinh</td>\n      <td>7.4</td>\n    </tr>\n    <tr>\n      <th>34</th>\n      <td>Phạm Trung Sơn</td>\n      <td>6.3</td>\n    </tr>\n    <tr>\n      <th>35</th>\n      <td>Nguyễn Tiến Sỹ</td>\n      <td>6.0</td>\n    </tr>\n    <tr>\n      <th>36</th>\n      <td>Văn Sỹ</td>\n      <td>8.0</td>\n    </tr>\n    <tr>\n      <th>37</th>\n      <td>Lê Duy Tâm</td>\n      <td>7.2</td>\n    </tr>\n    <tr>\n      <th>38</th>\n      <td>Phan Nguyễn Trọng Tân</td>\n      <td>7.6</td>\n    </tr>\n    <tr>\n      <th>39</th>\n      <td>Trương Nguyễn Duy Tân</td>\n      <td>5.7</td>\n    </tr>\n    <tr>\n      <th>40</th>\n      <td>Đỗ Văn Thắng</td>\n      <td>7.8</td>\n    </tr>\n    <tr>\n      <th>41</th>\n      <td>Nguyễn Đức Thịnh</td>\n      <td>6.7</td>\n    </tr>\n    <tr>\n      <th>42</th>\n      <td>Phạm Huỳnh Trường Thịnh</td>\n      <td>7.0</td>\n    </tr>\n    <tr>\n      <th>43</th>\n      <td>Trần Xuân Thủy</td>\n      <td>8.2</td>\n    </tr>\n    <tr>\n      <th>44</th>\n      <td>Lê Văn Tiến</td>\n      <td>NaN</td>\n    </tr>\n    <tr>\n      <th>45</th>\n      <td>Nguyễn Đặng Minh Toại</td>\n      <td>4.7</td>\n    </tr>\n    <tr>\n      <th>46</th>\n      <td>Huỳnh Minh Toàn</td>\n      <td>8.2</td>\n    </tr>\n    <tr>\n      <th>47</th>\n      <td>Nguyễn Anh Toàn</td>\n      <td>7.1</td>\n    </tr>\n    <tr>\n      <th>48</th>\n      <td>Lưu Hoàng Ngọc Trinh</td>\n      <td>0.0</td>\n    </tr>\n    <tr>\n      <th>49</th>\n      <td>Lê Văn Trung</td>\n      <td>5.3</td>\n    </tr>\n    <tr>\n      <th>50</th>\n      <td>Nguyễn Tuấn Trung</td>\n      <td>NaN</td>\n    </tr>\n    <tr>\n      <th>51</th>\n      <td>Phạm Thành Trung</td>\n      <td>8.9</td>\n    </tr>\n    <tr>\n      <th>52</th>\n      <td>Phan Chí Trung</td>\n      <td>8.2</td>\n    </tr>\n    <tr>\n      <th>53</th>\n      <td>Đào Duy Trường</td>\n      <td>5.5</td>\n    </tr>\n    <tr>\n      <th>54</th>\n      <td>Đoàn Minh Trường</td>\n      <td>9.1</td>\n    </tr>\n    <tr>\n      <th>55</th>\n      <td>Huỳnh Anh Tú</td>\n      <td>5.0</td>\n    </tr>\n    <tr>\n      <th>56</th>\n      <td>Nguyễn Văn Anh Tuấn</td>\n      <td>8.9</td>\n    </tr>\n    <tr>\n      <th>57</th>\n      <td>Phạm Minh Tuấn</td>\n      <td>0.0</td>\n    </tr>\n    <tr>\n      <th>58</th>\n      <td>Phan Lê Hoàng Việt</td>\n      <td>4.6</td>\n    </tr>\n    <tr>\n      <th>59</th>\n      <td>Trần Tuấn Vũ</td>\n      <td>7.7</td>\n    </tr>\n  </tbody>\n</table>\n</div>"
     },
     "metadata": {},
     "execution_count": 50
    }
   ],
   "source": [
    "df.loc[:, ['Họ và tên', 'Cấu trúc dữ liệu và giải thuật']]"
   ]
  },
  {
   "cell_type": "code",
   "execution_count": 51,
   "metadata": {
    "scrolled": true
   },
   "outputs": [
    {
     "output_type": "execute_result",
     "data": {
      "text/plain": [
       "             7.3   \n",
       "22                                               6.3               6.5   \n",
       "23                                               5.7               6.3   \n",
       "24                                               4.5               7.6   \n",
       "25                                               6.0               7.9   \n",
       "26                                               7.0               7.5   \n",
       "27                                               5.7               5.6   \n",
       "28                                               7.0               8.2   \n",
       "29                                               8.1               7.6   \n",
       "30                                               6.5               7.2   \n",
       "31                                               5.9               5.3   \n",
       "32                                               5.2               7.1   \n",
       "33                                               7.1               7.2   \n",
       "34                                               5.3               7.4   \n",
       "35                                               5.7               6.6   \n",
       "36                                               4.5               7.1   \n",
       "37                                               4.6               7.1   \n",
       "38                                               6.3               6.8   \n",
       "39                                               5.5               8.3   \n",
       "40                                               6.3               6.8   \n",
       "41                                               2.0               6.7   \n",
       "42                                               5.8               5.2   \n",
       "43                                               4.6               7.5   \n",
       "44                                               1.5               5.8   \n",
       "45                                               5.0               5.6   \n",
       "46                                               6.0               7.9   \n",
       "47                                               4.4               7.7   \n",
       "48                                               5.9               6.2   \n",
       "49                                               7.9               6.7   \n",
       "50                                               4.7               6.1   \n",
       "51                                               8.0               7.9   \n",
       "52                                               6.3               6.1   \n",
       "53                                               5.2               5.2   \n",
       "54                                               4.9               5.2   \n",
       "55                                               6.4               6.3   \n",
       "56                                               5.6               7.5   \n",
       "57                                               6.3               6.4   \n",
       "58                                               1.0               7.6   \n",
       "59                                               7.9               6.5   \n",
       "\n",
       "    Giáo dục Quốc phòng và An ninh 1  Toán cao cấp 1  Giáo dục thể chất 1  \\\n",
       "0                                7.0             8.5                  6.5   \n",
       "1                                7.5             7.1                  7.5   \n",
       "2                                7.0             8.4                  6.5   \n",
       "3                                6.5             8.6                  6.5   \n",
       "4                                7.5             9.5                  5.0   \n",
       "5                                8.0             8.6                  7.0   \n",
       "6                                7.0             5.4                  6.0   \n",
       "7                                7.0             8.5                  5.5   \n",
       "8                                5.0             4.5                  5.0   \n",
       "9                                7.0             6.7                  5.5   \n",
       "10                               6.5             7.6                  5.5   \n",
       "11                               6.5             7.6                  6.0   \n",
       "12                               7.5             9.0                  6.5   \n",
       "13                               7.5             8.1                  6.5   \n",
       "14                               7.5             7.9                  8.0   \n",
       "15                               8.0             9.8                  7.0   \n",
       "16                               7.5             9.8                  6.0   \n",
       "17                               6.5             9.0                  7.0   \n",
       "18                               7.0             7.5                  5.5   \n",
       "19                               6.0             6.5                  6.5   \n",
       "20                               7.0             5.6                  5.5   \n",
       "21                               7.0             8.9                  5.5   \n",
       "22                               8.0             8.4                  5.5   \n",
       "23                               8.0             6.1                  6.5   \n",
       "24                               7.0             2.5                  5.5   \n",
       "25                               7.0             7.4                  7.0   \n",
       "26                               7.0             9.5                  7.0   \n",
       "27                               7.5             7.5                  5.0   \n",
       "28                               7.5             9.5                  6.5   \n",
       "29                               8.0             7.1                  7.5   \n",
       "30                               7.0             8.6                  7.5   \n",
       "31                               6.5             7.7                  5.0   \n",
       "32                               7.0             9.1                  7.0   \n",
       "33                               6.0             7.9                  7.5   \n",
       "34                               7.5             8.0                  6.5   \n",
       "35                               8.0             8.1                  6.5   \n",
       "36                               7.0             7.5                  6.0   \n",
       "37                               6.5             9.2                  6.0   \n",
       "38                               7.5             6.0                  7.5   \n",
       "39                               7.0             6.7                  6.5   \n",
       "40                               7.0             7.4                  7.5   \n",
       "41                               7.0             5.7                  6.5   \n",
       "42                               7.0             7.9                  6.5   \n",
       "43                               6.5             9.5                  7.0   \n",
       "44                               6.5             7.0                  6.5   \n",
       "45                               7.5             7.0                  6.5   \n",
       "46                               7.5             8.5                  7.5   \n",
       "47                               6.5             8.8                  6.0   \n",
       "48                               7.5             6.4                  6.5   \n",
       "49                               7.0             7.4                  7.0   \n",
       "50                               6.5             7.5                  5.5   \n",
       "51                               7.5             9.9                  6.5   \n",
       "52                               6.5             6.6                  5.5   \n",
       "53                               7.0             7.6                  5.5   \n",
       "54                               7.5             0.0                  6.0   \n",
       "55                               6.5             7.7                  7.0   \n",
       "56                               7.0             6.0                  6.5   \n",
       "57                               6.5             7.0                  5.5   \n",
       "58                               6.5             5.7                  5.0   \n",
       "59                               6.5             9.6                  5.5   \n",
       "\n",
       "    ...  Giải tích ngẫu nhiên cho tài chính  Chứng chỉ TOEIC 450  \\\n",
       "0   ...                                 NaN                  NaN   \n",
       "1   ...                                 NaN                  NaN   \n",
       "2   ...                                 NaN                  NaN   \n",
       "3   ...                                 NaN                  NaN   \n",
       "4   ...                                 NaN                  NaN   \n",
       "5   ...                                 NaN                  NaN   \n",
       "6   ...                                 NaN                  NaN   \n",
       "7   ...                                 NaN                  NaN   \n",
       "8   ...                                 NaN                  NaN   \n",
       "9   ...                                 NaN                  NaN   \n",
       "10  ...                                 NaN                  NaN   \n",
       "11  ...                                 NaN                  NaN   \n",
       "12  ...                                 NaN                  NaN   \n",
       "13  ...                                 NaN                  NaN   \n",
       "14  ...                                 NaN                  NaN   \n",
       "15  ...                                 NaN                  NaN   \n",
       "16  ...                                 NaN                  NaN   \n",
       "17  ...                                 NaN                  NaN   \n",
       "18  ...                                 NaN                  NaN   \n",
       "19  ...                                 NaN                  NaN   \n",
       "20  ...                                 NaN                  NaN   \n",
       "21  ...                                 NaN                  NaN   \n",
       "22  ...                                 NaN                  NaN   \n",
       "23  ...                                 NaN                  NaN   \n",
       "24  ...                                 NaN                  NaN   \n",
       "25  ...                                 NaN                  NaN   \n",
       "26  ...                                 NaN                  NaN   \n",
       "27  ...                                 NaN                  NaN   \n",
       "28  ...                                 NaN                  NaN   \n",
       "29  ...                                 NaN                  NaN   \n",
       "30  ...                                 NaN                  NaN   \n",
       "31  ...                                 NaN                  NaN   \n",
       "32  ...                                 NaN                  NaN   \n",
       "33  ...                                 NaN                  NaN   \n",
       "34  ...                                 NaN                  NaN   \n",
       "35  ...                                 NaN                  NaN   \n",
       "36  ...                                 NaN                  NaN   \n",
       "37  ...                                 NaN                  NaN   \n",
       "38  ...                                 NaN                  NaN   \n",
       "39  ...                                 NaN                  NaN   \n",
       "40  ...                                 NaN                  NaN   \n",
       "41  ...                                 NaN                  NaN   \n",
       "42  ...                                 NaN                  NaN   \n",
       "43  ...                                 NaN                  NaN   \n",
       "44  ...                                 NaN                  NaN   \n",
       "45  ...                                 NaN                  NaN   \n",
       "46  ...                                 NaN                  NaN   \n",
       "47  ...                                 NaN                  NaN   \n",
       "48  ...                                 NaN                  NaN   \n",
       "49  ...                                 NaN                  NaN   \n",
       "50  ...                                 NaN                  NaN   \n",
       "51  ...                                 NaN                  NaN   \n",
       "52  ...                                 NaN                  NaN   \n",
       "53  ...                                 NaN                  NaN   \n",
       "54  ...                                 NaN                  NaN   \n",
       "55  ...                                 NaN                  NaN   \n",
       "56  ...                                 NaN                  NaN   \n",
       "57  ...                                 NaN                  NaN   \n",
       "58  ...                                 NaN                  NaN   \n",
       "59  ...                                 NaN                  NaN   \n",
       "\n",
       "    Khóa luận tốt nghiệp  Thực tập doanh nghiệp  Số tín chỉ  Điểm 10  Điểm 4  \\\n",
       "0                    NaN                    NaN          29      6.6    2.49   \n",
       "1                    NaN                    NaN          18      7.4    2.97   \n",
       "2                    NaN                    NaN          21      5.9    2.17   \n",
       "3                    NaN                    NaN          21      7.5    3.09   \n",
       "4                    NaN                    NaN          15      6.5    2.44   \n",
       "5                    NaN                    NaN          18      7.7    3.23   \n",
       "6                    NaN                    NaN          16      3.9    1.33   \n",
       "7                    NaN                    NaN          25      5.4    1.94   \n",
       "8                    NaN                    NaN          19      4.9    1.69   \n",
       "9                    NaN                    NaN          20      5.7    1.98   \n",
       "10                   NaN                    NaN          22      6.5    2.42   \n",
       "11                   NaN                    NaN          25      6.3    2.27   \n",
       "12                   NaN                    NaN          21      7.3    2.96   \n",
       "13                   NaN                    NaN          21      7.1    2.81   \n",
       "14                   NaN                    NaN          18      6.2    2.18   \n",
       "15                   NaN                    NaN          18      7.6    3.04   \n",
       "16                   NaN                    NaN          27      8.3    3.47   \n",
       "17                   NaN                    NaN          25      7.8    3.17   \n",
       "18                   NaN                    NaN          21      3.9    1.54   \n",
       "19                   NaN                    NaN          18      5.7     2.1   \n",
       "20                   NaN                    NaN          25      6.4    2.44   \n",
       "21                   NaN                    NaN          25      6.8    2.64   \n",
       "22                   NaN                    NaN          25      7.9    3.24   \n",
       "23                   NaN                    NaN          18        6    2.11   \n",
       "24                   NaN                    NaN          13        4    1.26   \n",
       "25                   NaN                    NaN          25      7.2    2.91   \n",
       "26                   NaN                    NaN          22      8.3    3.47   \n",
       "27                   NaN                    NaN          19      5.9    2.07   \n",
       "28                   NaN                    NaN          21        8    3.31   \n",
       "29                   NaN                    NaN          25      7.3    2.88   \n",
       "30                   NaN                    NaN          15      7.2    2.92   \n",
       "31                   NaN                    NaN          11      6.1    2.04   \n",
       "32                   NaN                    NaN          18      6.8     2.6   \n",
       "33                   NaN                    NaN          19      7.6     3.1   \n",
       "34                   NaN                    NaN          21      6.9    2.65   \n",
       "35                   NaN                    NaN          25      7.2    2.89   \n",
       "36                   NaN                    NaN          21      7.5    3.06   \n",
       "37                   NaN                    NaN          25      7.1     2.8   \n",
       "38                   NaN                    NaN          21      7.2    2.78   \n",
       "39                   NaN                    NaN          21      6.6    2.55   \n",
       "40                   NaN                    NaN          23      7.3    2.89   \n",
       "41                   NaN                    NaN          18      6.2    2.27   \n",
       "42                   NaN                    NaN          18      6.6    2.55   \n",
       "43                   NaN                    NaN          21      7.3    2.88   \n",
       "44                   NaN                    NaN          20      6.3     2.4   \n",
       "45                   NaN                    NaN          25        5    1.67   \n",
       "46                   NaN                    NaN          21      7.6    3.19   \n",
       "47                   NaN                    NaN          18      6.7    2.58   \n",
       "48                   NaN                    NaN          11      3.8    1.34   \n",
       "49                   NaN                    NaN          13      6.1    2.15   \n",
       "50                   NaN                    NaN          15        6    2.22   \n",
       "51                   NaN                    NaN          25      8.7    3.69   \n",
       "52                   NaN                    NaN          22      7.3    2.92   \n",
       "53                   NaN                    NaN          21      6.3    2.32   \n",
       "54                   NaN                    NaN           9      4.5    1.68   \n",
       "55                   NaN                    NaN          25        6    2.14   \n",
       "56                   NaN                    NaN          25      7.5    3.02   \n",
       "57                   NaN                    NaN          21      5.4    1.99   \n",
       "58                   NaN                    NaN          17      6.2    2.35   \n",
       "59                   NaN                    NaN          22      7.9     3.2   \n",
       "\n",
       "    Điểm chữ        Xếp loại                Họ và tên  \n",
       "0         C+      Trung bình            Đinh Tuấn Anh  \n",
       "1          B             Khá               Hà Bảo Anh  \n",
       "2         D+  Trung bình yếu              Lưu Đức Anh  \n",
       "3          B             Khá              Trần Nam Bá  \n",
       "4         C+      Trung bình              Ngô Đức Bảo  \n",
       "5          B             Khá        Trịnh Thị Bảo Bảo  \n",
       "6          F             Kém        Đỗ Xuân Đức Chung  \n",
       "7         D+  Trung bình yếu      Phạm Tài Đức Phú Đa  \n",
       "8          D  Trung bình yếu               Lê Tấn Đạt  \n",
       "9         D+  Trung bình yếu         Phạm Hà Văn Đông  \n",
       "10        C+      Trung bình           Trịnh Ngọc Đức  \n",
       "11        C+      Trung bình            Tăng Hoài Duy  \n",
       "12         B             Khá            Thái Thị Hiền  \n",
       "13         B             Khá            Phạm Thế Hiển  \n",
       "14        C+      Trung bình           Trần Minh Hiếu  \n",
       "15         B             Khá     Nguyễn Thị Thanh Hòa  \n",
       "16        B+             Khá           Ngô Quốc Hoàng  \n",
       "17         B             Khá             Hồ Quang Huy  \n",
       "18         F             Kém         Lương Quang Khải  \n",
       "19        D+  Trung bình yếu     Phạm Hoàng Duy Khang  \n",
       "20        C+      Trung bình         Lê Mỹ Thanh Lành  \n",
       "21        C+      Trung bình         Trần Hồ Phi Long  \n",
       "22         B             Khá        Trương Thị Cẩm Ly  \n",
       "23        C+      Trung bình        Quách Trọng Nghĩa  \n",
       "24         D  Trung bình yếu        Nguyễn Thành Nhân  \n",
       "25         B             Khá     Nguyễn Văn Phúc Nhân  \n",
       "26        B+             Khá          Lưu Thị Yến Nhi  \n",
       "27        D+  Trung bình yếu              Lê Huy Phát  \n",
       "28        B+             Khá           Lê Thanh Phong  \n",
       "29         B             Khá   Phan Nguyễn Mai Phương  \n",
       "30         B             Khá            Vũ Minh Quang  \n",
       "31        C+      Trung bình        Nguyễn Quang Quốc  \n",
       "32        C+      Trung bình           Dương Văn Sang  \n",
       "33         B             Khá         Nguyễn Tuấn Sinh  \n",
       "34        C+      Trung bình           Phạm Trung Sơn  \n",
       "35         B             Khá           Nguyễn Tiến Sỹ  \n",
       "36         B             Khá                   Văn Sỹ  \n",
       "37         B             Khá               Lê Duy Tâm  \n",
       "38         B             Khá    Phan Nguyễn Trọng Tân  \n",
       "39        C+      Trung bình    Trương Nguyễn Duy Tân  \n",
       "40         B             Khá             Đỗ Văn Thắng  \n",
       "41        C+      Trung bình         Nguyễn Đức Thịnh  \n",
       "42        C+      Trung bình  Phạm Huỳnh Trường Thịnh  \n",
       "43         B             Khá           Trần Xuân Thủy  \n",
       "44        C+      Trung bình              Lê Văn Tiến  \n",
       "45        D+  Trung bình yếu    Nguyễn Đặng Minh Toại  \n",
       "46         B             Khá          Huỳnh Minh Toàn  \n",
       "47        C+      Trung bình          Nguyễn Anh Toàn  \n",
       "48         F             Kém     Lưu Hoàng Ngọc Trinh  \n",
       "49        C+      Trung bình             Lê Văn Trung  \n",
       "50        C+      Trung bình        Nguyễn Tuấn Trung  \n",
       "51        B+             Khá         Phạm Thành Trung  \n",
       "52         B             Khá           Phan Chí Trung  \n",
       "53        C+      Trung bình           Đào Duy Trường  \n",
       "54         D  Trung bình yếu         Đoàn Minh Trường  \n",
       "55        C+      Trung bình             Huỳnh Anh Tú  \n",
       "56         B             Khá      Nguyễn Văn Anh Tuấn  \n",
       "57        D+  Trung bình yếu           Phạm Minh Tuấn  \n",
       "58        C+      Trung bình       Phan Lê Hoàng Việt  \n",
       "59         B             Khá             Trần Tuấn Vũ  \n",
       "\n",
       "[60 rows x 91 columns]"
      ],
      "text/html": "<div>\n<style scoped>\n    .dataframe tbody tr th:only-of-type {\n        vertical-align: middle;\n    }\n\n    .dataframe tbody tr th {\n        vertical-align: top;\n    }\n\n    .dataframe thead th {\n        text-align: right;\n    }\n</style>\n<table border=\"1\" class=\"dataframe\">\n  <thead>\n    <tr style=\"text-align: right;\">\n      <th></th>\n      <th>index</th>\n      <th>STT</th>\n      <th>Mã sinh viên</th>\n      <th>Họ đệm</th>\n      <th>Tên</th>\n      <th>Những nguyên lý cơ bản của Chủ nghĩa Mác - Lênin</th>\n      <th>Nhập môn Tin học</th>\n      <th>Giáo dục Quốc phòng và An ninh 1</th>\n      <th>Toán cao cấp 1</th>\n      <th>Giáo dục thể chất 1</th>\n      <th>...</th>\n      <th>Giải tích ngẫu nhiên cho tài chính</th>\n      <th>Chứng chỉ TOEIC 450</th>\n      <th>Khóa luận tốt nghiệp</th>\n      <th>Thực tập doanh nghiệp</th>\n      <th>Số tín chỉ</th>\n      <th>Điểm 10</th>\n      <th>Điểm 4</th>\n      <th>Điểm chữ</th>\n      <th>Xếp loại</th>\n      <th>Họ và tên</th>\n    </tr>\n  </thead>\n  <tbody>\n    <tr>\n      <th>0</th>\n      <td>1</td>\n      <td>1.0</td>\n      <td>19489471.0</td>\n      <td>Đinh Tuấn</td>\n      <td>Anh</td>\n      <td>5.1</td>\n      <td>8.3</td>\n      <td>7.0</td>\n      <td>8.5</td>\n      <td>6.5</td>\n      <td>...</td>\n      <td>NaN</td>\n      <td>NaN</td>\n      <td>NaN</td>\n      <td>NaN</td>\n      <td>29</td>\n      <td>6.6</td>\n      <td>2.49</td>\n      <td>C+</td>\n      <td>Trung bình</td>\n      <td>Đinh Tuấn Anh</td>\n    </tr>\n    <tr>\n      <th>1</th>\n      <td>2</td>\n      <td>2.0</td>\n      <td>19442001.0</td>\n      <td>Hà Bảo</td>\n      <td>Anh</td>\n      <td>5.3</td>\n      <td>6.1</td>\n      <td>7.5</td>\n      <td>7.1</td>\n      <td>7.5</td>\n      <td>...</td>\n      <td>NaN</td>\n      <td>NaN</td>\n      <td>NaN</td>\n      <td>NaN</td>\n      <td>18</td>\n      <td>7.4</td>\n      <td>2.97</td>\n      <td>B</td>\n      <td>Khá</td>\n      <td>Hà Bảo Anh</td>\n    </tr>\n    <tr>\n      <th>2</th>\n      <td>3</td>\n      <td>3.0</td>\n      <td>19478881.0</td>\n      <td>Lưu Đức</td>\n      <td>Anh</td>\n      <td>5.6</td>\n      <td>7.7</td>\n      <td>7.0</td>\n      <td>8.4</td>\n      <td>6.5</td>\n      <td>...</td>\n      <td>NaN</td>\n      <td>NaN</td>\n      <td>NaN</td>\n      <td>NaN</td>\n      <td>21</td>\n      <td>5.9</td>\n      <td>2.17</td>\n      <td>D+</td>\n      <td>Trung bình yếu</td>\n      <td>Lưu Đức Anh</td>\n    </tr>\n    <tr>\n      <th>3</th>\n      <td>4</td>\n      <td>4.0</td>\n      <td>19506751.0</td>\n      <td>Trần Nam</td>\n      <td>Bá</td>\n      <td>6.7</td>\n      <td>7.5</td>\n      <td>6.5</td>\n      <td>8.6</td>\n      <td>6.5</td>\n      <td>...</td>\n      <td>NaN</td>\n      <td>NaN</td>\n      <td>NaN</td>\n      <td>NaN</td>\n      <td>21</td>\n      <td>7.5</td>\n      <td>3.09</td>\n      <td>B</td>\n      <td>Khá</td>\n      <td>Trần Nam Bá</td>\n    </tr>\n    <tr>\n      <th>4</th>\n      <td>5</td>\n      <td>5.0</td>\n      <td>19487461.0</td>\n      <td>Ngô Đức</td>\n      <td>Bảo</td>\n      <td>5.3</td>\n      <td>7.8</td>\n      <td>7.5</td>\n      <td>9.5</td>\n      <td>5.0</td>\n      <td>...</td>\n      <td>NaN</td>\n      <td>NaN</td>\n      <td>NaN</td>\n      <td>NaN</td>\n      <td>15</td>\n      <td>6.5</td>\n      <td>2.44</td>\n      <td>C+</td>\n      <td>Trung bình</td>\n      <td>Ngô Đức Bảo</td>\n    </tr>\n    <tr>\n      <th>5</th>\n      <td>6</td>\n      <td>6.0</td>\n      <td>19514491.0</td>\n      <td>Trịnh Thị Bảo</td>\n      <td>Bảo</td>\n      <td>6.2</td>\n      <td>7.7</td>\n      <td>8.0</td>\n      <td>8.6</td>\n      <td>7.0</td>\n      <td>...</td>\n      <td>NaN</td>\n      <td>NaN</td>\n      <td>NaN</td>\n      <td>NaN</td>\n      <td>18</td>\n      <td>7.7</td>\n      <td>3.23</td>\n      <td>B</td>\n      <td>Khá</td>\n      <td>Trịnh Thị Bảo Bảo</td>\n    </tr>\n    <tr>\n      <th>6</th>\n      <td>7</td>\n      <td>7.0</td>\n      <td>19498401.0</td>\n      <td>Đỗ Xuân Đức</td>\n      <td>Chung</td>\n      <td>5.4</td>\n      <td>NaN</td>\n      <td>7.0</td>\n      <td>5.4</td>\n      <td>6.0</td>\n      <td>...</td>\n      <td>NaN</td>\n      <td>NaN</td>\n      <td>NaN</td>\n      <td>NaN</td>\n      <td>16</td>\n      <td>3.9</td>\n      <td>1.33</td>\n      <td>F</td>\n      <td>Kém</td>\n      <td>Đỗ Xuân Đức Chung</td>\n    </tr>\n    <tr>\n      <th>7</th>\n      <td>8</td>\n      <td>8.0</td>\n      <td>19442481.0</td>\n      <td>Phạm Tài Đức Phú</td>\n      <td>Đa</td>\n      <td>5.3</td>\n      <td>6.6</td>\n      <td>7.0</td>\n      <td>8.5</td>\n      <td>5.5</td>\n      <td>...</td>\n      <td>NaN</td>\n      <td>NaN</td>\n      <td>NaN</td>\n      <td>NaN</td>\n      <td>25</td>\n      <td>5.4</td>\n      <td>1.94</td>\n      <td>D+</td>\n      <td>Trung bình yếu</td>\n      <td>Phạm Tài Đức Phú Đa</td>\n    </tr>\n    <tr>\n      <th>8</th>\n      <td>9</td>\n      <td>9.0</td>\n      <td>19463951.0</td>\n      <td>Lê Tấn</td>\n      <td>Đạt</td>\n      <td>5.9</td>\n      <td>5.9</td>\n      <td>5.0</td>\n      <td>4.5</td>\n      <td>5.0</td>\n      <td>...</td>\n      <td>NaN</td>\n      <td>NaN</td>\n      <td>NaN</td>\n      <td>NaN</td>\n      <td>19</td>\n      <td>4.9</td>\n      <td>1.69</td>\n      <td>D</td>\n      <td>Trung bình yếu</td>\n      <td>Lê Tấn Đạt</td>\n    </tr>\n    <tr>\n      <th>9</th>\n      <td>10</td>\n      <td>10.0</td>\n      <td>19500311.0</td>\n      <td>Phạm Hà Văn</td>\n      <td>Đông</td>\n      <td>5.0</td>\n      <td>NaN</td>\n      <td>7.0</td>\n      <td>6.7</td>\n      <td>5.5</td>\n      <td>...</td>\n      <td>NaN</td>\n      <td>NaN</td>\n      <td>NaN</td>\n      <td>NaN</td>\n      <td>20</td>\n      <td>5.7</td>\n      <td>1.98</td>\n      <td>D+</td>\n      <td>Trung bình yếu</td>\n      <td>Phạm Hà Văn Đông</td>\n    </tr>\n    <tr>\n      <th>10</th>\n      <td>11</td>\n      <td>11.0</td>\n      <td>19469091.0</td>\n      <td>Trịnh Ngọc</td>\n      <td>Đức</td>\n      <td>5.7</td>\n      <td>7.4</td>\n      <td>6.5</td>\n      <td>7.6</td>\n      <td>5.5</td>\n      <td>...</td>\n      <td>NaN</td>\n      <td>NaN</td>\n      <td>NaN</td>\n      <td>NaN</td>\n      <td>22</td>\n      <td>6.5</td>\n      <td>2.42</td>\n      <td>C+</td>\n      <td>Trung bình</td>\n      <td>Trịnh Ngọc Đức</td>\n    </tr>\n    <tr>\n      <th>11</th>\n      <td>12</td>\n      <td>12.0</td>\n      <td>19498561.0</td>\n      <td>Tăng Hoài</td>\n      <td>Duy</td>\n      <td>5.8</td>\n      <td>6.9</td>\n      <td>6.5</td>\n      <td>7.6</td>\n      <td>6.0</td>\n      <td>...</td>\n      <td>NaN</td>\n      <td>NaN</td>\n      <td>NaN</td>\n      <td>NaN</td>\n      <td>25</td>\n      <td>6.3</td>\n      <td>2.27</td>\n      <td>C+</td>\n      <td>Trung bình</td>\n      <td>Tăng Hoài Duy</td>\n    </tr>\n    <tr>\n      <th>12</th>\n      <td>13</td>\n      <td>13.0</td>\n      <td>19527801.0</td>\n      <td>Thái Thị</td>\n      <td>Hiền</td>\n      <td>6.0</td>\n      <td>6.4</td>\n      <td>7.5</td>\n      <td>9.0</td>\n      <td>6.5</td>\n      <td>...</td>\n      <td>NaN</td>\n      <td>NaN</td>\n      <td>NaN</td>\n      <td>NaN</td>\n      <td>21</td>\n      <td>7.3</td>\n      <td>2.96</td>\n      <td>B</td>\n      <td>Khá</td>\n      <td>Thái Thị Hiền</td>\n    </tr>\n    <tr>\n      <th>13</th>\n      <td>14</td>\n      <td>14.0</td>\n      <td>19529741.0</td>\n      <td>Phạm Thế</td>\n      <td>Hiển</td>\n      <td>6.4</td>\n      <td>5.5</td>\n      <td>7.5</td>\n      <td>8.1</td>\n      <td>6.5</td>\n      <td>...</td>\n      <td>NaN</td>\n      <td>NaN</td>\n      <td>NaN</td>\n      <td>NaN</td>\n      <td>21</td>\n      <td>7.1</td>\n      <td>2.81</td>\n      <td>B</td>\n      <td>Khá</td>\n      <td>Phạm Thế Hiển</td>\n    </tr>\n    <tr>\n      <th>14</th>\n      <td>15</td>\n      <td>15.0</td>\n      <td>19441341.0</td>\n      <td>Trần Minh</td>\n      <td>Hiếu</td>\n      <td>5.7</td>\n      <td>7.6</td>\n      <td>7.5</td>\n      <td>7.9</td>\n      <td>8.0</td>\n      <td>...</td>\n      <td>NaN</td>\n      <td>NaN</td>\n      <td>NaN</td>\n      <td>NaN</td>\n      <td>18</td>\n      <td>6.2</td>\n      <td>2.18</td>\n      <td>C+</td>\n      <td>Trung bình</td>\n      <td>Trần Minh Hiếu</td>\n    </tr>\n    <tr>\n      <th>15</th>\n      <td>16</td>\n      <td>16.0</td>\n      <td>19429041.0</td>\n      <td>Nguyễn Thị Thanh</td>\n      <td>Hòa</td>\n      <td>4.9</td>\n      <td>5.7</td>\n      <td>8.0</td>\n      <td>9.8</td>\n      <td>7.0</td>\n      <td>...</td>\n      <td>NaN</td>\n      <td>NaN</td>\n      <td>NaN</td>\n      <td>NaN</td>\n      <td>18</td>\n      <td>7.6</td>\n      <td>3.04</td>\n      <td>B</td>\n      <td>Khá</td>\n      <td>Nguyễn Thị Thanh Hòa</td>\n    </tr>\n    <tr>\n      <th>16</th>\n      <td>17</td>\n      <td>17.0</td>\n      <td>19477071.0</td>\n      <td>Ngô Quốc</td>\n      <td>Hoàng</td>\n      <td>7.1</td>\n      <td>7.8</td>\n      <td>7.5</td>\n      <td>9.8</td>\n      <td>6.0</td>\n      <td>...</td>\n      <td>NaN</td>\n      <td>NaN</td>\n      <td>NaN</td>\n      <td>NaN</td>\n      <td>27</td>\n      <td>8.3</td>\n      <td>3.47</td>\n      <td>B+</td>\n      <td>Khá</td>\n      <td>Ngô Quốc Hoàng</td>\n    </tr>\n    <tr>\n      <th>17</th>\n      <td>18</td>\n      <td>18.0</td>\n      <td>19443561.0</td>\n      <td>Hồ Quang</td>\n      <td>Huy</td>\n      <td>5.6</td>\n      <td>8.3</td>\n      <td>6.5</td>\n      <td>9.0</td>\n      <td>7.0</td>\n      <td>...</td>\n      <td>NaN</td>\n      <td>NaN</td>\n      <td>NaN</td>\n      <td>NaN</td>\n      <td>25</td>\n      <td>7.8</td>\n      <td>3.17</td>\n      <td>B</td>\n      <td>Khá</td>\n      <td>Hồ Quang Huy</td>\n    </tr>\n    <tr>\n      <th>18</th>\n      <td>19</td>\n      <td>19.0</td>\n      <td>19529041.0</td>\n      <td>Lương Quang</td>\n      <td>Khải</td>\n      <td>5.6</td>\n      <td>6.2</td>\n      <td>7.0</td>\n      <td>7.5</td>\n      <td>5.5</td>\n      <td>...</td>\n      <td>NaN</td>\n      <td>NaN</td>\n      <td>NaN</td>\n      <td>NaN</td>\n      <td>21</td>\n      <td>3.9</td>\n      <td>1.54</td>\n      <td>F</td>\n      <td>Kém</td>\n      <td>Lương Quang Khải</td>\n    </tr>\n    <tr>\n      <th>19</th>\n      <td>20</td>\n      <td>20.0</td>\n      <td>19526961.0</td>\n      <td>Phạm Hoàng Duy</td>\n      <td>Khang</td>\n      <td>6.4</td>\n      <td>5.9</td>\n      <td>6.0</td>\n      <td>6.5</td>\n      <td>6.5</td>\n      <td>...</td>\n      <td>NaN</td>\n      <td>NaN</td>\n      <td>NaN</td>\n      <td>NaN</td>\n      <td>18</td>\n      <td>5.7</td>\n      <td>2.1</td>\n      <td>D+</td>\n      <td>Trung bình yếu</td>\n      <td>Phạm Hoàng Duy Khang</td>\n    </tr>\n    <tr>\n      <th>20</th>\n      <td>21</td>\n      <td>21.0</td>\n      <td>19525231.0</td>\n      <td>Lê Mỹ Thanh</td>\n      <td>Lành</td>\n      <td>5.1</td>\n      <td>7.6</td>\n      <td>7.0</td>\n      <td>5.6</td>\n      <td>5.5</td>\n      <td>...</td>\n      <td>NaN</td>\n      <td>NaN</td>\n      <td>NaN</td>\n      <td>NaN</td>\n      <td>25</td>\n      <td>6.4</td>\n      <td>2.44</td>\n      <td>C+</td>\n      <td>Trung bình</td>\n      <td>Lê Mỹ Thanh Lành</td>\n    </tr>\n    <tr>\n      <th>21</th>\n      <td>22</td>\n      <td>22.0</td>\n      <td>19500551.0</td>\n      <td>Trần Hồ Phi</td>\n      <td>Long</td>\n      <td>6.5</td>\n      <td>7.3</td>\n      <td>7.0</td>\n      <td>8.9</td>\n      <td>5.5</td>\n      <td>...</td>\n      <td>NaN</td>\n      <td>NaN</td>\n      <td>NaN</td>\n      <td>NaN</td>\n      <td>25</td>\n      <td>6.8</td>\n      <td>2.64</td>\n      <td>C+</td>\n      <td>Trung bình</td>\n      <td>Trần Hồ Phi Long</td>\n    </tr>\n    <tr>\n      <th>22</th>\n      <td>23</td>\n      <td>23.0</td>\n      <td>19532211.0</td>\n      <td>Trương Thị Cẩm</td>\n      <td>Ly</td>\n      <td>6.3</td>\n      <td>6.5</td>\n      <td>8.0</td>\n      <td>8.4</td>\n      <td>5.5</td>\n      <td>...</td>\n      <td>NaN</td>\n      <td>NaN</td>\n      <td>NaN</td>\n      <td>NaN</td>\n      <td>25</td>\n      <td>7.9</td>\n      <td>3.24</td>\n      <td>B</td>\n      <td>Khá</td>\n      <td>Trương Thị Cẩm Ly</td>\n    </tr>\n    <tr>\n      <th>23</th>\n      <td>24</td>\n      <td>24.0</td>\n      <td>19502841.0</td>\n      <td>Quách Trọng</td>\n      <td>Nghĩa</td>\n      <td>5.7</td>\n      <td>6.3</td>\n      <td>8.0</td>\n      <td>6.1</td>\n      <td>6.5</td>\n      <td>...</td>\n      <td>NaN</td>\n      <td>NaN</td>\n      <td>NaN</td>\n      <td>NaN</td>\n      <td>18</td>\n      <td>6</td>\n      <td>2.11</td>\n      <td>C+</td>\n      <td>Trung bình</td>\n      <td>Quách Trọng Nghĩa</td>\n    </tr>\n    <tr>\n      <th>24</th>\n      <td>25</td>\n      <td>25.0</td>\n      <td>19499101.0</td>\n      <td>Nguyễn Thành</td>\n      <td>Nhân</td>\n      <td>4.5</td>\n      <td>7.6</td>\n      <td>7.0</td>\n      <td>2.5</td>\n      <td>5.5</td>\n      <td>...</td>\n      <td>NaN</td>\n      <td>NaN</td>\n      <td>NaN</td>\n      <td>NaN</td>\n      <td>13</td>\n      <td>4</td>\n      <td>1.26</td>\n      <td>D</td>\n      <td>Trung bình yếu</td>\n      <td>Nguyễn Thành Nhân</td>\n    </tr>\n    <tr>\n      <th>25</th>\n      <td>26</td>\n      <td>26.0</td>\n      <td>19440221.0</td>\n      <td>Nguyễn Văn Phúc</td>\n      <td>Nhân</td>\n      <td>6.0</td>\n      <td>7.9</td>\n      <td>7.0</td>\n      <td>7.4</td>\n      <td>7.0</td>\n      <td>...</td>\n      <td>NaN</td>\n      <td>NaN</td>\n      <td>NaN</td>\n      <td>NaN</td>\n      <td>25</td>\n      <td>7.2</td>\n      <td>2.91</td>\n      <td>B</td>\n      <td>Khá</td>\n      <td>Nguyễn Văn Phúc Nhân</td>\n    </tr>\n    <tr>\n      <th>26</th>\n      <td>27</td>\n      <td>27.0</td>\n      <td>19522491.0</td>\n      <td>Lưu Thị Yến</td>\n      <td>Nhi</td>\n      <td>7.0</td>\n      <td>7.5</td>\n      <td>7.0</td>\n      <td>9.5</td>\n      <td>7.0</td>\n      <td>...</td>\n      <td>NaN</td>\n      <td>NaN</td>\n      <td>NaN</td>\n      <td>NaN</td>\n      <td>22</td>\n      <td>8.3</td>\n      <td>3.47</td>\n      <td>B+</td>\n      <td>Khá</td>\n      <td>Lưu Thị Yến Nhi</td>\n    </tr>\n    <tr>\n      <th>27</th>\n      <td>28</td>\n      <td>28.0</td>\n      <td>19469351.0</td>\n      <td>Lê Huy</td>\n      <td>Phát</td>\n      <td>5.7</td>\n      <td>5.6</td>\n      <td>7.5</td>\n      <td>7.5</td>\n      <td>5.0</td>\n      <td>...</td>\n      <td>NaN</td>\n      <td>NaN</td>\n      <td>NaN</td>\n      <td>NaN</td>\n      <td>19</td>\n      <td>5.9</td>\n      <td>2.07</td>\n      <td>D+</td>\n      <td>Trung bình yếu</td>\n      <td>Lê Huy Phát</td>\n    </tr>\n    <tr>\n      <th>28</th>\n      <td>29</td>\n      <td>29.0</td>\n      <td>19475611.0</td>\n      <td>Lê Thanh</td>\n      <td>Phong</td>\n      <td>7.0</td>\n      <td>8.2</td>\n      <td>7.5</td>\n      <td>9.5</td>\n      <td>6.5</td>\n      <td>...</td>\n      <td>NaN</td>\n      <td>NaN</td>\n      <td>NaN</td>\n      <td>NaN</td>\n      <td>21</td>\n      <td>8</td>\n      <td>3.31</td>\n      <td>B+</td>\n      <td>Khá</td>\n      <td>Lê Thanh Phong</td>\n    </tr>\n    <tr>\n      <th>29</th>\n      <td>30</td>\n      <td>30.0</td>\n      <td>19469121.0</td>\n      <td>Phan Nguyễn Mai</td>\n      <td>Phương</td>\n      <td>8.1</td>\n      <td>7.6</td>\n      <td>8.0</td>\n      <td>7.1</td>\n      <td>7.5</td>\n      <td>...</td>\n      <td>NaN</td>\n      <td>NaN</td>\n      <td>NaN</td>\n      <td>NaN</td>\n      <td>25</td>\n      <td>7.3</td>\n      <td>2.88</td>\n      <td>B</td>\n      <td>Khá</td>\n      <td>Phan Nguyễn Mai Phương</td>\n    </tr>\n    <tr>\n      <th>30</th>\n      <td>31</td>\n      <td>31.0</td>\n      <td>19495101.0</td>\n      <td>Vũ Minh</td>\n      <td>Quang</td>\n      <td>6.5</td>\n      <td>7.2</td>\n      <td>7.0</td>\n      <td>8.6</td>\n      <td>7.5</td>\n      <td>...</td>\n      <td>NaN</td>\n      <td>NaN</td>\n      <td>NaN</td>\n      <td>NaN</td>\n      <td>15</td>\n      <td>7.2</td>\n      <td>2.92</td>\n      <td>B</td>\n      <td>Khá</td>\n      <td>Vũ Minh Quang</td>\n    </tr>\n    <tr>\n      <th>31</th>\n      <td>32</td>\n      <td>32.0</td>\n      <td>19477141.0</td>\n      <td>Nguyễn Quang</td>\n      <td>Quốc</td>\n      <td>5.9</td>\n      <td>5.3</td>\n      <td>6.5</td>\n      <td>7.7</td>\n      <td>5.0</td>\n      <td>...</td>\n      <td>NaN</td>\n      <td>NaN</td>\n      <td>NaN</td>\n      <td>NaN</td>\n      <td>11</td>\n      <td>6.1</td>\n      <td>2.04</td>\n      <td>C+</td>\n      <td>Trung bình</td>\n      <td>Nguyễn Quang Quốc</td>\n    </tr>\n    <tr>\n      <th>32</th>\n      <td>33</td>\n      <td>33.0</td>\n      <td>19495031.0</td>\n      <td>Dương Văn</td>\n      <td>Sang</td>\n      <td>5.2</td>\n      <td>7.1</td>\n      <td>7.0</td>\n      <td>9.1</td>\n      <td>7.0</td>\n      <td>...</td>\n      <td>NaN</td>\n      <td>NaN</td>\n      <td>NaN</td>\n      <td>NaN</td>\n      <td>18</td>\n      <td>6.8</td>\n      <td>2.6</td>\n      <td>C+</td>\n      <td>Trung bình</td>\n      <td>Dương Văn Sang</td>\n    </tr>\n    <tr>\n      <th>33</th>\n      <td>34</td>\n      <td>34.0</td>\n      <td>19477821.0</td>\n      <td>Nguyễn Tuấn</td>\n      <td>Sinh</td>\n      <td>7.1</td>\n      <td>7.2</td>\n      <td>6.0</td>\n      <td>7.9</td>\n      <td>7.5</td>\n      <td>...</td>\n      <td>NaN</td>\n      <td>NaN</td>\n      <td>NaN</td>\n      <td>NaN</td>\n      <td>19</td>\n      <td>7.6</td>\n      <td>3.1</td>\n      <td>B</td>\n      <td>Khá</td>\n      <td>Nguyễn Tuấn Sinh</td>\n    </tr>\n    <tr>\n      <th>34</th>\n      <td>35</td>\n      <td>35.0</td>\n      <td>19518291.0</td>\n      <td>Phạm Trung</td>\n      <td>Sơn</td>\n      <td>5.3</td>\n      <td>7.4</td>\n      <td>7.5</td>\n      <td>8.0</td>\n      <td>6.5</td>\n      <td>...</td>\n      <td>NaN</td>\n      <td>NaN</td>\n      <td>NaN</td>\n      <td>NaN</td>\n      <td>21</td>\n      <td>6.9</td>\n      <td>2.65</td>\n      <td>C+</td>\n      <td>Trung bình</td>\n      <td>Phạm Trung Sơn</td>\n    </tr>\n    <tr>\n      <th>35</th>\n      <td>36</td>\n      <td>36.0</td>\n      <td>19440181.0</td>\n      <td>Nguyễn Tiến</td>\n      <td>Sỹ</td>\n      <td>5.7</td>\n      <td>6.6</td>\n      <td>8.0</td>\n      <td>8.1</td>\n      <td>6.5</td>\n      <td>...</td>\n      <td>NaN</td>\n      <td>NaN</td>\n      <td>NaN</td>\n      <td>NaN</td>\n      <td>25</td>\n      <td>7.2</td>\n      <td>2.89</td>\n      <td>B</td>\n      <td>Khá</td>\n      <td>Nguyễn Tiến Sỹ</td>\n    </tr>\n    <tr>\n      <th>36</th>\n      <td>37</td>\n      <td>37.0</td>\n      <td>19495751.0</td>\n      <td>Văn</td>\n      <td>Sỹ</td>\n      <td>4.5</td>\n      <td>7.1</td>\n      <td>7.0</td>\n      <td>7.5</td>\n      <td>6.0</td>\n      <td>...</td>\n      <td>NaN</td>\n      <td>NaN</td>\n      <td>NaN</td>\n      <td>NaN</td>\n      <td>21</td>\n      <td>7.5</td>\n      <td>3.06</td>\n      <td>B</td>\n      <td>Khá</td>\n      <td>Văn Sỹ</td>\n    </tr>\n    <tr>\n      <th>37</th>\n      <td>38</td>\n      <td>38.0</td>\n      <td>19445631.0</td>\n      <td>Lê Duy</td>\n      <td>Tâm</td>\n      <td>4.6</td>\n      <td>7.1</td>\n      <td>6.5</td>\n      <td>9.2</td>\n      <td>6.0</td>\n      <td>...</td>\n      <td>NaN</td>\n      <td>NaN</td>\n      <td>NaN</td>\n      <td>NaN</td>\n      <td>25</td>\n      <td>7.1</td>\n      <td>2.8</td>\n      <td>B</td>\n      <td>Khá</td>\n      <td>Lê Duy Tâm</td>\n    </tr>\n    <tr>\n      <th>38</th>\n      <td>39</td>\n      <td>39.0</td>\n      <td>19502821.0</td>\n      <td>Phan Nguyễn Trọng</td>\n      <td>Tân</td>\n      <td>6.3</td>\n      <td>6.8</td>\n      <td>7.5</td>\n      <td>6.0</td>\n      <td>7.5</td>\n      <td>...</td>\n      <td>NaN</td>\n      <td>NaN</td>\n      <td>NaN</td>\n      <td>NaN</td>\n      <td>21</td>\n      <td>7.2</td>\n      <td>2.78</td>\n      <td>B</td>\n      <td>Khá</td>\n      <td>Phan Nguyễn Trọng Tân</td>\n    </tr>\n    <tr>\n      <th>39</th>\n      <td>40</td>\n      <td>40.0</td>\n      <td>19485441.0</td>\n      <td>Trương Nguyễn Duy</td>\n      <td>Tân</td>\n      <td>5.5</td>\n      <td>8.3</td>\n      <td>7.0</td>\n      <td>6.7</td>\n      <td>6.5</td>\n      <td>...</td>\n      <td>NaN</td>\n      <td>NaN</td>\n      <td>NaN</td>\n      <td>NaN</td>\n      <td>21</td>\n      <td>6.6</td>\n      <td>2.55</td>\n      <td>C+</td>\n      <td>Trung bình</td>\n      <td>Trương Nguyễn Duy Tân</td>\n    </tr>\n    <tr>\n      <th>40</th>\n      <td>41</td>\n      <td>41.0</td>\n      <td>19469481.0</td>\n      <td>Đỗ Văn</td>\n      <td>Thắng</td>\n      <td>6.3</td>\n      <td>6.8</td>\n      <td>7.0</td>\n      <td>7.4</td>\n      <td>7.5</td>\n      <td>...</td>\n      <td>NaN</td>\n      <td>NaN</td>\n      <td>NaN</td>\n      <td>NaN</td>\n      <td>23</td>\n      <td>7.3</td>\n      <td>2.89</td>\n      <td>B</td>\n      <td>Khá</td>\n      <td>Đỗ Văn Thắng</td>\n    </tr>\n    <tr>\n      <th>41</th>\n      <td>42</td>\n      <td>42.0</td>\n      <td>19501001.0</td>\n      <td>Nguyễn Đức</td>\n      <td>Thịnh</td>\n      <td>2.0</td>\n      <td>6.7</td>\n      <td>7.0</td>\n      <td>5.7</td>\n      <td>6.5</td>\n      <td>...</td>\n      <td>NaN</td>\n      <td>NaN</td>\n      <td>NaN</td>\n      <td>NaN</td>\n      <td>18</td>\n      <td>6.2</td>\n      <td>2.27</td>\n      <td>C+</td>\n      <td>Trung bình</td>\n      <td>Nguyễn Đức Thịnh</td>\n    </tr>\n    <tr>\n      <th>42</th>\n      <td>43</td>\n      <td>43.0</td>\n      <td>19471271.0</td>\n      <td>Phạm Huỳnh Trường</td>\n      <td>Thịnh</td>\n      <td>5.8</td>\n      <td>5.2</td>\n      <td>7.0</td>\n      <td>7.9</td>\n      <td>6.5</td>\n      <td>...</td>\n      <td>NaN</td>\n      <td>NaN</td>\n      <td>NaN</td>\n      <td>NaN</td>\n      <td>18</td>\n      <td>6.6</td>\n      <td>2.55</td>\n      <td>C+</td>\n      <td>Trung bình</td>\n      <td>Phạm Huỳnh Trường Thịnh</td>\n    </tr>\n    <tr>\n      <th>43</th>\n      <td>44</td>\n      <td>44.0</td>\n      <td>19446021.0</td>\n      <td>Trần Xuân</td>\n      <td>Thủy</td>\n      <td>4.6</td>\n      <td>7.5</td>\n      <td>6.5</td>\n      <td>9.5</td>\n      <td>7.0</td>\n      <td>...</td>\n      <td>NaN</td>\n      <td>NaN</td>\n      <td>NaN</td>\n      <td>NaN</td>\n      <td>21</td>\n      <td>7.3</td>\n      <td>2.88</td>\n      <td>B</td>\n      <td>Khá</td>\n      <td>Trần Xuân Thủy</td>\n    </tr>\n    <tr>\n      <th>44</th>\n      <td>45</td>\n      <td>45.0</td>\n      <td>19430791.0</td>\n      <td>Lê Văn</td>\n      <td>Tiến</td>\n      <td>1.5</td>\n      <td>5.8</td>\n      <td>6.5</td>\n      <td>7.0</td>\n      <td>6.5</td>\n      <td>...</td>\n      <td>NaN</td>\n      <td>NaN</td>\n      <td>NaN</td>\n      <td>NaN</td>\n      <td>20</td>\n      <td>6.3</td>\n      <td>2.4</td>\n      <td>C+</td>\n      <td>Trung bình</td>\n      <td>Lê Văn Tiến</td>\n    </tr>\n    <tr>\n      <th>45</th>\n      <td>46</td>\n      <td>46.0</td>\n      <td>19529711.0</td>\n      <td>Nguyễn Đặng Minh</td>\n      <td>Toại</td>\n      <td>5.0</td>\n      <td>5.6</td>\n      <td>7.5</td>\n      <td>7.0</td>\n      <td>6.5</td>\n      <td>...</td>\n      <td>NaN</td>\n      <td>NaN</td>\n      <td>NaN</td>\n      <td>NaN</td>\n      <td>25</td>\n      <td>5</td>\n      <td>1.67</td>\n      <td>D+</td>\n      <td>Trung bình yếu</td>\n      <td>Nguyễn Đặng Minh Toại</td>\n    </tr>\n    <tr>\n      <th>46</th>\n      <td>47</td>\n      <td>47.0</td>\n      <td>19500761.0</td>\n      <td>Huỳnh Minh</td>\n      <td>Toàn</td>\n      <td>6.0</td>\n      <td>7.9</td>\n      <td>7.5</td>\n      <td>8.5</td>\n      <td>7.5</td>\n      <td>...</td>\n      <td>NaN</td>\n      <td>NaN</td>\n      <td>NaN</td>\n      <td>NaN</td>\n      <td>21</td>\n      <td>7.6</td>\n      <td>3.19</td>\n      <td>B</td>\n      <td>Khá</td>\n      <td>Huỳnh Minh Toàn</td>\n    </tr>\n    <tr>\n      <th>47</th>\n      <td>48</td>\n      <td>48.0</td>\n      <td>19447201.0</td>\n      <td>Nguyễn Anh</td>\n      <td>Toàn</td>\n      <td>4.4</td>\n      <td>7.7</td>\n      <td>6.5</td>\n      <td>8.8</td>\n      <td>6.0</td>\n      <td>...</td>\n      <td>NaN</td>\n      <td>NaN</td>\n      <td>NaN</td>\n      <td>NaN</td>\n      <td>18</td>\n      <td>6.7</td>\n      <td>2.58</td>\n      <td>C+</td>\n      <td>Trung bình</td>\n      <td>Nguyễn Anh Toàn</td>\n    </tr>\n    <tr>\n      <th>48</th>\n      <td>49</td>\n      <td>49.0</td>\n      <td>19477811.0</td>\n      <td>Lưu Hoàng Ngọc</td>\n      <td>Trinh</td>\n      <td>5.9</td>\n      <td>6.2</td>\n      <td>7.5</td>\n      <td>6.4</td>\n      <td>6.5</td>\n      <td>...</td>\n      <td>NaN</td>\n      <td>NaN</td>\n      <td>NaN</td>\n      <td>NaN</td>\n      <td>11</td>\n      <td>3.8</td>\n      <td>1.34</td>\n      <td>F</td>\n      <td>Kém</td>\n      <td>Lưu Hoàng Ngọc Trinh</td>\n    </tr>\n    <tr>\n      <th>49</th>\n      <td>50</td>\n      <td>50.0</td>\n      <td>19491741.0</td>\n      <td>Lê Văn</td>\n      <td>Trung</td>\n      <td>7.9</td>\n      <td>6.7</td>\n      <td>7.0</td>\n      <td>7.4</td>\n      <td>7.0</td>\n      <td>...</td>\n      <td>NaN</td>\n      <td>NaN</td>\n      <td>NaN</td>\n      <td>NaN</td>\n      <td>13</td>\n      <td>6.1</td>\n      <td>2.15</td>\n      <td>C+</td>\n      <td>Trung bình</td>\n      <td>Lê Văn Trung</td>\n    </tr>\n    <tr>\n      <th>50</th>\n      <td>51</td>\n      <td>51.0</td>\n      <td>19477111.0</td>\n      <td>Nguyễn Tuấn</td>\n      <td>Trung</td>\n      <td>4.7</td>\n      <td>6.1</td>\n      <td>6.5</td>\n      <td>7.5</td>\n      <td>5.5</td>\n      <td>...</td>\n      <td>NaN</td>\n      <td>NaN</td>\n      <td>NaN</td>\n      <td>NaN</td>\n      <td>15</td>\n      <td>6</td>\n      <td>2.22</td>\n      <td>C+</td>\n      <td>Trung bình</td>\n      <td>Nguyễn Tuấn Trung</td>\n    </tr>\n    <tr>\n      <th>51</th>\n      <td>52</td>\n      <td>52.0</td>\n      <td>19502701.0</td>\n      <td>Phạm Thành</td>\n      <td>Trung</td>\n      <td>8.0</td>\n      <td>7.9</td>\n      <td>7.5</td>\n      <td>9.9</td>\n      <td>6.5</td>\n      <td>...</td>\n      <td>NaN</td>\n      <td>NaN</td>\n      <td>NaN</td>\n      <td>NaN</td>\n      <td>25</td>\n      <td>8.7</td>\n      <td>3.69</td>\n      <td>B+</td>\n      <td>Khá</td>\n      <td>Phạm Thành Trung</td>\n    </tr>\n    <tr>\n      <th>52</th>\n      <td>53</td>\n      <td>53.0</td>\n      <td>19499041.0</td>\n      <td>Phan Chí</td>\n      <td>Trung</td>\n      <td>6.3</td>\n      <td>6.1</td>\n      <td>6.5</td>\n      <td>6.6</td>\n      <td>5.5</td>\n      <td>...</td>\n      <td>NaN</td>\n      <td>NaN</td>\n      <td>NaN</td>\n      <td>NaN</td>\n      <td>22</td>\n      <td>7.3</td>\n      <td>2.92</td>\n      <td>B</td>\n      <td>Khá</td>\n      <td>Phan Chí Trung</td>\n    </tr>\n    <tr>\n      <th>53</th>\n      <td>54</td>\n      <td>54.0</td>\n      <td>19510211.0</td>\n      <td>Đào Duy</td>\n      <td>Trường</td>\n      <td>5.2</td>\n      <td>5.2</td>\n      <td>7.0</td>\n      <td>7.6</td>\n      <td>5.5</td>\n      <td>...</td>\n      <td>NaN</td>\n      <td>NaN</td>\n      <td>NaN</td>\n      <td>NaN</td>\n      <td>21</td>\n      <td>6.3</td>\n      <td>2.32</td>\n      <td>C+</td>\n      <td>Trung bình</td>\n      <td>Đào Duy Trường</td>\n    </tr>\n    <tr>\n      <th>54</th>\n      <td>55</td>\n      <td>55.0</td>\n      <td>19519011.0</td>\n      <td>Đoàn Minh</td>\n      <td>Trường</td>\n      <td>4.9</td>\n      <td>5.2</td>\n      <td>7.5</td>\n      <td>0.0</td>\n      <td>6.0</td>\n      <td>...</td>\n      <td>NaN</td>\n      <td>NaN</td>\n      <td>NaN</td>\n      <td>NaN</td>\n      <td>9</td>\n      <td>4.5</td>\n      <td>1.68</td>\n      <td>D</td>\n      <td>Trung bình yếu</td>\n      <td>Đoàn Minh Trường</td>\n    </tr>\n    <tr>\n      <th>55</th>\n      <td>56</td>\n      <td>56.0</td>\n      <td>19446701.0</td>\n      <td>Huỳnh Anh</td>\n      <td>Tú</td>\n      <td>6.4</td>\n      <td>6.3</td>\n      <td>6.5</td>\n      <td>7.7</td>\n      <td>7.0</td>\n      <td>...</td>\n      <td>NaN</td>\n      <td>NaN</td>\n      <td>NaN</td>\n      <td>NaN</td>\n      <td>25</td>\n      <td>6</td>\n      <td>2.14</td>\n      <td>C+</td>\n      <td>Trung bình</td>\n      <td>Huỳnh Anh Tú</td>\n    </tr>\n    <tr>\n      <th>56</th>\n      <td>57</td>\n      <td>57.0</td>\n      <td>19497581.0</td>\n      <td>Nguyễn Văn Anh</td>\n      <td>Tuấn</td>\n      <td>5.6</td>\n      <td>7.5</td>\n      <td>7.0</td>\n      <td>6.0</td>\n      <td>6.5</td>\n      <td>...</td>\n      <td>NaN</td>\n      <td>NaN</td>\n      <td>NaN</td>\n      <td>NaN</td>\n      <td>25</td>\n      <td>7.5</td>\n      <td>3.02</td>\n      <td>B</td>\n      <td>Khá</td>\n      <td>Nguyễn Văn Anh Tuấn</td>\n    </tr>\n    <tr>\n      <th>57</th>\n      <td>58</td>\n      <td>58.0</td>\n      <td>19469421.0</td>\n      <td>Phạm Minh</td>\n      <td>Tuấn</td>\n      <td>6.3</td>\n      <td>6.4</td>\n      <td>6.5</td>\n      <td>7.0</td>\n      <td>5.5</td>\n      <td>...</td>\n      <td>NaN</td>\n      <td>NaN</td>\n      <td>NaN</td>\n      <td>NaN</td>\n      <td>21</td>\n      <td>5.4</td>\n      <td>1.99</td>\n      <td>D+</td>\n      <td>Trung bình yếu</td>\n      <td>Phạm Minh Tuấn</td>\n    </tr>\n    <tr>\n      <th>58</th>\n      <td>59</td>\n      <td>59.0</td>\n      <td>19512321.0</td>\n      <td>Phan Lê Hoàng</td>\n      <td>Việt</td>\n      <td>1.0</td>\n      <td>7.6</td>\n      <td>6.5</td>\n      <td>5.7</td>\n      <td>5.0</td>\n      <td>...</td>\n      <td>NaN</td>\n      <td>NaN</td>\n      <td>NaN</td>\n      <td>NaN</td>\n      <td>17</td>\n      <td>6.2</td>\n      <td>2.35</td>\n      <td>C+</td>\n      <td>Trung bình</td>\n      <td>Phan Lê Hoàng Việt</td>\n    </tr>\n    <tr>\n      <th>59</th>\n      <td>60</td>\n      <td>60.0</td>\n      <td>19474281.0</td>\n      <td>Trần Tuấn</td>\n      <td>Vũ</td>\n      <td>7.9</td>\n      <td>6.5</td>\n      <td>6.5</td>\n      <td>9.6</td>\n      <td>5.5</td>\n      <td>...</td>\n      <td>NaN</td>\n      <td>NaN</td>\n      <td>NaN</td>\n      <td>NaN</td>\n      <td>22</td>\n      <td>7.9</td>\n      <td>3.2</td>\n      <td>B</td>\n      <td>Khá</td>\n      <td>Trần Tuấn Vũ</td>\n    </tr>\n  </tbody>\n</table>\n<p>60 rows × 91 columns</p>\n</div>"
     },
     "metadata": {},
     "execution_count": 51
    }
   ],
   "source": [
    "df"
   ]
  },
  {
   "cell_type": "code",
   "execution_count": 52,
   "metadata": {},
   "outputs": [],
   "source": [
    "def make_boxplot(subject):\n",
    "    fig = px.box(df, y=subject, hover_data={'Họ và tên': True})\n",
    "    fig.show()"
   ]
  },
  {
   "cell_type": "code",
   "execution_count": 53,
   "metadata": {},
   "outputs": [
    {
     "output_type": "display_data",
     "data": {
      "application/vnd.plotly.v1+json": {
       "config": {
        "plotlyServerURL": "https://plot.ly"
       },
       "data": [
        {
         "alignmentgroup": "True",
         "customdata": [
          [
           "Đinh Tuấn Anh"
          ],
          [
           "Hà Bảo Anh"
          ],
          [
           "Lưu Đức Anh"
          ],
          [
           "Trần Nam Bá"
          ],
          [
           "Ngô Đức Bảo"
          ],
          [
           "Trịnh Thị Bảo Bảo"
          ],
          [
           "Đỗ Xuân Đức Chung"
          ],
          [
           "Phạm Tài Đức Phú Đa"
          ],
          [
           "Lê Tấn Đạt"
          ],
          [
           "Phạm Hà Văn Đông"
          ],
          [
           "Trịnh Ngọc Đức"
          ],
          [
           "Tăng Hoài Duy"
          ],
          [
           "Thái Thị Hiền"
          ],
          [
           "Phạm Thế Hiển"
          ],
          [
           "Trần Minh Hiếu"
          ],
          [
           "Nguyễn Thị Thanh Hòa"
          ],
          [
           "Ngô Quốc Hoàng"
          ],
          [
           "Hồ Quang Huy"
          ],
          [
           "Lương Quang Khải"
          ],
          [
           "Phạm Hoàng Duy Khang"
          ],
          [
           "Lê Mỹ Thanh Lành"
          ],
          [
           "Trần Hồ Phi Long"
          ],
          [
           "Trương Thị Cẩm Ly"
          ],
          [
           "Quách Trọng Nghĩa"
          ],
          [
           "Nguyễn Thành Nhân"
          ],
          [
           "Nguyễn Văn Phúc Nhân"
          ],
          [
           "Lưu Thị Yến Nhi"
          ],
          [
           "Lê Huy Phát"
          ],
          [
           "Lê Thanh Phong"
          ],
          [
           "Phan Nguyễn Mai Phương"
          ],
          [
           "Vũ Minh Quang"
          ],
          [
           "Nguyễn Quang Quốc"
          ],
          [
           "Dương Văn Sang"
          ],
          [
           "Nguyễn Tuấn Sinh"
          ],
          [
           "Phạm Trung Sơn"
          ],
          [
           "Nguyễn Tiến Sỹ"
          ],
          [
           "Văn Sỹ"
          ],
          [
           "Lê Duy Tâm"
          ],
          [
           "Phan Nguyễn Trọng Tân"
          ],
          [
           "Trương Nguyễn Duy Tân"
          ],
          [
           "Đỗ Văn Thắng"
          ],
          [
           "Nguyễn Đức Thịnh"
          ],
          [
           "Phạm Huỳnh Trường Thịnh"
          ],
          [
           "Trần Xuân Thủy"
          ],
          [
           "Lê Văn Tiến"
          ],
          [
           "Nguyễn Đặng Minh Toại"
          ],
          [
           "Huỳnh Minh Toàn"
          ],
          [
           "Nguyễn Anh Toàn"
          ],
          [
           "Lưu Hoàng Ngọc Trinh"
          ],
          [
           "Lê Văn Trung"
          ],
          [
           "Nguyễn Tuấn Trung"
          ],
          [
           "Phạm Thành Trung"
          ],
          [
           "Phan Chí Trung"
          ],
          [
           "Đào Duy Trường"
          ],
          [
           "Đoàn Minh Trường"
          ],
          [
           "Huỳnh Anh Tú"
          ],
          [
           "Nguyễn Văn Anh Tuấn"
          ],
          [
           "Phạm Minh Tuấn"
          ],
          [
           "Phan Lê Hoàng Việt"
          ],
          [
           "Trần Tuấn Vũ"
          ]
         ],
         "hovertemplate": "Toán cao cấp 1=%{y}<br>Họ và tên=%{customdata[0]}<extra></extra>",
         "legendgroup": "",
         "marker": {
          "color": "#636efa"
         },
         "name": "",
         "notched": false,
         "offsetgroup": "",
         "orientation": "v",
         "showlegend": false,
         "type": "box",
         "x0": " ",
         "xaxis": "x",
         "y": [
          8.5,
          7.1,
          8.4,
          8.6,
          9.5,
          8.6,
          5.4,
          8.5,
          4.5,
          6.7,
          7.6,
          7.6,
          9,
          8.1,
          7.9,
          9.8,
          9.8,
          9,
          7.5,
          6.5,
          5.6,
          8.9,
          8.4,
          6.1,
          2.5,
          7.4,
          9.5,
          7.5,
          9.5,
          7.1,
          8.6,
          7.7,
          9.1,
          7.9,
          8,
          8.1,
          7.5,
          9.2,
          6,
          6.7,
          7.4,
          5.7,
          7.9,
          9.5,
          7,
          7,
          8.5,
          8.8,
          6.4,
          7.4,
          7.5,
          9.9,
          6.6,
          7.6,
          0,
          7.7,
          6,
          7,
          5.7,
          9.6
         ],
         "y0": " ",
         "yaxis": "y"
        }
       ],
       "layout": {
        "boxmode": "group",
        "legend": {
         "tracegroupgap": 0
        },
        "margin": {
         "t": 60
        },
        "template": {
         "data": {
          "bar": [
           {
            "error_x": {
             "color": "#2a3f5f"
            },
            "error_y": {
             "color": "#2a3f5f"
            },
            "marker": {
             "line": {
              "color": "#E5ECF6",
              "width": 0.5
             }
            },
            "type": "bar"
           }
          ],
          "barpolar": [
           {
            "marker": {
             "line": {
              "color": "#E5ECF6",
              "width": 0.5
             }
            },
            "type": "barpolar"
           }
          ],
          "carpet": [
           {
            "aaxis": {
             "endlinecolor": "#2a3f5f",
             "gridcolor": "white",
             "linecolor": "white",
             "minorgridcolor": "white",
             "startlinecolor": "#2a3f5f"
            },
            "baxis": {
             "endlinecolor": "#2a3f5f",
             "gridcolor": "white",
             "linecolor": "white",
             "minorgridcolor": "white",
             "startlinecolor": "#2a3f5f"
            },
            "type": "carpet"
           }
          ],
          "choropleth": [
           {
            "colorbar": {
             "outlinewidth": 0,
             "ticks": ""
            },
            "type": "choropleth"
           }
          ],
          "contour": [
           {
            "colorbar": {
             "outlinewidth": 0,
             "ticks": ""
            },
            "colorscale": [
             [
              0,
              "#0d0887"
             ],
             [
              0.1111111111111111,
              "#46039f"
             ],
             [
              0.2222222222222222,
              "#7201a8"
             ],
             [
              0.3333333333333333,
              "#9c179e"
             ],
             [
              0.4444444444444444,
              "#bd3786"
             ],
             [
              0.5555555555555556,
              "#d8576b"
             ],
             [
              0.6666666666666666,
              "#ed7953"
             ],
             [
              0.7777777777777778,
              "#fb9f3a"
             ],
             [
              0.8888888888888888,
              "#fdca26"
             ],
             [
              1,
              "#f0f921"
             ]
            ],
            "type": "contour"
           }
          ],
          "contourcarpet": [
           {
            "colorbar": {
             "outlinewidth": 0,
             "ticks": ""
            },
            "type": "contourcarpet"
           }
          ],
          "heatmap": [
           {
            "colorbar": {
             "outlinewidth": 0,
             "ticks": ""
            },
            "colorscale": [
             [
              0,
              "#0d0887"
             ],
             [
              0.1111111111111111,
              "#46039f"
             ],
             [
              0.2222222222222222,
              "#7201a8"
             ],
             [
              0.3333333333333333,
              "#9c179e"
             ],
             [
              0.4444444444444444,
              "#bd3786"
             ],
             [
              0.5555555555555556,
              "#d8576b"
             ],
             [
              0.6666666666666666,
              "#ed7953"
             ],
             [
              0.7777777777777778,
              "#fb9f3a"
             ],
             [
              0.8888888888888888,
              "#fdca26"
             ],
             [
              1,
              "#f0f921"
             ]
            ],
            "type": "heatmap"
           }
          ],
          "heatmapgl": [
           {
            "colorbar": {
             "outlinewidth": 0,
             "ticks": ""
            },
            "colorscale": [
             [
              0,
              "#0d0887"
             ],
             [
              0.1111111111111111,
              "#46039f"
             ],
             [
              0.2222222222222222,
              "#7201a8"
             ],
             [
              0.3333333333333333,
              "#9c179e"
             ],
             [
              0.4444444444444444,
              "#bd3786"
             ],
             [
              0.5555555555555556,
              "#d8576b"
             ],
             [
              0.6666666666666666,
              "#ed7953"
             ],
             [
              0.7777777777777778,
              "#fb9f3a"
             ],
             [
              0.8888888888888888,
              "#fdca26"
             ],
             [
              1,
              "#f0f921"
             ]
            ],
            "type": "heatmapgl"
           }
          ],
          "histogram": [
           {
            "marker": {
             "colorbar": {
              "outlinewidth": 0,
              "ticks": ""
             }
            },
            "type": "histogram"
           }
          ],
          "histogram2d": [
           {
            "colorbar": {
             "outlinewidth": 0,
             "ticks": ""
            },
            "colorscale": [
             [
              0,
              "#0d0887"
             ],
             [
              0.1111111111111111,
              "#46039f"
             ],
             [
              0.2222222222222222,
              "#7201a8"
             ],
             [
              0.3333333333333333,
              "#9c179e"
             ],
             [
              0.4444444444444444,
              "#bd3786"
             ],
             [
              0.5555555555555556,
              "#d8576b"
             ],
             [
              0.6666666666666666,
              "#ed7953"
             ],
             [
              0.7777777777777778,
              "#fb9f3a"
             ],
             [
              0.8888888888888888,
              "#fdca26"
             ],
             [
              1,
              "#f0f921"
             ]
            ],
            "type": "histogram2d"
           }
          ],
          "histogram2dcontour": [
           {
            "colorbar": {
             "outlinewidth": 0,
             "ticks": ""
            },
            "colorscale": [
             [
              0,
              "#0d0887"
             ],
             [
              0.1111111111111111,
              "#46039f"
             ],
             [
              0.2222222222222222,
              "#7201a8"
             ],
             [
              0.3333333333333333,
              "#9c179e"
             ],
             [
              0.4444444444444444,
              "#bd3786"
             ],
             [
              0.5555555555555556,
              "#d8576b"
             ],
             [
              0.6666666666666666,
              "#ed7953"
             ],
             [
              0.7777777777777778,
              "#fb9f3a"
             ],
             [
              0.8888888888888888,
              "#fdca26"
             ],
             [
              1,
              "#f0f921"
             ]
            ],
            "type": "histogram2dcontour"
           }
          ],
          "mesh3d": [
           {
            "colorbar": {
             "outlinewidth": 0,
             "ticks": ""
            },
            "type": "mesh3d"
           }
          ],
          "parcoords": [
           {
            "line": {
             "colorbar": {
              "outlinewidth": 0,
              "ticks": ""
             }
            },
            "type": "parcoords"
           }
          ],
          "pie": [
           {
            "automargin": true,
            "type": "pie"
           }
          ],
          "scatter": [
           {
            "marker": {
             "colorbar": {
              "outlinewidth": 0,
              "ticks": ""
             }
            },
            "type": "scatter"
           }
          ],
          "scatter3d": [
           {
            "line": {
             "colorbar": {
              "outlinewidth": 0,
              "ticks": ""
             }
            },
            "marker": {
             "colorbar": {
              "outlinewidth": 0,
              "ticks": ""
             }
            },
            "type": "scatter3d"
           }
          ],
          "scattercarpet": [
           {
            "marker": {
             "colorbar": {
              "outlinewidth": 0,
              "ticks": ""
             }
            },
            "type": "scattercarpet"
           }
          ],
          "scattergeo": [
           {
            "marker": {
             "colorbar": {
              "outlinewidth": 0,
              "ticks": ""
             }
            },
            "type": "scattergeo"
           }
          ],
          "scattergl": [
           {
            "marker": {
             "colorbar": {
              "outlinewidth": 0,
              "ticks": ""
             }
            },
            "type": "scattergl"
           }
          ],
          "scattermapbox": [
           {
            "marker": {
             "colorbar": {
              "outlinewidth": 0,
              "ticks": ""
             }
            },
            "type": "scattermapbox"
           }
          ],
          "scatterpolar": [
           {
            "marker": {
             "colorbar": {
              "outlinewidth": 0,
              "ticks": ""
             }
            },
            "type": "scatterpolar"
           }
          ],
          "scatterpolargl": [
           {
            "marker": {
             "colorbar": {
              "outlinewidth": 0,
              "ticks": ""
             }
            },
            "type": "scatterpolargl"
           }
          ],
          "scatterternary": [
           {
            "marker": {
             "colorbar": {
              "outlinewidth": 0,
              "ticks": ""
             }
            },
            "type": "scatterternary"
           }
          ],
          "surface": [
           {
            "colorbar": {
             "outlinewidth": 0,
             "ticks": ""
            },
            "colorscale": [
             [
              0,
              "#0d0887"
             ],
             [
              0.1111111111111111,
              "#46039f"
             ],
             [
              0.2222222222222222,
              "#7201a8"
             ],
             [
              0.3333333333333333,
              "#9c179e"
             ],
             [
              0.4444444444444444,
              "#bd3786"
             ],
             [
              0.5555555555555556,
              "#d8576b"
             ],
             [
              0.6666666666666666,
              "#ed7953"
             ],
             [
              0.7777777777777778,
              "#fb9f3a"
             ],
             [
              0.8888888888888888,
              "#fdca26"
             ],
             [
              1,
              "#f0f921"
             ]
            ],
            "type": "surface"
           }
          ],
          "table": [
           {
            "cells": {
             "fill": {
              "color": "#EBF0F8"
             },
             "line": {
              "color": "white"
             }
            },
            "header": {
             "fill": {
              "color": "#C8D4E3"
             },
             "line": {
              "color": "white"
             }
            },
            "type": "table"
           }
          ]
         },
         "layout": {
          "annotationdefaults": {
           "arrowcolor": "#2a3f5f",
           "arrowhead": 0,
           "arrowwidth": 1
          },
          "autotypenumbers": "strict",
          "coloraxis": {
           "colorbar": {
            "outlinewidth": 0,
            "ticks": ""
           }
          },
          "colorscale": {
           "diverging": [
            [
             0,
             "#8e0152"
            ],
            [
             0.1,
             "#c51b7d"
            ],
            [
             0.2,
             "#de77ae"
            ],
            [
             0.3,
             "#f1b6da"
            ],
            [
             0.4,
             "#fde0ef"
            ],
            [
             0.5,
             "#f7f7f7"
            ],
            [
             0.6,
             "#e6f5d0"
            ],
            [
             0.7,
             "#b8e186"
            ],
            [
             0.8,
             "#7fbc41"
            ],
            [
             0.9,
             "#4d9221"
            ],
            [
             1,
             "#276419"
            ]
           ],
           "sequential": [
            [
             0,
             "#0d0887"
            ],
            [
             0.1111111111111111,
             "#46039f"
            ],
            [
             0.2222222222222222,
             "#7201a8"
            ],
            [
             0.3333333333333333,
             "#9c179e"
            ],
            [
             0.4444444444444444,
             "#bd3786"
            ],
            [
             0.5555555555555556,
             "#d8576b"
            ],
            [
             0.6666666666666666,
             "#ed7953"
            ],
            [
             0.7777777777777778,
             "#fb9f3a"
            ],
            [
             0.8888888888888888,
             "#fdca26"
            ],
            [
             1,
             "#f0f921"
            ]
           ],
           "sequentialminus": [
            [
             0,
             "#0d0887"
            ],
            [
             0.1111111111111111,
             "#46039f"
            ],
            [
             0.2222222222222222,
             "#7201a8"
            ],
            [
             0.3333333333333333,
             "#9c179e"
            ],
            [
             0.4444444444444444,
             "#bd3786"
            ],
            [
             0.5555555555555556,
             "#d8576b"
            ],
            [
             0.6666666666666666,
             "#ed7953"
            ],
            [
             0.7777777777777778,
             "#fb9f3a"
            ],
            [
             0.8888888888888888,
             "#fdca26"
            ],
            [
             1,
             "#f0f921"
            ]
           ]
          },
          "colorway": [
           "#636efa",
           "#EF553B",
           "#00cc96",
           "#ab63fa",
           "#FFA15A",
           "#19d3f3",
           "#FF6692",
           "#B6E880",
           "#FF97FF",
           "#FECB52"
          ],
          "font": {
           "color": "#2a3f5f"
          },
          "geo": {
           "bgcolor": "white",
           "lakecolor": "white",
           "landcolor": "#E5ECF6",
           "showlakes": true,
           "showland": true,
           "subunitcolor": "white"
          },
          "hoverlabel": {
           "align": "left"
          },
          "hovermode": "closest",
          "mapbox": {
           "style": "light"
          },
          "paper_bgcolor": "white",
          "plot_bgcolor": "#E5ECF6",
          "polar": {
           "angularaxis": {
            "gridcolor": "white",
            "linecolor": "white",
            "ticks": ""
           },
           "bgcolor": "#E5ECF6",
           "radialaxis": {
            "gridcolor": "white",
            "linecolor": "white",
            "ticks": ""
           }
          },
          "scene": {
           "xaxis": {
            "backgroundcolor": "#E5ECF6",
            "gridcolor": "white",
            "gridwidth": 2,
            "linecolor": "white",
            "showbackground": true,
            "ticks": "",
            "zerolinecolor": "white"
           },
           "yaxis": {
            "backgroundcolor": "#E5ECF6",
            "gridcolor": "white",
            "gridwidth": 2,
            "linecolor": "white",
            "showbackground": true,
            "ticks": "",
            "zerolinecolor": "white"
           },
           "zaxis": {
            "backgroundcolor": "#E5ECF6",
            "gridcolor": "white",
            "gridwidth": 2,
            "linecolor": "white",
            "showbackground": true,
            "ticks": "",
            "zerolinecolor": "white"
           }
          },
          "shapedefaults": {
           "line": {
            "color": "#2a3f5f"
           }
          },
          "ternary": {
           "aaxis": {
            "gridcolor": "white",
            "linecolor": "white",
            "ticks": ""
           },
           "baxis": {
            "gridcolor": "white",
            "linecolor": "white",
            "ticks": ""
           },
           "bgcolor": "#E5ECF6",
           "caxis": {
            "gridcolor": "white",
            "linecolor": "white",
            "ticks": ""
           }
          },
          "title": {
           "x": 0.05
          },
          "xaxis": {
           "automargin": true,
           "gridcolor": "white",
           "linecolor": "white",
           "ticks": "",
           "title": {
            "standoff": 15
           },
           "zerolinecolor": "white",
           "zerolinewidth": 2
          },
          "yaxis": {
           "automargin": true,
           "gridcolor": "white",
           "linecolor": "white",
           "ticks": "",
           "title": {
            "standoff": 15
           },
           "zerolinecolor": "white",
           "zerolinewidth": 2
          }
         }
        },
        "updatemenus": [
         {
          "buttons": [
           {
            "args": [
             "y",
             "Cấu trúc dữ liệu và giải thuật"
            ],
            "label": "Cấu trúc dữ liệu và giải thuật",
            "method": "restyle"
           },
           {
            "args": [
             "y",
             "Toán cao cấp 1"
            ],
            "label": "Toán cao cấp 1",
            "method": "restyle"
           }
          ]
         }
        ],
        "xaxis": {
         "anchor": "y",
         "domain": [
          0,
          1
         ]
        },
        "yaxis": {
         "anchor": "x",
         "domain": [
          0,
          1
         ],
         "title": {
          "text": "Toán cao cấp 1"
         }
        }
       }
      }
     },
     "metadata": {}
    }
   ],
   "source": [
    "fig = px.box(df, y='Toán cao cấp 1', hover_data={'Họ và tên': True})\n",
    "fig.update_layout(\n",
    "    updatemenus=[\n",
    "        dict(\n",
    "            buttons=list([\n",
    "                dict(\n",
    "                    args=[\"y\", 'Cấu trúc dữ liệu và giải thuật'],\n",
    "                    label=\"Cấu trúc dữ liệu và giải thuật\",\n",
    "                    method=\"restyle\"\n",
    "                ),\n",
    "                dict(\n",
    "                    args=[\"y\", 'Toán cao cấp 1'],\n",
    "                    label=\"Toán cao cấp 1\",\n",
    "                    method=\"restyle\"\n",
    "                )\n",
    "            ])\n",
    "        ),\n",
    "    ]\n",
    ")\n"
   ]
  },
  {
   "cell_type": "markdown",
   "metadata": {},
   "source": [
    "- Vẽ boxplot cho từng môn, làm dropdown"
   ]
  },
  {
   "cell_type": "code",
   "execution_count": 54,
   "metadata": {},
   "outputs": [
    {
     "output_type": "display_data",
     "data": {
      "application/vnd.plotly.v1+json": {
       "config": {
        "plotlyServerURL": "https://plot.ly"
       },
       "data": [
        {
         "alignmentgroup": "True",
         "customdata": [
          [
           "Đinh Tuấn Anh"
          ],
          [
           "Hà Bảo Anh"
          ],
          [
           "Lưu Đức Anh"
          ],
          [
           "Trần Nam Bá"
          ],
          [
           "Ngô Đức Bảo"
          ],
          [
           "Trịnh Thị Bảo Bảo"
          ],
          [
           "Đỗ Xuân Đức Chung"
          ],
          [
           "Phạm Tài Đức Phú Đa"
          ],
          [
           "Lê Tấn Đạt"
          ],
          [
           "Phạm Hà Văn Đông"
          ],
          [
           "Trịnh Ngọc Đức"
          ],
          [
           "Tăng Hoài Duy"
          ],
          [
           "Thái Thị Hiền"
          ],
          [
           "Phạm Thế Hiển"
          ],
          [
           "Trần Minh Hiếu"
          ],
          [
           "Nguyễn Thị Thanh Hòa"
          ],
          [
           "Ngô Quốc Hoàng"
          ],
          [
           "Hồ Quang Huy"
          ],
          [
           "Lương Quang Khải"
          ],
          [
           "Phạm Hoàng Duy Khang"
          ],
          [
           "Lê Mỹ Thanh Lành"
          ],
          [
           "Trần Hồ Phi Long"
          ],
          [
           "Trương Thị Cẩm Ly"
          ],
          [
           "Quách Trọng Nghĩa"
          ],
          [
           "Nguyễn Thành Nhân"
          ],
          [
           "Nguyễn Văn Phúc Nhân"
          ],
          [
           "Lưu Thị Yến Nhi"
          ],
          [
           "Lê Huy Phát"
          ],
          [
           "Lê Thanh Phong"
          ],
          [
           "Phan Nguyễn Mai Phương"
          ],
          [
           "Vũ Minh Quang"
          ],
          [
           "Nguyễn Quang Quốc"
          ],
          [
           "Dương Văn Sang"
          ],
          [
           "Nguyễn Tuấn Sinh"
          ],
          [
           "Phạm Trung Sơn"
          ],
          [
           "Nguyễn Tiến Sỹ"
          ],
          [
           "Văn Sỹ"
          ],
          [
           "Lê Duy Tâm"
          ],
          [
           "Phan Nguyễn Trọng Tân"
          ],
          [
           "Trương Nguyễn Duy Tân"
          ],
          [
           "Đỗ Văn Thắng"
          ],
          [
           "Nguyễn Đức Thịnh"
          ],
          [
           "Phạm Huỳnh Trường Thịnh"
          ],
          [
           "Trần Xuân Thủy"
          ],
          [
           "Lê Văn Tiến"
          ],
          [
           "Nguyễn Đặng Minh Toại"
          ],
          [
           "Huỳnh Minh Toàn"
          ],
          [
           "Nguyễn Anh Toàn"
          ],
          [
           "Lưu Hoàng Ngọc Trinh"
          ],
          [
           "Lê Văn Trung"
          ],
          [
           "Nguyễn Tuấn Trung"
          ],
          [
           "Phạm Thành Trung"
          ],
          [
           "Phan Chí Trung"
          ],
          [
           "Đào Duy Trường"
          ],
          [
           "Đoàn Minh Trường"
          ],
          [
           "Huỳnh Anh Tú"
          ],
          [
           "Nguyễn Văn Anh Tuấn"
          ],
          [
           "Phạm Minh Tuấn"
          ],
          [
           "Phan Lê Hoàng Việt"
          ],
          [
           "Trần Tuấn Vũ"
          ]
         ],
         "hovertemplate": "Kỹ thuật lập trình=%{y}<br>Họ và tên=%{customdata[0]}<extra></extra>",
         "legendgroup": "",
         "marker": {
          "color": "#636efa"
         },
         "name": "",
         "notched": false,
         "offsetgroup": "",
         "orientation": "v",
         "showlegend": false,
         "type": "box",
         "x0": " ",
         "xaxis": "x",
         "y": [
          7.4,
          5.7,
          5.9,
          5.7,
          null,
          5.9,
          0,
          5.9,
          null,
          6.4,
          7.5,
          5.1,
          4.8,
          7,
          4.9,
          8.2,
          9.1,
          9.5,
          7.3,
          null,
          5.6,
          6.4,
          7.8,
          1.5,
          0,
          7.3,
          8.8,
          4.5,
          8.8,
          7,
          8.6,
          8,
          6.7,
          7.7,
          5.7,
          5.8,
          9,
          6.1,
          4.7,
          4.3,
          7.2,
          6.2,
          5.8,
          7.6,
          7.8,
          0,
          5.5,
          6.4,
          null,
          8.3,
          8.5,
          8.2,
          8.2,
          5.9,
          6.6,
          4.6,
          8.3,
          5.5,
          6,
          8.5
         ],
         "y0": " ",
         "yaxis": "y"
        }
       ],
       "layout": {
        "boxmode": "group",
        "legend": {
         "tracegroupgap": 0
        },
        "margin": {
         "t": 60
        },
        "template": {
         "data": {
          "bar": [
           {
            "error_x": {
             "color": "#2a3f5f"
            },
            "error_y": {
             "color": "#2a3f5f"
            },
            "marker": {
             "line": {
              "color": "#E5ECF6",
              "width": 0.5
             }
            },
            "type": "bar"
           }
          ],
          "barpolar": [
           {
            "marker": {
             "line": {
              "color": "#E5ECF6",
              "width": 0.5
             }
            },
            "type": "barpolar"
           }
          ],
          "carpet": [
           {
            "aaxis": {
             "endlinecolor": "#2a3f5f",
             "gridcolor": "white",
             "linecolor": "white",
             "minorgridcolor": "white",
             "startlinecolor": "#2a3f5f"
            },
            "baxis": {
             "endlinecolor": "#2a3f5f",
             "gridcolor": "white",
             "linecolor": "white",
             "minorgridcolor": "white",
             "startlinecolor": "#2a3f5f"
            },
            "type": "carpet"
           }
          ],
          "choropleth": [
           {
            "colorbar": {
             "outlinewidth": 0,
             "ticks": ""
            },
            "type": "choropleth"
           }
          ],
          "contour": [
           {
            "colorbar": {
             "outlinewidth": 0,
             "ticks": ""
            },
            "colorscale": [
             [
              0,
              "#0d0887"
             ],
             [
              0.1111111111111111,
              "#46039f"
             ],
             [
              0.2222222222222222,
              "#7201a8"
             ],
             [
              0.3333333333333333,
              "#9c179e"
             ],
             [
              0.4444444444444444,
              "#bd3786"
             ],
             [
              0.5555555555555556,
              "#d8576b"
             ],
             [
              0.6666666666666666,
              "#ed7953"
             ],
             [
              0.7777777777777778,
              "#fb9f3a"
             ],
             [
              0.8888888888888888,
              "#fdca26"
             ],
             [
              1,
              "#f0f921"
             ]
            ],
            "type": "contour"
           }
          ],
          "contourcarpet": [
           {
            "colorbar": {
             "outlinewidth": 0,
             "ticks": ""
            },
            "type": "contourcarpet"
           }
          ],
          "heatmap": [
           {
            "colorbar": {
             "outlinewidth": 0,
             "ticks": ""
            },
            "colorscale": [
             [
              0,
              "#0d0887"
             ],
             [
              0.1111111111111111,
              "#46039f"
             ],
             [
              0.2222222222222222,
              "#7201a8"
             ],
             [
              0.3333333333333333,
              "#9c179e"
             ],
             [
              0.4444444444444444,
              "#bd3786"
             ],
             [
              0.5555555555555556,
              "#d8576b"
             ],
             [
              0.6666666666666666,
              "#ed7953"
             ],
             [
              0.7777777777777778,
              "#fb9f3a"
             ],
             [
              0.8888888888888888,
              "#fdca26"
             ],
             [
              1,
              "#f0f921"
             ]
            ],
            "type": "heatmap"
           }
          ],
          "heatmapgl": [
           {
            "colorbar": {
             "outlinewidth": 0,
             "ticks": ""
            },
            "colorscale": [
             [
              0,
              "#0d0887"
             ],
             [
              0.1111111111111111,
              "#46039f"
             ],
             [
              0.2222222222222222,
              "#7201a8"
             ],
             [
              0.3333333333333333,
              "#9c179e"
             ],
             [
              0.4444444444444444,
              "#bd3786"
             ],
             [
              0.5555555555555556,
              "#d8576b"
             ],
             [
              0.6666666666666666,
              "#ed7953"
             ],
             [
              0.7777777777777778,
              "#fb9f3a"
             ],
             [
              0.8888888888888888,
              "#fdca26"
             ],
             [
              1,
              "#f0f921"
             ]
            ],
            "type": "heatmapgl"
           }
          ],
          "histogram": [
           {
            "marker": {
             "colorbar": {
              "outlinewidth": 0,
              "ticks": ""
             }
            },
            "type": "histogram"
           }
          ],
          "histogram2d": [
           {
            "colorbar": {
             "outlinewidth": 0,
             "ticks": ""
            },
            "colorscale": [
             [
              0,
              "#0d0887"
             ],
             [
              0.1111111111111111,
              "#46039f"
             ],
             [
              0.2222222222222222,
              "#7201a8"
             ],
             [
              0.3333333333333333,
              "#9c179e"
             ],
             [
              0.4444444444444444,
              "#bd3786"
             ],
             [
              0.5555555555555556,
              "#d8576b"
             ],
             [
              0.6666666666666666,
              "#ed7953"
             ],
             [
              0.7777777777777778,
              "#fb9f3a"
             ],
             [
              0.8888888888888888,
              "#fdca26"
             ],
             [
              1,
              "#f0f921"
             ]
            ],
            "type": "histogram2d"
           }
          ],
          "histogram2dcontour": [
           {
            "colorbar": {
             "outlinewidth": 0,
             "ticks": ""
            },
            "colorscale": [
             [
              0,
              "#0d0887"
             ],
             [
              0.1111111111111111,
              "#46039f"
             ],
             [
              0.2222222222222222,
              "#7201a8"
             ],
             [
              0.3333333333333333,
              "#9c179e"
             ],
             [
              0.4444444444444444,
              "#bd3786"
             ],
             [
              0.5555555555555556,
              "#d8576b"
             ],
             [
              0.6666666666666666,
              "#ed7953"
             ],
             [
              0.7777777777777778,
              "#fb9f3a"
             ],
             [
              0.8888888888888888,
              "#fdca26"
             ],
             [
              1,
              "#f0f921"
             ]
            ],
            "type": "histogram2dcontour"
           }
          ],
          "mesh3d": [
           {
            "colorbar": {
             "outlinewidth": 0,
             "ticks": ""
            },
            "type": "mesh3d"
           }
          ],
          "parcoords": [
           {
            "line": {
             "colorbar": {
              "outlinewidth": 0,
              "ticks": ""
             }
            },
            "type": "parcoords"
           }
          ],
          "pie": [
           {
            "automargin": true,
            "type": "pie"
           }
          ],
          "scatter": [
           {
            "marker": {
             "colorbar": {
              "outlinewidth": 0,
              "ticks": ""
             }
            },
            "type": "scatter"
           }
          ],
          "scatter3d": [
           {
            "line": {
             "colorbar": {
              "outlinewidth": 0,
              "ticks": ""
             }
            },
            "marker": {
             "colorbar": {
              "outlinewidth": 0,
              "ticks": ""
             }
            },
            "type": "scatter3d"
           }
          ],
          "scattercarpet": [
           {
            "marker": {
             "colorbar": {
              "outlinewidth": 0,
              "ticks": ""
             }
            },
            "type": "scattercarpet"
           }
          ],
          "scattergeo": [
           {
            "marker": {
             "colorbar": {
              "outlinewidth": 0,
              "ticks": ""
             }
            },
            "type": "scattergeo"
           }
          ],
          "scattergl": [
           {
            "marker": {
             "colorbar": {
              "outlinewidth": 0,
              "ticks": ""
             }
            },
            "type": "scattergl"
           }
          ],
          "scattermapbox": [
           {
            "marker": {
             "colorbar": {
              "outlinewidth": 0,
              "ticks": ""
             }
            },
            "type": "scattermapbox"
           }
          ],
          "scatterpolar": [
           {
            "marker": {
             "colorbar": {
              "outlinewidth": 0,
              "ticks": ""
             }
            },
            "type": "scatterpolar"
           }
          ],
          "scatterpolargl": [
           {
            "marker": {
             "colorbar": {
              "outlinewidth": 0,
              "ticks": ""
             }
            },
            "type": "scatterpolargl"
           }
          ],
          "scatterternary": [
           {
            "marker": {
             "colorbar": {
              "outlinewidth": 0,
              "ticks": ""
             }
            },
            "type": "scatterternary"
           }
          ],
          "surface": [
           {
            "colorbar": {
             "outlinewidth": 0,
             "ticks": ""
            },
            "colorscale": [
             [
              0,
              "#0d0887"
             ],
             [
              0.1111111111111111,
              "#46039f"
             ],
             [
              0.2222222222222222,
              "#7201a8"
             ],
             [
              0.3333333333333333,
              "#9c179e"
             ],
             [
              0.4444444444444444,
              "#bd3786"
             ],
             [
              0.5555555555555556,
              "#d8576b"
             ],
             [
              0.6666666666666666,
              "#ed7953"
             ],
             [
              0.7777777777777778,
              "#fb9f3a"
             ],
             [
              0.8888888888888888,
              "#fdca26"
             ],
             [
              1,
              "#f0f921"
             ]
            ],
            "type": "surface"
           }
          ],
          "table": [
           {
            "cells": {
             "fill": {
              "color": "#EBF0F8"
             },
             "line": {
              "color": "white"
             }
            },
            "header": {
             "fill": {
              "color": "#C8D4E3"
             },
             "line": {
              "color": "white"
             }
            },
            "type": "table"
           }
          ]
         },
         "layout": {
          "annotationdefaults": {
           "arrowcolor": "#2a3f5f",
           "arrowhead": 0,
           "arrowwidth": 1
          },
          "autotypenumbers": "strict",
          "coloraxis": {
           "colorbar": {
            "outlinewidth": 0,
            "ticks": ""
           }
          },
          "colorscale": {
           "diverging": [
            [
             0,
             "#8e0152"
            ],
            [
             0.1,
             "#c51b7d"
            ],
            [
             0.2,
             "#de77ae"
            ],
            [
             0.3,
             "#f1b6da"
            ],
            [
             0.4,
             "#fde0ef"
            ],
            [
             0.5,
             "#f7f7f7"
            ],
            [
             0.6,
             "#e6f5d0"
            ],
            [
             0.7,
             "#b8e186"
            ],
            [
             0.8,
             "#7fbc41"
            ],
            [
             0.9,
             "#4d9221"
            ],
            [
             1,
             "#276419"
            ]
           ],
           "sequential": [
            [
             0,
             "#0d0887"
            ],
            [
             0.1111111111111111,
             "#46039f"
            ],
            [
             0.2222222222222222,
             "#7201a8"
            ],
            [
             0.3333333333333333,
             "#9c179e"
            ],
            [
             0.4444444444444444,
             "#bd3786"
            ],
            [
             0.5555555555555556,
             "#d8576b"
            ],
            [
             0.6666666666666666,
             "#ed7953"
            ],
            [
             0.7777777777777778,
             "#fb9f3a"
            ],
            [
             0.8888888888888888,
             "#fdca26"
            ],
            [
             1,
             "#f0f921"
            ]
           ],
           "sequentialminus": [
            [
             0,
             "#0d0887"
            ],
            [
             0.1111111111111111,
             "#46039f"
            ],
            [
             0.2222222222222222,
             "#7201a8"
            ],
            [
             0.3333333333333333,
             "#9c179e"
            ],
            [
             0.4444444444444444,
             "#bd3786"
            ],
            [
             0.5555555555555556,
             "#d8576b"
            ],
            [
             0.6666666666666666,
             "#ed7953"
            ],
            [
             0.7777777777777778,
             "#fb9f3a"
            ],
            [
             0.8888888888888888,
             "#fdca26"
            ],
            [
             1,
             "#f0f921"
            ]
           ]
          },
          "colorway": [
           "#636efa",
           "#EF553B",
           "#00cc96",
           "#ab63fa",
           "#FFA15A",
           "#19d3f3",
           "#FF6692",
           "#B6E880",
           "#FF97FF",
           "#FECB52"
          ],
          "font": {
           "color": "#2a3f5f"
          },
          "geo": {
           "bgcolor": "white",
           "lakecolor": "white",
           "landcolor": "#E5ECF6",
           "showlakes": true,
           "showland": true,
           "subunitcolor": "white"
          },
          "hoverlabel": {
           "align": "left"
          },
          "hovermode": "closest",
          "mapbox": {
           "style": "light"
          },
          "paper_bgcolor": "white",
          "plot_bgcolor": "#E5ECF6",
          "polar": {
           "angularaxis": {
            "gridcolor": "white",
            "linecolor": "white",
            "ticks": ""
           },
           "bgcolor": "#E5ECF6",
           "radialaxis": {
            "gridcolor": "white",
            "linecolor": "white",
            "ticks": ""
           }
          },
          "scene": {
           "xaxis": {
            "backgroundcolor": "#E5ECF6",
            "gridcolor": "white",
            "gridwidth": 2,
            "linecolor": "white",
            "showbackground": true,
            "ticks": "",
            "zerolinecolor": "white"
           },
           "yaxis": {
            "backgroundcolor": "#E5ECF6",
            "gridcolor": "white",
            "gridwidth": 2,
            "linecolor": "white",
            "showbackground": true,
            "ticks": "",
            "zerolinecolor": "white"
           },
           "zaxis": {
            "backgroundcolor": "#E5ECF6",
            "gridcolor": "white",
            "gridwidth": 2,
            "linecolor": "white",
            "showbackground": true,
            "ticks": "",
            "zerolinecolor": "white"
           }
          },
          "shapedefaults": {
           "line": {
            "color": "#2a3f5f"
           }
          },
          "ternary": {
           "aaxis": {
            "gridcolor": "white",
            "linecolor": "white",
            "ticks": ""
           },
           "baxis": {
            "gridcolor": "white",
            "linecolor": "white",
            "ticks": ""
           },
           "bgcolor": "#E5ECF6",
           "caxis": {
            "gridcolor": "white",
            "linecolor": "white",
            "ticks": ""
           }
          },
          "title": {
           "x": 0.05
          },
          "xaxis": {
           "automargin": true,
           "gridcolor": "white",
           "linecolor": "white",
           "ticks": "",
           "title": {
            "standoff": 15
           },
           "zerolinecolor": "white",
           "zerolinewidth": 2
          },
          "yaxis": {
           "automargin": true,
           "gridcolor": "white",
           "linecolor": "white",
           "ticks": "",
           "title": {
            "standoff": 15
           },
           "zerolinecolor": "white",
           "zerolinewidth": 2
          }
         }
        },
        "xaxis": {
         "anchor": "y",
         "domain": [
          0,
          1
         ]
        },
        "yaxis": {
         "anchor": "x",
         "domain": [
          0,
          1
         ],
         "title": {
          "text": "Kỹ thuật lập trình"
         }
        }
       }
      }
     },
     "metadata": {}
    }
   ],
   "source": [
    "make_boxplot('Kỹ thuật lập trình')"
   ]
  },
  {
   "cell_type": "code",
   "execution_count": 55,
   "metadata": {},
   "outputs": [],
   "source": [
    "# import plotly.graph_objects as go\n",
    "\n",
    "# import pandas as pd\n",
    "\n",
    "# # load dataset\n",
    "# df = pd.read_csv(\"https://raw.githubusercontent.com/plotly/datasets/master/volcano.csv\")\n",
    "\n",
    "# # create figure\n",
    "# fig = go.Figure()\n",
    "\n",
    "# # Add surface trace\n",
    "# fig.add_trace(go.Surface(z=df.values.tolist(), colorscale=\"Viridis\"))\n",
    "\n",
    "# # Update plot sizing\n",
    "# fig.update_layout(\n",
    "#     width=800,\n",
    "#     height=900,\n",
    "#     autosize=False,\n",
    "#     margin=dict(t=0, b=0, l=0, r=0),\n",
    "#     template=\"plotly_white\",\n",
    "# )\n",
    "\n",
    "# # Update 3D scene options\n",
    "# fig.update_scenes(\n",
    "#     aspectratio=dict(x=1, y=1, z=0.7),\n",
    "#     aspectmode=\"manual\"\n",
    "# )\n",
    "\n",
    "# # Add dropdown\n",
    "# fig.update_layout(\n",
    "#     updatemenus=[\n",
    "#         dict(\n",
    "#             buttons=list([\n",
    "#                 dict(\n",
    "#                     args=[\"type\", \"surface\"],\n",
    "#                     label=\"3D Surface\",\n",
    "#                     method=\"restyle\"\n",
    "#                 ),\n",
    "#                 dict(\n",
    "#                     args=[\"type\", \"heatmap\"],\n",
    "#                     label=\"Heatmap\",\n",
    "#                     method=\"restyle\"\n",
    "#                 )\n",
    "#             ]),\n",
    "#             direction=\"down\",\n",
    "#             pad={\"r\": 10, \"t\": 10},\n",
    "#             showactive=True,\n",
    "#             x=0.1,\n",
    "#             xanchor=\"left\",\n",
    "#             y=1.1,\n",
    "#             yanchor=\"top\"\n",
    "#         ),\n",
    "#     ]\n",
    "# )\n",
    "\n",
    "# # Add annotation\n",
    "# fig.update_layout(\n",
    "#     annotations=[\n",
    "#         dict(text=\"Trace type:\", showarrow=False,\n",
    "#         x=0, y=1.085, yref=\"paper\", align=\"left\")\n",
    "#     ]\n",
    "# )\n",
    "\n",
    "# fig.show()"
   ]
  },
  {
   "cell_type": "code",
   "execution_count": 56,
   "metadata": {},
   "outputs": [
    {
     "output_type": "execute_result",
     "data": {
      "text/plain": [
       "             7.3   \n",
       "22                                               6.3               6.5   \n",
       "23                                               5.7               6.3   \n",
       "24                                               4.5               7.6   \n",
       "25                                               6.0               7.9   \n",
       "26                                               7.0               7.5   \n",
       "27                                               5.7               5.6   \n",
       "28                                               7.0               8.2   \n",
       "29                                               8.1               7.6   \n",
       "30                                               6.5               7.2   \n",
       "31                                               5.9               5.3   \n",
       "32                                               5.2               7.1   \n",
       "33                                               7.1               7.2   \n",
       "34                                               5.3               7.4   \n",
       "35                                               5.7               6.6   \n",
       "36                                               4.5               7.1   \n",
       "37                                               4.6               7.1   \n",
       "38                                               6.3               6.8   \n",
       "39                                               5.5               8.3   \n",
       "40                                               6.3               6.8   \n",
       "41                                               2.0               6.7   \n",
       "42                                               5.8               5.2   \n",
       "43                                               4.6               7.5   \n",
       "44                                               1.5               5.8   \n",
       "45                                               5.0               5.6   \n",
       "46                                               6.0               7.9   \n",
       "47                                               4.4               7.7   \n",
       "48                                               5.9               6.2   \n",
       "49                                               7.9               6.7   \n",
       "50                                               4.7               6.1   \n",
       "51                                               8.0               7.9   \n",
       "52                                               6.3               6.1   \n",
       "53                                               5.2               5.2   \n",
       "54                                               4.9               5.2   \n",
       "55                                               6.4               6.3   \n",
       "56                                               5.6               7.5   \n",
       "57                                               6.3               6.4   \n",
       "58                                               1.0               7.6   \n",
       "59                                               7.9               6.5   \n",
       "\n",
       "    Giáo dục Quốc phòng và An ninh 1  Toán cao cấp 1  Giáo dục thể chất 1  \\\n",
       "0                                7.0             8.5                  6.5   \n",
       "1                                7.5             7.1                  7.5   \n",
       "2                                7.0             8.4                  6.5   \n",
       "3                                6.5             8.6                  6.5   \n",
       "4                                7.5             9.5                  5.0   \n",
       "5                                8.0             8.6                  7.0   \n",
       "6                                7.0             5.4                  6.0   \n",
       "7                                7.0             8.5                  5.5   \n",
       "8                                5.0             4.5                  5.0   \n",
       "9                                7.0             6.7                  5.5   \n",
       "10                               6.5             7.6                  5.5   \n",
       "11                               6.5             7.6                  6.0   \n",
       "12                               7.5             9.0                  6.5   \n",
       "13                               7.5             8.1                  6.5   \n",
       "14                               7.5             7.9                  8.0   \n",
       "15                               8.0             9.8                  7.0   \n",
       "16                               7.5             9.8                  6.0   \n",
       "17                               6.5             9.0                  7.0   \n",
       "18                               7.0             7.5                  5.5   \n",
       "19                               6.0             6.5                  6.5   \n",
       "20                               7.0             5.6                  5.5   \n",
       "21                               7.0             8.9                  5.5   \n",
       "22                               8.0             8.4                  5.5   \n",
       "23                               8.0             6.1                  6.5   \n",
       "24                               7.0             2.5                  5.5   \n",
       "25                               7.0             7.4                  7.0   \n",
       "26                               7.0             9.5                  7.0   \n",
       "27                               7.5             7.5                  5.0   \n",
       "28                               7.5             9.5                  6.5   \n",
       "29                               8.0             7.1                  7.5   \n",
       "30                               7.0             8.6                  7.5   \n",
       "31                               6.5             7.7                  5.0   \n",
       "32                               7.0             9.1                  7.0   \n",
       "33                               6.0             7.9                  7.5   \n",
       "34                               7.5             8.0                  6.5   \n",
       "35                               8.0             8.1                  6.5   \n",
       "36                               7.0             7.5                  6.0   \n",
       "37                               6.5             9.2                  6.0   \n",
       "38                               7.5             6.0                  7.5   \n",
       "39                               7.0             6.7                  6.5   \n",
       "40                               7.0             7.4                  7.5   \n",
       "41                               7.0             5.7                  6.5   \n",
       "42                               7.0             7.9                  6.5   \n",
       "43                               6.5             9.5                  7.0   \n",
       "44                               6.5             7.0                  6.5   \n",
       "45                               7.5             7.0                  6.5   \n",
       "46                               7.5             8.5                  7.5   \n",
       "47                               6.5             8.8                  6.0   \n",
       "48                               7.5             6.4                  6.5   \n",
       "49                               7.0             7.4                  7.0   \n",
       "50                               6.5             7.5                  5.5   \n",
       "51                               7.5             9.9                  6.5   \n",
       "52                               6.5             6.6                  5.5   \n",
       "53                               7.0             7.6                  5.5   \n",
       "54                               7.5             0.0                  6.0   \n",
       "55                               6.5             7.7                  7.0   \n",
       "56                               7.0             6.0                  6.5   \n",
       "57                               6.5             7.0                  5.5   \n",
       "58                               6.5             5.7                  5.0   \n",
       "59                               6.5             9.6                  5.5   \n",
       "\n",
       "    ...  Giải tích ngẫu nhiên cho tài chính  Chứng chỉ TOEIC 450  \\\n",
       "0   ...                                 NaN                  NaN   \n",
       "1   ...                                 NaN                  NaN   \n",
       "2   ...                                 NaN                  NaN   \n",
       "3   ...                                 NaN                  NaN   \n",
       "4   ...                                 NaN                  NaN   \n",
       "5   ...                                 NaN                  NaN   \n",
       "6   ...                                 NaN                  NaN   \n",
       "7   ...                                 NaN                  NaN   \n",
       "8   ...                                 NaN                  NaN   \n",
       "9   ...                                 NaN                  NaN   \n",
       "10  ...                                 NaN                  NaN   \n",
       "11  ...                                 NaN                  NaN   \n",
       "12  ...                                 NaN                  NaN   \n",
       "13  ...                                 NaN                  NaN   \n",
       "14  ...                                 NaN                  NaN   \n",
       "15  ...                                 NaN                  NaN   \n",
       "16  ...                                 NaN                  NaN   \n",
       "17  ...                                 NaN                  NaN   \n",
       "18  ...                                 NaN                  NaN   \n",
       "19  ...                                 NaN                  NaN   \n",
       "20  ...                                 NaN                  NaN   \n",
       "21  ...                                 NaN                  NaN   \n",
       "22  ...                                 NaN                  NaN   \n",
       "23  ...                                 NaN                  NaN   \n",
       "24  ...                                 NaN                  NaN   \n",
       "25  ...                                 NaN                  NaN   \n",
       "26  ...                                 NaN                  NaN   \n",
       "27  ...                                 NaN                  NaN   \n",
       "28  ...                                 NaN                  NaN   \n",
       "29  ...                                 NaN                  NaN   \n",
       "30  ...                                 NaN                  NaN   \n",
       "31  ...                                 NaN                  NaN   \n",
       "32  ...                                 NaN                  NaN   \n",
       "33  ...                                 NaN                  NaN   \n",
       "34  ...                                 NaN                  NaN   \n",
       "35  ...                                 NaN                  NaN   \n",
       "36  ...                                 NaN                  NaN   \n",
       "37  ...                                 NaN                  NaN   \n",
       "38  ...                                 NaN                  NaN   \n",
       "39  ...                                 NaN                  NaN   \n",
       "40  ...                                 NaN                  NaN   \n",
       "41  ...                                 NaN                  NaN   \n",
       "42  ...                                 NaN                  NaN   \n",
       "43  ...                                 NaN                  NaN   \n",
       "44  ...                                 NaN                  NaN   \n",
       "45  ...                                 NaN                  NaN   \n",
       "46  ...                                 NaN                  NaN   \n",
       "47  ...                                 NaN                  NaN   \n",
       "48  ...                                 NaN                  NaN   \n",
       "49  ...                                 NaN                  NaN   \n",
       "50  ...                                 NaN                  NaN   \n",
       "51  ...                                 NaN                  NaN   \n",
       "52  ...                                 NaN                  NaN   \n",
       "53  ...                                 NaN                  NaN   \n",
       "54  ...                                 NaN                  NaN   \n",
       "55  ...                                 NaN                  NaN   \n",
       "56  ...                                 NaN                  NaN   \n",
       "57  ...                                 NaN                  NaN   \n",
       "58  ...                                 NaN                  NaN   \n",
       "59  ...                                 NaN                  NaN   \n",
       "\n",
       "    Khóa luận tốt nghiệp  Thực tập doanh nghiệp  Số tín chỉ  Điểm 10  Điểm 4  \\\n",
       "0                    NaN                    NaN          29      6.6    2.49   \n",
       "1                    NaN                    NaN          18      7.4    2.97   \n",
       "2                    NaN                    NaN          21      5.9    2.17   \n",
       "3                    NaN                    NaN          21      7.5    3.09   \n",
       "4                    NaN                    NaN          15      6.5    2.44   \n",
       "5                    NaN                    NaN          18      7.7    3.23   \n",
       "6                    NaN                    NaN          16      3.9    1.33   \n",
       "7                    NaN                    NaN          25      5.4    1.94   \n",
       "8                    NaN                    NaN          19      4.9    1.69   \n",
       "9                    NaN                    NaN          20      5.7    1.98   \n",
       "10                   NaN                    NaN          22      6.5    2.42   \n",
       "11                   NaN                    NaN          25      6.3    2.27   \n",
       "12                   NaN                    NaN          21      7.3    2.96   \n",
       "13                   NaN                    NaN          21      7.1    2.81   \n",
       "14                   NaN                    NaN          18      6.2    2.18   \n",
       "15                   NaN                    NaN          18      7.6    3.04   \n",
       "16                   NaN                    NaN          27      8.3    3.47   \n",
       "17                   NaN                    NaN          25      7.8    3.17   \n",
       "18                   NaN                    NaN          21      3.9    1.54   \n",
       "19                   NaN                    NaN          18      5.7     2.1   \n",
       "20                   NaN                    NaN          25      6.4    2.44   \n",
       "21                   NaN                    NaN          25      6.8    2.64   \n",
       "22                   NaN                    NaN          25      7.9    3.24   \n",
       "23                   NaN                    NaN          18        6    2.11   \n",
       "24                   NaN                    NaN          13        4    1.26   \n",
       "25                   NaN                    NaN          25      7.2    2.91   \n",
       "26                   NaN                    NaN          22      8.3    3.47   \n",
       "27                   NaN                    NaN          19      5.9    2.07   \n",
       "28                   NaN                    NaN          21        8    3.31   \n",
       "29                   NaN                    NaN          25      7.3    2.88   \n",
       "30                   NaN                    NaN          15      7.2    2.92   \n",
       "31                   NaN                    NaN          11      6.1    2.04   \n",
       "32                   NaN                    NaN          18      6.8     2.6   \n",
       "33                   NaN                    NaN          19      7.6     3.1   \n",
       "34                   NaN                    NaN          21      6.9    2.65   \n",
       "35                   NaN                    NaN          25      7.2    2.89   \n",
       "36                   NaN                    NaN          21      7.5    3.06   \n",
       "37                   NaN                    NaN          25      7.1     2.8   \n",
       "38                   NaN                    NaN          21      7.2    2.78   \n",
       "39                   NaN                    NaN          21      6.6    2.55   \n",
       "40                   NaN                    NaN          23      7.3    2.89   \n",
       "41                   NaN                    NaN          18      6.2    2.27   \n",
       "42                   NaN                    NaN          18      6.6    2.55   \n",
       "43                   NaN                    NaN          21      7.3    2.88   \n",
       "44                   NaN                    NaN          20      6.3     2.4   \n",
       "45                   NaN                    NaN          25        5    1.67   \n",
       "46                   NaN                    NaN          21      7.6    3.19   \n",
       "47                   NaN                    NaN          18      6.7    2.58   \n",
       "48                   NaN                    NaN          11      3.8    1.34   \n",
       "49                   NaN                    NaN          13      6.1    2.15   \n",
       "50                   NaN                    NaN          15        6    2.22   \n",
       "51                   NaN                    NaN          25      8.7    3.69   \n",
       "52                   NaN                    NaN          22      7.3    2.92   \n",
       "53                   NaN                    NaN          21      6.3    2.32   \n",
       "54                   NaN                    NaN           9      4.5    1.68   \n",
       "55                   NaN                    NaN          25        6    2.14   \n",
       "56                   NaN                    NaN          25      7.5    3.02   \n",
       "57                   NaN                    NaN          21      5.4    1.99   \n",
       "58                   NaN                    NaN          17      6.2    2.35   \n",
       "59                   NaN                    NaN          22      7.9     3.2   \n",
       "\n",
       "    Điểm chữ        Xếp loại                Họ và tên  \n",
       "0         C+      Trung bình            Đinh Tuấn Anh  \n",
       "1          B             Khá               Hà Bảo Anh  \n",
       "2         D+  Trung bình yếu              Lưu Đức Anh  \n",
       "3          B             Khá              Trần Nam Bá  \n",
       "4         C+      Trung bình              Ngô Đức Bảo  \n",
       "5          B             Khá        Trịnh Thị Bảo Bảo  \n",
       "6          F             Kém        Đỗ Xuân Đức Chung  \n",
       "7         D+  Trung bình yếu      Phạm Tài Đức Phú Đa  \n",
       "8          D  Trung bình yếu               Lê Tấn Đạt  \n",
       "9         D+  Trung bình yếu         Phạm Hà Văn Đông  \n",
       "10        C+      Trung bình           Trịnh Ngọc Đức  \n",
       "11        C+      Trung bình            Tăng Hoài Duy  \n",
       "12         B             Khá            Thái Thị Hiền  \n",
       "13         B             Khá            Phạm Thế Hiển  \n",
       "14        C+      Trung bình           Trần Minh Hiếu  \n",
       "15         B             Khá     Nguyễn Thị Thanh Hòa  \n",
       "16        B+             Khá           Ngô Quốc Hoàng  \n",
       "17         B             Khá             Hồ Quang Huy  \n",
       "18         F             Kém         Lương Quang Khải  \n",
       "19        D+  Trung bình yếu     Phạm Hoàng Duy Khang  \n",
       "20        C+      Trung bình         Lê Mỹ Thanh Lành  \n",
       "21        C+      Trung bình         Trần Hồ Phi Long  \n",
       "22         B             Khá        Trương Thị Cẩm Ly  \n",
       "23        C+      Trung bình        Quách Trọng Nghĩa  \n",
       "24         D  Trung bình yếu        Nguyễn Thành Nhân  \n",
       "25         B             Khá     Nguyễn Văn Phúc Nhân  \n",
       "26        B+             Khá          Lưu Thị Yến Nhi  \n",
       "27        D+  Trung bình yếu              Lê Huy Phát  \n",
       "28        B+             Khá           Lê Thanh Phong  \n",
       "29         B             Khá   Phan Nguyễn Mai Phương  \n",
       "30         B             Khá            Vũ Minh Quang  \n",
       "31        C+      Trung bình        Nguyễn Quang Quốc  \n",
       "32        C+      Trung bình           Dương Văn Sang  \n",
       "33         B             Khá         Nguyễn Tuấn Sinh  \n",
       "34        C+      Trung bình           Phạm Trung Sơn  \n",
       "35         B             Khá           Nguyễn Tiến Sỹ  \n",
       "36         B             Khá                   Văn Sỹ  \n",
       "37         B             Khá               Lê Duy Tâm  \n",
       "38         B             Khá    Phan Nguyễn Trọng Tân  \n",
       "39        C+      Trung bình    Trương Nguyễn Duy Tân  \n",
       "40         B             Khá             Đỗ Văn Thắng  \n",
       "41        C+      Trung bình         Nguyễn Đức Thịnh  \n",
       "42        C+      Trung bình  Phạm Huỳnh Trường Thịnh  \n",
       "43         B             Khá           Trần Xuân Thủy  \n",
       "44        C+      Trung bình              Lê Văn Tiến  \n",
       "45        D+  Trung bình yếu    Nguyễn Đặng Minh Toại  \n",
       "46         B             Khá          Huỳnh Minh Toàn  \n",
       "47        C+      Trung bình          Nguyễn Anh Toàn  \n",
       "48         F             Kém     Lưu Hoàng Ngọc Trinh  \n",
       "49        C+      Trung bình             Lê Văn Trung  \n",
       "50        C+      Trung bình        Nguyễn Tuấn Trung  \n",
       "51        B+             Khá         Phạm Thành Trung  \n",
       "52         B             Khá           Phan Chí Trung  \n",
       "53        C+      Trung bình           Đào Duy Trường  \n",
       "54         D  Trung bình yếu         Đoàn Minh Trường  \n",
       "55        C+      Trung bình             Huỳnh Anh Tú  \n",
       "56         B             Khá      Nguyễn Văn Anh Tuấn  \n",
       "57        D+  Trung bình yếu           Phạm Minh Tuấn  \n",
       "58        C+      Trung bình       Phan Lê Hoàng Việt  \n",
       "59         B             Khá             Trần Tuấn Vũ  \n",
       "\n",
       "[60 rows x 91 columns]"
      ],
      "text/html": "<div>\n<style scoped>\n    .dataframe tbody tr th:only-of-type {\n        vertical-align: middle;\n    }\n\n    .dataframe tbody tr th {\n        vertical-align: top;\n    }\n\n    .dataframe thead th {\n        text-align: right;\n    }\n</style>\n<table border=\"1\" class=\"dataframe\">\n  <thead>\n    <tr style=\"text-align: right;\">\n      <th></th>\n      <th>index</th>\n      <th>STT</th>\n      <th>Mã sinh viên</th>\n      <th>Họ đệm</th>\n      <th>Tên</th>\n      <th>Những nguyên lý cơ bản của Chủ nghĩa Mác - Lênin</th>\n      <th>Nhập môn Tin học</th>\n      <th>Giáo dục Quốc phòng và An ninh 1</th>\n      <th>Toán cao cấp 1</th>\n      <th>Giáo dục thể chất 1</th>\n      <th>...</th>\n      <th>Giải tích ngẫu nhiên cho tài chính</th>\n      <th>Chứng chỉ TOEIC 450</th>\n      <th>Khóa luận tốt nghiệp</th>\n      <th>Thực tập doanh nghiệp</th>\n      <th>Số tín chỉ</th>\n      <th>Điểm 10</th>\n      <th>Điểm 4</th>\n      <th>Điểm chữ</th>\n      <th>Xếp loại</th>\n      <th>Họ và tên</th>\n    </tr>\n  </thead>\n  <tbody>\n    <tr>\n      <th>0</th>\n      <td>1</td>\n      <td>1.0</td>\n      <td>19489471.0</td>\n      <td>Đinh Tuấn</td>\n      <td>Anh</td>\n      <td>5.1</td>\n      <td>8.3</td>\n      <td>7.0</td>\n      <td>8.5</td>\n      <td>6.5</td>\n      <td>...</td>\n      <td>NaN</td>\n      <td>NaN</td>\n      <td>NaN</td>\n      <td>NaN</td>\n      <td>29</td>\n      <td>6.6</td>\n      <td>2.49</td>\n      <td>C+</td>\n      <td>Trung bình</td>\n      <td>Đinh Tuấn Anh</td>\n    </tr>\n    <tr>\n      <th>1</th>\n      <td>2</td>\n      <td>2.0</td>\n      <td>19442001.0</td>\n      <td>Hà Bảo</td>\n      <td>Anh</td>\n      <td>5.3</td>\n      <td>6.1</td>\n      <td>7.5</td>\n      <td>7.1</td>\n      <td>7.5</td>\n      <td>...</td>\n      <td>NaN</td>\n      <td>NaN</td>\n      <td>NaN</td>\n      <td>NaN</td>\n      <td>18</td>\n      <td>7.4</td>\n      <td>2.97</td>\n      <td>B</td>\n      <td>Khá</td>\n      <td>Hà Bảo Anh</td>\n    </tr>\n    <tr>\n      <th>2</th>\n      <td>3</td>\n      <td>3.0</td>\n      <td>19478881.0</td>\n      <td>Lưu Đức</td>\n      <td>Anh</td>\n      <td>5.6</td>\n      <td>7.7</td>\n      <td>7.0</td>\n      <td>8.4</td>\n      <td>6.5</td>\n      <td>...</td>\n      <td>NaN</td>\n      <td>NaN</td>\n      <td>NaN</td>\n      <td>NaN</td>\n      <td>21</td>\n      <td>5.9</td>\n      <td>2.17</td>\n      <td>D+</td>\n      <td>Trung bình yếu</td>\n      <td>Lưu Đức Anh</td>\n    </tr>\n    <tr>\n      <th>3</th>\n      <td>4</td>\n      <td>4.0</td>\n      <td>19506751.0</td>\n      <td>Trần Nam</td>\n      <td>Bá</td>\n      <td>6.7</td>\n      <td>7.5</td>\n      <td>6.5</td>\n      <td>8.6</td>\n      <td>6.5</td>\n      <td>...</td>\n      <td>NaN</td>\n      <td>NaN</td>\n      <td>NaN</td>\n      <td>NaN</td>\n      <td>21</td>\n      <td>7.5</td>\n      <td>3.09</td>\n      <td>B</td>\n      <td>Khá</td>\n      <td>Trần Nam Bá</td>\n    </tr>\n    <tr>\n      <th>4</th>\n      <td>5</td>\n      <td>5.0</td>\n      <td>19487461.0</td>\n      <td>Ngô Đức</td>\n      <td>Bảo</td>\n      <td>5.3</td>\n      <td>7.8</td>\n      <td>7.5</td>\n      <td>9.5</td>\n      <td>5.0</td>\n      <td>...</td>\n      <td>NaN</td>\n      <td>NaN</td>\n      <td>NaN</td>\n      <td>NaN</td>\n      <td>15</td>\n      <td>6.5</td>\n      <td>2.44</td>\n      <td>C+</td>\n      <td>Trung bình</td>\n      <td>Ngô Đức Bảo</td>\n    </tr>\n    <tr>\n      <th>5</th>\n      <td>6</td>\n      <td>6.0</td>\n      <td>19514491.0</td>\n      <td>Trịnh Thị Bảo</td>\n      <td>Bảo</td>\n      <td>6.2</td>\n      <td>7.7</td>\n      <td>8.0</td>\n      <td>8.6</td>\n      <td>7.0</td>\n      <td>...</td>\n      <td>NaN</td>\n      <td>NaN</td>\n      <td>NaN</td>\n      <td>NaN</td>\n      <td>18</td>\n      <td>7.7</td>\n      <td>3.23</td>\n      <td>B</td>\n      <td>Khá</td>\n      <td>Trịnh Thị Bảo Bảo</td>\n    </tr>\n    <tr>\n      <th>6</th>\n      <td>7</td>\n      <td>7.0</td>\n      <td>19498401.0</td>\n      <td>Đỗ Xuân Đức</td>\n      <td>Chung</td>\n      <td>5.4</td>\n      <td>NaN</td>\n      <td>7.0</td>\n      <td>5.4</td>\n      <td>6.0</td>\n      <td>...</td>\n      <td>NaN</td>\n      <td>NaN</td>\n      <td>NaN</td>\n      <td>NaN</td>\n      <td>16</td>\n      <td>3.9</td>\n      <td>1.33</td>\n      <td>F</td>\n      <td>Kém</td>\n      <td>Đỗ Xuân Đức Chung</td>\n    </tr>\n    <tr>\n      <th>7</th>\n      <td>8</td>\n      <td>8.0</td>\n      <td>19442481.0</td>\n      <td>Phạm Tài Đức Phú</td>\n      <td>Đa</td>\n      <td>5.3</td>\n      <td>6.6</td>\n      <td>7.0</td>\n      <td>8.5</td>\n      <td>5.5</td>\n      <td>...</td>\n      <td>NaN</td>\n      <td>NaN</td>\n      <td>NaN</td>\n      <td>NaN</td>\n      <td>25</td>\n      <td>5.4</td>\n      <td>1.94</td>\n      <td>D+</td>\n      <td>Trung bình yếu</td>\n      <td>Phạm Tài Đức Phú Đa</td>\n    </tr>\n    <tr>\n      <th>8</th>\n      <td>9</td>\n      <td>9.0</td>\n      <td>19463951.0</td>\n      <td>Lê Tấn</td>\n      <td>Đạt</td>\n      <td>5.9</td>\n      <td>5.9</td>\n      <td>5.0</td>\n      <td>4.5</td>\n      <td>5.0</td>\n      <td>...</td>\n      <td>NaN</td>\n      <td>NaN</td>\n      <td>NaN</td>\n      <td>NaN</td>\n      <td>19</td>\n      <td>4.9</td>\n      <td>1.69</td>\n      <td>D</td>\n      <td>Trung bình yếu</td>\n      <td>Lê Tấn Đạt</td>\n    </tr>\n    <tr>\n      <th>9</th>\n      <td>10</td>\n      <td>10.0</td>\n      <td>19500311.0</td>\n      <td>Phạm Hà Văn</td>\n      <td>Đông</td>\n      <td>5.0</td>\n      <td>NaN</td>\n      <td>7.0</td>\n      <td>6.7</td>\n      <td>5.5</td>\n      <td>...</td>\n      <td>NaN</td>\n      <td>NaN</td>\n      <td>NaN</td>\n      <td>NaN</td>\n      <td>20</td>\n      <td>5.7</td>\n      <td>1.98</td>\n      <td>D+</td>\n      <td>Trung bình yếu</td>\n      <td>Phạm Hà Văn Đông</td>\n    </tr>\n    <tr>\n      <th>10</th>\n      <td>11</td>\n      <td>11.0</td>\n      <td>19469091.0</td>\n      <td>Trịnh Ngọc</td>\n      <td>Đức</td>\n      <td>5.7</td>\n      <td>7.4</td>\n      <td>6.5</td>\n      <td>7.6</td>\n      <td>5.5</td>\n      <td>...</td>\n      <td>NaN</td>\n      <td>NaN</td>\n      <td>NaN</td>\n      <td>NaN</td>\n      <td>22</td>\n      <td>6.5</td>\n      <td>2.42</td>\n      <td>C+</td>\n      <td>Trung bình</td>\n      <td>Trịnh Ngọc Đức</td>\n    </tr>\n    <tr>\n      <th>11</th>\n      <td>12</td>\n      <td>12.0</td>\n      <td>19498561.0</td>\n      <td>Tăng Hoài</td>\n      <td>Duy</td>\n      <td>5.8</td>\n      <td>6.9</td>\n      <td>6.5</td>\n      <td>7.6</td>\n      <td>6.0</td>\n      <td>...</td>\n      <td>NaN</td>\n      <td>NaN</td>\n      <td>NaN</td>\n      <td>NaN</td>\n      <td>25</td>\n      <td>6.3</td>\n      <td>2.27</td>\n      <td>C+</td>\n      <td>Trung bình</td>\n      <td>Tăng Hoài Duy</td>\n    </tr>\n    <tr>\n      <th>12</th>\n      <td>13</td>\n      <td>13.0</td>\n      <td>19527801.0</td>\n      <td>Thái Thị</td>\n      <td>Hiền</td>\n      <td>6.0</td>\n      <td>6.4</td>\n      <td>7.5</td>\n      <td>9.0</td>\n      <td>6.5</td>\n      <td>...</td>\n      <td>NaN</td>\n      <td>NaN</td>\n      <td>NaN</td>\n      <td>NaN</td>\n      <td>21</td>\n      <td>7.3</td>\n      <td>2.96</td>\n      <td>B</td>\n      <td>Khá</td>\n      <td>Thái Thị Hiền</td>\n    </tr>\n    <tr>\n      <th>13</th>\n      <td>14</td>\n      <td>14.0</td>\n      <td>19529741.0</td>\n      <td>Phạm Thế</td>\n      <td>Hiển</td>\n      <td>6.4</td>\n      <td>5.5</td>\n      <td>7.5</td>\n      <td>8.1</td>\n      <td>6.5</td>\n      <td>...</td>\n      <td>NaN</td>\n      <td>NaN</td>\n      <td>NaN</td>\n      <td>NaN</td>\n      <td>21</td>\n      <td>7.1</td>\n      <td>2.81</td>\n      <td>B</td>\n      <td>Khá</td>\n      <td>Phạm Thế Hiển</td>\n    </tr>\n    <tr>\n      <th>14</th>\n      <td>15</td>\n      <td>15.0</td>\n      <td>19441341.0</td>\n      <td>Trần Minh</td>\n      <td>Hiếu</td>\n      <td>5.7</td>\n      <td>7.6</td>\n      <td>7.5</td>\n      <td>7.9</td>\n      <td>8.0</td>\n      <td>...</td>\n      <td>NaN</td>\n      <td>NaN</td>\n      <td>NaN</td>\n      <td>NaN</td>\n      <td>18</td>\n      <td>6.2</td>\n      <td>2.18</td>\n      <td>C+</td>\n      <td>Trung bình</td>\n      <td>Trần Minh Hiếu</td>\n    </tr>\n    <tr>\n      <th>15</th>\n      <td>16</td>\n      <td>16.0</td>\n      <td>19429041.0</td>\n      <td>Nguyễn Thị Thanh</td>\n      <td>Hòa</td>\n      <td>4.9</td>\n      <td>5.7</td>\n      <td>8.0</td>\n      <td>9.8</td>\n      <td>7.0</td>\n      <td>...</td>\n      <td>NaN</td>\n      <td>NaN</td>\n      <td>NaN</td>\n      <td>NaN</td>\n      <td>18</td>\n      <td>7.6</td>\n      <td>3.04</td>\n      <td>B</td>\n      <td>Khá</td>\n      <td>Nguyễn Thị Thanh Hòa</td>\n    </tr>\n    <tr>\n      <th>16</th>\n      <td>17</td>\n      <td>17.0</td>\n      <td>19477071.0</td>\n      <td>Ngô Quốc</td>\n      <td>Hoàng</td>\n      <td>7.1</td>\n      <td>7.8</td>\n      <td>7.5</td>\n      <td>9.8</td>\n      <td>6.0</td>\n      <td>...</td>\n      <td>NaN</td>\n      <td>NaN</td>\n      <td>NaN</td>\n      <td>NaN</td>\n      <td>27</td>\n      <td>8.3</td>\n      <td>3.47</td>\n      <td>B+</td>\n      <td>Khá</td>\n      <td>Ngô Quốc Hoàng</td>\n    </tr>\n    <tr>\n      <th>17</th>\n      <td>18</td>\n      <td>18.0</td>\n      <td>19443561.0</td>\n      <td>Hồ Quang</td>\n      <td>Huy</td>\n      <td>5.6</td>\n      <td>8.3</td>\n      <td>6.5</td>\n      <td>9.0</td>\n      <td>7.0</td>\n      <td>...</td>\n      <td>NaN</td>\n      <td>NaN</td>\n      <td>NaN</td>\n      <td>NaN</td>\n      <td>25</td>\n      <td>7.8</td>\n      <td>3.17</td>\n      <td>B</td>\n      <td>Khá</td>\n      <td>Hồ Quang Huy</td>\n    </tr>\n    <tr>\n      <th>18</th>\n      <td>19</td>\n      <td>19.0</td>\n      <td>19529041.0</td>\n      <td>Lương Quang</td>\n      <td>Khải</td>\n      <td>5.6</td>\n      <td>6.2</td>\n      <td>7.0</td>\n      <td>7.5</td>\n      <td>5.5</td>\n      <td>...</td>\n      <td>NaN</td>\n      <td>NaN</td>\n      <td>NaN</td>\n      <td>NaN</td>\n      <td>21</td>\n      <td>3.9</td>\n      <td>1.54</td>\n      <td>F</td>\n      <td>Kém</td>\n      <td>Lương Quang Khải</td>\n    </tr>\n    <tr>\n      <th>19</th>\n      <td>20</td>\n      <td>20.0</td>\n      <td>19526961.0</td>\n      <td>Phạm Hoàng Duy</td>\n      <td>Khang</td>\n      <td>6.4</td>\n      <td>5.9</td>\n      <td>6.0</td>\n      <td>6.5</td>\n      <td>6.5</td>\n      <td>...</td>\n      <td>NaN</td>\n      <td>NaN</td>\n      <td>NaN</td>\n      <td>NaN</td>\n      <td>18</td>\n      <td>5.7</td>\n      <td>2.1</td>\n      <td>D+</td>\n      <td>Trung bình yếu</td>\n      <td>Phạm Hoàng Duy Khang</td>\n    </tr>\n    <tr>\n      <th>20</th>\n      <td>21</td>\n      <td>21.0</td>\n      <td>19525231.0</td>\n      <td>Lê Mỹ Thanh</td>\n      <td>Lành</td>\n      <td>5.1</td>\n      <td>7.6</td>\n      <td>7.0</td>\n      <td>5.6</td>\n      <td>5.5</td>\n      <td>...</td>\n      <td>NaN</td>\n      <td>NaN</td>\n      <td>NaN</td>\n      <td>NaN</td>\n      <td>25</td>\n      <td>6.4</td>\n      <td>2.44</td>\n      <td>C+</td>\n      <td>Trung bình</td>\n      <td>Lê Mỹ Thanh Lành</td>\n    </tr>\n    <tr>\n      <th>21</th>\n      <td>22</td>\n      <td>22.0</td>\n      <td>19500551.0</td>\n      <td>Trần Hồ Phi</td>\n      <td>Long</td>\n      <td>6.5</td>\n      <td>7.3</td>\n      <td>7.0</td>\n      <td>8.9</td>\n      <td>5.5</td>\n      <td>...</td>\n      <td>NaN</td>\n      <td>NaN</td>\n      <td>NaN</td>\n      <td>NaN</td>\n      <td>25</td>\n      <td>6.8</td>\n      <td>2.64</td>\n      <td>C+</td>\n      <td>Trung bình</td>\n      <td>Trần Hồ Phi Long</td>\n    </tr>\n    <tr>\n      <th>22</th>\n      <td>23</td>\n      <td>23.0</td>\n      <td>19532211.0</td>\n      <td>Trương Thị Cẩm</td>\n      <td>Ly</td>\n      <td>6.3</td>\n      <td>6.5</td>\n      <td>8.0</td>\n      <td>8.4</td>\n      <td>5.5</td>\n      <td>...</td>\n      <td>NaN</td>\n      <td>NaN</td>\n      <td>NaN</td>\n      <td>NaN</td>\n      <td>25</td>\n      <td>7.9</td>\n      <td>3.24</td>\n      <td>B</td>\n      <td>Khá</td>\n      <td>Trương Thị Cẩm Ly</td>\n    </tr>\n    <tr>\n      <th>23</th>\n      <td>24</td>\n      <td>24.0</td>\n      <td>19502841.0</td>\n      <td>Quách Trọng</td>\n      <td>Nghĩa</td>\n      <td>5.7</td>\n      <td>6.3</td>\n      <td>8.0</td>\n      <td>6.1</td>\n      <td>6.5</td>\n      <td>...</td>\n      <td>NaN</td>\n      <td>NaN</td>\n      <td>NaN</td>\n      <td>NaN</td>\n      <td>18</td>\n      <td>6</td>\n      <td>2.11</td>\n      <td>C+</td>\n      <td>Trung bình</td>\n      <td>Quách Trọng Nghĩa</td>\n    </tr>\n    <tr>\n      <th>24</th>\n      <td>25</td>\n      <td>25.0</td>\n      <td>19499101.0</td>\n      <td>Nguyễn Thành</td>\n      <td>Nhân</td>\n      <td>4.5</td>\n      <td>7.6</td>\n      <td>7.0</td>\n      <td>2.5</td>\n      <td>5.5</td>\n      <td>...</td>\n      <td>NaN</td>\n      <td>NaN</td>\n      <td>NaN</td>\n      <td>NaN</td>\n      <td>13</td>\n      <td>4</td>\n      <td>1.26</td>\n      <td>D</td>\n      <td>Trung bình yếu</td>\n      <td>Nguyễn Thành Nhân</td>\n    </tr>\n    <tr>\n      <th>25</th>\n      <td>26</td>\n      <td>26.0</td>\n      <td>19440221.0</td>\n      <td>Nguyễn Văn Phúc</td>\n      <td>Nhân</td>\n      <td>6.0</td>\n      <td>7.9</td>\n      <td>7.0</td>\n      <td>7.4</td>\n      <td>7.0</td>\n      <td>...</td>\n      <td>NaN</td>\n      <td>NaN</td>\n      <td>NaN</td>\n      <td>NaN</td>\n      <td>25</td>\n      <td>7.2</td>\n      <td>2.91</td>\n      <td>B</td>\n      <td>Khá</td>\n      <td>Nguyễn Văn Phúc Nhân</td>\n    </tr>\n    <tr>\n      <th>26</th>\n      <td>27</td>\n      <td>27.0</td>\n      <td>19522491.0</td>\n      <td>Lưu Thị Yến</td>\n      <td>Nhi</td>\n      <td>7.0</td>\n      <td>7.5</td>\n      <td>7.0</td>\n      <td>9.5</td>\n      <td>7.0</td>\n      <td>...</td>\n      <td>NaN</td>\n      <td>NaN</td>\n      <td>NaN</td>\n      <td>NaN</td>\n      <td>22</td>\n      <td>8.3</td>\n      <td>3.47</td>\n      <td>B+</td>\n      <td>Khá</td>\n      <td>Lưu Thị Yến Nhi</td>\n    </tr>\n    <tr>\n      <th>27</th>\n      <td>28</td>\n      <td>28.0</td>\n      <td>19469351.0</td>\n      <td>Lê Huy</td>\n      <td>Phát</td>\n      <td>5.7</td>\n      <td>5.6</td>\n      <td>7.5</td>\n      <td>7.5</td>\n      <td>5.0</td>\n      <td>...</td>\n      <td>NaN</td>\n      <td>NaN</td>\n      <td>NaN</td>\n      <td>NaN</td>\n      <td>19</td>\n      <td>5.9</td>\n      <td>2.07</td>\n      <td>D+</td>\n      <td>Trung bình yếu</td>\n      <td>Lê Huy Phát</td>\n    </tr>\n    <tr>\n      <th>28</th>\n      <td>29</td>\n      <td>29.0</td>\n      <td>19475611.0</td>\n      <td>Lê Thanh</td>\n      <td>Phong</td>\n      <td>7.0</td>\n      <td>8.2</td>\n      <td>7.5</td>\n      <td>9.5</td>\n      <td>6.5</td>\n      <td>...</td>\n      <td>NaN</td>\n      <td>NaN</td>\n      <td>NaN</td>\n      <td>NaN</td>\n      <td>21</td>\n      <td>8</td>\n      <td>3.31</td>\n      <td>B+</td>\n      <td>Khá</td>\n      <td>Lê Thanh Phong</td>\n    </tr>\n    <tr>\n      <th>29</th>\n      <td>30</td>\n      <td>30.0</td>\n      <td>19469121.0</td>\n      <td>Phan Nguyễn Mai</td>\n      <td>Phương</td>\n      <td>8.1</td>\n      <td>7.6</td>\n      <td>8.0</td>\n      <td>7.1</td>\n      <td>7.5</td>\n      <td>...</td>\n      <td>NaN</td>\n      <td>NaN</td>\n      <td>NaN</td>\n      <td>NaN</td>\n      <td>25</td>\n      <td>7.3</td>\n      <td>2.88</td>\n      <td>B</td>\n      <td>Khá</td>\n      <td>Phan Nguyễn Mai Phương</td>\n    </tr>\n    <tr>\n      <th>30</th>\n      <td>31</td>\n      <td>31.0</td>\n      <td>19495101.0</td>\n      <td>Vũ Minh</td>\n      <td>Quang</td>\n      <td>6.5</td>\n      <td>7.2</td>\n      <td>7.0</td>\n      <td>8.6</td>\n      <td>7.5</td>\n      <td>...</td>\n      <td>NaN</td>\n      <td>NaN</td>\n      <td>NaN</td>\n      <td>NaN</td>\n      <td>15</td>\n      <td>7.2</td>\n      <td>2.92</td>\n      <td>B</td>\n      <td>Khá</td>\n      <td>Vũ Minh Quang</td>\n    </tr>\n    <tr>\n      <th>31</th>\n      <td>32</td>\n      <td>32.0</td>\n      <td>19477141.0</td>\n      <td>Nguyễn Quang</td>\n      <td>Quốc</td>\n      <td>5.9</td>\n      <td>5.3</td>\n      <td>6.5</td>\n      <td>7.7</td>\n      <td>5.0</td>\n      <td>...</td>\n      <td>NaN</td>\n      <td>NaN</td>\n      <td>NaN</td>\n      <td>NaN</td>\n      <td>11</td>\n      <td>6.1</td>\n      <td>2.04</td>\n      <td>C+</td>\n      <td>Trung bình</td>\n      <td>Nguyễn Quang Quốc</td>\n    </tr>\n    <tr>\n      <th>32</th>\n      <td>33</td>\n      <td>33.0</td>\n      <td>19495031.0</td>\n      <td>Dương Văn</td>\n      <td>Sang</td>\n      <td>5.2</td>\n      <td>7.1</td>\n      <td>7.0</td>\n      <td>9.1</td>\n      <td>7.0</td>\n      <td>...</td>\n      <td>NaN</td>\n      <td>NaN</td>\n      <td>NaN</td>\n      <td>NaN</td>\n      <td>18</td>\n      <td>6.8</td>\n      <td>2.6</td>\n      <td>C+</td>\n      <td>Trung bình</td>\n      <td>Dương Văn Sang</td>\n    </tr>\n    <tr>\n      <th>33</th>\n      <td>34</td>\n      <td>34.0</td>\n      <td>19477821.0</td>\n      <td>Nguyễn Tuấn</td>\n      <td>Sinh</td>\n      <td>7.1</td>\n      <td>7.2</td>\n      <td>6.0</td>\n      <td>7.9</td>\n      <td>7.5</td>\n      <td>...</td>\n      <td>NaN</td>\n      <td>NaN</td>\n      <td>NaN</td>\n      <td>NaN</td>\n      <td>19</td>\n      <td>7.6</td>\n      <td>3.1</td>\n      <td>B</td>\n      <td>Khá</td>\n      <td>Nguyễn Tuấn Sinh</td>\n    </tr>\n    <tr>\n      <th>34</th>\n      <td>35</td>\n      <td>35.0</td>\n      <td>19518291.0</td>\n      <td>Phạm Trung</td>\n      <td>Sơn</td>\n      <td>5.3</td>\n      <td>7.4</td>\n      <td>7.5</td>\n      <td>8.0</td>\n      <td>6.5</td>\n      <td>...</td>\n      <td>NaN</td>\n      <td>NaN</td>\n      <td>NaN</td>\n      <td>NaN</td>\n      <td>21</td>\n      <td>6.9</td>\n      <td>2.65</td>\n      <td>C+</td>\n      <td>Trung bình</td>\n      <td>Phạm Trung Sơn</td>\n    </tr>\n    <tr>\n      <th>35</th>\n      <td>36</td>\n      <td>36.0</td>\n      <td>19440181.0</td>\n      <td>Nguyễn Tiến</td>\n      <td>Sỹ</td>\n      <td>5.7</td>\n      <td>6.6</td>\n      <td>8.0</td>\n      <td>8.1</td>\n      <td>6.5</td>\n      <td>...</td>\n      <td>NaN</td>\n      <td>NaN</td>\n      <td>NaN</td>\n      <td>NaN</td>\n      <td>25</td>\n      <td>7.2</td>\n      <td>2.89</td>\n      <td>B</td>\n      <td>Khá</td>\n      <td>Nguyễn Tiến Sỹ</td>\n    </tr>\n    <tr>\n      <th>36</th>\n      <td>37</td>\n      <td>37.0</td>\n      <td>19495751.0</td>\n      <td>Văn</td>\n      <td>Sỹ</td>\n      <td>4.5</td>\n      <td>7.1</td>\n      <td>7.0</td>\n      <td>7.5</td>\n      <td>6.0</td>\n      <td>...</td>\n      <td>NaN</td>\n      <td>NaN</td>\n      <td>NaN</td>\n      <td>NaN</td>\n      <td>21</td>\n      <td>7.5</td>\n      <td>3.06</td>\n      <td>B</td>\n      <td>Khá</td>\n      <td>Văn Sỹ</td>\n    </tr>\n    <tr>\n      <th>37</th>\n      <td>38</td>\n      <td>38.0</td>\n      <td>19445631.0</td>\n      <td>Lê Duy</td>\n      <td>Tâm</td>\n      <td>4.6</td>\n      <td>7.1</td>\n      <td>6.5</td>\n      <td>9.2</td>\n      <td>6.0</td>\n      <td>...</td>\n      <td>NaN</td>\n      <td>NaN</td>\n      <td>NaN</td>\n      <td>NaN</td>\n      <td>25</td>\n      <td>7.1</td>\n      <td>2.8</td>\n      <td>B</td>\n      <td>Khá</td>\n      <td>Lê Duy Tâm</td>\n    </tr>\n    <tr>\n      <th>38</th>\n      <td>39</td>\n      <td>39.0</td>\n      <td>19502821.0</td>\n      <td>Phan Nguyễn Trọng</td>\n      <td>Tân</td>\n      <td>6.3</td>\n      <td>6.8</td>\n      <td>7.5</td>\n      <td>6.0</td>\n      <td>7.5</td>\n      <td>...</td>\n      <td>NaN</td>\n      <td>NaN</td>\n      <td>NaN</td>\n      <td>NaN</td>\n      <td>21</td>\n      <td>7.2</td>\n      <td>2.78</td>\n      <td>B</td>\n      <td>Khá</td>\n      <td>Phan Nguyễn Trọng Tân</td>\n    </tr>\n    <tr>\n      <th>39</th>\n      <td>40</td>\n      <td>40.0</td>\n      <td>19485441.0</td>\n      <td>Trương Nguyễn Duy</td>\n      <td>Tân</td>\n      <td>5.5</td>\n      <td>8.3</td>\n      <td>7.0</td>\n      <td>6.7</td>\n      <td>6.5</td>\n      <td>...</td>\n      <td>NaN</td>\n      <td>NaN</td>\n      <td>NaN</td>\n      <td>NaN</td>\n      <td>21</td>\n      <td>6.6</td>\n      <td>2.55</td>\n      <td>C+</td>\n      <td>Trung bình</td>\n      <td>Trương Nguyễn Duy Tân</td>\n    </tr>\n    <tr>\n      <th>40</th>\n      <td>41</td>\n      <td>41.0</td>\n      <td>19469481.0</td>\n      <td>Đỗ Văn</td>\n      <td>Thắng</td>\n      <td>6.3</td>\n      <td>6.8</td>\n      <td>7.0</td>\n      <td>7.4</td>\n      <td>7.5</td>\n      <td>...</td>\n      <td>NaN</td>\n      <td>NaN</td>\n      <td>NaN</td>\n      <td>NaN</td>\n      <td>23</td>\n      <td>7.3</td>\n      <td>2.89</td>\n      <td>B</td>\n      <td>Khá</td>\n      <td>Đỗ Văn Thắng</td>\n    </tr>\n    <tr>\n      <th>41</th>\n      <td>42</td>\n      <td>42.0</td>\n      <td>19501001.0</td>\n      <td>Nguyễn Đức</td>\n      <td>Thịnh</td>\n      <td>2.0</td>\n      <td>6.7</td>\n      <td>7.0</td>\n      <td>5.7</td>\n      <td>6.5</td>\n      <td>...</td>\n      <td>NaN</td>\n      <td>NaN</td>\n      <td>NaN</td>\n      <td>NaN</td>\n      <td>18</td>\n      <td>6.2</td>\n      <td>2.27</td>\n      <td>C+</td>\n      <td>Trung bình</td>\n      <td>Nguyễn Đức Thịnh</td>\n    </tr>\n    <tr>\n      <th>42</th>\n      <td>43</td>\n      <td>43.0</td>\n      <td>19471271.0</td>\n      <td>Phạm Huỳnh Trường</td>\n      <td>Thịnh</td>\n      <td>5.8</td>\n      <td>5.2</td>\n      <td>7.0</td>\n      <td>7.9</td>\n      <td>6.5</td>\n      <td>...</td>\n      <td>NaN</td>\n      <td>NaN</td>\n      <td>NaN</td>\n      <td>NaN</td>\n      <td>18</td>\n      <td>6.6</td>\n      <td>2.55</td>\n      <td>C+</td>\n      <td>Trung bình</td>\n      <td>Phạm Huỳnh Trường Thịnh</td>\n    </tr>\n    <tr>\n      <th>43</th>\n      <td>44</td>\n      <td>44.0</td>\n      <td>19446021.0</td>\n      <td>Trần Xuân</td>\n      <td>Thủy</td>\n      <td>4.6</td>\n      <td>7.5</td>\n      <td>6.5</td>\n      <td>9.5</td>\n      <td>7.0</td>\n      <td>...</td>\n      <td>NaN</td>\n      <td>NaN</td>\n      <td>NaN</td>\n      <td>NaN</td>\n      <td>21</td>\n      <td>7.3</td>\n      <td>2.88</td>\n      <td>B</td>\n      <td>Khá</td>\n      <td>Trần Xuân Thủy</td>\n    </tr>\n    <tr>\n      <th>44</th>\n      <td>45</td>\n      <td>45.0</td>\n      <td>19430791.0</td>\n      <td>Lê Văn</td>\n      <td>Tiến</td>\n      <td>1.5</td>\n      <td>5.8</td>\n      <td>6.5</td>\n      <td>7.0</td>\n      <td>6.5</td>\n      <td>...</td>\n      <td>NaN</td>\n      <td>NaN</td>\n      <td>NaN</td>\n      <td>NaN</td>\n      <td>20</td>\n      <td>6.3</td>\n      <td>2.4</td>\n      <td>C+</td>\n      <td>Trung bình</td>\n      <td>Lê Văn Tiến</td>\n    </tr>\n    <tr>\n      <th>45</th>\n      <td>46</td>\n      <td>46.0</td>\n      <td>19529711.0</td>\n      <td>Nguyễn Đặng Minh</td>\n      <td>Toại</td>\n      <td>5.0</td>\n      <td>5.6</td>\n      <td>7.5</td>\n      <td>7.0</td>\n      <td>6.5</td>\n      <td>...</td>\n      <td>NaN</td>\n      <td>NaN</td>\n      <td>NaN</td>\n      <td>NaN</td>\n      <td>25</td>\n      <td>5</td>\n      <td>1.67</td>\n      <td>D+</td>\n      <td>Trung bình yếu</td>\n      <td>Nguyễn Đặng Minh Toại</td>\n    </tr>\n    <tr>\n      <th>46</th>\n      <td>47</td>\n      <td>47.0</td>\n      <td>19500761.0</td>\n      <td>Huỳnh Minh</td>\n      <td>Toàn</td>\n      <td>6.0</td>\n      <td>7.9</td>\n      <td>7.5</td>\n      <td>8.5</td>\n      <td>7.5</td>\n      <td>...</td>\n      <td>NaN</td>\n      <td>NaN</td>\n      <td>NaN</td>\n      <td>NaN</td>\n      <td>21</td>\n      <td>7.6</td>\n      <td>3.19</td>\n      <td>B</td>\n      <td>Khá</td>\n      <td>Huỳnh Minh Toàn</td>\n    </tr>\n    <tr>\n      <th>47</th>\n      <td>48</td>\n      <td>48.0</td>\n      <td>19447201.0</td>\n      <td>Nguyễn Anh</td>\n      <td>Toàn</td>\n      <td>4.4</td>\n      <td>7.7</td>\n      <td>6.5</td>\n      <td>8.8</td>\n      <td>6.0</td>\n      <td>...</td>\n      <td>NaN</td>\n      <td>NaN</td>\n      <td>NaN</td>\n      <td>NaN</td>\n      <td>18</td>\n      <td>6.7</td>\n      <td>2.58</td>\n      <td>C+</td>\n      <td>Trung bình</td>\n      <td>Nguyễn Anh Toàn</td>\n    </tr>\n    <tr>\n      <th>48</th>\n      <td>49</td>\n      <td>49.0</td>\n      <td>19477811.0</td>\n      <td>Lưu Hoàng Ngọc</td>\n      <td>Trinh</td>\n      <td>5.9</td>\n      <td>6.2</td>\n      <td>7.5</td>\n      <td>6.4</td>\n      <td>6.5</td>\n      <td>...</td>\n      <td>NaN</td>\n      <td>NaN</td>\n      <td>NaN</td>\n      <td>NaN</td>\n      <td>11</td>\n      <td>3.8</td>\n      <td>1.34</td>\n      <td>F</td>\n      <td>Kém</td>\n      <td>Lưu Hoàng Ngọc Trinh</td>\n    </tr>\n    <tr>\n      <th>49</th>\n      <td>50</td>\n      <td>50.0</td>\n      <td>19491741.0</td>\n      <td>Lê Văn</td>\n      <td>Trung</td>\n      <td>7.9</td>\n      <td>6.7</td>\n      <td>7.0</td>\n      <td>7.4</td>\n      <td>7.0</td>\n      <td>...</td>\n      <td>NaN</td>\n      <td>NaN</td>\n      <td>NaN</td>\n      <td>NaN</td>\n      <td>13</td>\n      <td>6.1</td>\n      <td>2.15</td>\n      <td>C+</td>\n      <td>Trung bình</td>\n      <td>Lê Văn Trung</td>\n    </tr>\n    <tr>\n      <th>50</th>\n      <td>51</td>\n      <td>51.0</td>\n      <td>19477111.0</td>\n      <td>Nguyễn Tuấn</td>\n      <td>Trung</td>\n      <td>4.7</td>\n      <td>6.1</td>\n      <td>6.5</td>\n      <td>7.5</td>\n      <td>5.5</td>\n      <td>...</td>\n      <td>NaN</td>\n      <td>NaN</td>\n      <td>NaN</td>\n      <td>NaN</td>\n      <td>15</td>\n      <td>6</td>\n      <td>2.22</td>\n      <td>C+</td>\n      <td>Trung bình</td>\n      <td>Nguyễn Tuấn Trung</td>\n    </tr>\n    <tr>\n      <th>51</th>\n      <td>52</td>\n      <td>52.0</td>\n      <td>19502701.0</td>\n      <td>Phạm Thành</td>\n      <td>Trung</td>\n      <td>8.0</td>\n      <td>7.9</td>\n      <td>7.5</td>\n      <td>9.9</td>\n      <td>6.5</td>\n      <td>...</td>\n      <td>NaN</td>\n      <td>NaN</td>\n      <td>NaN</td>\n      <td>NaN</td>\n      <td>25</td>\n      <td>8.7</td>\n      <td>3.69</td>\n      <td>B+</td>\n      <td>Khá</td>\n      <td>Phạm Thành Trung</td>\n    </tr>\n    <tr>\n      <th>52</th>\n      <td>53</td>\n      <td>53.0</td>\n      <td>19499041.0</td>\n      <td>Phan Chí</td>\n      <td>Trung</td>\n      <td>6.3</td>\n      <td>6.1</td>\n      <td>6.5</td>\n      <td>6.6</td>\n      <td>5.5</td>\n      <td>...</td>\n      <td>NaN</td>\n      <td>NaN</td>\n      <td>NaN</td>\n      <td>NaN</td>\n      <td>22</td>\n      <td>7.3</td>\n      <td>2.92</td>\n      <td>B</td>\n      <td>Khá</td>\n      <td>Phan Chí Trung</td>\n    </tr>\n    <tr>\n      <th>53</th>\n      <td>54</td>\n      <td>54.0</td>\n      <td>19510211.0</td>\n      <td>Đào Duy</td>\n      <td>Trường</td>\n      <td>5.2</td>\n      <td>5.2</td>\n      <td>7.0</td>\n      <td>7.6</td>\n      <td>5.5</td>\n      <td>...</td>\n      <td>NaN</td>\n      <td>NaN</td>\n      <td>NaN</td>\n      <td>NaN</td>\n      <td>21</td>\n      <td>6.3</td>\n      <td>2.32</td>\n      <td>C+</td>\n      <td>Trung bình</td>\n      <td>Đào Duy Trường</td>\n    </tr>\n    <tr>\n      <th>54</th>\n      <td>55</td>\n      <td>55.0</td>\n      <td>19519011.0</td>\n      <td>Đoàn Minh</td>\n      <td>Trường</td>\n      <td>4.9</td>\n      <td>5.2</td>\n      <td>7.5</td>\n      <td>0.0</td>\n      <td>6.0</td>\n      <td>...</td>\n      <td>NaN</td>\n      <td>NaN</td>\n      <td>NaN</td>\n      <td>NaN</td>\n      <td>9</td>\n      <td>4.5</td>\n      <td>1.68</td>\n      <td>D</td>\n      <td>Trung bình yếu</td>\n      <td>Đoàn Minh Trường</td>\n    </tr>\n    <tr>\n      <th>55</th>\n      <td>56</td>\n      <td>56.0</td>\n      <td>19446701.0</td>\n      <td>Huỳnh Anh</td>\n      <td>Tú</td>\n      <td>6.4</td>\n      <td>6.3</td>\n      <td>6.5</td>\n      <td>7.7</td>\n      <td>7.0</td>\n      <td>...</td>\n      <td>NaN</td>\n      <td>NaN</td>\n      <td>NaN</td>\n      <td>NaN</td>\n      <td>25</td>\n      <td>6</td>\n      <td>2.14</td>\n      <td>C+</td>\n      <td>Trung bình</td>\n      <td>Huỳnh Anh Tú</td>\n    </tr>\n    <tr>\n      <th>56</th>\n      <td>57</td>\n      <td>57.0</td>\n      <td>19497581.0</td>\n      <td>Nguyễn Văn Anh</td>\n      <td>Tuấn</td>\n      <td>5.6</td>\n      <td>7.5</td>\n      <td>7.0</td>\n      <td>6.0</td>\n      <td>6.5</td>\n      <td>...</td>\n      <td>NaN</td>\n      <td>NaN</td>\n      <td>NaN</td>\n      <td>NaN</td>\n      <td>25</td>\n      <td>7.5</td>\n      <td>3.02</td>\n      <td>B</td>\n      <td>Khá</td>\n      <td>Nguyễn Văn Anh Tuấn</td>\n    </tr>\n    <tr>\n      <th>57</th>\n      <td>58</td>\n      <td>58.0</td>\n      <td>19469421.0</td>\n      <td>Phạm Minh</td>\n      <td>Tuấn</td>\n      <td>6.3</td>\n      <td>6.4</td>\n      <td>6.5</td>\n      <td>7.0</td>\n      <td>5.5</td>\n      <td>...</td>\n      <td>NaN</td>\n      <td>NaN</td>\n      <td>NaN</td>\n      <td>NaN</td>\n      <td>21</td>\n      <td>5.4</td>\n      <td>1.99</td>\n      <td>D+</td>\n      <td>Trung bình yếu</td>\n      <td>Phạm Minh Tuấn</td>\n    </tr>\n    <tr>\n      <th>58</th>\n      <td>59</td>\n      <td>59.0</td>\n      <td>19512321.0</td>\n      <td>Phan Lê Hoàng</td>\n      <td>Việt</td>\n      <td>1.0</td>\n      <td>7.6</td>\n      <td>6.5</td>\n      <td>5.7</td>\n      <td>5.0</td>\n      <td>...</td>\n      <td>NaN</td>\n      <td>NaN</td>\n      <td>NaN</td>\n      <td>NaN</td>\n      <td>17</td>\n      <td>6.2</td>\n      <td>2.35</td>\n      <td>C+</td>\n      <td>Trung bình</td>\n      <td>Phan Lê Hoàng Việt</td>\n    </tr>\n    <tr>\n      <th>59</th>\n      <td>60</td>\n      <td>60.0</td>\n      <td>19474281.0</td>\n      <td>Trần Tuấn</td>\n      <td>Vũ</td>\n      <td>7.9</td>\n      <td>6.5</td>\n      <td>6.5</td>\n      <td>9.6</td>\n      <td>5.5</td>\n      <td>...</td>\n      <td>NaN</td>\n      <td>NaN</td>\n      <td>NaN</td>\n      <td>NaN</td>\n      <td>22</td>\n      <td>7.9</td>\n      <td>3.2</td>\n      <td>B</td>\n      <td>Khá</td>\n      <td>Trần Tuấn Vũ</td>\n    </tr>\n  </tbody>\n</table>\n<p>60 rows × 91 columns</p>\n</div>"
     },
     "metadata": {},
     "execution_count": 56
    }
   ],
   "source": [
    "df"
   ]
  },
  {
   "cell_type": "code",
   "execution_count": 57,
   "metadata": {},
   "outputs": [
    {
     "output_type": "execute_result",
     "data": {
      "text/plain": [
       "              Họ và tên  Cấu trúc dữ liệu và giải thuật\n",
       "16       Ngô Quốc Hoàng                             8.4\n",
       "22    Trương Thị Cẩm Ly                             8.5\n",
       "26      Lưu Thị Yến Nhi                             9.5\n",
       "36               Văn Sỹ                             8.0\n",
       "43       Trần Xuân Thủy                             8.2\n",
       "46      Huỳnh Minh Toàn                             8.2\n",
       "51     Phạm Thành Trung                             8.9\n",
       "52       Phan Chí Trung                             8.2\n",
       "54     Đoàn Minh Trường                             9.1\n",
       "56  Nguyễn Văn Anh Tuấn                             8.9"
      ],
      "text/html": "<div>\n<style scoped>\n    .dataframe tbody tr th:only-of-type {\n        vertical-align: middle;\n    }\n\n    .dataframe tbody tr th {\n        vertical-align: top;\n    }\n\n    .dataframe thead th {\n        text-align: right;\n    }\n</style>\n<table border=\"1\" class=\"dataframe\">\n  <thead>\n    <tr style=\"text-align: right;\">\n      <th></th>\n      <th>Họ và tên</th>\n      <th>Cấu trúc dữ liệu và giải thuật</th>\n    </tr>\n  </thead>\n  <tbody>\n    <tr>\n      <th>16</th>\n      <td>Ngô Quốc Hoàng</td>\n      <td>8.4</td>\n    </tr>\n    <tr>\n      <th>22</th>\n      <td>Trương Thị Cẩm Ly</td>\n      <td>8.5</td>\n    </tr>\n    <tr>\n      <th>26</th>\n      <td>Lưu Thị Yến Nhi</td>\n      <td>9.5</td>\n    </tr>\n    <tr>\n      <th>36</th>\n      <td>Văn Sỹ</td>\n      <td>8.0</td>\n    </tr>\n    <tr>\n      <th>43</th>\n      <td>Trần Xuân Thủy</td>\n      <td>8.2</td>\n    </tr>\n    <tr>\n      <th>46</th>\n      <td>Huỳnh Minh Toàn</td>\n      <td>8.2</td>\n    </tr>\n    <tr>\n      <th>51</th>\n      <td>Phạm Thành Trung</td>\n      <td>8.9</td>\n    </tr>\n    <tr>\n      <th>52</th>\n      <td>Phan Chí Trung</td>\n      <td>8.2</td>\n    </tr>\n    <tr>\n      <th>54</th>\n      <td>Đoàn Minh Trường</td>\n      <td>9.1</td>\n    </tr>\n    <tr>\n      <th>56</th>\n      <td>Nguyễn Văn Anh Tuấn</td>\n      <td>8.9</td>\n    </tr>\n  </tbody>\n</table>\n</div>"
     },
     "metadata": {},
     "execution_count": 57
    }
   ],
   "source": [
    "df.loc[df['Cấu trúc dữ liệu và giải thuật'] >= 8, ['Họ và tên', 'Cấu trúc dữ liệu và giải thuật']]"
   ]
  },
  {
   "cell_type": "code",
   "execution_count": 58,
   "metadata": {
    "scrolled": false
   },
   "outputs": [
    {
     "output_type": "display_data",
     "data": {
      "application/vnd.plotly.v1+json": {
       "config": {
        "plotlyServerURL": "https://plot.ly"
       },
       "data": [
        {
         "alignmentgroup": "True",
         "customdata": [
          [
           "Đinh Tuấn Anh"
          ],
          [
           "Hà Bảo Anh"
          ],
          [
           "Lưu Đức Anh"
          ],
          [
           "Trần Nam Bá"
          ],
          [
           "Ngô Đức Bảo"
          ],
          [
           "Trịnh Thị Bảo Bảo"
          ],
          [
           "Đỗ Xuân Đức Chung"
          ],
          [
           "Phạm Tài Đức Phú Đa"
          ],
          [
           "Lê Tấn Đạt"
          ],
          [
           "Phạm Hà Văn Đông"
          ],
          [
           "Trịnh Ngọc Đức"
          ],
          [
           "Tăng Hoài Duy"
          ],
          [
           "Thái Thị Hiền"
          ],
          [
           "Phạm Thế Hiển"
          ],
          [
           "Trần Minh Hiếu"
          ],
          [
           "Nguyễn Thị Thanh Hòa"
          ],
          [
           "Ngô Quốc Hoàng"
          ],
          [
           "Hồ Quang Huy"
          ],
          [
           "Lương Quang Khải"
          ],
          [
           "Phạm Hoàng Duy Khang"
          ],
          [
           "Lê Mỹ Thanh Lành"
          ],
          [
           "Trần Hồ Phi Long"
          ],
          [
           "Trương Thị Cẩm Ly"
          ],
          [
           "Quách Trọng Nghĩa"
          ],
          [
           "Nguyễn Thành Nhân"
          ],
          [
           "Nguyễn Văn Phúc Nhân"
          ],
          [
           "Lưu Thị Yến Nhi"
          ],
          [
           "Lê Huy Phát"
          ],
          [
           "Lê Thanh Phong"
          ],
          [
           "Phan Nguyễn Mai Phương"
          ],
          [
           "Vũ Minh Quang"
          ],
          [
           "Nguyễn Quang Quốc"
          ],
          [
           "Dương Văn Sang"
          ],
          [
           "Nguyễn Tuấn Sinh"
          ],
          [
           "Phạm Trung Sơn"
          ],
          [
           "Nguyễn Tiến Sỹ"
          ],
          [
           "Văn Sỹ"
          ],
          [
           "Lê Duy Tâm"
          ],
          [
           "Phan Nguyễn Trọng Tân"
          ],
          [
           "Trương Nguyễn Duy Tân"
          ],
          [
           "Đỗ Văn Thắng"
          ],
          [
           "Nguyễn Đức Thịnh"
          ],
          [
           "Phạm Huỳnh Trường Thịnh"
          ],
          [
           "Trần Xuân Thủy"
          ],
          [
           "Lê Văn Tiến"
          ],
          [
           "Nguyễn Đặng Minh Toại"
          ],
          [
           "Huỳnh Minh Toàn"
          ],
          [
           "Nguyễn Anh Toàn"
          ],
          [
           "Lưu Hoàng Ngọc Trinh"
          ],
          [
           "Lê Văn Trung"
          ],
          [
           "Nguyễn Tuấn Trung"
          ],
          [
           "Phạm Thành Trung"
          ],
          [
           "Phan Chí Trung"
          ],
          [
           "Đào Duy Trường"
          ],
          [
           "Đoàn Minh Trường"
          ],
          [
           "Huỳnh Anh Tú"
          ],
          [
           "Nguyễn Văn Anh Tuấn"
          ],
          [
           "Phạm Minh Tuấn"
          ],
          [
           "Phan Lê Hoàng Việt"
          ],
          [
           "Trần Tuấn Vũ"
          ]
         ],
         "hovertemplate": "Cấu trúc dữ liệu và giải thuật=%{y}<br>Họ và tên=%{customdata[0]}<extra></extra>",
         "legendgroup": "",
         "marker": {
          "color": "#636efa"
         },
         "name": "",
         "notched": false,
         "offsetgroup": "",
         "orientation": "v",
         "showlegend": false,
         "type": "box",
         "x0": " ",
         "xaxis": "x",
         "y": [
          6.1,
          7.2,
          5.7,
          7.1,
          null,
          7.2,
          null,
          4.3,
          null,
          5.2,
          5.5,
          5.2,
          7.3,
          6.6,
          6.9,
          null,
          8.4,
          7.6,
          0,
          6.7,
          6.4,
          6,
          8.5,
          5.4,
          0,
          5.7,
          9.5,
          6.3,
          7.6,
          4.6,
          7.3,
          6.6,
          null,
          7.4,
          6.3,
          6,
          8,
          7.2,
          7.6,
          5.7,
          7.8,
          6.7,
          7,
          8.2,
          null,
          4.7,
          8.2,
          7.1,
          0,
          5.3,
          null,
          8.9,
          8.2,
          5.5,
          9.1,
          5,
          8.9,
          0,
          4.6,
          7.7
         ],
         "y0": " ",
         "yaxis": "y"
        }
       ],
       "layout": {
        "boxmode": "group",
        "legend": {
         "tracegroupgap": 0
        },
        "margin": {
         "t": 60
        },
        "template": {
         "data": {
          "bar": [
           {
            "error_x": {
             "color": "#2a3f5f"
            },
            "error_y": {
             "color": "#2a3f5f"
            },
            "marker": {
             "line": {
              "color": "#E5ECF6",
              "width": 0.5
             }
            },
            "type": "bar"
           }
          ],
          "barpolar": [
           {
            "marker": {
             "line": {
              "color": "#E5ECF6",
              "width": 0.5
             }
            },
            "type": "barpolar"
           }
          ],
          "carpet": [
           {
            "aaxis": {
             "endlinecolor": "#2a3f5f",
             "gridcolor": "white",
             "linecolor": "white",
             "minorgridcolor": "white",
             "startlinecolor": "#2a3f5f"
            },
            "baxis": {
             "endlinecolor": "#2a3f5f",
             "gridcolor": "white",
             "linecolor": "white",
             "minorgridcolor": "white",
             "startlinecolor": "#2a3f5f"
            },
            "type": "carpet"
           }
          ],
          "choropleth": [
           {
            "colorbar": {
             "outlinewidth": 0,
             "ticks": ""
            },
            "type": "choropleth"
           }
          ],
          "contour": [
           {
            "colorbar": {
             "outlinewidth": 0,
             "ticks": ""
            },
            "colorscale": [
             [
              0,
              "#0d0887"
             ],
             [
              0.1111111111111111,
              "#46039f"
             ],
             [
              0.2222222222222222,
              "#7201a8"
             ],
             [
              0.3333333333333333,
              "#9c179e"
             ],
             [
              0.4444444444444444,
              "#bd3786"
             ],
             [
              0.5555555555555556,
              "#d8576b"
             ],
             [
              0.6666666666666666,
              "#ed7953"
             ],
             [
              0.7777777777777778,
              "#fb9f3a"
             ],
             [
              0.8888888888888888,
              "#fdca26"
             ],
             [
              1,
              "#f0f921"
             ]
            ],
            "type": "contour"
           }
          ],
          "contourcarpet": [
           {
            "colorbar": {
             "outlinewidth": 0,
             "ticks": ""
            },
            "type": "contourcarpet"
           }
          ],
          "heatmap": [
           {
            "colorbar": {
             "outlinewidth": 0,
             "ticks": ""
            },
            "colorscale": [
             [
              0,
              "#0d0887"
             ],
             [
              0.1111111111111111,
              "#46039f"
             ],
             [
              0.2222222222222222,
              "#7201a8"
             ],
             [
              0.3333333333333333,
              "#9c179e"
             ],
             [
              0.4444444444444444,
              "#bd3786"
             ],
             [
              0.5555555555555556,
              "#d8576b"
             ],
             [
              0.6666666666666666,
              "#ed7953"
             ],
             [
              0.7777777777777778,
              "#fb9f3a"
             ],
             [
              0.8888888888888888,
              "#fdca26"
             ],
             [
              1,
              "#f0f921"
             ]
            ],
            "type": "heatmap"
           }
          ],
          "heatmapgl": [
           {
            "colorbar": {
             "outlinewidth": 0,
             "ticks": ""
            },
            "colorscale": [
             [
              0,
              "#0d0887"
             ],
             [
              0.1111111111111111,
              "#46039f"
             ],
             [
              0.2222222222222222,
              "#7201a8"
             ],
             [
              0.3333333333333333,
              "#9c179e"
             ],
             [
              0.4444444444444444,
              "#bd3786"
             ],
             [
              0.5555555555555556,
              "#d8576b"
             ],
             [
              0.6666666666666666,
              "#ed7953"
             ],
             [
              0.7777777777777778,
              "#fb9f3a"
             ],
             [
              0.8888888888888888,
              "#fdca26"
             ],
             [
              1,
              "#f0f921"
             ]
            ],
            "type": "heatmapgl"
           }
          ],
          "histogram": [
           {
            "marker": {
             "colorbar": {
              "outlinewidth": 0,
              "ticks": ""
             }
            },
            "type": "histogram"
           }
          ],
          "histogram2d": [
           {
            "colorbar": {
             "outlinewidth": 0,
             "ticks": ""
            },
            "colorscale": [
             [
              0,
              "#0d0887"
             ],
             [
              0.1111111111111111,
              "#46039f"
             ],
             [
              0.2222222222222222,
              "#7201a8"
             ],
             [
              0.3333333333333333,
              "#9c179e"
             ],
             [
              0.4444444444444444,
              "#bd3786"
             ],
             [
              0.5555555555555556,
              "#d8576b"
             ],
             [
              0.6666666666666666,
              "#ed7953"
             ],
             [
              0.7777777777777778,
              "#fb9f3a"
             ],
             [
              0.8888888888888888,
              "#fdca26"
             ],
             [
              1,
              "#f0f921"
             ]
            ],
            "type": "histogram2d"
           }
          ],
          "histogram2dcontour": [
           {
            "colorbar": {
             "outlinewidth": 0,
             "ticks": ""
            },
            "colorscale": [
             [
              0,
              "#0d0887"
             ],
             [
              0.1111111111111111,
              "#46039f"
             ],
             [
              0.2222222222222222,
              "#7201a8"
             ],
             [
              0.3333333333333333,
              "#9c179e"
             ],
             [
              0.4444444444444444,
              "#bd3786"
             ],
             [
              0.5555555555555556,
              "#d8576b"
             ],
             [
              0.6666666666666666,
              "#ed7953"
             ],
             [
              0.7777777777777778,
              "#fb9f3a"
             ],
             [
              0.8888888888888888,
              "#fdca26"
             ],
             [
              1,
              "#f0f921"
             ]
            ],
            "type": "histogram2dcontour"
           }
          ],
          "mesh3d": [
           {
            "colorbar": {
             "outlinewidth": 0,
             "ticks": ""
            },
            "type": "mesh3d"
           }
          ],
          "parcoords": [
           {
            "line": {
             "colorbar": {
              "outlinewidth": 0,
              "ticks": ""
             }
            },
            "type": "parcoords"
           }
          ],
          "pie": [
           {
            "automargin": true,
            "type": "pie"
           }
          ],
          "scatter": [
           {
            "marker": {
             "colorbar": {
              "outlinewidth": 0,
              "ticks": ""
             }
            },
            "type": "scatter"
           }
          ],
          "scatter3d": [
           {
            "line": {
             "colorbar": {
              "outlinewidth": 0,
              "ticks": ""
             }
            },
            "marker": {
             "colorbar": {
              "outlinewidth": 0,
              "ticks": ""
             }
            },
            "type": "scatter3d"
           }
          ],
          "scattercarpet": [
           {
            "marker": {
             "colorbar": {
              "outlinewidth": 0,
              "ticks": ""
             }
            },
            "type": "scattercarpet"
           }
          ],
          "scattergeo": [
           {
            "marker": {
             "colorbar": {
              "outlinewidth": 0,
              "ticks": ""
             }
            },
            "type": "scattergeo"
           }
          ],
          "scattergl": [
           {
            "marker": {
             "colorbar": {
              "outlinewidth": 0,
              "ticks": ""
             }
            },
            "type": "scattergl"
           }
          ],
          "scattermapbox": [
           {
            "marker": {
             "colorbar": {
              "outlinewidth": 0,
              "ticks": ""
             }
            },
            "type": "scattermapbox"
           }
          ],
          "scatterpolar": [
           {
            "marker": {
             "colorbar": {
              "outlinewidth": 0,
              "ticks": ""
             }
            },
            "type": "scatterpolar"
           }
          ],
          "scatterpolargl": [
           {
            "marker": {
             "colorbar": {
              "outlinewidth": 0,
              "ticks": ""
             }
            },
            "type": "scatterpolargl"
           }
          ],
          "scatterternary": [
           {
            "marker": {
             "colorbar": {
              "outlinewidth": 0,
              "ticks": ""
             }
            },
            "type": "scatterternary"
           }
          ],
          "surface": [
           {
            "colorbar": {
             "outlinewidth": 0,
             "ticks": ""
            },
            "colorscale": [
             [
              0,
              "#0d0887"
             ],
             [
              0.1111111111111111,
              "#46039f"
             ],
             [
              0.2222222222222222,
              "#7201a8"
             ],
             [
              0.3333333333333333,
              "#9c179e"
             ],
             [
              0.4444444444444444,
              "#bd3786"
             ],
             [
              0.5555555555555556,
              "#d8576b"
             ],
             [
              0.6666666666666666,
              "#ed7953"
             ],
             [
              0.7777777777777778,
              "#fb9f3a"
             ],
             [
              0.8888888888888888,
              "#fdca26"
             ],
             [
              1,
              "#f0f921"
             ]
            ],
            "type": "surface"
           }
          ],
          "table": [
           {
            "cells": {
             "fill": {
              "color": "#EBF0F8"
             },
             "line": {
              "color": "white"
             }
            },
            "header": {
             "fill": {
              "color": "#C8D4E3"
             },
             "line": {
              "color": "white"
             }
            },
            "type": "table"
           }
          ]
         },
         "layout": {
          "annotationdefaults": {
           "arrowcolor": "#2a3f5f",
           "arrowhead": 0,
           "arrowwidth": 1
          },
          "autotypenumbers": "strict",
          "coloraxis": {
           "colorbar": {
            "outlinewidth": 0,
            "ticks": ""
           }
          },
          "colorscale": {
           "diverging": [
            [
             0,
             "#8e0152"
            ],
            [
             0.1,
             "#c51b7d"
            ],
            [
             0.2,
             "#de77ae"
            ],
            [
             0.3,
             "#f1b6da"
            ],
            [
             0.4,
             "#fde0ef"
            ],
            [
             0.5,
             "#f7f7f7"
            ],
            [
             0.6,
             "#e6f5d0"
            ],
            [
             0.7,
             "#b8e186"
            ],
            [
             0.8,
             "#7fbc41"
            ],
            [
             0.9,
             "#4d9221"
            ],
            [
             1,
             "#276419"
            ]
           ],
           "sequential": [
            [
             0,
             "#0d0887"
            ],
            [
             0.1111111111111111,
             "#46039f"
            ],
            [
             0.2222222222222222,
             "#7201a8"
            ],
            [
             0.3333333333333333,
             "#9c179e"
            ],
            [
             0.4444444444444444,
             "#bd3786"
            ],
            [
             0.5555555555555556,
             "#d8576b"
            ],
            [
             0.6666666666666666,
             "#ed7953"
            ],
            [
             0.7777777777777778,
             "#fb9f3a"
            ],
            [
             0.8888888888888888,
             "#fdca26"
            ],
            [
             1,
             "#f0f921"
            ]
           ],
           "sequentialminus": [
            [
             0,
             "#0d0887"
            ],
            [
             0.1111111111111111,
             "#46039f"
            ],
            [
             0.2222222222222222,
             "#7201a8"
            ],
            [
             0.3333333333333333,
             "#9c179e"
            ],
            [
             0.4444444444444444,
             "#bd3786"
            ],
            [
             0.5555555555555556,
             "#d8576b"
            ],
            [
             0.6666666666666666,
             "#ed7953"
            ],
            [
             0.7777777777777778,
             "#fb9f3a"
            ],
            [
             0.8888888888888888,
             "#fdca26"
            ],
            [
             1,
             "#f0f921"
            ]
           ]
          },
          "colorway": [
           "#636efa",
           "#EF553B",
           "#00cc96",
           "#ab63fa",
           "#FFA15A",
           "#19d3f3",
           "#FF6692",
           "#B6E880",
           "#FF97FF",
           "#FECB52"
          ],
          "font": {
           "color": "#2a3f5f"
          },
          "geo": {
           "bgcolor": "white",
           "lakecolor": "white",
           "landcolor": "#E5ECF6",
           "showlakes": true,
           "showland": true,
           "subunitcolor": "white"
          },
          "hoverlabel": {
           "align": "left"
          },
          "hovermode": "closest",
          "mapbox": {
           "style": "light"
          },
          "paper_bgcolor": "white",
          "plot_bgcolor": "#E5ECF6",
          "polar": {
           "angularaxis": {
            "gridcolor": "white",
            "linecolor": "white",
            "ticks": ""
           },
           "bgcolor": "#E5ECF6",
           "radialaxis": {
            "gridcolor": "white",
            "linecolor": "white",
            "ticks": ""
           }
          },
          "scene": {
           "xaxis": {
            "backgroundcolor": "#E5ECF6",
            "gridcolor": "white",
            "gridwidth": 2,
            "linecolor": "white",
            "showbackground": true,
            "ticks": "",
            "zerolinecolor": "white"
           },
           "yaxis": {
            "backgroundcolor": "#E5ECF6",
            "gridcolor": "white",
            "gridwidth": 2,
            "linecolor": "white",
            "showbackground": true,
            "ticks": "",
            "zerolinecolor": "white"
           },
           "zaxis": {
            "backgroundcolor": "#E5ECF6",
            "gridcolor": "white",
            "gridwidth": 2,
            "linecolor": "white",
            "showbackground": true,
            "ticks": "",
            "zerolinecolor": "white"
           }
          },
          "shapedefaults": {
           "line": {
            "color": "#2a3f5f"
           }
          },
          "ternary": {
           "aaxis": {
            "gridcolor": "white",
            "linecolor": "white",
            "ticks": ""
           },
           "baxis": {
            "gridcolor": "white",
            "linecolor": "white",
            "ticks": ""
           },
           "bgcolor": "#E5ECF6",
           "caxis": {
            "gridcolor": "white",
            "linecolor": "white",
            "ticks": ""
           }
          },
          "title": {
           "x": 0.05
          },
          "xaxis": {
           "automargin": true,
           "gridcolor": "white",
           "linecolor": "white",
           "ticks": "",
           "title": {
            "standoff": 15
           },
           "zerolinecolor": "white",
           "zerolinewidth": 2
          },
          "yaxis": {
           "automargin": true,
           "gridcolor": "white",
           "linecolor": "white",
           "ticks": "",
           "title": {
            "standoff": 15
           },
           "zerolinecolor": "white",
           "zerolinewidth": 2
          }
         }
        },
        "xaxis": {
         "anchor": "y",
         "domain": [
          0,
          1
         ]
        },
        "yaxis": {
         "anchor": "x",
         "domain": [
          0,
          1
         ],
         "title": {
          "text": "Cấu trúc dữ liệu và giải thuật"
         }
        }
       }
      }
     },
     "metadata": {}
    }
   ],
   "source": [
    "make_boxplot('Cấu trúc dữ liệu và giải thuật')"
   ]
  },
  {
   "cell_type": "code",
   "execution_count": 59,
   "metadata": {},
   "outputs": [
    {
     "output_type": "execute_result",
     "data": {
      "text/plain": [
       "nan"
      ]
     },
     "metadata": {},
     "execution_count": 59
    }
   ],
   "source": [
    "df.loc[0, 'Thị giác máy tính']"
   ]
  },
  {
   "cell_type": "code",
   "execution_count": 60,
   "metadata": {},
   "outputs": [
    {
     "output_type": "execute_result",
     "data": {
      "text/plain": [
       "nan"
      ]
     },
     "metadata": {},
     "execution_count": 60
    }
   ],
   "source": [
    "np.nan"
   ]
  },
  {
   "cell_type": "code",
   "execution_count": 61,
   "metadata": {},
   "outputs": [],
   "source": [
    "xeploai_df = pd.DataFrame(columns=['STT', 'Mã sinh viên', 'Họ và tên', 'Họ đệm', 'Tên'] + subjects)\n",
    "for i in range(len(df)):\n",
    "    sv_info = []\n",
    "    for name in list(xeploai_df.columns):\n",
    "        need = nan\n",
    "        if (name in subjects and np.isnan(df.loc[i, name])):\n",
    "            need = nan\n",
    "        else:\n",
    "            need = get_xeploai(df.loc[i, name])[0] if name in subjects and df.loc[i, name] <= 10 else df.loc[i, name]\n",
    "        sv_info += [need]\n",
    "    xeploai_df = pd.concat([xeploai_df, pd.DataFrame([sv_info], columns=list(xeploai_df.columns))], ignore_index=True)"
   ]
  },
  {
   "cell_type": "code",
   "execution_count": 62,
   "metadata": {},
   "outputs": [
    {
     "output_type": "execute_result",
     "data": {
      "text/plain": [
       "['Những nguyên lý cơ bản của Chủ nghĩa Mác - Lênin',\n",
       " 'Nhập môn Tin học',\n",
       " 'Giáo dục Quốc phòng và An ninh 1',\n",
       " 'Toán cao cấp 1',\n",
       " 'Giáo dục thể chất 1',\n",
       " 'Nhập môn Lập trình',\n",
       " 'Kỹ thuật lập trình',\n",
       " 'Hệ thống Máy tính',\n",
       " 'Tiếng anh 1',\n",
       " 'Kỹ năng làm việc nhóm',\n",
       " 'Giao tiếp kinh doanh',\n",
       " 'Kỹ năng xây dựng kế hoạch',\n",
       " 'Quản trị doanh nghiệp',\n",
       " 'Môi trường và con người',\n",
       " 'Quản trị học',\n",
       " 'Kế toán cơ bản',\n",
       " 'Toán cao cấp 2',\n",
       " 'Giáo dục thể chất 2',\n",
       " 'Giáo dục quốc phòng và an ninh 2',\n",
       " 'Cấu trúc rời rạc',\n",
       " 'Cấu trúc dữ liệu và giải thuật',\n",
       " 'Hệ cơ sở dữ liệu',\n",
       " 'Tiếng anh 2',\n",
       " 'Lập trình hướng đối tượng',\n",
       " 'Xác suất trong Khoa học Dữ liệu',\n",
       " 'Giải thuật và tối ưu hóa phân tán',\n",
       " 'Trực quan hóa dữ liệu',\n",
       " 'Đại số tuyến tính tính toán',\n",
       " 'Mạng máy tính',\n",
       " 'Pháp luật đại cương',\n",
       " 'Toán ứng dụng',\n",
       " 'Phương pháp luận nghiên cứu khoa học',\n",
       " 'Hàm phức và phép biến đổi Laplace',\n",
       " 'Phương pháp tính',\n",
       " 'Vật lý đại cương',\n",
       " 'Logic học',\n",
       " 'Thống kê máy tính và ứng dụng',\n",
       " 'Nhập môn Khoa học Dữ liệu',\n",
       " 'Lập trình phân tích dữ liệu',\n",
       " 'Quá trình ngẫu nhiên',\n",
       " 'Các ngôn ngữ truy vấn cơ sở dữ liệu',\n",
       " 'Kiến trúc hướng dịch vụ và Điện toán đám mây',\n",
       " 'Những vấn đề xã hội và đạo đức nghề nghiệp',\n",
       " 'Khai thác dữ liệu và ứng dụng',\n",
       " 'Phát triển ứng dụng',\n",
       " 'Máy học',\n",
       " 'Tối ưu hóa cho Khoa học dữ liệu',\n",
       " 'Phân tích chuỗi thời gian',\n",
       " 'Kỹ thuật tài chính',\n",
       " 'Xử lý ảnh',\n",
       " 'Tư tưởng Hồ Chí Minh',\n",
       " 'Nhập môn an toàn thông tin',\n",
       " 'Tương tác người máy',\n",
       " 'Công nghệ phần mềm',\n",
       " 'Xử lý ngôn ngữ tự nhiên',\n",
       " 'Nhập môn dữ liệu lớn',\n",
       " 'Tiếp thị điện tử',\n",
       " 'Nhập môn Robot',\n",
       " 'Giao dịch định lượng',\n",
       " 'Tính toán song song',\n",
       " 'Khai phá đồ thị',\n",
       " 'Hệ khuyến nghị',\n",
       " 'Lý thuyết trò chơi',\n",
       " 'Đường lối cách mạng của Đảng Cộng sản Việt Nam',\n",
       " 'Công nghệ mới trong phát triển ứng dụng CNTT',\n",
       " 'Hội họa',\n",
       " 'Xã hội học',\n",
       " 'Cơ sở văn hóa Việt Nam',\n",
       " 'Âm nhạc – Nhạc lý và Guitar căn bản',\n",
       " 'Tâm lý học đại cương',\n",
       " 'Đảm bảo chất lượng và Kiểm thử phần mềm',\n",
       " 'Học sâu',\n",
       " 'Tiếng Việt thực hành',\n",
       " 'Thị giác máy tính',\n",
       " 'Phân tích dữ liệu Bayesian',\n",
       " 'Phân tích kinh doanh',\n",
       " 'Giải tích ngẫu nhiên cho tài chính',\n",
       " 'Chứng chỉ TOEIC 450',\n",
       " 'Khóa luận tốt nghiệp']"
      ]
     },
     "metadata": {},
     "execution_count": 62
    }
   ],
   "source": [
    "subjects"
   ]
  },
  {
   "cell_type": "code",
   "execution_count": 63,
   "metadata": {
    "scrolled": true
   },
   "outputs": [
    {
     "output_type": "execute_result",
     "data": {
      "text/plain": [
       "                     B              A                   C  ...   \n",
       "8                                D+              D                  D+  ...   \n",
       "9                                 B             C+                   C  ...   \n",
       "10                               C+              B                   C  ...   \n",
       "11                               C+              B                  C+  ...   \n",
       "12                                B             A+                  C+  ...   \n",
       "13                                B             B+                  C+  ...   \n",
       "14                                B              B                  B+  ...   \n",
       "15                               B+             A+                   B  ...   \n",
       "16                                B             A+                  C+  ...   \n",
       "17                               C+             A+                   B  ...   \n",
       "18                                B              B                   C  ...   \n",
       "19                               C+             C+                  C+  ...   \n",
       "20                                B              C                   C  ...   \n",
       "21                                B              A                   C  ...   \n",
       "22                               B+             B+                   C  ...   \n",
       "23                               B+             C+                  C+  ...   \n",
       "24                                B              F                   C  ...   \n",
       "25                                B              B                   B  ...   \n",
       "26                                B             A+                   B  ...   \n",
       "27                                B              B                  D+  ...   \n",
       "28                                B             A+                  C+  ...   \n",
       "29                               B+              B                   B  ...   \n",
       "30                                B              A                   B  ...   \n",
       "31                               C+              B                  D+  ...   \n",
       "32                                B             A+                   B  ...   \n",
       "33                               C+              B                   B  ...   \n",
       "34                                B             B+                  C+  ...   \n",
       "35                               B+             B+                  C+  ...   \n",
       "36                                B              B                  C+  ...   \n",
       "37                               C+             A+                  C+  ...   \n",
       "38                                B             C+                   B  ...   \n",
       "39                                B             C+                  C+  ...   \n",
       "40                                B              B                   B  ...   \n",
       "41                                B              C                  C+  ...   \n",
       "42                                B              B                  C+  ...   \n",
       "43                               C+             A+                   B  ...   \n",
       "44                               C+              B                  C+  ...   \n",
       "45                                B              B                  C+  ...   \n",
       "46                                B              A                   B  ...   \n",
       "47                               C+              A                  C+  ...   \n",
       "48                                B             C+                  C+  ...   \n",
       "49                                B              B                   B  ...   \n",
       "50                               C+              B                   C  ...   \n",
       "51                                B             A+                  C+  ...   \n",
       "52                               C+             C+                   C  ...   \n",
       "53                                B              B                   C  ...   \n",
       "54                                B              F                  C+  ...   \n",
       "55                               C+              B                   B  ...   \n",
       "56                                B             C+                  C+  ...   \n",
       "57                               C+              B                   C  ...   \n",
       "58                               C+              C                  D+  ...   \n",
       "59                               C+             A+                   C  ...   \n",
       "\n",
       "   Tâm lý học đại cương Đảm bảo chất lượng và Kiểm thử phần mềm Học sâu  \\\n",
       "0                   NaN                                     NaN     NaN   \n",
       "1                   NaN                                     NaN     NaN   \n",
       "2                   NaN                                     NaN     NaN   \n",
       "3                   NaN                                     NaN     NaN   \n",
       "4                   NaN                                     NaN     NaN   \n",
       "5                   NaN                                     NaN     NaN   \n",
       "6                   NaN                                     NaN     NaN   \n",
       "7                   NaN                                     NaN     NaN   \n",
       "8                   NaN                                     NaN     NaN   \n",
       "9                   NaN                                     NaN     NaN   \n",
       "10                  NaN                                     NaN     NaN   \n",
       "11                  NaN                                     NaN     NaN   \n",
       "12                  NaN                                     NaN     NaN   \n",
       "13                  NaN                                     NaN     NaN   \n",
       "14                  NaN                                     NaN     NaN   \n",
       "15                  NaN                                     NaN     NaN   \n",
       "16                  NaN                                     NaN     NaN   \n",
       "17                  NaN                                     NaN     NaN   \n",
       "18                  NaN                                     NaN     NaN   \n",
       "19                  NaN                                     NaN     NaN   \n",
       "20                  NaN                                     NaN     NaN   \n",
       "21                  NaN                                     NaN     NaN   \n",
       "22                  NaN                                     NaN     NaN   \n",
       "23                  NaN                                     NaN     NaN   \n",
       "24                  NaN                                     NaN     NaN   \n",
       "25                  NaN                                     NaN     NaN   \n",
       "26                  NaN                                     NaN     NaN   \n",
       "27                  NaN                                     NaN     NaN   \n",
       "28                  NaN                                     NaN     NaN   \n",
       "29                  NaN                                     NaN     NaN   \n",
       "30                  NaN                                     NaN     NaN   \n",
       "31                  NaN                                     NaN     NaN   \n",
       "32                  NaN                                     NaN     NaN   \n",
       "33                  NaN                                     NaN     NaN   \n",
       "34                  NaN                                     NaN     NaN   \n",
       "35                  NaN                                     NaN     NaN   \n",
       "36                  NaN                                     NaN     NaN   \n",
       "37                  NaN                                     NaN     NaN   \n",
       "38                  NaN                                     NaN     NaN   \n",
       "39                  NaN                                     NaN     NaN   \n",
       "40                  NaN                                     NaN     NaN   \n",
       "41                  NaN                                     NaN     NaN   \n",
       "42                  NaN                                     NaN     NaN   \n",
       "43                  NaN                                     NaN     NaN   \n",
       "44                  NaN                                     NaN     NaN   \n",
       "45                  NaN                                     NaN     NaN   \n",
       "46                  NaN                                     NaN     NaN   \n",
       "47                  NaN                                     NaN     NaN   \n",
       "48                  NaN                                     NaN     NaN   \n",
       "49                  NaN                                     NaN     NaN   \n",
       "50                  NaN                                     NaN     NaN   \n",
       "51                  NaN                                     NaN     NaN   \n",
       "52                  NaN                                     NaN     NaN   \n",
       "53                  NaN                                     NaN     NaN   \n",
       "54                  NaN                                     NaN     NaN   \n",
       "55                  NaN                                     NaN     NaN   \n",
       "56                  NaN                                     NaN     NaN   \n",
       "57                  NaN                                     NaN     NaN   \n",
       "58                  NaN                                     NaN     NaN   \n",
       "59                  NaN                                     NaN     NaN   \n",
       "\n",
       "    Tiếng Việt thực hành Thị giác máy tính  Phân tích dữ liệu Bayesian  \\\n",
       "0                    NaN               NaN                         NaN   \n",
       "1                    NaN               NaN                         NaN   \n",
       "2                    NaN               NaN                         NaN   \n",
       "3                    NaN               NaN                         NaN   \n",
       "4                    NaN               NaN                         NaN   \n",
       "5                    NaN               NaN                         NaN   \n",
       "6                    NaN               NaN                         NaN   \n",
       "7                    NaN               NaN                         NaN   \n",
       "8                    NaN               NaN                         NaN   \n",
       "9                    NaN               NaN                         NaN   \n",
       "10                   NaN               NaN                         NaN   \n",
       "11                   NaN               NaN                         NaN   \n",
       "12                   NaN               NaN                         NaN   \n",
       "13                   NaN               NaN                         NaN   \n",
       "14                   NaN               NaN                         NaN   \n",
       "15                   NaN               NaN                         NaN   \n",
       "16                   NaN               NaN                         NaN   \n",
       "17                   NaN               NaN                         NaN   \n",
       "18                   NaN               NaN                         NaN   \n",
       "19                   NaN               NaN                         NaN   \n",
       "20                   NaN               NaN                         NaN   \n",
       "21                   NaN               NaN                         NaN   \n",
       "22                   NaN               NaN                         NaN   \n",
       "23                   NaN               NaN                         NaN   \n",
       "24                   NaN               NaN                         NaN   \n",
       "25                   NaN               NaN                         NaN   \n",
       "26                   NaN               NaN                         NaN   \n",
       "27                   NaN               NaN                         NaN   \n",
       "28                   NaN               NaN                         NaN   \n",
       "29                   NaN               NaN                         NaN   \n",
       "30                   NaN               NaN                         NaN   \n",
       "31                   NaN               NaN                         NaN   \n",
       "32                   NaN               NaN                         NaN   \n",
       "33                   NaN               NaN                         NaN   \n",
       "34                   NaN               NaN                         NaN   \n",
       "35                   NaN               NaN                         NaN   \n",
       "36                   NaN               NaN                         NaN   \n",
       "37                   NaN               NaN                         NaN   \n",
       "38                   NaN               NaN                         NaN   \n",
       "39                   NaN               NaN                         NaN   \n",
       "40                   NaN               NaN                         NaN   \n",
       "41                   NaN               NaN                         NaN   \n",
       "42                   NaN               NaN                         NaN   \n",
       "43                   NaN               NaN                         NaN   \n",
       "44                   NaN               NaN                         NaN   \n",
       "45                   NaN               NaN                         NaN   \n",
       "46                   NaN               NaN                         NaN   \n",
       "47                   NaN               NaN                         NaN   \n",
       "48                   NaN               NaN                         NaN   \n",
       "49                   NaN               NaN                         NaN   \n",
       "50                   NaN               NaN                         NaN   \n",
       "51                   NaN               NaN                         NaN   \n",
       "52                   NaN               NaN                         NaN   \n",
       "53                   NaN               NaN                         NaN   \n",
       "54                   NaN               NaN                         NaN   \n",
       "55                   NaN               NaN                         NaN   \n",
       "56                   NaN               NaN                         NaN   \n",
       "57                   NaN               NaN                         NaN   \n",
       "58                   NaN               NaN                         NaN   \n",
       "59                   NaN               NaN                         NaN   \n",
       "\n",
       "    Phân tích kinh doanh Giải tích ngẫu nhiên cho tài chính  \\\n",
       "0                    NaN                                NaN   \n",
       "1                    NaN                                NaN   \n",
       "2                    NaN                                NaN   \n",
       "3                    NaN                                NaN   \n",
       "4                    NaN                                NaN   \n",
       "5                    NaN                                NaN   \n",
       "6                    NaN                                NaN   \n",
       "7                    NaN                                NaN   \n",
       "8                    NaN                                NaN   \n",
       "9                    NaN                                NaN   \n",
       "10                   NaN                                NaN   \n",
       "11                   NaN                                NaN   \n",
       "12                   NaN                                NaN   \n",
       "13                   NaN                                NaN   \n",
       "14                   NaN                                NaN   \n",
       "15                   NaN                                NaN   \n",
       "16                   NaN                                NaN   \n",
       "17                   NaN                                NaN   \n",
       "18                   NaN                                NaN   \n",
       "19                   NaN                                NaN   \n",
       "20                   NaN                                NaN   \n",
       "21                   NaN                                NaN   \n",
       "22                   NaN                                NaN   \n",
       "23                   NaN                                NaN   \n",
       "24                   NaN                                NaN   \n",
       "25                   NaN                                NaN   \n",
       "26                   NaN                                NaN   \n",
       "27                   NaN                                NaN   \n",
       "28                   NaN                                NaN   \n",
       "29                   NaN                                NaN   \n",
       "30                   NaN                                NaN   \n",
       "31                   NaN                                NaN   \n",
       "32                   NaN                                NaN   \n",
       "33                   NaN                                NaN   \n",
       "34                   NaN                                NaN   \n",
       "35                   NaN                                NaN   \n",
       "36                   NaN                                NaN   \n",
       "37                   NaN                                NaN   \n",
       "38                   NaN                                NaN   \n",
       "39                   NaN                                NaN   \n",
       "40                   NaN                                NaN   \n",
       "41                   NaN                                NaN   \n",
       "42                   NaN                                NaN   \n",
       "43                   NaN                                NaN   \n",
       "44                   NaN                                NaN   \n",
       "45                   NaN                                NaN   \n",
       "46                   NaN                                NaN   \n",
       "47                   NaN                                NaN   \n",
       "48                   NaN                                NaN   \n",
       "49                   NaN                                NaN   \n",
       "50                   NaN                                NaN   \n",
       "51                   NaN                                NaN   \n",
       "52                   NaN                                NaN   \n",
       "53                   NaN                                NaN   \n",
       "54                   NaN                                NaN   \n",
       "55                   NaN                                NaN   \n",
       "56                   NaN                                NaN   \n",
       "57                   NaN                                NaN   \n",
       "58                   NaN                                NaN   \n",
       "59                   NaN                                NaN   \n",
       "\n",
       "    Chứng chỉ TOEIC 450 Khóa luận tốt nghiệp  \n",
       "0                   NaN                  NaN  \n",
       "1                   NaN                  NaN  \n",
       "2                   NaN                  NaN  \n",
       "3                   NaN                  NaN  \n",
       "4                   NaN                  NaN  \n",
       "5                   NaN                  NaN  \n",
       "6                   NaN                  NaN  \n",
       "7                   NaN                  NaN  \n",
       "8                   NaN                  NaN  \n",
       "9                   NaN                  NaN  \n",
       "10                  NaN                  NaN  \n",
       "11                  NaN                  NaN  \n",
       "12                  NaN                  NaN  \n",
       "13                  NaN                  NaN  \n",
       "14                  NaN                  NaN  \n",
       "15                  NaN                  NaN  \n",
       "16                  NaN                  NaN  \n",
       "17                  NaN                  NaN  \n",
       "18                  NaN                  NaN  \n",
       "19                  NaN                  NaN  \n",
       "20                  NaN                  NaN  \n",
       "21                  NaN                  NaN  \n",
       "22                  NaN                  NaN  \n",
       "23                  NaN                  NaN  \n",
       "24                  NaN                  NaN  \n",
       "25                  NaN                  NaN  \n",
       "26                  NaN                  NaN  \n",
       "27                  NaN                  NaN  \n",
       "28                  NaN                  NaN  \n",
       "29                  NaN                  NaN  \n",
       "30                  NaN                  NaN  \n",
       "31                  NaN                  NaN  \n",
       "32                  NaN                  NaN  \n",
       "33                  NaN                  NaN  \n",
       "34                  NaN                  NaN  \n",
       "35                  NaN                  NaN  \n",
       "36                  NaN                  NaN  \n",
       "37                  NaN                  NaN  \n",
       "38                  NaN                  NaN  \n",
       "39                  NaN                  NaN  \n",
       "40                  NaN                  NaN  \n",
       "41                  NaN                  NaN  \n",
       "42                  NaN                  NaN  \n",
       "43                  NaN                  NaN  \n",
       "44                  NaN                  NaN  \n",
       "45                  NaN                  NaN  \n",
       "46                  NaN                  NaN  \n",
       "47                  NaN                  NaN  \n",
       "48                  NaN                  NaN  \n",
       "49                  NaN                  NaN  \n",
       "50                  NaN                  NaN  \n",
       "51                  NaN                  NaN  \n",
       "52                  NaN                  NaN  \n",
       "53                  NaN                  NaN  \n",
       "54                  NaN                  NaN  \n",
       "55                  NaN                  NaN  \n",
       "56                  NaN                  NaN  \n",
       "57                  NaN                  NaN  \n",
       "58                  NaN                  NaN  \n",
       "59                  NaN                  NaN  \n",
       "\n",
       "[60 rows x 84 columns]"
      ],
      "text/html": "<div>\n<style scoped>\n    .dataframe tbody tr th:only-of-type {\n        vertical-align: middle;\n    }\n\n    .dataframe tbody tr th {\n        vertical-align: top;\n    }\n\n    .dataframe thead th {\n        text-align: right;\n    }\n</style>\n<table border=\"1\" class=\"dataframe\">\n  <thead>\n    <tr style=\"text-align: right;\">\n      <th></th>\n      <th>STT</th>\n      <th>Mã sinh viên</th>\n      <th>Họ và tên</th>\n      <th>Họ đệm</th>\n      <th>Tên</th>\n      <th>Những nguyên lý cơ bản của Chủ nghĩa Mác - Lênin</th>\n      <th>Nhập môn Tin học</th>\n      <th>Giáo dục Quốc phòng và An ninh 1</th>\n      <th>Toán cao cấp 1</th>\n      <th>Giáo dục thể chất 1</th>\n      <th>...</th>\n      <th>Tâm lý học đại cương</th>\n      <th>Đảm bảo chất lượng và Kiểm thử phần mềm</th>\n      <th>Học sâu</th>\n      <th>Tiếng Việt thực hành</th>\n      <th>Thị giác máy tính</th>\n      <th>Phân tích dữ liệu Bayesian</th>\n      <th>Phân tích kinh doanh</th>\n      <th>Giải tích ngẫu nhiên cho tài chính</th>\n      <th>Chứng chỉ TOEIC 450</th>\n      <th>Khóa luận tốt nghiệp</th>\n    </tr>\n  </thead>\n  <tbody>\n    <tr>\n      <th>0</th>\n      <td>1.0</td>\n      <td>19489471.0</td>\n      <td>Đinh Tuấn Anh</td>\n      <td>Đinh Tuấn</td>\n      <td>Anh</td>\n      <td>D+</td>\n      <td>B+</td>\n      <td>B</td>\n      <td>A</td>\n      <td>C+</td>\n      <td>...</td>\n      <td>NaN</td>\n      <td>NaN</td>\n      <td>NaN</td>\n      <td>NaN</td>\n      <td>NaN</td>\n      <td>NaN</td>\n      <td>NaN</td>\n      <td>NaN</td>\n      <td>NaN</td>\n      <td>NaN</td>\n    </tr>\n    <tr>\n      <th>1</th>\n      <td>2.0</td>\n      <td>19442001.0</td>\n      <td>Hà Bảo Anh</td>\n      <td>Hà Bảo</td>\n      <td>Anh</td>\n      <td>D+</td>\n      <td>C+</td>\n      <td>B</td>\n      <td>B</td>\n      <td>B</td>\n      <td>...</td>\n      <td>NaN</td>\n      <td>NaN</td>\n      <td>NaN</td>\n      <td>NaN</td>\n      <td>NaN</td>\n      <td>NaN</td>\n      <td>NaN</td>\n      <td>NaN</td>\n      <td>NaN</td>\n      <td>NaN</td>\n    </tr>\n    <tr>\n      <th>2</th>\n      <td>3.0</td>\n      <td>19478881.0</td>\n      <td>Lưu Đức Anh</td>\n      <td>Lưu Đức</td>\n      <td>Anh</td>\n      <td>C</td>\n      <td>B</td>\n      <td>B</td>\n      <td>B+</td>\n      <td>C+</td>\n      <td>...</td>\n      <td>NaN</td>\n      <td>NaN</td>\n      <td>NaN</td>\n      <td>NaN</td>\n      <td>NaN</td>\n      <td>NaN</td>\n      <td>NaN</td>\n      <td>NaN</td>\n      <td>NaN</td>\n      <td>NaN</td>\n    </tr>\n    <tr>\n      <th>3</th>\n      <td>4.0</td>\n      <td>19506751.0</td>\n      <td>Trần Nam Bá</td>\n      <td>Trần Nam</td>\n      <td>Bá</td>\n      <td>C+</td>\n      <td>B</td>\n      <td>C+</td>\n      <td>A</td>\n      <td>C+</td>\n      <td>...</td>\n      <td>NaN</td>\n      <td>NaN</td>\n      <td>NaN</td>\n      <td>NaN</td>\n      <td>NaN</td>\n      <td>NaN</td>\n      <td>NaN</td>\n      <td>NaN</td>\n      <td>NaN</td>\n      <td>NaN</td>\n    </tr>\n    <tr>\n      <th>4</th>\n      <td>5.0</td>\n      <td>19487461.0</td>\n      <td>Ngô Đức Bảo</td>\n      <td>Ngô Đức</td>\n      <td>Bảo</td>\n      <td>D+</td>\n      <td>B</td>\n      <td>B</td>\n      <td>A+</td>\n      <td>D+</td>\n      <td>...</td>\n      <td>NaN</td>\n      <td>NaN</td>\n      <td>NaN</td>\n      <td>NaN</td>\n      <td>NaN</td>\n      <td>NaN</td>\n      <td>NaN</td>\n      <td>NaN</td>\n      <td>NaN</td>\n      <td>NaN</td>\n    </tr>\n    <tr>\n      <th>5</th>\n      <td>6.0</td>\n      <td>19514491.0</td>\n      <td>Trịnh Thị Bảo Bảo</td>\n      <td>Trịnh Thị Bảo</td>\n      <td>Bảo</td>\n      <td>C+</td>\n      <td>B</td>\n      <td>B+</td>\n      <td>A</td>\n      <td>B</td>\n      <td>...</td>\n      <td>NaN</td>\n      <td>NaN</td>\n      <td>NaN</td>\n      <td>NaN</td>\n      <td>NaN</td>\n      <td>NaN</td>\n      <td>NaN</td>\n      <td>NaN</td>\n      <td>NaN</td>\n      <td>NaN</td>\n    </tr>\n    <tr>\n      <th>6</th>\n      <td>7.0</td>\n      <td>19498401.0</td>\n      <td>Đỗ Xuân Đức Chung</td>\n      <td>Đỗ Xuân Đức</td>\n      <td>Chung</td>\n      <td>D+</td>\n      <td>NaN</td>\n      <td>B</td>\n      <td>D+</td>\n      <td>C+</td>\n      <td>...</td>\n      <td>NaN</td>\n      <td>NaN</td>\n      <td>NaN</td>\n      <td>NaN</td>\n      <td>NaN</td>\n      <td>NaN</td>\n      <td>NaN</td>\n      <td>NaN</td>\n      <td>NaN</td>\n      <td>NaN</td>\n    </tr>\n    <tr>\n      <th>7</th>\n      <td>8.0</td>\n      <td>19442481.0</td>\n      <td>Phạm Tài Đức Phú Đa</td>\n      <td>Phạm Tài Đức Phú</td>\n      <td>Đa</td>\n      <td>D+</td>\n      <td>C+</td>\n      <td>B</td>\n      <td>A</td>\n      <td>C</td>\n      <td>...</td>\n      <td>NaN</td>\n      <td>NaN</td>\n      <td>NaN</td>\n      <td>NaN</td>\n      <td>NaN</td>\n      <td>NaN</td>\n      <td>NaN</td>\n      <td>NaN</td>\n      <td>NaN</td>\n      <td>NaN</td>\n    </tr>\n    <tr>\n      <th>8</th>\n      <td>9.0</td>\n      <td>19463951.0</td>\n      <td>Lê Tấn Đạt</td>\n      <td>Lê Tấn</td>\n      <td>Đạt</td>\n      <td>C</td>\n      <td>C</td>\n      <td>D+</td>\n      <td>D</td>\n      <td>D+</td>\n      <td>...</td>\n      <td>NaN</td>\n      <td>NaN</td>\n      <td>NaN</td>\n      <td>NaN</td>\n      <td>NaN</td>\n      <td>NaN</td>\n      <td>NaN</td>\n      <td>NaN</td>\n      <td>NaN</td>\n      <td>NaN</td>\n    </tr>\n    <tr>\n      <th>9</th>\n      <td>10.0</td>\n      <td>19500311.0</td>\n      <td>Phạm Hà Văn Đông</td>\n      <td>Phạm Hà Văn</td>\n      <td>Đông</td>\n      <td>D+</td>\n      <td>NaN</td>\n      <td>B</td>\n      <td>C+</td>\n      <td>C</td>\n      <td>...</td>\n      <td>NaN</td>\n      <td>NaN</td>\n      <td>NaN</td>\n      <td>NaN</td>\n      <td>NaN</td>\n      <td>NaN</td>\n      <td>NaN</td>\n      <td>NaN</td>\n      <td>NaN</td>\n      <td>NaN</td>\n    </tr>\n    <tr>\n      <th>10</th>\n      <td>11.0</td>\n      <td>19469091.0</td>\n      <td>Trịnh Ngọc Đức</td>\n      <td>Trịnh Ngọc</td>\n      <td>Đức</td>\n      <td>C</td>\n      <td>B</td>\n      <td>C+</td>\n      <td>B</td>\n      <td>C</td>\n      <td>...</td>\n      <td>NaN</td>\n      <td>NaN</td>\n      <td>NaN</td>\n      <td>NaN</td>\n      <td>NaN</td>\n      <td>NaN</td>\n      <td>NaN</td>\n      <td>NaN</td>\n      <td>NaN</td>\n      <td>NaN</td>\n    </tr>\n    <tr>\n      <th>11</th>\n      <td>12.0</td>\n      <td>19498561.0</td>\n      <td>Tăng Hoài Duy</td>\n      <td>Tăng Hoài</td>\n      <td>Duy</td>\n      <td>C</td>\n      <td>C+</td>\n      <td>C+</td>\n      <td>B</td>\n      <td>C+</td>\n      <td>...</td>\n      <td>NaN</td>\n      <td>NaN</td>\n      <td>NaN</td>\n      <td>NaN</td>\n      <td>NaN</td>\n      <td>NaN</td>\n      <td>NaN</td>\n      <td>NaN</td>\n      <td>NaN</td>\n      <td>NaN</td>\n    </tr>\n    <tr>\n      <th>12</th>\n      <td>13.0</td>\n      <td>19527801.0</td>\n      <td>Thái Thị Hiền</td>\n      <td>Thái Thị</td>\n      <td>Hiền</td>\n      <td>C+</td>\n      <td>C+</td>\n      <td>B</td>\n      <td>A+</td>\n      <td>C+</td>\n      <td>...</td>\n      <td>NaN</td>\n      <td>NaN</td>\n      <td>NaN</td>\n      <td>NaN</td>\n      <td>NaN</td>\n      <td>NaN</td>\n      <td>NaN</td>\n      <td>NaN</td>\n      <td>NaN</td>\n      <td>NaN</td>\n    </tr>\n    <tr>\n      <th>13</th>\n      <td>14.0</td>\n      <td>19529741.0</td>\n      <td>Phạm Thế Hiển</td>\n      <td>Phạm Thế</td>\n      <td>Hiển</td>\n      <td>C+</td>\n      <td>C</td>\n      <td>B</td>\n      <td>B+</td>\n      <td>C+</td>\n      <td>...</td>\n      <td>NaN</td>\n      <td>NaN</td>\n      <td>NaN</td>\n      <td>NaN</td>\n      <td>NaN</td>\n      <td>NaN</td>\n      <td>NaN</td>\n      <td>NaN</td>\n      <td>NaN</td>\n      <td>NaN</td>\n    </tr>\n    <tr>\n      <th>14</th>\n      <td>15.0</td>\n      <td>19441341.0</td>\n      <td>Trần Minh Hiếu</td>\n      <td>Trần Minh</td>\n      <td>Hiếu</td>\n      <td>C</td>\n      <td>B</td>\n      <td>B</td>\n      <td>B</td>\n      <td>B+</td>\n      <td>...</td>\n      <td>NaN</td>\n      <td>NaN</td>\n      <td>NaN</td>\n      <td>NaN</td>\n      <td>NaN</td>\n      <td>NaN</td>\n      <td>NaN</td>\n      <td>NaN</td>\n      <td>NaN</td>\n      <td>NaN</td>\n    </tr>\n    <tr>\n      <th>15</th>\n      <td>16.0</td>\n      <td>19429041.0</td>\n      <td>Nguyễn Thị Thanh Hòa</td>\n      <td>Nguyễn Thị Thanh</td>\n      <td>Hòa</td>\n      <td>D</td>\n      <td>C</td>\n      <td>B+</td>\n      <td>A+</td>\n      <td>B</td>\n      <td>...</td>\n      <td>NaN</td>\n      <td>NaN</td>\n      <td>NaN</td>\n      <td>NaN</td>\n      <td>NaN</td>\n      <td>NaN</td>\n      <td>NaN</td>\n      <td>NaN</td>\n      <td>NaN</td>\n      <td>NaN</td>\n    </tr>\n    <tr>\n      <th>16</th>\n      <td>17.0</td>\n      <td>19477071.0</td>\n      <td>Ngô Quốc Hoàng</td>\n      <td>Ngô Quốc</td>\n      <td>Hoàng</td>\n      <td>B</td>\n      <td>B</td>\n      <td>B</td>\n      <td>A+</td>\n      <td>C+</td>\n      <td>...</td>\n      <td>NaN</td>\n      <td>NaN</td>\n      <td>NaN</td>\n      <td>NaN</td>\n      <td>NaN</td>\n      <td>NaN</td>\n      <td>NaN</td>\n      <td>NaN</td>\n      <td>NaN</td>\n      <td>NaN</td>\n    </tr>\n    <tr>\n      <th>17</th>\n      <td>18.0</td>\n      <td>19443561.0</td>\n      <td>Hồ Quang Huy</td>\n      <td>Hồ Quang</td>\n      <td>Huy</td>\n      <td>C</td>\n      <td>B+</td>\n      <td>C+</td>\n      <td>A+</td>\n      <td>B</td>\n      <td>...</td>\n      <td>NaN</td>\n      <td>NaN</td>\n      <td>NaN</td>\n      <td>NaN</td>\n      <td>NaN</td>\n      <td>NaN</td>\n      <td>NaN</td>\n      <td>NaN</td>\n      <td>NaN</td>\n      <td>NaN</td>\n    </tr>\n    <tr>\n      <th>18</th>\n      <td>19.0</td>\n      <td>19529041.0</td>\n      <td>Lương Quang Khải</td>\n      <td>Lương Quang</td>\n      <td>Khải</td>\n      <td>C</td>\n      <td>C+</td>\n      <td>B</td>\n      <td>B</td>\n      <td>C</td>\n      <td>...</td>\n      <td>NaN</td>\n      <td>NaN</td>\n      <td>NaN</td>\n      <td>NaN</td>\n      <td>NaN</td>\n      <td>NaN</td>\n      <td>NaN</td>\n      <td>NaN</td>\n      <td>NaN</td>\n      <td>NaN</td>\n    </tr>\n    <tr>\n      <th>19</th>\n      <td>20.0</td>\n      <td>19526961.0</td>\n      <td>Phạm Hoàng Duy Khang</td>\n      <td>Phạm Hoàng Duy</td>\n      <td>Khang</td>\n      <td>C+</td>\n      <td>C</td>\n      <td>C+</td>\n      <td>C+</td>\n      <td>C+</td>\n      <td>...</td>\n      <td>NaN</td>\n      <td>NaN</td>\n      <td>NaN</td>\n      <td>NaN</td>\n      <td>NaN</td>\n      <td>NaN</td>\n      <td>NaN</td>\n      <td>NaN</td>\n      <td>NaN</td>\n      <td>NaN</td>\n    </tr>\n    <tr>\n      <th>20</th>\n      <td>21.0</td>\n      <td>19525231.0</td>\n      <td>Lê Mỹ Thanh Lành</td>\n      <td>Lê Mỹ Thanh</td>\n      <td>Lành</td>\n      <td>D+</td>\n      <td>B</td>\n      <td>B</td>\n      <td>C</td>\n      <td>C</td>\n      <td>...</td>\n      <td>NaN</td>\n      <td>NaN</td>\n      <td>NaN</td>\n      <td>NaN</td>\n      <td>NaN</td>\n      <td>NaN</td>\n      <td>NaN</td>\n      <td>NaN</td>\n      <td>NaN</td>\n      <td>NaN</td>\n    </tr>\n    <tr>\n      <th>21</th>\n      <td>22.0</td>\n      <td>19500551.0</td>\n      <td>Trần Hồ Phi Long</td>\n      <td>Trần Hồ Phi</td>\n      <td>Long</td>\n      <td>C+</td>\n      <td>B</td>\n      <td>B</td>\n      <td>A</td>\n      <td>C</td>\n      <td>...</td>\n      <td>NaN</td>\n      <td>NaN</td>\n      <td>NaN</td>\n      <td>NaN</td>\n      <td>NaN</td>\n      <td>NaN</td>\n      <td>NaN</td>\n      <td>NaN</td>\n      <td>NaN</td>\n      <td>NaN</td>\n    </tr>\n    <tr>\n      <th>22</th>\n      <td>23.0</td>\n      <td>19532211.0</td>\n      <td>Trương Thị Cẩm Ly</td>\n      <td>Trương Thị Cẩm</td>\n      <td>Ly</td>\n      <td>C+</td>\n      <td>C+</td>\n      <td>B+</td>\n      <td>B+</td>\n      <td>C</td>\n      <td>...</td>\n      <td>NaN</td>\n      <td>NaN</td>\n      <td>NaN</td>\n      <td>NaN</td>\n      <td>NaN</td>\n      <td>NaN</td>\n      <td>NaN</td>\n      <td>NaN</td>\n      <td>NaN</td>\n      <td>NaN</td>\n    </tr>\n    <tr>\n      <th>23</th>\n      <td>24.0</td>\n      <td>19502841.0</td>\n      <td>Quách Trọng Nghĩa</td>\n      <td>Quách Trọng</td>\n      <td>Nghĩa</td>\n      <td>C</td>\n      <td>C+</td>\n      <td>B+</td>\n      <td>C+</td>\n      <td>C+</td>\n      <td>...</td>\n      <td>NaN</td>\n      <td>NaN</td>\n      <td>NaN</td>\n      <td>NaN</td>\n      <td>NaN</td>\n      <td>NaN</td>\n      <td>NaN</td>\n      <td>NaN</td>\n      <td>NaN</td>\n      <td>NaN</td>\n    </tr>\n    <tr>\n      <th>24</th>\n      <td>25.0</td>\n      <td>19499101.0</td>\n      <td>Nguyễn Thành Nhân</td>\n      <td>Nguyễn Thành</td>\n      <td>Nhân</td>\n      <td>D</td>\n      <td>B</td>\n      <td>B</td>\n      <td>F</td>\n      <td>C</td>\n      <td>...</td>\n      <td>NaN</td>\n      <td>NaN</td>\n      <td>NaN</td>\n      <td>NaN</td>\n      <td>NaN</td>\n      <td>NaN</td>\n      <td>NaN</td>\n      <td>NaN</td>\n      <td>NaN</td>\n      <td>NaN</td>\n    </tr>\n    <tr>\n      <th>25</th>\n      <td>26.0</td>\n      <td>19440221.0</td>\n      <td>Nguyễn Văn Phúc Nhân</td>\n      <td>Nguyễn Văn Phúc</td>\n      <td>Nhân</td>\n      <td>C+</td>\n      <td>B</td>\n      <td>B</td>\n      <td>B</td>\n      <td>B</td>\n      <td>...</td>\n      <td>NaN</td>\n      <td>NaN</td>\n      <td>NaN</td>\n      <td>NaN</td>\n      <td>NaN</td>\n      <td>NaN</td>\n      <td>NaN</td>\n      <td>NaN</td>\n      <td>NaN</td>\n      <td>NaN</td>\n    </tr>\n    <tr>\n      <th>26</th>\n      <td>27.0</td>\n      <td>19522491.0</td>\n      <td>Lưu Thị Yến Nhi</td>\n      <td>Lưu Thị Yến</td>\n      <td>Nhi</td>\n      <td>B</td>\n      <td>B</td>\n      <td>B</td>\n      <td>A+</td>\n      <td>B</td>\n      <td>...</td>\n      <td>NaN</td>\n      <td>NaN</td>\n      <td>NaN</td>\n      <td>NaN</td>\n      <td>NaN</td>\n      <td>NaN</td>\n      <td>NaN</td>\n      <td>NaN</td>\n      <td>NaN</td>\n      <td>NaN</td>\n    </tr>\n    <tr>\n      <th>27</th>\n      <td>28.0</td>\n      <td>19469351.0</td>\n      <td>Lê Huy Phát</td>\n      <td>Lê Huy</td>\n      <td>Phát</td>\n      <td>C</td>\n      <td>C</td>\n      <td>B</td>\n      <td>B</td>\n      <td>D+</td>\n      <td>...</td>\n      <td>NaN</td>\n      <td>NaN</td>\n      <td>NaN</td>\n      <td>NaN</td>\n      <td>NaN</td>\n      <td>NaN</td>\n      <td>NaN</td>\n      <td>NaN</td>\n      <td>NaN</td>\n      <td>NaN</td>\n    </tr>\n    <tr>\n      <th>28</th>\n      <td>29.0</td>\n      <td>19475611.0</td>\n      <td>Lê Thanh Phong</td>\n      <td>Lê Thanh</td>\n      <td>Phong</td>\n      <td>B</td>\n      <td>B+</td>\n      <td>B</td>\n      <td>A+</td>\n      <td>C+</td>\n      <td>...</td>\n      <td>NaN</td>\n      <td>NaN</td>\n      <td>NaN</td>\n      <td>NaN</td>\n      <td>NaN</td>\n      <td>NaN</td>\n      <td>NaN</td>\n      <td>NaN</td>\n      <td>NaN</td>\n      <td>NaN</td>\n    </tr>\n    <tr>\n      <th>29</th>\n      <td>30.0</td>\n      <td>19469121.0</td>\n      <td>Phan Nguyễn Mai Phương</td>\n      <td>Phan Nguyễn Mai</td>\n      <td>Phương</td>\n      <td>B+</td>\n      <td>B</td>\n      <td>B+</td>\n      <td>B</td>\n      <td>B</td>\n      <td>...</td>\n      <td>NaN</td>\n      <td>NaN</td>\n      <td>NaN</td>\n      <td>NaN</td>\n      <td>NaN</td>\n      <td>NaN</td>\n      <td>NaN</td>\n      <td>NaN</td>\n      <td>NaN</td>\n      <td>NaN</td>\n    </tr>\n    <tr>\n      <th>30</th>\n      <td>31.0</td>\n      <td>19495101.0</td>\n      <td>Vũ Minh Quang</td>\n      <td>Vũ Minh</td>\n      <td>Quang</td>\n      <td>C+</td>\n      <td>B</td>\n      <td>B</td>\n      <td>A</td>\n      <td>B</td>\n      <td>...</td>\n      <td>NaN</td>\n      <td>NaN</td>\n      <td>NaN</td>\n      <td>NaN</td>\n      <td>NaN</td>\n      <td>NaN</td>\n      <td>NaN</td>\n      <td>NaN</td>\n      <td>NaN</td>\n      <td>NaN</td>\n    </tr>\n    <tr>\n      <th>31</th>\n      <td>32.0</td>\n      <td>19477141.0</td>\n      <td>Nguyễn Quang Quốc</td>\n      <td>Nguyễn Quang</td>\n      <td>Quốc</td>\n      <td>C</td>\n      <td>D+</td>\n      <td>C+</td>\n      <td>B</td>\n      <td>D+</td>\n      <td>...</td>\n      <td>NaN</td>\n      <td>NaN</td>\n      <td>NaN</td>\n      <td>NaN</td>\n      <td>NaN</td>\n      <td>NaN</td>\n      <td>NaN</td>\n      <td>NaN</td>\n      <td>NaN</td>\n      <td>NaN</td>\n    </tr>\n    <tr>\n      <th>32</th>\n      <td>33.0</td>\n      <td>19495031.0</td>\n      <td>Dương Văn Sang</td>\n      <td>Dương Văn</td>\n      <td>Sang</td>\n      <td>D+</td>\n      <td>B</td>\n      <td>B</td>\n      <td>A+</td>\n      <td>B</td>\n      <td>...</td>\n      <td>NaN</td>\n      <td>NaN</td>\n      <td>NaN</td>\n      <td>NaN</td>\n      <td>NaN</td>\n      <td>NaN</td>\n      <td>NaN</td>\n      <td>NaN</td>\n      <td>NaN</td>\n      <td>NaN</td>\n    </tr>\n    <tr>\n      <th>33</th>\n      <td>34.0</td>\n      <td>19477821.0</td>\n      <td>Nguyễn Tuấn Sinh</td>\n      <td>Nguyễn Tuấn</td>\n      <td>Sinh</td>\n      <td>B</td>\n      <td>B</td>\n      <td>C+</td>\n      <td>B</td>\n      <td>B</td>\n      <td>...</td>\n      <td>NaN</td>\n      <td>NaN</td>\n      <td>NaN</td>\n      <td>NaN</td>\n      <td>NaN</td>\n      <td>NaN</td>\n      <td>NaN</td>\n      <td>NaN</td>\n      <td>NaN</td>\n      <td>NaN</td>\n    </tr>\n    <tr>\n      <th>34</th>\n      <td>35.0</td>\n      <td>19518291.0</td>\n      <td>Phạm Trung Sơn</td>\n      <td>Phạm Trung</td>\n      <td>Sơn</td>\n      <td>D+</td>\n      <td>B</td>\n      <td>B</td>\n      <td>B+</td>\n      <td>C+</td>\n      <td>...</td>\n      <td>NaN</td>\n      <td>NaN</td>\n      <td>NaN</td>\n      <td>NaN</td>\n      <td>NaN</td>\n      <td>NaN</td>\n      <td>NaN</td>\n      <td>NaN</td>\n      <td>NaN</td>\n      <td>NaN</td>\n    </tr>\n    <tr>\n      <th>35</th>\n      <td>36.0</td>\n      <td>19440181.0</td>\n      <td>Nguyễn Tiến Sỹ</td>\n      <td>Nguyễn Tiến</td>\n      <td>Sỹ</td>\n      <td>C</td>\n      <td>C+</td>\n      <td>B+</td>\n      <td>B+</td>\n      <td>C+</td>\n      <td>...</td>\n      <td>NaN</td>\n      <td>NaN</td>\n      <td>NaN</td>\n      <td>NaN</td>\n      <td>NaN</td>\n      <td>NaN</td>\n      <td>NaN</td>\n      <td>NaN</td>\n      <td>NaN</td>\n      <td>NaN</td>\n    </tr>\n    <tr>\n      <th>36</th>\n      <td>37.0</td>\n      <td>19495751.0</td>\n      <td>Văn Sỹ</td>\n      <td>Văn</td>\n      <td>Sỹ</td>\n      <td>D</td>\n      <td>B</td>\n      <td>B</td>\n      <td>B</td>\n      <td>C+</td>\n      <td>...</td>\n      <td>NaN</td>\n      <td>NaN</td>\n      <td>NaN</td>\n      <td>NaN</td>\n      <td>NaN</td>\n      <td>NaN</td>\n      <td>NaN</td>\n      <td>NaN</td>\n      <td>NaN</td>\n      <td>NaN</td>\n    </tr>\n    <tr>\n      <th>37</th>\n      <td>38.0</td>\n      <td>19445631.0</td>\n      <td>Lê Duy Tâm</td>\n      <td>Lê Duy</td>\n      <td>Tâm</td>\n      <td>D</td>\n      <td>B</td>\n      <td>C+</td>\n      <td>A+</td>\n      <td>C+</td>\n      <td>...</td>\n      <td>NaN</td>\n      <td>NaN</td>\n      <td>NaN</td>\n      <td>NaN</td>\n      <td>NaN</td>\n      <td>NaN</td>\n      <td>NaN</td>\n      <td>NaN</td>\n      <td>NaN</td>\n      <td>NaN</td>\n    </tr>\n    <tr>\n      <th>38</th>\n      <td>39.0</td>\n      <td>19502821.0</td>\n      <td>Phan Nguyễn Trọng Tân</td>\n      <td>Phan Nguyễn Trọng</td>\n      <td>Tân</td>\n      <td>C+</td>\n      <td>C+</td>\n      <td>B</td>\n      <td>C+</td>\n      <td>B</td>\n      <td>...</td>\n      <td>NaN</td>\n      <td>NaN</td>\n      <td>NaN</td>\n      <td>NaN</td>\n      <td>NaN</td>\n      <td>NaN</td>\n      <td>NaN</td>\n      <td>NaN</td>\n      <td>NaN</td>\n      <td>NaN</td>\n    </tr>\n    <tr>\n      <th>39</th>\n      <td>40.0</td>\n      <td>19485441.0</td>\n      <td>Trương Nguyễn Duy Tân</td>\n      <td>Trương Nguyễn Duy</td>\n      <td>Tân</td>\n      <td>C</td>\n      <td>B+</td>\n      <td>B</td>\n      <td>C+</td>\n      <td>C+</td>\n      <td>...</td>\n      <td>NaN</td>\n      <td>NaN</td>\n      <td>NaN</td>\n      <td>NaN</td>\n      <td>NaN</td>\n      <td>NaN</td>\n      <td>NaN</td>\n      <td>NaN</td>\n      <td>NaN</td>\n      <td>NaN</td>\n    </tr>\n    <tr>\n      <th>40</th>\n      <td>41.0</td>\n      <td>19469481.0</td>\n      <td>Đỗ Văn Thắng</td>\n      <td>Đỗ Văn</td>\n      <td>Thắng</td>\n      <td>C+</td>\n      <td>C+</td>\n      <td>B</td>\n      <td>B</td>\n      <td>B</td>\n      <td>...</td>\n      <td>NaN</td>\n      <td>NaN</td>\n      <td>NaN</td>\n      <td>NaN</td>\n      <td>NaN</td>\n      <td>NaN</td>\n      <td>NaN</td>\n      <td>NaN</td>\n      <td>NaN</td>\n      <td>NaN</td>\n    </tr>\n    <tr>\n      <th>41</th>\n      <td>42.0</td>\n      <td>19501001.0</td>\n      <td>Nguyễn Đức Thịnh</td>\n      <td>Nguyễn Đức</td>\n      <td>Thịnh</td>\n      <td>F</td>\n      <td>C+</td>\n      <td>B</td>\n      <td>C</td>\n      <td>C+</td>\n      <td>...</td>\n      <td>NaN</td>\n      <td>NaN</td>\n      <td>NaN</td>\n      <td>NaN</td>\n      <td>NaN</td>\n      <td>NaN</td>\n      <td>NaN</td>\n      <td>NaN</td>\n      <td>NaN</td>\n      <td>NaN</td>\n    </tr>\n    <tr>\n      <th>42</th>\n      <td>43.0</td>\n      <td>19471271.0</td>\n      <td>Phạm Huỳnh Trường Thịnh</td>\n      <td>Phạm Huỳnh Trường</td>\n      <td>Thịnh</td>\n      <td>C</td>\n      <td>D+</td>\n      <td>B</td>\n      <td>B</td>\n      <td>C+</td>\n      <td>...</td>\n      <td>NaN</td>\n      <td>NaN</td>\n      <td>NaN</td>\n      <td>NaN</td>\n      <td>NaN</td>\n      <td>NaN</td>\n      <td>NaN</td>\n      <td>NaN</td>\n      <td>NaN</td>\n      <td>NaN</td>\n    </tr>\n    <tr>\n      <th>43</th>\n      <td>44.0</td>\n      <td>19446021.0</td>\n      <td>Trần Xuân Thủy</td>\n      <td>Trần Xuân</td>\n      <td>Thủy</td>\n      <td>D</td>\n      <td>B</td>\n      <td>C+</td>\n      <td>A+</td>\n      <td>B</td>\n      <td>...</td>\n      <td>NaN</td>\n      <td>NaN</td>\n      <td>NaN</td>\n      <td>NaN</td>\n      <td>NaN</td>\n      <td>NaN</td>\n      <td>NaN</td>\n      <td>NaN</td>\n      <td>NaN</td>\n      <td>NaN</td>\n    </tr>\n    <tr>\n      <th>44</th>\n      <td>45.0</td>\n      <td>19430791.0</td>\n      <td>Lê Văn Tiến</td>\n      <td>Lê Văn</td>\n      <td>Tiến</td>\n      <td>F</td>\n      <td>C</td>\n      <td>C+</td>\n      <td>B</td>\n      <td>C+</td>\n      <td>...</td>\n      <td>NaN</td>\n      <td>NaN</td>\n      <td>NaN</td>\n      <td>NaN</td>\n      <td>NaN</td>\n      <td>NaN</td>\n      <td>NaN</td>\n      <td>NaN</td>\n      <td>NaN</td>\n      <td>NaN</td>\n    </tr>\n    <tr>\n      <th>45</th>\n      <td>46.0</td>\n      <td>19529711.0</td>\n      <td>Nguyễn Đặng Minh Toại</td>\n      <td>Nguyễn Đặng Minh</td>\n      <td>Toại</td>\n      <td>D+</td>\n      <td>C</td>\n      <td>B</td>\n      <td>B</td>\n      <td>C+</td>\n      <td>...</td>\n      <td>NaN</td>\n      <td>NaN</td>\n      <td>NaN</td>\n      <td>NaN</td>\n      <td>NaN</td>\n      <td>NaN</td>\n      <td>NaN</td>\n      <td>NaN</td>\n      <td>NaN</td>\n      <td>NaN</td>\n    </tr>\n    <tr>\n      <th>46</th>\n      <td>47.0</td>\n      <td>19500761.0</td>\n      <td>Huỳnh Minh Toàn</td>\n      <td>Huỳnh Minh</td>\n      <td>Toàn</td>\n      <td>C+</td>\n      <td>B</td>\n      <td>B</td>\n      <td>A</td>\n      <td>B</td>\n      <td>...</td>\n      <td>NaN</td>\n      <td>NaN</td>\n      <td>NaN</td>\n      <td>NaN</td>\n      <td>NaN</td>\n      <td>NaN</td>\n      <td>NaN</td>\n      <td>NaN</td>\n      <td>NaN</td>\n      <td>NaN</td>\n    </tr>\n    <tr>\n      <th>47</th>\n      <td>48.0</td>\n      <td>19447201.0</td>\n      <td>Nguyễn Anh Toàn</td>\n      <td>Nguyễn Anh</td>\n      <td>Toàn</td>\n      <td>D</td>\n      <td>B</td>\n      <td>C+</td>\n      <td>A</td>\n      <td>C+</td>\n      <td>...</td>\n      <td>NaN</td>\n      <td>NaN</td>\n      <td>NaN</td>\n      <td>NaN</td>\n      <td>NaN</td>\n      <td>NaN</td>\n      <td>NaN</td>\n      <td>NaN</td>\n      <td>NaN</td>\n      <td>NaN</td>\n    </tr>\n    <tr>\n      <th>48</th>\n      <td>49.0</td>\n      <td>19477811.0</td>\n      <td>Lưu Hoàng Ngọc Trinh</td>\n      <td>Lưu Hoàng Ngọc</td>\n      <td>Trinh</td>\n      <td>C</td>\n      <td>C+</td>\n      <td>B</td>\n      <td>C+</td>\n      <td>C+</td>\n      <td>...</td>\n      <td>NaN</td>\n      <td>NaN</td>\n      <td>NaN</td>\n      <td>NaN</td>\n      <td>NaN</td>\n      <td>NaN</td>\n      <td>NaN</td>\n      <td>NaN</td>\n      <td>NaN</td>\n      <td>NaN</td>\n    </tr>\n    <tr>\n      <th>49</th>\n      <td>50.0</td>\n      <td>19491741.0</td>\n      <td>Lê Văn Trung</td>\n      <td>Lê Văn</td>\n      <td>Trung</td>\n      <td>B</td>\n      <td>C+</td>\n      <td>B</td>\n      <td>B</td>\n      <td>B</td>\n      <td>...</td>\n      <td>NaN</td>\n      <td>NaN</td>\n      <td>NaN</td>\n      <td>NaN</td>\n      <td>NaN</td>\n      <td>NaN</td>\n      <td>NaN</td>\n      <td>NaN</td>\n      <td>NaN</td>\n      <td>NaN</td>\n    </tr>\n    <tr>\n      <th>50</th>\n      <td>51.0</td>\n      <td>19477111.0</td>\n      <td>Nguyễn Tuấn Trung</td>\n      <td>Nguyễn Tuấn</td>\n      <td>Trung</td>\n      <td>D</td>\n      <td>C+</td>\n      <td>C+</td>\n      <td>B</td>\n      <td>C</td>\n      <td>...</td>\n      <td>NaN</td>\n      <td>NaN</td>\n      <td>NaN</td>\n      <td>NaN</td>\n      <td>NaN</td>\n      <td>NaN</td>\n      <td>NaN</td>\n      <td>NaN</td>\n      <td>NaN</td>\n      <td>NaN</td>\n    </tr>\n    <tr>\n      <th>51</th>\n      <td>52.0</td>\n      <td>19502701.0</td>\n      <td>Phạm Thành Trung</td>\n      <td>Phạm Thành</td>\n      <td>Trung</td>\n      <td>B+</td>\n      <td>B</td>\n      <td>B</td>\n      <td>A+</td>\n      <td>C+</td>\n      <td>...</td>\n      <td>NaN</td>\n      <td>NaN</td>\n      <td>NaN</td>\n      <td>NaN</td>\n      <td>NaN</td>\n      <td>NaN</td>\n      <td>NaN</td>\n      <td>NaN</td>\n      <td>NaN</td>\n      <td>NaN</td>\n    </tr>\n    <tr>\n      <th>52</th>\n      <td>53.0</td>\n      <td>19499041.0</td>\n      <td>Phan Chí Trung</td>\n      <td>Phan Chí</td>\n      <td>Trung</td>\n      <td>C+</td>\n      <td>C+</td>\n      <td>C+</td>\n      <td>C+</td>\n      <td>C</td>\n      <td>...</td>\n      <td>NaN</td>\n      <td>NaN</td>\n      <td>NaN</td>\n      <td>NaN</td>\n      <td>NaN</td>\n      <td>NaN</td>\n      <td>NaN</td>\n      <td>NaN</td>\n      <td>NaN</td>\n      <td>NaN</td>\n    </tr>\n    <tr>\n      <th>53</th>\n      <td>54.0</td>\n      <td>19510211.0</td>\n      <td>Đào Duy Trường</td>\n      <td>Đào Duy</td>\n      <td>Trường</td>\n      <td>D+</td>\n      <td>D+</td>\n      <td>B</td>\n      <td>B</td>\n      <td>C</td>\n      <td>...</td>\n      <td>NaN</td>\n      <td>NaN</td>\n      <td>NaN</td>\n      <td>NaN</td>\n      <td>NaN</td>\n      <td>NaN</td>\n      <td>NaN</td>\n      <td>NaN</td>\n      <td>NaN</td>\n      <td>NaN</td>\n    </tr>\n    <tr>\n      <th>54</th>\n      <td>55.0</td>\n      <td>19519011.0</td>\n      <td>Đoàn Minh Trường</td>\n      <td>Đoàn Minh</td>\n      <td>Trường</td>\n      <td>D</td>\n      <td>D+</td>\n      <td>B</td>\n      <td>F</td>\n      <td>C+</td>\n      <td>...</td>\n      <td>NaN</td>\n      <td>NaN</td>\n      <td>NaN</td>\n      <td>NaN</td>\n      <td>NaN</td>\n      <td>NaN</td>\n      <td>NaN</td>\n      <td>NaN</td>\n      <td>NaN</td>\n      <td>NaN</td>\n    </tr>\n    <tr>\n      <th>55</th>\n      <td>56.0</td>\n      <td>19446701.0</td>\n      <td>Huỳnh Anh Tú</td>\n      <td>Huỳnh Anh</td>\n      <td>Tú</td>\n      <td>C+</td>\n      <td>C+</td>\n      <td>C+</td>\n      <td>B</td>\n      <td>B</td>\n      <td>...</td>\n      <td>NaN</td>\n      <td>NaN</td>\n      <td>NaN</td>\n      <td>NaN</td>\n      <td>NaN</td>\n      <td>NaN</td>\n      <td>NaN</td>\n      <td>NaN</td>\n      <td>NaN</td>\n      <td>NaN</td>\n    </tr>\n    <tr>\n      <th>56</th>\n      <td>57.0</td>\n      <td>19497581.0</td>\n      <td>Nguyễn Văn Anh Tuấn</td>\n      <td>Nguyễn Văn Anh</td>\n      <td>Tuấn</td>\n      <td>C</td>\n      <td>B</td>\n      <td>B</td>\n      <td>C+</td>\n      <td>C+</td>\n      <td>...</td>\n      <td>NaN</td>\n      <td>NaN</td>\n      <td>NaN</td>\n      <td>NaN</td>\n      <td>NaN</td>\n      <td>NaN</td>\n      <td>NaN</td>\n      <td>NaN</td>\n      <td>NaN</td>\n      <td>NaN</td>\n    </tr>\n    <tr>\n      <th>57</th>\n      <td>58.0</td>\n      <td>19469421.0</td>\n      <td>Phạm Minh Tuấn</td>\n      <td>Phạm Minh</td>\n      <td>Tuấn</td>\n      <td>C+</td>\n      <td>C+</td>\n      <td>C+</td>\n      <td>B</td>\n      <td>C</td>\n      <td>...</td>\n      <td>NaN</td>\n      <td>NaN</td>\n      <td>NaN</td>\n      <td>NaN</td>\n      <td>NaN</td>\n      <td>NaN</td>\n      <td>NaN</td>\n      <td>NaN</td>\n      <td>NaN</td>\n      <td>NaN</td>\n    </tr>\n    <tr>\n      <th>58</th>\n      <td>59.0</td>\n      <td>19512321.0</td>\n      <td>Phan Lê Hoàng Việt</td>\n      <td>Phan Lê Hoàng</td>\n      <td>Việt</td>\n      <td>F</td>\n      <td>B</td>\n      <td>C+</td>\n      <td>C</td>\n      <td>D+</td>\n      <td>...</td>\n      <td>NaN</td>\n      <td>NaN</td>\n      <td>NaN</td>\n      <td>NaN</td>\n      <td>NaN</td>\n      <td>NaN</td>\n      <td>NaN</td>\n      <td>NaN</td>\n      <td>NaN</td>\n      <td>NaN</td>\n    </tr>\n    <tr>\n      <th>59</th>\n      <td>60.0</td>\n      <td>19474281.0</td>\n      <td>Trần Tuấn Vũ</td>\n      <td>Trần Tuấn</td>\n      <td>Vũ</td>\n      <td>B</td>\n      <td>C+</td>\n      <td>C+</td>\n      <td>A+</td>\n      <td>C</td>\n      <td>...</td>\n      <td>NaN</td>\n      <td>NaN</td>\n      <td>NaN</td>\n      <td>NaN</td>\n      <td>NaN</td>\n      <td>NaN</td>\n      <td>NaN</td>\n      <td>NaN</td>\n      <td>NaN</td>\n      <td>NaN</td>\n    </tr>\n  </tbody>\n</table>\n<p>60 rows × 84 columns</p>\n</div>"
     },
     "metadata": {},
     "execution_count": 63
    }
   ],
   "source": [
    "xeploai_df"
   ]
  },
  {
   "cell_type": "code",
   "execution_count": 64,
   "metadata": {},
   "outputs": [],
   "source": [
    "xeploai_df.to_csv('../csv_files/xeploai.csv')"
   ]
  },
  {
   "cell_type": "code",
   "execution_count": 65,
   "metadata": {},
   "outputs": [],
   "source": [
    "from collections import Counter"
   ]
  },
  {
   "cell_type": "code",
   "execution_count": 66,
   "metadata": {},
   "outputs": [],
   "source": [
    "# -1 if o1 < o2\n",
    "# 1 if o1 > o2\n",
    "# 0 if o1 == o2\n",
    "def compare(o1, o2):\n",
    "    o1 = o1[0]\n",
    "    o2 = o2[0]\n",
    "    if (o1[0] == o2[0]):\n",
    "        return [1, -1][len(o1) == 2]\n",
    "    return [1, -1][o1[0] < o2[0]]"
   ]
  },
  {
   "cell_type": "code",
   "execution_count": 67,
   "metadata": {},
   "outputs": [],
   "source": [
    "def comp(o1):\n",
    "    print(o1)\n",
    "    return -1"
   ]
  },
  {
   "cell_type": "code",
   "execution_count": 68,
   "metadata": {},
   "outputs": [],
   "source": [
    "from functools import cmp_to_key"
   ]
  },
  {
   "cell_type": "code",
   "execution_count": 69,
   "metadata": {},
   "outputs": [],
   "source": [
    "data_score = Counter(xeploai_df['Toán cao cấp 1'])\n",
    "if np.nan in data_score:\n",
    "    data_score.pop(np.nan)\n",
    "data_score = {i[0]: i[1] for i in sorted(data_score.items(), key=cmp_to_key(compare))}"
   ]
  },
  {
   "cell_type": "code",
   "execution_count": 70,
   "metadata": {},
   "outputs": [
    {
     "output_type": "execute_result",
     "data": {
      "text/plain": [
       "  Xếp loại  Số lượng\n",
       "0       A+        12\n",
       "1        A         8\n",
       "2       B+         5\n",
       "3        B        20\n",
       "4       C+         8\n",
       "5        C         3\n",
       "6       D+         1\n",
       "7        D         1\n",
       "8        F         2"
      ],
      "text/html": "<div>\n<style scoped>\n    .dataframe tbody tr th:only-of-type {\n        vertical-align: middle;\n    }\n\n    .dataframe tbody tr th {\n        vertical-align: top;\n    }\n\n    .dataframe thead th {\n        text-align: right;\n    }\n</style>\n<table border=\"1\" class=\"dataframe\">\n  <thead>\n    <tr style=\"text-align: right;\">\n      <th></th>\n      <th>Xếp loại</th>\n      <th>Số lượng</th>\n    </tr>\n  </thead>\n  <tbody>\n    <tr>\n      <th>0</th>\n      <td>A+</td>\n      <td>12</td>\n    </tr>\n    <tr>\n      <th>1</th>\n      <td>A</td>\n      <td>8</td>\n    </tr>\n    <tr>\n      <th>2</th>\n      <td>B+</td>\n      <td>5</td>\n    </tr>\n    <tr>\n      <th>3</th>\n      <td>B</td>\n      <td>20</td>\n    </tr>\n    <tr>\n      <th>4</th>\n      <td>C+</td>\n      <td>8</td>\n    </tr>\n    <tr>\n      <th>5</th>\n      <td>C</td>\n      <td>3</td>\n    </tr>\n    <tr>\n      <th>6</th>\n      <td>D+</td>\n      <td>1</td>\n    </tr>\n    <tr>\n      <th>7</th>\n      <td>D</td>\n      <td>1</td>\n    </tr>\n    <tr>\n      <th>8</th>\n      <td>F</td>\n      <td>2</td>\n    </tr>\n  </tbody>\n</table>\n</div>"
     },
     "metadata": {},
     "execution_count": 70
    }
   ],
   "source": [
    "pd.DataFrame({'Xếp loại': data_score.keys(), 'Số lượng': data_score.values()})"
   ]
  },
  {
   "cell_type": "code",
   "execution_count": 71,
   "metadata": {},
   "outputs": [
    {
     "output_type": "display_data",
     "data": {
      "application/vnd.plotly.v1+json": {
       "config": {
        "plotlyServerURL": "https://plot.ly"
       },
       "data": [
        {
         "alignmentgroup": "True",
         "hovertemplate": "x=%{x}<br>y=%{y}<extra></extra>",
         "legendgroup": "",
         "marker": {
          "color": "#636efa"
         },
         "name": "",
         "offsetgroup": "",
         "orientation": "v",
         "showlegend": false,
         "textposition": "auto",
         "type": "bar",
         "x": [
          "A",
          "B",
          "B+",
          "A+",
          "D+",
          "D",
          "C+",
          "C",
          "F"
         ],
         "xaxis": "x",
         "y": [
          8,
          20,
          5,
          12,
          1,
          1,
          8,
          3,
          2
         ],
         "yaxis": "y"
        }
       ],
       "layout": {
        "barmode": "relative",
        "legend": {
         "tracegroupgap": 0
        },
        "margin": {
         "t": 60
        },
        "template": {
         "data": {
          "bar": [
           {
            "error_x": {
             "color": "#2a3f5f"
            },
            "error_y": {
             "color": "#2a3f5f"
            },
            "marker": {
             "line": {
              "color": "#E5ECF6",
              "width": 0.5
             }
            },
            "type": "bar"
           }
          ],
          "barpolar": [
           {
            "marker": {
             "line": {
              "color": "#E5ECF6",
              "width": 0.5
             }
            },
            "type": "barpolar"
           }
          ],
          "carpet": [
           {
            "aaxis": {
             "endlinecolor": "#2a3f5f",
             "gridcolor": "white",
             "linecolor": "white",
             "minorgridcolor": "white",
             "startlinecolor": "#2a3f5f"
            },
            "baxis": {
             "endlinecolor": "#2a3f5f",
             "gridcolor": "white",
             "linecolor": "white",
             "minorgridcolor": "white",
             "startlinecolor": "#2a3f5f"
            },
            "type": "carpet"
           }
          ],
          "choropleth": [
           {
            "colorbar": {
             "outlinewidth": 0,
             "ticks": ""
            },
            "type": "choropleth"
           }
          ],
          "contour": [
           {
            "colorbar": {
             "outlinewidth": 0,
             "ticks": ""
            },
            "colorscale": [
             [
              0,
              "#0d0887"
             ],
             [
              0.1111111111111111,
              "#46039f"
             ],
             [
              0.2222222222222222,
              "#7201a8"
             ],
             [
              0.3333333333333333,
              "#9c179e"
             ],
             [
              0.4444444444444444,
              "#bd3786"
             ],
             [
              0.5555555555555556,
              "#d8576b"
             ],
             [
              0.6666666666666666,
              "#ed7953"
             ],
             [
              0.7777777777777778,
              "#fb9f3a"
             ],
             [
              0.8888888888888888,
              "#fdca26"
             ],
             [
              1,
              "#f0f921"
             ]
            ],
            "type": "contour"
           }
          ],
          "contourcarpet": [
           {
            "colorbar": {
             "outlinewidth": 0,
             "ticks": ""
            },
            "type": "contourcarpet"
           }
          ],
          "heatmap": [
           {
            "colorbar": {
             "outlinewidth": 0,
             "ticks": ""
            },
            "colorscale": [
             [
              0,
              "#0d0887"
             ],
             [
              0.1111111111111111,
              "#46039f"
             ],
             [
              0.2222222222222222,
              "#7201a8"
             ],
             [
              0.3333333333333333,
              "#9c179e"
             ],
             [
              0.4444444444444444,
              "#bd3786"
             ],
             [
              0.5555555555555556,
              "#d8576b"
             ],
             [
              0.6666666666666666,
              "#ed7953"
             ],
             [
              0.7777777777777778,
              "#fb9f3a"
             ],
             [
              0.8888888888888888,
              "#fdca26"
             ],
             [
              1,
              "#f0f921"
             ]
            ],
            "type": "heatmap"
           }
          ],
          "heatmapgl": [
           {
            "colorbar": {
             "outlinewidth": 0,
             "ticks": ""
            },
            "colorscale": [
             [
              0,
              "#0d0887"
             ],
             [
              0.1111111111111111,
              "#46039f"
             ],
             [
              0.2222222222222222,
              "#7201a8"
             ],
             [
              0.3333333333333333,
              "#9c179e"
             ],
             [
              0.4444444444444444,
              "#bd3786"
             ],
             [
              0.5555555555555556,
              "#d8576b"
             ],
             [
              0.6666666666666666,
              "#ed7953"
             ],
             [
              0.7777777777777778,
              "#fb9f3a"
             ],
             [
              0.8888888888888888,
              "#fdca26"
             ],
             [
              1,
              "#f0f921"
             ]
            ],
            "type": "heatmapgl"
           }
          ],
          "histogram": [
           {
            "marker": {
             "colorbar": {
              "outlinewidth": 0,
              "ticks": ""
             }
            },
            "type": "histogram"
           }
          ],
          "histogram2d": [
           {
            "colorbar": {
             "outlinewidth": 0,
             "ticks": ""
            },
            "colorscale": [
             [
              0,
              "#0d0887"
             ],
             [
              0.1111111111111111,
              "#46039f"
             ],
             [
              0.2222222222222222,
              "#7201a8"
             ],
             [
              0.3333333333333333,
              "#9c179e"
             ],
             [
              0.4444444444444444,
              "#bd3786"
             ],
             [
              0.5555555555555556,
              "#d8576b"
             ],
             [
              0.6666666666666666,
              "#ed7953"
             ],
             [
              0.7777777777777778,
              "#fb9f3a"
             ],
             [
              0.8888888888888888,
              "#fdca26"
             ],
             [
              1,
              "#f0f921"
             ]
            ],
            "type": "histogram2d"
           }
          ],
          "histogram2dcontour": [
           {
            "colorbar": {
             "outlinewidth": 0,
             "ticks": ""
            },
            "colorscale": [
             [
              0,
              "#0d0887"
             ],
             [
              0.1111111111111111,
              "#46039f"
             ],
             [
              0.2222222222222222,
              "#7201a8"
             ],
             [
              0.3333333333333333,
              "#9c179e"
             ],
             [
              0.4444444444444444,
              "#bd3786"
             ],
             [
              0.5555555555555556,
              "#d8576b"
             ],
             [
              0.6666666666666666,
              "#ed7953"
             ],
             [
              0.7777777777777778,
              "#fb9f3a"
             ],
             [
              0.8888888888888888,
              "#fdca26"
             ],
             [
              1,
              "#f0f921"
             ]
            ],
            "type": "histogram2dcontour"
           }
          ],
          "mesh3d": [
           {
            "colorbar": {
             "outlinewidth": 0,
             "ticks": ""
            },
            "type": "mesh3d"
           }
          ],
          "parcoords": [
           {
            "line": {
             "colorbar": {
              "outlinewidth": 0,
              "ticks": ""
             }
            },
            "type": "parcoords"
           }
          ],
          "pie": [
           {
            "automargin": true,
            "type": "pie"
           }
          ],
          "scatter": [
           {
            "marker": {
             "colorbar": {
              "outlinewidth": 0,
              "ticks": ""
             }
            },
            "type": "scatter"
           }
          ],
          "scatter3d": [
           {
            "line": {
             "colorbar": {
              "outlinewidth": 0,
              "ticks": ""
             }
            },
            "marker": {
             "colorbar": {
              "outlinewidth": 0,
              "ticks": ""
             }
            },
            "type": "scatter3d"
           }
          ],
          "scattercarpet": [
           {
            "marker": {
             "colorbar": {
              "outlinewidth": 0,
              "ticks": ""
             }
            },
            "type": "scattercarpet"
           }
          ],
          "scattergeo": [
           {
            "marker": {
             "colorbar": {
              "outlinewidth": 0,
              "ticks": ""
             }
            },
            "type": "scattergeo"
           }
          ],
          "scattergl": [
           {
            "marker": {
             "colorbar": {
              "outlinewidth": 0,
              "ticks": ""
             }
            },
            "type": "scattergl"
           }
          ],
          "scattermapbox": [
           {
            "marker": {
             "colorbar": {
              "outlinewidth": 0,
              "ticks": ""
             }
            },
            "type": "scattermapbox"
           }
          ],
          "scatterpolar": [
           {
            "marker": {
             "colorbar": {
              "outlinewidth": 0,
              "ticks": ""
             }
            },
            "type": "scatterpolar"
           }
          ],
          "scatterpolargl": [
           {
            "marker": {
             "colorbar": {
              "outlinewidth": 0,
              "ticks": ""
             }
            },
            "type": "scatterpolargl"
           }
          ],
          "scatterternary": [
           {
            "marker": {
             "colorbar": {
              "outlinewidth": 0,
              "ticks": ""
             }
            },
            "type": "scatterternary"
           }
          ],
          "surface": [
           {
            "colorbar": {
             "outlinewidth": 0,
             "ticks": ""
            },
            "colorscale": [
             [
              0,
              "#0d0887"
             ],
             [
              0.1111111111111111,
              "#46039f"
             ],
             [
              0.2222222222222222,
              "#7201a8"
             ],
             [
              0.3333333333333333,
              "#9c179e"
             ],
             [
              0.4444444444444444,
              "#bd3786"
             ],
             [
              0.5555555555555556,
              "#d8576b"
             ],
             [
              0.6666666666666666,
              "#ed7953"
             ],
             [
              0.7777777777777778,
              "#fb9f3a"
             ],
             [
              0.8888888888888888,
              "#fdca26"
             ],
             [
              1,
              "#f0f921"
             ]
            ],
            "type": "surface"
           }
          ],
          "table": [
           {
            "cells": {
             "fill": {
              "color": "#EBF0F8"
             },
             "line": {
              "color": "white"
             }
            },
            "header": {
             "fill": {
              "color": "#C8D4E3"
             },
             "line": {
              "color": "white"
             }
            },
            "type": "table"
           }
          ]
         },
         "layout": {
          "annotationdefaults": {
           "arrowcolor": "#2a3f5f",
           "arrowhead": 0,
           "arrowwidth": 1
          },
          "autotypenumbers": "strict",
          "coloraxis": {
           "colorbar": {
            "outlinewidth": 0,
            "ticks": ""
           }
          },
          "colorscale": {
           "diverging": [
            [
             0,
             "#8e0152"
            ],
            [
             0.1,
             "#c51b7d"
            ],
            [
             0.2,
             "#de77ae"
            ],
            [
             0.3,
             "#f1b6da"
            ],
            [
             0.4,
             "#fde0ef"
            ],
            [
             0.5,
             "#f7f7f7"
            ],
            [
             0.6,
             "#e6f5d0"
            ],
            [
             0.7,
             "#b8e186"
            ],
            [
             0.8,
             "#7fbc41"
            ],
            [
             0.9,
             "#4d9221"
            ],
            [
             1,
             "#276419"
            ]
           ],
           "sequential": [
            [
             0,
             "#0d0887"
            ],
            [
             0.1111111111111111,
             "#46039f"
            ],
            [
             0.2222222222222222,
             "#7201a8"
            ],
            [
             0.3333333333333333,
             "#9c179e"
            ],
            [
             0.4444444444444444,
             "#bd3786"
            ],
            [
             0.5555555555555556,
             "#d8576b"
            ],
            [
             0.6666666666666666,
             "#ed7953"
            ],
            [
             0.7777777777777778,
             "#fb9f3a"
            ],
            [
             0.8888888888888888,
             "#fdca26"
            ],
            [
             1,
             "#f0f921"
            ]
           ],
           "sequentialminus": [
            [
             0,
             "#0d0887"
            ],
            [
             0.1111111111111111,
             "#46039f"
            ],
            [
             0.2222222222222222,
             "#7201a8"
            ],
            [
             0.3333333333333333,
             "#9c179e"
            ],
            [
             0.4444444444444444,
             "#bd3786"
            ],
            [
             0.5555555555555556,
             "#d8576b"
            ],
            [
             0.6666666666666666,
             "#ed7953"
            ],
            [
             0.7777777777777778,
             "#fb9f3a"
            ],
            [
             0.8888888888888888,
             "#fdca26"
            ],
            [
             1,
             "#f0f921"
            ]
           ]
          },
          "colorway": [
           "#636efa",
           "#EF553B",
           "#00cc96",
           "#ab63fa",
           "#FFA15A",
           "#19d3f3",
           "#FF6692",
           "#B6E880",
           "#FF97FF",
           "#FECB52"
          ],
          "font": {
           "color": "#2a3f5f"
          },
          "geo": {
           "bgcolor": "white",
           "lakecolor": "white",
           "landcolor": "#E5ECF6",
           "showlakes": true,
           "showland": true,
           "subunitcolor": "white"
          },
          "hoverlabel": {
           "align": "left"
          },
          "hovermode": "closest",
          "mapbox": {
           "style": "light"
          },
          "paper_bgcolor": "white",
          "plot_bgcolor": "#E5ECF6",
          "polar": {
           "angularaxis": {
            "gridcolor": "white",
            "linecolor": "white",
            "ticks": ""
           },
           "bgcolor": "#E5ECF6",
           "radialaxis": {
            "gridcolor": "white",
            "linecolor": "white",
            "ticks": ""
           }
          },
          "scene": {
           "xaxis": {
            "backgroundcolor": "#E5ECF6",
            "gridcolor": "white",
            "gridwidth": 2,
            "linecolor": "white",
            "showbackground": true,
            "ticks": "",
            "zerolinecolor": "white"
           },
           "yaxis": {
            "backgroundcolor": "#E5ECF6",
            "gridcolor": "white",
            "gridwidth": 2,
            "linecolor": "white",
            "showbackground": true,
            "ticks": "",
            "zerolinecolor": "white"
           },
           "zaxis": {
            "backgroundcolor": "#E5ECF6",
            "gridcolor": "white",
            "gridwidth": 2,
            "linecolor": "white",
            "showbackground": true,
            "ticks": "",
            "zerolinecolor": "white"
           }
          },
          "shapedefaults": {
           "line": {
            "color": "#2a3f5f"
           }
          },
          "ternary": {
           "aaxis": {
            "gridcolor": "white",
            "linecolor": "white",
            "ticks": ""
           },
           "baxis": {
            "gridcolor": "white",
            "linecolor": "white",
            "ticks": ""
           },
           "bgcolor": "#E5ECF6",
           "caxis": {
            "gridcolor": "white",
            "linecolor": "white",
            "ticks": ""
           }
          },
          "title": {
           "x": 0.05
          },
          "xaxis": {
           "automargin": true,
           "gridcolor": "white",
           "linecolor": "white",
           "ticks": "",
           "title": {
            "standoff": 15
           },
           "zerolinecolor": "white",
           "zerolinewidth": 2
          },
          "yaxis": {
           "automargin": true,
           "gridcolor": "white",
           "linecolor": "white",
           "ticks": "",
           "title": {
            "standoff": 15
           },
           "zerolinecolor": "white",
           "zerolinewidth": 2
          }
         }
        },
        "xaxis": {
         "anchor": "y",
         "domain": [
          0,
          1
         ],
         "title": {
          "text": "x"
         }
        },
        "yaxis": {
         "anchor": "x",
         "domain": [
          0,
          1
         ],
         "title": {
          "text": "y"
         }
        }
       }
      }
     },
     "metadata": {}
    }
   ],
   "source": [
    "import plotly.express as px\n",
    "\n",
    "data_toancaocap1 = Counter(xeploai_df['Toán cao cấp 1'])\n",
    "fig = px.bar(x=data_toancaocap1.keys(), y=data_toancaocap1.values())\n",
    "fig.show()"
   ]
  },
  {
   "cell_type": "code",
   "execution_count": 72,
   "metadata": {},
   "outputs": [
    {
     "output_type": "display_data",
     "data": {
      "text/plain": "<Figure size 432x288 with 1 Axes>",
      "image/svg+xml": "<?xml version=\"1.0\" encoding=\"utf-8\" standalone=\"no\"?>\r\n<!DOCTYPE svg PUBLIC \"-//W3C//DTD SVG 1.1//EN\"\r\n  \"http://www.w3.org/Graphics/SVG/1.1/DTD/svg11.dtd\">\r\n<!-- Created with matplotlib (https://matplotlib.org/) -->\r\n<svg height=\"281.718594pt\" version=\"1.1\" viewBox=\"0 0 376.2475 281.718594\" width=\"376.2475pt\" xmlns=\"http://www.w3.org/2000/svg\" xmlns:xlink=\"http://www.w3.org/1999/xlink\">\r\n <defs>\r\n  <style type=\"text/css\">\r\n*{stroke-linecap:butt;stroke-linejoin:round;}\r\n  </style>\r\n </defs>\r\n <g id=\"figure_1\">\r\n  <g id=\"patch_1\">\r\n   <path d=\"M 0 281.718594 \r\nL 376.2475 281.718594 \r\nL 376.2475 0 \r\nL 0 0 \r\nz\r\n\" style=\"fill:none;\"/>\r\n  </g>\r\n  <g id=\"axes_1\">\r\n   <g id=\"patch_2\">\r\n    <path d=\"M 33.2875 253.44 \r\nL 368.0875 253.44 \r\nL 368.0875 36 \r\nL 33.2875 36 \r\nz\r\n\" style=\"fill:#ffffff;\"/>\r\n   </g>\r\n   <g id=\"patch_3\">\r\n    <path clip-path=\"url(#pdc6db51e57)\" d=\"M 48.505682 253.44 \r\nL 149.960227 253.44 \r\nL 149.960227 163.022294 \r\nL 48.505682 163.022294 \r\nz\r\n\" style=\"fill:#1f77b4;stroke:#000000;stroke-linejoin:miter;\"/>\r\n   </g>\r\n   <g id=\"patch_4\">\r\n    <path clip-path=\"url(#pdc6db51e57)\" d=\"M 251.414773 253.44 \r\nL 352.869318 253.44 \r\nL 352.869318 209.689497 \r\nL 251.414773 209.689497 \r\nz\r\n\" style=\"fill:#1f77b4;stroke:#000000;stroke-linejoin:miter;\"/>\r\n   </g>\r\n   <g id=\"patch_5\">\r\n    <path clip-path=\"url(#pdc6db51e57)\" d=\"M 48.505682 163.022294 \r\nL 149.960227 163.022294 \r\nL 149.960227 46.354286 \r\nL 48.505682 46.354286 \r\nz\r\n\" style=\"fill:#ff7f0e;stroke:#000000;stroke-linejoin:miter;\"/>\r\n   </g>\r\n   <g id=\"patch_6\">\r\n    <path clip-path=\"url(#pdc6db51e57)\" d=\"M 251.414773 209.689497 \r\nL 352.869318 209.689497 \r\nL 352.869318 46.354286 \r\nL 251.414773 46.354286 \r\nz\r\n\" style=\"fill:#ff7f0e;stroke:#000000;stroke-linejoin:miter;\"/>\r\n   </g>\r\n   <g id=\"matplotlib.axis_1\">\r\n    <g id=\"xtick_1\">\r\n     <g id=\"line2d_1\">\r\n      <defs>\r\n       <path d=\"M 0 0 \r\nL 0 3.5 \r\n\" id=\"m952c4b9ffe\" style=\"stroke:#000000;stroke-width:0.8;\"/>\r\n      </defs>\r\n      <g>\r\n       <use style=\"stroke:#000000;stroke-width:0.8;\" x=\"99.232955\" xlink:href=\"#m952c4b9ffe\" y=\"253.44\"/>\r\n      </g>\r\n     </g>\r\n     <g id=\"text_1\">\r\n      <!-- Nguyễn Văn Anh Tuấn -->\r\n      <defs>\r\n       <path d=\"M 9.8125 72.90625 \r\nL 23.09375 72.90625 \r\nL 55.421875 11.921875 \r\nL 55.421875 72.90625 \r\nL 64.984375 72.90625 \r\nL 64.984375 0 \r\nL 51.703125 0 \r\nL 19.390625 60.984375 \r\nL 19.390625 0 \r\nL 9.8125 0 \r\nz\r\n\" id=\"DejaVuSans-78\"/>\r\n       <path d=\"M 45.40625 27.984375 \r\nQ 45.40625 37.75 41.375 43.109375 \r\nQ 37.359375 48.484375 30.078125 48.484375 \r\nQ 22.859375 48.484375 18.828125 43.109375 \r\nQ 14.796875 37.75 14.796875 27.984375 \r\nQ 14.796875 18.265625 18.828125 12.890625 \r\nQ 22.859375 7.515625 30.078125 7.515625 \r\nQ 37.359375 7.515625 41.375 12.890625 \r\nQ 45.40625 18.265625 45.40625 27.984375 \r\nz\r\nM 54.390625 6.78125 \r\nQ 54.390625 -7.171875 48.1875 -13.984375 \r\nQ 42 -20.796875 29.203125 -20.796875 \r\nQ 24.46875 -20.796875 20.265625 -20.09375 \r\nQ 16.0625 -19.390625 12.109375 -17.921875 \r\nL 12.109375 -9.1875 \r\nQ 16.0625 -11.328125 19.921875 -12.34375 \r\nQ 23.78125 -13.375 27.78125 -13.375 \r\nQ 36.625 -13.375 41.015625 -8.765625 \r\nQ 45.40625 -4.15625 45.40625 5.171875 \r\nL 45.40625 9.625 \r\nQ 42.625 4.78125 38.28125 2.390625 \r\nQ 33.9375 0 27.875 0 \r\nQ 17.828125 0 11.671875 7.65625 \r\nQ 5.515625 15.328125 5.515625 27.984375 \r\nQ 5.515625 40.671875 11.671875 48.328125 \r\nQ 17.828125 56 27.875 56 \r\nQ 33.9375 56 38.28125 53.609375 \r\nQ 42.625 51.21875 45.40625 46.390625 \r\nL 45.40625 54.6875 \r\nL 54.390625 54.6875 \r\nz\r\n\" id=\"DejaVuSans-103\"/>\r\n       <path d=\"M 8.5 21.578125 \r\nL 8.5 54.6875 \r\nL 17.484375 54.6875 \r\nL 17.484375 21.921875 \r\nQ 17.484375 14.15625 20.5 10.265625 \r\nQ 23.53125 6.390625 29.59375 6.390625 \r\nQ 36.859375 6.390625 41.078125 11.03125 \r\nQ 45.3125 15.671875 45.3125 23.6875 \r\nL 45.3125 54.6875 \r\nL 54.296875 54.6875 \r\nL 54.296875 0 \r\nL 45.3125 0 \r\nL 45.3125 8.40625 \r\nQ 42.046875 3.421875 37.71875 1 \r\nQ 33.40625 -1.421875 27.6875 -1.421875 \r\nQ 18.265625 -1.421875 13.375 4.4375 \r\nQ 8.5 10.296875 8.5 21.578125 \r\nz\r\nM 31.109375 56 \r\nz\r\n\" id=\"DejaVuSans-117\"/>\r\n       <path d=\"M 32.171875 -5.078125 \r\nQ 28.375 -14.84375 24.75 -17.8125 \r\nQ 21.140625 -20.796875 15.09375 -20.796875 \r\nL 7.90625 -20.796875 \r\nL 7.90625 -13.28125 \r\nL 13.1875 -13.28125 \r\nQ 16.890625 -13.28125 18.9375 -11.515625 \r\nQ 21 -9.765625 23.484375 -3.21875 \r\nL 25.09375 0.875 \r\nL 2.984375 54.6875 \r\nL 12.5 54.6875 \r\nL 29.59375 11.921875 \r\nL 46.6875 54.6875 \r\nL 56.203125 54.6875 \r\nz\r\n\" id=\"DejaVuSans-121\"/>\r\n       <path d=\"M 27.296875 74.609375 \r\nL 36.46875 74.609375 \r\nL 46.78125 61.625 \r\nL 39.984375 61.625 \r\nL 31.890625 70.3125 \r\nL 23.78125 61.625 \r\nL 17 61.625 \r\nz\r\nM 31.890625 78.90625 \r\nL 29.109375 80.515625 \r\nQ 27.875 81.203125 27.125 81.46875 \r\nQ 26.375 81.734375 25.78125 81.734375 \r\nQ 24.03125 81.734375 23.046875 80.515625 \r\nQ 22.078125 79.296875 22.078125 77.109375 \r\nL 22.078125 76.8125 \r\nL 15.96875 76.8125 \r\nQ 15.96875 81.734375 18.484375 84.609375 \r\nQ 21 87.5 25.203125 87.5 \r\nQ 26.953125 87.5 28.4375 87.109375 \r\nQ 29.9375 86.71875 32.28125 85.40625 \r\nL 35.0625 83.9375 \r\nQ 36.1875 83.296875 37.015625 83 \r\nQ 37.84375 82.71875 38.578125 82.71875 \r\nQ 40.140625 82.71875 41.109375 83.953125 \r\nQ 42.09375 85.203125 42.09375 87.203125 \r\nL 42.09375 87.5 \r\nL 48.1875 87.5 \r\nQ 48.09375 82.625 45.578125 79.71875 \r\nQ 43.0625 76.8125 38.96875 76.8125 \r\nQ 37.3125 76.8125 35.859375 77.203125 \r\nQ 34.421875 77.59375 31.890625 78.90625 \r\nz\r\nM 56.203125 29.59375 \r\nL 56.203125 25.203125 \r\nL 14.890625 25.203125 \r\nQ 15.484375 15.921875 20.484375 11.0625 \r\nQ 25.484375 6.203125 34.421875 6.203125 \r\nQ 39.59375 6.203125 44.453125 7.46875 \r\nQ 49.3125 8.734375 54.109375 11.28125 \r\nL 54.109375 2.78125 \r\nQ 49.265625 0.734375 44.1875 -0.34375 \r\nQ 39.109375 -1.421875 33.890625 -1.421875 \r\nQ 20.796875 -1.421875 13.15625 6.1875 \r\nQ 5.515625 13.8125 5.515625 26.8125 \r\nQ 5.515625 40.234375 12.765625 48.109375 \r\nQ 20.015625 56 32.328125 56 \r\nQ 43.359375 56 49.78125 48.890625 \r\nQ 56.203125 41.796875 56.203125 29.59375 \r\nz\r\nM 47.21875 32.234375 \r\nQ 47.125 39.59375 43.09375 43.984375 \r\nQ 39.0625 48.390625 32.421875 48.390625 \r\nQ 24.90625 48.390625 20.390625 44.140625 \r\nQ 15.875 39.890625 15.1875 32.171875 \r\nz\r\n\" id=\"DejaVuSans-7877\"/>\r\n       <path d=\"M 54.890625 33.015625 \r\nL 54.890625 0 \r\nL 45.90625 0 \r\nL 45.90625 32.71875 \r\nQ 45.90625 40.484375 42.875 44.328125 \r\nQ 39.84375 48.1875 33.796875 48.1875 \r\nQ 26.515625 48.1875 22.3125 43.546875 \r\nQ 18.109375 38.921875 18.109375 30.90625 \r\nL 18.109375 0 \r\nL 9.078125 0 \r\nL 9.078125 54.6875 \r\nL 18.109375 54.6875 \r\nL 18.109375 46.1875 \r\nQ 21.34375 51.125 25.703125 53.5625 \r\nQ 30.078125 56 35.796875 56 \r\nQ 45.21875 56 50.046875 50.171875 \r\nQ 54.890625 44.34375 54.890625 33.015625 \r\nz\r\n\" id=\"DejaVuSans-110\"/>\r\n       <path id=\"DejaVuSans-32\"/>\r\n       <path d=\"M 28.609375 0 \r\nL 0.78125 72.90625 \r\nL 11.078125 72.90625 \r\nL 34.1875 11.53125 \r\nL 57.328125 72.90625 \r\nL 67.578125 72.90625 \r\nL 39.796875 0 \r\nz\r\n\" id=\"DejaVuSans-86\"/>\r\n       <path d=\"M 13.578125 76.515625 \r\nL 19.34375 76.515625 \r\nQ 19.875 72.859375 22.234375 71.015625 \r\nQ 24.609375 69.1875 28.859375 69.1875 \r\nQ 33.0625 69.1875 35.40625 71 \r\nQ 37.75 72.8125 38.375 76.515625 \r\nL 44.140625 76.515625 \r\nQ 43.65625 69.53125 39.796875 66.015625 \r\nQ 35.9375 62.5 28.859375 62.5 \r\nQ 21.78125 62.5 17.921875 66.015625 \r\nQ 14.0625 69.53125 13.578125 76.515625 \r\nz\r\nM 34.28125 27.484375 \r\nQ 23.390625 27.484375 19.1875 25 \r\nQ 14.984375 22.515625 14.984375 16.5 \r\nQ 14.984375 11.71875 18.140625 8.90625 \r\nQ 21.296875 6.109375 26.703125 6.109375 \r\nQ 34.1875 6.109375 38.703125 11.40625 \r\nQ 43.21875 16.703125 43.21875 25.484375 \r\nL 43.21875 27.484375 \r\nz\r\nM 52.203125 31.203125 \r\nL 52.203125 0 \r\nL 43.21875 0 \r\nL 43.21875 8.296875 \r\nQ 40.140625 3.328125 35.546875 0.953125 \r\nQ 30.953125 -1.421875 24.3125 -1.421875 \r\nQ 15.921875 -1.421875 10.953125 3.296875 \r\nQ 6 8.015625 6 15.921875 \r\nQ 6 25.140625 12.171875 29.828125 \r\nQ 18.359375 34.515625 30.609375 34.515625 \r\nL 43.21875 34.515625 \r\nL 43.21875 35.40625 \r\nQ 43.21875 41.609375 39.140625 45 \r\nQ 35.0625 48.390625 27.6875 48.390625 \r\nQ 23 48.390625 18.546875 47.265625 \r\nQ 14.109375 46.140625 10.015625 43.890625 \r\nL 10.015625 52.203125 \r\nQ 14.9375 54.109375 19.578125 55.046875 \r\nQ 24.21875 56 28.609375 56 \r\nQ 40.484375 56 46.34375 49.84375 \r\nQ 52.203125 43.703125 52.203125 31.203125 \r\nz\r\n\" id=\"DejaVuSans-259\"/>\r\n       <path d=\"M 34.1875 63.1875 \r\nL 20.796875 26.90625 \r\nL 47.609375 26.90625 \r\nz\r\nM 28.609375 72.90625 \r\nL 39.796875 72.90625 \r\nL 67.578125 0 \r\nL 57.328125 0 \r\nL 50.6875 18.703125 \r\nL 17.828125 18.703125 \r\nL 11.1875 0 \r\nL 0.78125 0 \r\nz\r\n\" id=\"DejaVuSans-65\"/>\r\n       <path d=\"M 54.890625 33.015625 \r\nL 54.890625 0 \r\nL 45.90625 0 \r\nL 45.90625 32.71875 \r\nQ 45.90625 40.484375 42.875 44.328125 \r\nQ 39.84375 48.1875 33.796875 48.1875 \r\nQ 26.515625 48.1875 22.3125 43.546875 \r\nQ 18.109375 38.921875 18.109375 30.90625 \r\nL 18.109375 0 \r\nL 9.078125 0 \r\nL 9.078125 75.984375 \r\nL 18.109375 75.984375 \r\nL 18.109375 46.1875 \r\nQ 21.34375 51.125 25.703125 53.5625 \r\nQ 30.078125 56 35.796875 56 \r\nQ 45.21875 56 50.046875 50.171875 \r\nQ 54.890625 44.34375 54.890625 33.015625 \r\nz\r\n\" id=\"DejaVuSans-104\"/>\r\n       <path d=\"M -0.296875 72.90625 \r\nL 61.375 72.90625 \r\nL 61.375 64.59375 \r\nL 35.5 64.59375 \r\nL 35.5 0 \r\nL 25.59375 0 \r\nL 25.59375 64.59375 \r\nL -0.296875 64.59375 \r\nz\r\n\" id=\"DejaVuSans-84\"/>\r\n       <path d=\"M 24.46875 74.609375 \r\nL 33.640625 74.609375 \r\nL 43.953125 61.625 \r\nL 37.15625 61.625 \r\nL 29.046875 70.3125 \r\nL 20.953125 61.625 \r\nL 14.15625 61.625 \r\nz\r\nM 49.515625 84.625 \r\nL 58.546875 84.625 \r\nL 47.40625 71.734375 \r\nL 39.9375 71.734375 \r\nz\r\nM 34.28125 27.484375 \r\nQ 23.390625 27.484375 19.1875 25 \r\nQ 14.984375 22.515625 14.984375 16.5 \r\nQ 14.984375 11.71875 18.140625 8.90625 \r\nQ 21.296875 6.109375 26.703125 6.109375 \r\nQ 34.1875 6.109375 38.703125 11.40625 \r\nQ 43.21875 16.703125 43.21875 25.484375 \r\nL 43.21875 27.484375 \r\nz\r\nM 52.203125 31.203125 \r\nL 52.203125 0 \r\nL 43.21875 0 \r\nL 43.21875 8.296875 \r\nQ 40.140625 3.328125 35.546875 0.953125 \r\nQ 30.953125 -1.421875 24.3125 -1.421875 \r\nQ 15.921875 -1.421875 10.953125 3.296875 \r\nQ 6 8.015625 6 15.921875 \r\nQ 6 25.140625 12.171875 29.828125 \r\nQ 18.359375 34.515625 30.609375 34.515625 \r\nL 43.21875 34.515625 \r\nL 43.21875 35.40625 \r\nQ 43.21875 41.609375 39.140625 45 \r\nQ 35.0625 48.390625 27.6875 48.390625 \r\nQ 23 48.390625 18.546875 47.265625 \r\nQ 14.109375 46.140625 10.015625 43.890625 \r\nL 10.015625 52.203125 \r\nQ 14.9375 54.109375 19.578125 55.046875 \r\nQ 24.21875 56 28.609375 56 \r\nQ 40.484375 56 46.34375 49.84375 \r\nQ 52.203125 43.703125 52.203125 31.203125 \r\nz\r\n\" id=\"DejaVuSans-7845\"/>\r\n      </defs>\r\n      <g transform=\"translate(27.517642 271.815)scale(0.13 -0.13)\">\r\n       <use xlink:href=\"#DejaVuSans-78\"/>\r\n       <use x=\"74.804688\" xlink:href=\"#DejaVuSans-103\"/>\r\n       <use x=\"138.28125\" xlink:href=\"#DejaVuSans-117\"/>\r\n       <use x=\"201.660156\" xlink:href=\"#DejaVuSans-121\"/>\r\n       <use x=\"260.839844\" xlink:href=\"#DejaVuSans-7877\"/>\r\n       <use x=\"322.363281\" xlink:href=\"#DejaVuSans-110\"/>\r\n       <use x=\"385.742188\" xlink:href=\"#DejaVuSans-32\"/>\r\n       <use x=\"417.529297\" xlink:href=\"#DejaVuSans-86\"/>\r\n       <use x=\"485.9375\" xlink:href=\"#DejaVuSans-259\"/>\r\n       <use x=\"547.216797\" xlink:href=\"#DejaVuSans-110\"/>\r\n       <use x=\"610.595703\" xlink:href=\"#DejaVuSans-32\"/>\r\n       <use x=\"642.382812\" xlink:href=\"#DejaVuSans-65\"/>\r\n       <use x=\"710.791016\" xlink:href=\"#DejaVuSans-110\"/>\r\n       <use x=\"774.169922\" xlink:href=\"#DejaVuSans-104\"/>\r\n       <use x=\"837.548828\" xlink:href=\"#DejaVuSans-32\"/>\r\n       <use x=\"869.335938\" xlink:href=\"#DejaVuSans-84\"/>\r\n       <use x=\"915.294922\" xlink:href=\"#DejaVuSans-117\"/>\r\n       <use x=\"978.673828\" xlink:href=\"#DejaVuSans-7845\"/>\r\n       <use x=\"1039.953125\" xlink:href=\"#DejaVuSans-110\"/>\r\n      </g>\r\n     </g>\r\n    </g>\r\n    <g id=\"xtick_2\">\r\n     <g id=\"line2d_2\">\r\n      <g>\r\n       <use style=\"stroke:#000000;stroke-width:0.8;\" x=\"302.142045\" xlink:href=\"#m952c4b9ffe\" y=\"253.44\"/>\r\n      </g>\r\n     </g>\r\n     <g id=\"text_2\">\r\n      <!-- K15DS -->\r\n      <defs>\r\n       <path d=\"M 9.8125 72.90625 \r\nL 19.671875 72.90625 \r\nL 19.671875 42.09375 \r\nL 52.390625 72.90625 \r\nL 65.09375 72.90625 \r\nL 28.90625 38.921875 \r\nL 67.671875 0 \r\nL 54.6875 0 \r\nL 19.671875 35.109375 \r\nL 19.671875 0 \r\nL 9.8125 0 \r\nz\r\n\" id=\"DejaVuSans-75\"/>\r\n       <path d=\"M 12.40625 8.296875 \r\nL 28.515625 8.296875 \r\nL 28.515625 63.921875 \r\nL 10.984375 60.40625 \r\nL 10.984375 69.390625 \r\nL 28.421875 72.90625 \r\nL 38.28125 72.90625 \r\nL 38.28125 8.296875 \r\nL 54.390625 8.296875 \r\nL 54.390625 0 \r\nL 12.40625 0 \r\nz\r\n\" id=\"DejaVuSans-49\"/>\r\n       <path d=\"M 10.796875 72.90625 \r\nL 49.515625 72.90625 \r\nL 49.515625 64.59375 \r\nL 19.828125 64.59375 \r\nL 19.828125 46.734375 \r\nQ 21.96875 47.46875 24.109375 47.828125 \r\nQ 26.265625 48.1875 28.421875 48.1875 \r\nQ 40.625 48.1875 47.75 41.5 \r\nQ 54.890625 34.8125 54.890625 23.390625 \r\nQ 54.890625 11.625 47.5625 5.09375 \r\nQ 40.234375 -1.421875 26.90625 -1.421875 \r\nQ 22.3125 -1.421875 17.546875 -0.640625 \r\nQ 12.796875 0.140625 7.71875 1.703125 \r\nL 7.71875 11.625 \r\nQ 12.109375 9.234375 16.796875 8.0625 \r\nQ 21.484375 6.890625 26.703125 6.890625 \r\nQ 35.15625 6.890625 40.078125 11.328125 \r\nQ 45.015625 15.765625 45.015625 23.390625 \r\nQ 45.015625 31 40.078125 35.4375 \r\nQ 35.15625 39.890625 26.703125 39.890625 \r\nQ 22.75 39.890625 18.8125 39.015625 \r\nQ 14.890625 38.140625 10.796875 36.28125 \r\nz\r\n\" id=\"DejaVuSans-53\"/>\r\n       <path d=\"M 19.671875 64.796875 \r\nL 19.671875 8.109375 \r\nL 31.59375 8.109375 \r\nQ 46.6875 8.109375 53.6875 14.9375 \r\nQ 60.6875 21.78125 60.6875 36.53125 \r\nQ 60.6875 51.171875 53.6875 57.984375 \r\nQ 46.6875 64.796875 31.59375 64.796875 \r\nz\r\nM 9.8125 72.90625 \r\nL 30.078125 72.90625 \r\nQ 51.265625 72.90625 61.171875 64.09375 \r\nQ 71.09375 55.28125 71.09375 36.53125 \r\nQ 71.09375 17.671875 61.125 8.828125 \r\nQ 51.171875 0 30.078125 0 \r\nL 9.8125 0 \r\nz\r\n\" id=\"DejaVuSans-68\"/>\r\n       <path d=\"M 53.515625 70.515625 \r\nL 53.515625 60.890625 \r\nQ 47.90625 63.578125 42.921875 64.890625 \r\nQ 37.9375 66.21875 33.296875 66.21875 \r\nQ 25.25 66.21875 20.875 63.09375 \r\nQ 16.5 59.96875 16.5 54.203125 \r\nQ 16.5 49.359375 19.40625 46.890625 \r\nQ 22.3125 44.4375 30.421875 42.921875 \r\nL 36.375 41.703125 \r\nQ 47.40625 39.59375 52.65625 34.296875 \r\nQ 57.90625 29 57.90625 20.125 \r\nQ 57.90625 9.515625 50.796875 4.046875 \r\nQ 43.703125 -1.421875 29.984375 -1.421875 \r\nQ 24.8125 -1.421875 18.96875 -0.25 \r\nQ 13.140625 0.921875 6.890625 3.21875 \r\nL 6.890625 13.375 \r\nQ 12.890625 10.015625 18.65625 8.296875 \r\nQ 24.421875 6.59375 29.984375 6.59375 \r\nQ 38.421875 6.59375 43.015625 9.90625 \r\nQ 47.609375 13.234375 47.609375 19.390625 \r\nQ 47.609375 24.75 44.3125 27.78125 \r\nQ 41.015625 30.8125 33.5 32.328125 \r\nL 27.484375 33.5 \r\nQ 16.453125 35.6875 11.515625 40.375 \r\nQ 6.59375 45.0625 6.59375 53.421875 \r\nQ 6.59375 63.09375 13.40625 68.65625 \r\nQ 20.21875 74.21875 32.171875 74.21875 \r\nQ 37.3125 74.21875 42.625 73.28125 \r\nQ 47.953125 72.359375 53.515625 70.515625 \r\nz\r\n\" id=\"DejaVuSans-83\"/>\r\n      </defs>\r\n      <g transform=\"translate(280.476733 270.317969)scale(0.13 -0.13)\">\r\n       <use xlink:href=\"#DejaVuSans-75\"/>\r\n       <use x=\"65.576172\" xlink:href=\"#DejaVuSans-49\"/>\r\n       <use x=\"129.199219\" xlink:href=\"#DejaVuSans-53\"/>\r\n       <use x=\"192.822266\" xlink:href=\"#DejaVuSans-68\"/>\r\n       <use x=\"269.824219\" xlink:href=\"#DejaVuSans-83\"/>\r\n      </g>\r\n     </g>\r\n    </g>\r\n   </g>\r\n   <g id=\"matplotlib.axis_2\">\r\n    <g id=\"ytick_1\">\r\n     <g id=\"line2d_3\">\r\n      <defs>\r\n       <path d=\"M 0 0 \r\nL -3.5 0 \r\n\" id=\"m2c032be0a2\" style=\"stroke:#000000;stroke-width:0.8;\"/>\r\n      </defs>\r\n      <g>\r\n       <use style=\"stroke:#000000;stroke-width:0.8;\" x=\"33.2875\" xlink:href=\"#m2c032be0a2\" y=\"253.44\"/>\r\n      </g>\r\n     </g>\r\n     <g id=\"text_3\">\r\n      <!-- 0 -->\r\n      <defs>\r\n       <path d=\"M 31.78125 66.40625 \r\nQ 24.171875 66.40625 20.328125 58.90625 \r\nQ 16.5 51.421875 16.5 36.375 \r\nQ 16.5 21.390625 20.328125 13.890625 \r\nQ 24.171875 6.390625 31.78125 6.390625 \r\nQ 39.453125 6.390625 43.28125 13.890625 \r\nQ 47.125 21.390625 47.125 36.375 \r\nQ 47.125 51.421875 43.28125 58.90625 \r\nQ 39.453125 66.40625 31.78125 66.40625 \r\nz\r\nM 31.78125 74.21875 \r\nQ 44.046875 74.21875 50.515625 64.515625 \r\nQ 56.984375 54.828125 56.984375 36.375 \r\nQ 56.984375 17.96875 50.515625 8.265625 \r\nQ 44.046875 -1.421875 31.78125 -1.421875 \r\nQ 19.53125 -1.421875 13.0625 8.265625 \r\nQ 6.59375 17.96875 6.59375 36.375 \r\nQ 6.59375 54.828125 13.0625 64.515625 \r\nQ 19.53125 74.21875 31.78125 74.21875 \r\nz\r\n\" id=\"DejaVuSans-48\"/>\r\n      </defs>\r\n      <g transform=\"translate(19.925 257.239219)scale(0.1 -0.1)\">\r\n       <use xlink:href=\"#DejaVuSans-48\"/>\r\n      </g>\r\n     </g>\r\n    </g>\r\n    <g id=\"ytick_2\">\r\n     <g id=\"line2d_4\">\r\n      <g>\r\n       <use style=\"stroke:#000000;stroke-width:0.8;\" x=\"33.2875\" xlink:href=\"#m2c032be0a2\" y=\"224.272998\"/>\r\n      </g>\r\n     </g>\r\n     <g id=\"text_4\">\r\n      <!-- 20 -->\r\n      <defs>\r\n       <path d=\"M 19.1875 8.296875 \r\nL 53.609375 8.296875 \r\nL 53.609375 0 \r\nL 7.328125 0 \r\nL 7.328125 8.296875 \r\nQ 12.9375 14.109375 22.625 23.890625 \r\nQ 32.328125 33.6875 34.8125 36.53125 \r\nQ 39.546875 41.84375 41.421875 45.53125 \r\nQ 43.3125 49.21875 43.3125 52.78125 \r\nQ 43.3125 58.59375 39.234375 62.25 \r\nQ 35.15625 65.921875 28.609375 65.921875 \r\nQ 23.96875 65.921875 18.8125 64.3125 \r\nQ 13.671875 62.703125 7.8125 59.421875 \r\nL 7.8125 69.390625 \r\nQ 13.765625 71.78125 18.9375 73 \r\nQ 24.125 74.21875 28.421875 74.21875 \r\nQ 39.75 74.21875 46.484375 68.546875 \r\nQ 53.21875 62.890625 53.21875 53.421875 \r\nQ 53.21875 48.921875 51.53125 44.890625 \r\nQ 49.859375 40.875 45.40625 35.40625 \r\nQ 44.1875 33.984375 37.640625 27.21875 \r\nQ 31.109375 20.453125 19.1875 8.296875 \r\nz\r\n\" id=\"DejaVuSans-50\"/>\r\n      </defs>\r\n      <g transform=\"translate(13.5625 228.072217)scale(0.1 -0.1)\">\r\n       <use xlink:href=\"#DejaVuSans-50\"/>\r\n       <use x=\"63.623047\" xlink:href=\"#DejaVuSans-48\"/>\r\n      </g>\r\n     </g>\r\n    </g>\r\n    <g id=\"ytick_3\">\r\n     <g id=\"line2d_5\">\r\n      <g>\r\n       <use style=\"stroke:#000000;stroke-width:0.8;\" x=\"33.2875\" xlink:href=\"#m2c032be0a2\" y=\"195.105996\"/>\r\n      </g>\r\n     </g>\r\n     <g id=\"text_5\">\r\n      <!-- 40 -->\r\n      <defs>\r\n       <path d=\"M 37.796875 64.3125 \r\nL 12.890625 25.390625 \r\nL 37.796875 25.390625 \r\nz\r\nM 35.203125 72.90625 \r\nL 47.609375 72.90625 \r\nL 47.609375 25.390625 \r\nL 58.015625 25.390625 \r\nL 58.015625 17.1875 \r\nL 47.609375 17.1875 \r\nL 47.609375 0 \r\nL 37.796875 0 \r\nL 37.796875 17.1875 \r\nL 4.890625 17.1875 \r\nL 4.890625 26.703125 \r\nz\r\n\" id=\"DejaVuSans-52\"/>\r\n      </defs>\r\n      <g transform=\"translate(13.5625 198.905215)scale(0.1 -0.1)\">\r\n       <use xlink:href=\"#DejaVuSans-52\"/>\r\n       <use x=\"63.623047\" xlink:href=\"#DejaVuSans-48\"/>\r\n      </g>\r\n     </g>\r\n    </g>\r\n    <g id=\"ytick_4\">\r\n     <g id=\"line2d_6\">\r\n      <g>\r\n       <use style=\"stroke:#000000;stroke-width:0.8;\" x=\"33.2875\" xlink:href=\"#m2c032be0a2\" y=\"165.938994\"/>\r\n      </g>\r\n     </g>\r\n     <g id=\"text_6\">\r\n      <!-- 60 -->\r\n      <defs>\r\n       <path d=\"M 33.015625 40.375 \r\nQ 26.375 40.375 22.484375 35.828125 \r\nQ 18.609375 31.296875 18.609375 23.390625 \r\nQ 18.609375 15.53125 22.484375 10.953125 \r\nQ 26.375 6.390625 33.015625 6.390625 \r\nQ 39.65625 6.390625 43.53125 10.953125 \r\nQ 47.40625 15.53125 47.40625 23.390625 \r\nQ 47.40625 31.296875 43.53125 35.828125 \r\nQ 39.65625 40.375 33.015625 40.375 \r\nz\r\nM 52.59375 71.296875 \r\nL 52.59375 62.3125 \r\nQ 48.875 64.0625 45.09375 64.984375 \r\nQ 41.3125 65.921875 37.59375 65.921875 \r\nQ 27.828125 65.921875 22.671875 59.328125 \r\nQ 17.53125 52.734375 16.796875 39.40625 \r\nQ 19.671875 43.65625 24.015625 45.921875 \r\nQ 28.375 48.1875 33.59375 48.1875 \r\nQ 44.578125 48.1875 50.953125 41.515625 \r\nQ 57.328125 34.859375 57.328125 23.390625 \r\nQ 57.328125 12.15625 50.6875 5.359375 \r\nQ 44.046875 -1.421875 33.015625 -1.421875 \r\nQ 20.359375 -1.421875 13.671875 8.265625 \r\nQ 6.984375 17.96875 6.984375 36.375 \r\nQ 6.984375 53.65625 15.1875 63.9375 \r\nQ 23.390625 74.21875 37.203125 74.21875 \r\nQ 40.921875 74.21875 44.703125 73.484375 \r\nQ 48.484375 72.75 52.59375 71.296875 \r\nz\r\n\" id=\"DejaVuSans-54\"/>\r\n      </defs>\r\n      <g transform=\"translate(13.5625 169.738213)scale(0.1 -0.1)\">\r\n       <use xlink:href=\"#DejaVuSans-54\"/>\r\n       <use x=\"63.623047\" xlink:href=\"#DejaVuSans-48\"/>\r\n      </g>\r\n     </g>\r\n    </g>\r\n    <g id=\"ytick_5\">\r\n     <g id=\"line2d_7\">\r\n      <g>\r\n       <use style=\"stroke:#000000;stroke-width:0.8;\" x=\"33.2875\" xlink:href=\"#m2c032be0a2\" y=\"136.771992\"/>\r\n      </g>\r\n     </g>\r\n     <g id=\"text_7\">\r\n      <!-- 80 -->\r\n      <defs>\r\n       <path d=\"M 31.78125 34.625 \r\nQ 24.75 34.625 20.71875 30.859375 \r\nQ 16.703125 27.09375 16.703125 20.515625 \r\nQ 16.703125 13.921875 20.71875 10.15625 \r\nQ 24.75 6.390625 31.78125 6.390625 \r\nQ 38.8125 6.390625 42.859375 10.171875 \r\nQ 46.921875 13.96875 46.921875 20.515625 \r\nQ 46.921875 27.09375 42.890625 30.859375 \r\nQ 38.875 34.625 31.78125 34.625 \r\nz\r\nM 21.921875 38.8125 \r\nQ 15.578125 40.375 12.03125 44.71875 \r\nQ 8.5 49.078125 8.5 55.328125 \r\nQ 8.5 64.0625 14.71875 69.140625 \r\nQ 20.953125 74.21875 31.78125 74.21875 \r\nQ 42.671875 74.21875 48.875 69.140625 \r\nQ 55.078125 64.0625 55.078125 55.328125 \r\nQ 55.078125 49.078125 51.53125 44.71875 \r\nQ 48 40.375 41.703125 38.8125 \r\nQ 48.828125 37.15625 52.796875 32.3125 \r\nQ 56.78125 27.484375 56.78125 20.515625 \r\nQ 56.78125 9.90625 50.3125 4.234375 \r\nQ 43.84375 -1.421875 31.78125 -1.421875 \r\nQ 19.734375 -1.421875 13.25 4.234375 \r\nQ 6.78125 9.90625 6.78125 20.515625 \r\nQ 6.78125 27.484375 10.78125 32.3125 \r\nQ 14.796875 37.15625 21.921875 38.8125 \r\nz\r\nM 18.3125 54.390625 \r\nQ 18.3125 48.734375 21.84375 45.5625 \r\nQ 25.390625 42.390625 31.78125 42.390625 \r\nQ 38.140625 42.390625 41.71875 45.5625 \r\nQ 45.3125 48.734375 45.3125 54.390625 \r\nQ 45.3125 60.0625 41.71875 63.234375 \r\nQ 38.140625 66.40625 31.78125 66.40625 \r\nQ 25.390625 66.40625 21.84375 63.234375 \r\nQ 18.3125 60.0625 18.3125 54.390625 \r\nz\r\n\" id=\"DejaVuSans-56\"/>\r\n      </defs>\r\n      <g transform=\"translate(13.5625 140.571211)scale(0.1 -0.1)\">\r\n       <use xlink:href=\"#DejaVuSans-56\"/>\r\n       <use x=\"63.623047\" xlink:href=\"#DejaVuSans-48\"/>\r\n      </g>\r\n     </g>\r\n    </g>\r\n    <g id=\"ytick_6\">\r\n     <g id=\"line2d_8\">\r\n      <g>\r\n       <use style=\"stroke:#000000;stroke-width:0.8;\" x=\"33.2875\" xlink:href=\"#m2c032be0a2\" y=\"107.60499\"/>\r\n      </g>\r\n     </g>\r\n     <g id=\"text_8\">\r\n      <!-- 100 -->\r\n      <g transform=\"translate(7.2 111.404209)scale(0.1 -0.1)\">\r\n       <use xlink:href=\"#DejaVuSans-49\"/>\r\n       <use x=\"63.623047\" xlink:href=\"#DejaVuSans-48\"/>\r\n       <use x=\"127.246094\" xlink:href=\"#DejaVuSans-48\"/>\r\n      </g>\r\n     </g>\r\n    </g>\r\n    <g id=\"ytick_7\">\r\n     <g id=\"line2d_9\">\r\n      <g>\r\n       <use style=\"stroke:#000000;stroke-width:0.8;\" x=\"33.2875\" xlink:href=\"#m2c032be0a2\" y=\"78.437988\"/>\r\n      </g>\r\n     </g>\r\n     <g id=\"text_9\">\r\n      <!-- 120 -->\r\n      <g transform=\"translate(7.2 82.237207)scale(0.1 -0.1)\">\r\n       <use xlink:href=\"#DejaVuSans-49\"/>\r\n       <use x=\"63.623047\" xlink:href=\"#DejaVuSans-50\"/>\r\n       <use x=\"127.246094\" xlink:href=\"#DejaVuSans-48\"/>\r\n      </g>\r\n     </g>\r\n    </g>\r\n    <g id=\"ytick_8\">\r\n     <g id=\"line2d_10\">\r\n      <g>\r\n       <use style=\"stroke:#000000;stroke-width:0.8;\" x=\"33.2875\" xlink:href=\"#m2c032be0a2\" y=\"49.270986\"/>\r\n      </g>\r\n     </g>\r\n     <g id=\"text_10\">\r\n      <!-- 140 -->\r\n      <g transform=\"translate(7.2 53.070205)scale(0.1 -0.1)\">\r\n       <use xlink:href=\"#DejaVuSans-49\"/>\r\n       <use x=\"63.623047\" xlink:href=\"#DejaVuSans-52\"/>\r\n       <use x=\"127.246094\" xlink:href=\"#DejaVuSans-48\"/>\r\n      </g>\r\n     </g>\r\n    </g>\r\n   </g>\r\n   <g id=\"patch_7\">\r\n    <path d=\"M 33.2875 253.44 \r\nL 33.2875 36 \r\n\" style=\"fill:none;stroke:#000000;stroke-linecap:square;stroke-linejoin:miter;stroke-width:0.8;\"/>\r\n   </g>\r\n   <g id=\"patch_8\">\r\n    <path d=\"M 368.0875 253.44 \r\nL 368.0875 36 \r\n\" style=\"fill:none;stroke:#000000;stroke-linecap:square;stroke-linejoin:miter;stroke-width:0.8;\"/>\r\n   </g>\r\n   <g id=\"patch_9\">\r\n    <path d=\"M 33.2875 253.44 \r\nL 368.0875 253.44 \r\n\" style=\"fill:none;stroke:#000000;stroke-linecap:square;stroke-linejoin:miter;stroke-width:0.8;\"/>\r\n   </g>\r\n   <g id=\"patch_10\">\r\n    <path d=\"M 33.2875 36 \r\nL 368.0875 36 \r\n\" style=\"fill:none;stroke:#000000;stroke-linecap:square;stroke-linejoin:miter;stroke-width:0.8;\"/>\r\n   </g>\r\n   <g id=\"legend_1\">\r\n    <g id=\"patch_11\">\r\n     <path d=\"M 161.228125 73.35625 \r\nL 240.146875 73.35625 \r\nQ 242.146875 73.35625 242.146875 71.35625 \r\nL 242.146875 43 \r\nQ 242.146875 41 240.146875 41 \r\nL 161.228125 41 \r\nQ 159.228125 41 159.228125 43 \r\nL 159.228125 71.35625 \r\nQ 159.228125 73.35625 161.228125 73.35625 \r\nz\r\n\" style=\"fill:#ffffff;opacity:0.8;stroke:#cccccc;stroke-linejoin:miter;\"/>\r\n    </g>\r\n    <g id=\"patch_12\">\r\n     <path d=\"M 163.228125 52.598437 \r\nL 183.228125 52.598437 \r\nL 183.228125 45.598437 \r\nL 163.228125 45.598437 \r\nz\r\n\" style=\"fill:#1f77b4;stroke:#000000;stroke-linejoin:miter;\"/>\r\n    </g>\r\n    <g id=\"text_11\">\r\n     <!-- Đã học -->\r\n     <defs>\r\n      <path d=\"M 10.296875 72.90625 \r\nL 30.609375 72.90625 \r\nQ 51.765625 72.90625 61.671875 64.09375 \r\nQ 71.578125 55.28125 71.578125 36.53125 \r\nQ 71.578125 17.671875 61.640625 8.828125 \r\nQ 51.703125 0 30.609375 0 \r\nL 10.296875 0 \r\nL 10.296875 34.1875 \r\nL 0.484375 34.1875 \r\nL 0.484375 41.21875 \r\nL 10.296875 41.21875 \r\nz\r\nM 20.21875 64.796875 \r\nL 20.21875 41.21875 \r\nL 36.625 41.21875 \r\nL 36.625 34.1875 \r\nL 20.21875 34.1875 \r\nL 20.21875 8.109375 \r\nL 32.078125 8.109375 \r\nQ 47.171875 8.109375 54.171875 14.9375 \r\nQ 61.1875 21.78125 61.1875 36.53125 \r\nQ 61.1875 51.171875 54.171875 57.984375 \r\nQ 47.171875 64.796875 32.078125 64.796875 \r\nz\r\n\" id=\"DejaVuSans-272\"/>\r\n      <path d=\"M 34.28125 27.484375 \r\nQ 23.390625 27.484375 19.1875 25 \r\nQ 14.984375 22.515625 14.984375 16.5 \r\nQ 14.984375 11.71875 18.140625 8.90625 \r\nQ 21.296875 6.109375 26.703125 6.109375 \r\nQ 34.1875 6.109375 38.703125 11.40625 \r\nQ 43.21875 16.703125 43.21875 25.484375 \r\nL 43.21875 27.484375 \r\nz\r\nM 52.203125 31.203125 \r\nL 52.203125 0 \r\nL 43.21875 0 \r\nL 43.21875 8.296875 \r\nQ 40.140625 3.328125 35.546875 0.953125 \r\nQ 30.953125 -1.421875 24.3125 -1.421875 \r\nQ 15.921875 -1.421875 10.953125 3.296875 \r\nQ 6 8.015625 6 15.921875 \r\nQ 6 25.140625 12.171875 29.828125 \r\nQ 18.359375 34.515625 30.609375 34.515625 \r\nL 43.21875 34.515625 \r\nL 43.21875 35.40625 \r\nQ 43.21875 41.609375 39.140625 45 \r\nQ 35.0625 48.390625 27.6875 48.390625 \r\nQ 23 48.390625 18.546875 47.265625 \r\nQ 14.109375 46.140625 10.015625 43.890625 \r\nL 10.015625 52.203125 \r\nQ 14.9375 54.109375 19.578125 55.046875 \r\nQ 24.21875 56 28.609375 56 \r\nQ 40.484375 56 46.34375 49.84375 \r\nQ 52.203125 43.703125 52.203125 31.203125 \r\nz\r\nM 28.8125 66.890625 \r\nL 26.03125 69.578125 \r\nQ 24.953125 70.5625 24.140625 71.015625 \r\nQ 23.34375 71.484375 22.703125 71.484375 \r\nQ 20.84375 71.484375 19.96875 69.703125 \r\nQ 19.09375 67.921875 19 63.921875 \r\nL 12.890625 63.921875 \r\nQ 12.984375 70.515625 15.46875 74.09375 \r\nQ 17.96875 77.6875 22.40625 77.6875 \r\nQ 24.265625 77.6875 25.828125 77 \r\nQ 27.390625 76.3125 29.203125 74.703125 \r\nL 31.984375 72.015625 \r\nQ 33.0625 71.046875 33.859375 70.578125 \r\nQ 34.671875 70.125 35.296875 70.125 \r\nQ 37.15625 70.125 38.03125 71.90625 \r\nQ 38.921875 73.6875 39.015625 77.6875 \r\nL 45.125 77.6875 \r\nQ 45.015625 71.09375 42.53125 67.5 \r\nQ 40.046875 63.921875 35.59375 63.921875 \r\nQ 33.734375 63.921875 32.171875 64.59375 \r\nQ 30.609375 65.28125 28.8125 66.890625 \r\nz\r\n\" id=\"DejaVuSans-227\"/>\r\n      <path d=\"M 30.609375 48.390625 \r\nQ 23.390625 48.390625 19.1875 42.75 \r\nQ 14.984375 37.109375 14.984375 27.296875 \r\nQ 14.984375 17.484375 19.15625 11.84375 \r\nQ 23.34375 6.203125 30.609375 6.203125 \r\nQ 37.796875 6.203125 41.984375 11.859375 \r\nQ 46.1875 17.53125 46.1875 27.296875 \r\nQ 46.1875 37.015625 41.984375 42.703125 \r\nQ 37.796875 48.390625 30.609375 48.390625 \r\nz\r\nM 30.609375 56 \r\nQ 42.328125 56 49.015625 48.375 \r\nQ 55.71875 40.765625 55.71875 27.296875 \r\nQ 55.71875 13.875 49.015625 6.21875 \r\nQ 42.328125 -1.421875 30.609375 -1.421875 \r\nQ 18.84375 -1.421875 12.171875 6.21875 \r\nQ 5.515625 13.875 5.515625 27.296875 \r\nQ 5.515625 40.765625 12.171875 48.375 \r\nQ 18.84375 56 30.609375 56 \r\nz\r\nM 26.03125 -6.890625 \r\nL 35.015625 -6.890625 \r\nL 35.015625 -18.3125 \r\nL 26.03125 -18.3125 \r\nz\r\n\" id=\"DejaVuSans-7885\"/>\r\n      <path d=\"M 48.78125 52.59375 \r\nL 48.78125 44.1875 \r\nQ 44.96875 46.296875 41.140625 47.34375 \r\nQ 37.3125 48.390625 33.40625 48.390625 \r\nQ 24.65625 48.390625 19.8125 42.84375 \r\nQ 14.984375 37.3125 14.984375 27.296875 \r\nQ 14.984375 17.28125 19.8125 11.734375 \r\nQ 24.65625 6.203125 33.40625 6.203125 \r\nQ 37.3125 6.203125 41.140625 7.25 \r\nQ 44.96875 8.296875 48.78125 10.40625 \r\nL 48.78125 2.09375 \r\nQ 45.015625 0.34375 40.984375 -0.53125 \r\nQ 36.96875 -1.421875 32.421875 -1.421875 \r\nQ 20.0625 -1.421875 12.78125 6.34375 \r\nQ 5.515625 14.109375 5.515625 27.296875 \r\nQ 5.515625 40.671875 12.859375 48.328125 \r\nQ 20.21875 56 33.015625 56 \r\nQ 37.15625 56 41.109375 55.140625 \r\nQ 45.0625 54.296875 48.78125 52.59375 \r\nz\r\n\" id=\"DejaVuSans-99\"/>\r\n     </defs>\r\n     <g transform=\"translate(191.228125 52.598437)scale(0.1 -0.1)\">\r\n      <use xlink:href=\"#DejaVuSans-272\"/>\r\n      <use x=\"77.490234\" xlink:href=\"#DejaVuSans-227\"/>\r\n      <use x=\"138.769531\" xlink:href=\"#DejaVuSans-32\"/>\r\n      <use x=\"170.556641\" xlink:href=\"#DejaVuSans-104\"/>\r\n      <use x=\"233.935547\" xlink:href=\"#DejaVuSans-7885\"/>\r\n      <use x=\"295.117188\" xlink:href=\"#DejaVuSans-99\"/>\r\n     </g>\r\n    </g>\r\n    <g id=\"patch_13\">\r\n     <path d=\"M 163.228125 67.276562 \r\nL 183.228125 67.276562 \r\nL 183.228125 60.276562 \r\nL 163.228125 60.276562 \r\nz\r\n\" style=\"fill:#ff7f0e;stroke:#000000;stroke-linejoin:miter;\"/>\r\n    </g>\r\n    <g id=\"text_12\">\r\n     <!-- Chưa học -->\r\n     <defs>\r\n      <path d=\"M 64.40625 67.28125 \r\nL 64.40625 56.890625 \r\nQ 59.421875 61.53125 53.78125 63.8125 \r\nQ 48.140625 66.109375 41.796875 66.109375 \r\nQ 29.296875 66.109375 22.65625 58.46875 \r\nQ 16.015625 50.828125 16.015625 36.375 \r\nQ 16.015625 21.96875 22.65625 14.328125 \r\nQ 29.296875 6.6875 41.796875 6.6875 \r\nQ 48.140625 6.6875 53.78125 8.984375 \r\nQ 59.421875 11.28125 64.40625 15.921875 \r\nL 64.40625 5.609375 \r\nQ 59.234375 2.09375 53.4375 0.328125 \r\nQ 47.65625 -1.421875 41.21875 -1.421875 \r\nQ 24.65625 -1.421875 15.125 8.703125 \r\nQ 5.609375 18.84375 5.609375 36.375 \r\nQ 5.609375 53.953125 15.125 64.078125 \r\nQ 24.65625 74.21875 41.21875 74.21875 \r\nQ 47.75 74.21875 53.53125 72.484375 \r\nQ 59.328125 70.75 64.40625 67.28125 \r\nz\r\n\" id=\"DejaVuSans-67\"/>\r\n      <path d=\"M 48.34375 48.53125 \r\nL 48.34375 54.34375 \r\nQ 51.3125 52.140625 53.453125 51.09375 \r\nQ 55.609375 50.046875 57.125 50.046875 \r\nQ 59.375 50.046875 60.5 51.390625 \r\nQ 61.625 52.734375 61.625 55.359375 \r\nQ 61.625 56.921875 61.25 58.4375 \r\nQ 60.890625 59.953125 60.15625 61.46875 \r\nL 66.65625 61.46875 \r\nQ 67.140625 59.609375 67.375 57.953125 \r\nQ 67.625 56.296875 67.625 54.828125 \r\nQ 67.625 48.875 65.5 46.0625 \r\nQ 63.375 43.25 58.84375 43.25 \r\nQ 56.5 43.25 53.9375 44.546875 \r\nQ 51.375 45.84375 48.34375 48.53125 \r\nz\r\nM 8.59375 21.578125 \r\nL 8.59375 54.6875 \r\nL 17.578125 54.6875 \r\nL 17.578125 21.921875 \r\nQ 17.578125 14.15625 20.609375 10.265625 \r\nQ 23.640625 6.390625 29.6875 6.390625 \r\nQ 36.96875 6.390625 41.1875 11.03125 \r\nQ 45.40625 15.671875 45.40625 23.6875 \r\nL 45.40625 54.6875 \r\nL 54.390625 54.6875 \r\nL 54.390625 0 \r\nL 45.40625 0 \r\nL 45.40625 8.40625 \r\nQ 42.140625 3.421875 37.8125 1 \r\nQ 33.5 -1.421875 27.78125 -1.421875 \r\nQ 18.359375 -1.421875 13.46875 4.4375 \r\nQ 8.59375 10.296875 8.59375 21.578125 \r\nz\r\nM 31.203125 56 \r\nz\r\n\" id=\"DejaVuSans-432\"/>\r\n      <path d=\"M 34.28125 27.484375 \r\nQ 23.390625 27.484375 19.1875 25 \r\nQ 14.984375 22.515625 14.984375 16.5 \r\nQ 14.984375 11.71875 18.140625 8.90625 \r\nQ 21.296875 6.109375 26.703125 6.109375 \r\nQ 34.1875 6.109375 38.703125 11.40625 \r\nQ 43.21875 16.703125 43.21875 25.484375 \r\nL 43.21875 27.484375 \r\nz\r\nM 52.203125 31.203125 \r\nL 52.203125 0 \r\nL 43.21875 0 \r\nL 43.21875 8.296875 \r\nQ 40.140625 3.328125 35.546875 0.953125 \r\nQ 30.953125 -1.421875 24.3125 -1.421875 \r\nQ 15.921875 -1.421875 10.953125 3.296875 \r\nQ 6 8.015625 6 15.921875 \r\nQ 6 25.140625 12.171875 29.828125 \r\nQ 18.359375 34.515625 30.609375 34.515625 \r\nL 43.21875 34.515625 \r\nL 43.21875 35.40625 \r\nQ 43.21875 41.609375 39.140625 45 \r\nQ 35.0625 48.390625 27.6875 48.390625 \r\nQ 23 48.390625 18.546875 47.265625 \r\nQ 14.109375 46.140625 10.015625 43.890625 \r\nL 10.015625 52.203125 \r\nQ 14.9375 54.109375 19.578125 55.046875 \r\nQ 24.21875 56 28.609375 56 \r\nQ 40.484375 56 46.34375 49.84375 \r\nQ 52.203125 43.703125 52.203125 31.203125 \r\nz\r\n\" id=\"DejaVuSans-97\"/>\r\n     </defs>\r\n     <g transform=\"translate(191.228125 67.276562)scale(0.1 -0.1)\">\r\n      <use xlink:href=\"#DejaVuSans-67\"/>\r\n      <use x=\"69.824219\" xlink:href=\"#DejaVuSans-104\"/>\r\n      <use x=\"133.203125\" xlink:href=\"#DejaVuSans-432\"/>\r\n      <use x=\"196.582031\" xlink:href=\"#DejaVuSans-97\"/>\r\n      <use x=\"257.861328\" xlink:href=\"#DejaVuSans-32\"/>\r\n      <use x=\"289.648438\" xlink:href=\"#DejaVuSans-104\"/>\r\n      <use x=\"353.027344\" xlink:href=\"#DejaVuSans-7885\"/>\r\n      <use x=\"414.208984\" xlink:href=\"#DejaVuSans-99\"/>\r\n     </g>\r\n    </g>\r\n   </g>\r\n  </g>\r\n  <g id=\"text_13\">\r\n   <!-- Số tín chỉ đã học của Nguyễn Văn anh Tuấn -->\r\n   <defs>\r\n    <path d=\"M 25.984375 74.609375 \r\nL 35.15625 74.609375 \r\nL 45.453125 61.625 \r\nL 38.671875 61.625 \r\nL 30.5625 70.3125 \r\nL 22.46875 61.625 \r\nL 15.671875 61.625 \r\nz\r\nM 51.03125 84.625 \r\nL 60.0625 84.625 \r\nL 48.921875 71.734375 \r\nL 41.453125 71.734375 \r\nz\r\nM 30.609375 48.390625 \r\nQ 23.390625 48.390625 19.1875 42.75 \r\nQ 14.984375 37.109375 14.984375 27.296875 \r\nQ 14.984375 17.484375 19.15625 11.84375 \r\nQ 23.34375 6.203125 30.609375 6.203125 \r\nQ 37.796875 6.203125 41.984375 11.859375 \r\nQ 46.1875 17.53125 46.1875 27.296875 \r\nQ 46.1875 37.015625 41.984375 42.703125 \r\nQ 37.796875 48.390625 30.609375 48.390625 \r\nz\r\nM 30.609375 56 \r\nQ 42.328125 56 49.015625 48.375 \r\nQ 55.71875 40.765625 55.71875 27.296875 \r\nQ 55.71875 13.875 49.015625 6.21875 \r\nQ 42.328125 -1.421875 30.609375 -1.421875 \r\nQ 18.84375 -1.421875 12.171875 6.21875 \r\nQ 5.515625 13.875 5.515625 27.296875 \r\nQ 5.515625 40.765625 12.171875 48.375 \r\nQ 18.84375 56 30.609375 56 \r\nz\r\n\" id=\"DejaVuSans-7889\"/>\r\n    <path d=\"M 18.3125 70.21875 \r\nL 18.3125 54.6875 \r\nL 36.8125 54.6875 \r\nL 36.8125 47.703125 \r\nL 18.3125 47.703125 \r\nL 18.3125 18.015625 \r\nQ 18.3125 11.328125 20.140625 9.421875 \r\nQ 21.96875 7.515625 27.59375 7.515625 \r\nL 36.8125 7.515625 \r\nL 36.8125 0 \r\nL 27.59375 0 \r\nQ 17.1875 0 13.234375 3.875 \r\nQ 9.28125 7.765625 9.28125 18.015625 \r\nL 9.28125 47.703125 \r\nL 2.6875 47.703125 \r\nL 2.6875 54.6875 \r\nL 9.28125 54.6875 \r\nL 9.28125 70.21875 \r\nz\r\n\" id=\"DejaVuSans-116\"/>\r\n    <path d=\"M 20.703125 79.984375 \r\nL 30.421875 79.984375 \r\nL 14.5 61.625 \r\nL 7.03125 61.625 \r\nz\r\nM 9.421875 54.6875 \r\nL 18.40625 54.6875 \r\nL 18.40625 0 \r\nL 9.421875 0 \r\nz\r\nM 13.921875 56 \r\nz\r\n\" id=\"DejaVuSans-237\"/>\r\n    <path d=\"M 9.421875 54.6875 \r\nL 18.40625 54.6875 \r\nL 18.40625 0 \r\nL 9.421875 0 \r\nz\r\nM 13.921875 56 \r\nz\r\nM 3.328125 78.5625 \r\nQ 8.796875 81.046875 13.921875 81.046875 \r\nQ 19 81.046875 22.09375 78.96875 \r\nQ 25.203125 76.90625 25.203125 73.625 \r\nQ 25.203125 70.65625 20.90625 67.484375 \r\nL 18.75 65.921875 \r\nQ 17.046875 64.640625 16.84375 64.203125 \r\nQ 16.5 63.421875 16.5 61.859375 \r\nL 10.6875 61.859375 \r\nL 10.6875 62.453125 \r\nQ 10.6875 64.40625 11.421875 65.71875 \r\nQ 12.15625 67.046875 14.65625 68.84375 \r\nL 16.84375 70.5 \r\nQ 19.09375 72.171875 19.09375 74.125 \r\nQ 19.09375 75.140625 17.578125 76.015625 \r\nQ 16.0625 76.90625 12.59375 76.90625 \r\nQ 8.203125 76.90625 3.328125 74.359375 \r\nz\r\n\" id=\"DejaVuSans-7881\"/>\r\n    <path d=\"M 45.40625 46.390625 \r\nL 45.40625 62.703125 \r\nL 29.5 62.703125 \r\nL 29.5 68.796875 \r\nL 45.40625 68.796875 \r\nL 45.40625 75.984375 \r\nL 54.390625 75.984375 \r\nL 54.390625 68.796875 \r\nL 61.921875 68.796875 \r\nL 61.921875 62.703125 \r\nL 54.390625 62.703125 \r\nL 54.390625 0 \r\nL 45.40625 0 \r\nL 45.40625 8.203125 \r\nQ 42.578125 3.328125 38.25 0.953125 \r\nQ 33.9375 -1.421875 27.875 -1.421875 \r\nQ 17.96875 -1.421875 11.734375 6.484375 \r\nQ 5.515625 14.40625 5.515625 27.296875 \r\nQ 5.515625 40.1875 11.734375 48.09375 \r\nQ 17.96875 56 27.875 56 \r\nQ 33.9375 56 38.25 53.625 \r\nQ 42.578125 51.265625 45.40625 46.390625 \r\nz\r\nM 14.796875 27.296875 \r\nQ 14.796875 17.390625 18.875 11.75 \r\nQ 22.953125 6.109375 30.078125 6.109375 \r\nQ 37.203125 6.109375 41.296875 11.75 \r\nQ 45.40625 17.390625 45.40625 27.296875 \r\nQ 45.40625 37.203125 41.296875 42.84375 \r\nQ 37.203125 48.484375 30.078125 48.484375 \r\nQ 22.953125 48.484375 18.875 42.84375 \r\nQ 14.796875 37.203125 14.796875 27.296875 \r\nz\r\n\" id=\"DejaVuSans-273\"/>\r\n    <path d=\"M 8.5 21.578125 \r\nL 8.5 54.6875 \r\nL 17.484375 54.6875 \r\nL 17.484375 21.921875 \r\nQ 17.484375 14.15625 20.5 10.265625 \r\nQ 23.53125 6.390625 29.59375 6.390625 \r\nQ 36.859375 6.390625 41.078125 11.03125 \r\nQ 45.3125 15.671875 45.3125 23.6875 \r\nL 45.3125 54.6875 \r\nL 54.296875 54.6875 \r\nL 54.296875 0 \r\nL 45.3125 0 \r\nL 45.3125 8.40625 \r\nQ 42.046875 3.421875 37.71875 1 \r\nQ 33.40625 -1.421875 27.6875 -1.421875 \r\nQ 18.265625 -1.421875 13.375 4.4375 \r\nQ 8.5 10.296875 8.5 21.578125 \r\nz\r\nM 31.109375 56 \r\nz\r\nM 21.296875 78.515625 \r\nQ 26.765625 81 31.890625 81 \r\nQ 36.96875 81 40.0625 78.921875 \r\nQ 43.171875 76.859375 43.171875 73.578125 \r\nQ 43.171875 70.609375 38.875 67.4375 \r\nL 36.71875 65.875 \r\nQ 35.015625 64.59375 34.8125 64.15625 \r\nQ 34.46875 63.375 34.46875 61.8125 \r\nL 28.65625 61.8125 \r\nL 28.65625 62.40625 \r\nQ 28.65625 64.359375 29.390625 65.671875 \r\nQ 30.125 67 32.625 68.796875 \r\nL 34.8125 70.453125 \r\nQ 37.0625 72.125 37.0625 74.078125 \r\nQ 37.0625 75.09375 35.546875 75.96875 \r\nQ 34.03125 76.859375 30.5625 76.859375 \r\nQ 26.171875 76.859375 21.296875 74.3125 \r\nz\r\n\" id=\"DejaVuSans-7911\"/>\r\n   </defs>\r\n   <g transform=\"translate(21.5275 21.2)scale(0.16 -0.16)\">\r\n    <use xlink:href=\"#DejaVuSans-83\"/>\r\n    <use x=\"63.476562\" xlink:href=\"#DejaVuSans-7889\"/>\r\n    <use x=\"124.658203\" xlink:href=\"#DejaVuSans-32\"/>\r\n    <use x=\"156.445312\" xlink:href=\"#DejaVuSans-116\"/>\r\n    <use x=\"195.654297\" xlink:href=\"#DejaVuSans-237\"/>\r\n    <use x=\"223.4375\" xlink:href=\"#DejaVuSans-110\"/>\r\n    <use x=\"286.816406\" xlink:href=\"#DejaVuSans-32\"/>\r\n    <use x=\"318.603516\" xlink:href=\"#DejaVuSans-99\"/>\r\n    <use x=\"373.583984\" xlink:href=\"#DejaVuSans-104\"/>\r\n    <use x=\"436.962891\" xlink:href=\"#DejaVuSans-7881\"/>\r\n    <use x=\"464.746094\" xlink:href=\"#DejaVuSans-32\"/>\r\n    <use x=\"496.533203\" xlink:href=\"#DejaVuSans-273\"/>\r\n    <use x=\"560.009766\" xlink:href=\"#DejaVuSans-227\"/>\r\n    <use x=\"621.289062\" xlink:href=\"#DejaVuSans-32\"/>\r\n    <use x=\"653.076172\" xlink:href=\"#DejaVuSans-104\"/>\r\n    <use x=\"716.455078\" xlink:href=\"#DejaVuSans-7885\"/>\r\n    <use x=\"777.636719\" xlink:href=\"#DejaVuSans-99\"/>\r\n    <use x=\"832.617188\" xlink:href=\"#DejaVuSans-32\"/>\r\n    <use x=\"864.404297\" xlink:href=\"#DejaVuSans-99\"/>\r\n    <use x=\"919.384766\" xlink:href=\"#DejaVuSans-7911\"/>\r\n    <use x=\"982.763672\" xlink:href=\"#DejaVuSans-97\"/>\r\n    <use x=\"1044.042969\" xlink:href=\"#DejaVuSans-32\"/>\r\n    <use x=\"1075.830078\" xlink:href=\"#DejaVuSans-78\"/>\r\n    <use x=\"1150.634766\" xlink:href=\"#DejaVuSans-103\"/>\r\n    <use x=\"1214.111328\" xlink:href=\"#DejaVuSans-117\"/>\r\n    <use x=\"1277.490234\" xlink:href=\"#DejaVuSans-121\"/>\r\n    <use x=\"1336.669922\" xlink:href=\"#DejaVuSans-7877\"/>\r\n    <use x=\"1398.193359\" xlink:href=\"#DejaVuSans-110\"/>\r\n    <use x=\"1461.572266\" xlink:href=\"#DejaVuSans-32\"/>\r\n    <use x=\"1493.359375\" xlink:href=\"#DejaVuSans-86\"/>\r\n    <use x=\"1561.767578\" xlink:href=\"#DejaVuSans-259\"/>\r\n    <use x=\"1623.046875\" xlink:href=\"#DejaVuSans-110\"/>\r\n    <use x=\"1686.425781\" xlink:href=\"#DejaVuSans-32\"/>\r\n    <use x=\"1718.212891\" xlink:href=\"#DejaVuSans-97\"/>\r\n    <use x=\"1779.492188\" xlink:href=\"#DejaVuSans-110\"/>\r\n    <use x=\"1842.871094\" xlink:href=\"#DejaVuSans-104\"/>\r\n    <use x=\"1906.25\" xlink:href=\"#DejaVuSans-32\"/>\r\n    <use x=\"1938.037109\" xlink:href=\"#DejaVuSans-84\"/>\r\n    <use x=\"1983.996094\" xlink:href=\"#DejaVuSans-117\"/>\r\n    <use x=\"2047.375\" xlink:href=\"#DejaVuSans-7845\"/>\r\n    <use x=\"2108.654297\" xlink:href=\"#DejaVuSans-110\"/>\r\n   </g>\r\n  </g>\r\n </g>\r\n <defs>\r\n  <clipPath id=\"pdc6db51e57\">\r\n   <rect height=\"217.44\" width=\"334.8\" x=\"33.2875\" y=\"36\"/>\r\n  </clipPath>\r\n </defs>\r\n</svg>\r\n",
      "image/png": "[encoded data removed]"
     },
     "metadata": {
      "needs_background": "light"
     }
    }
   ],
   "source": [
    "foo = [62, 30]\n",
    "bar = [142 - 62, 142 - 30]\n",
    "\n",
    "width = 0.5\n",
    "ind = np.arange(2)\n",
    "\n",
    "fig, ax = plt.subplots(figsize=(6, 4))\n",
    "axis = []\n",
    "\n",
    "axis.append(plt.bar(ind, foo, width, label='Đã học', edgecolor='black'))\n",
    "axis.append(plt.bar(ind, bar, width, bottom=foo, label='Chưa học', edgecolor='black'))\n",
    "\n",
    "plt.xticks(ind, ['Nguyễn Văn Anh Tuấn', 'K15DS'], fontsize=13)\n",
    "fig.suptitle('Số tín chỉ đã học của Nguyễn Văn anh Tuấn', fontsize=16)\n",
    "plt.legend(loc='upper center')\n",
    "plt.show()"
   ]
  },
  {
   "cell_type": "code",
   "execution_count": 73,
   "metadata": {},
   "outputs": [
    {
     "output_type": "execute_result",
     "data": {
      "text/plain": [
       "65"
      ]
     },
     "metadata": {},
     "execution_count": 73
    }
   ],
   "source": [
    "so_tin_chi_sv(53, subjects)"
   ]
  },
  {
   "cell_type": "code",
   "execution_count": 74,
   "metadata": {
    "scrolled": false
   },
   "outputs": [
    {
     "output_type": "stream",
     "name": "stdout",
     "text": [
      "Giao tiếp kinh doanh\nKỹ năng xây dựng kế hoạch\nQuản trị doanh nghiệp\nMôi trường và con người\nQuản trị học\nKế toán cơ bản\nGiải thuật và tối ưu hóa phân tán\nĐại số tuyến tính tính toán\nMạng máy tính\nPháp luật đại cương\nToán ứng dụng\nPhương pháp luận nghiên cứu khoa học\nHàm phức và phép biến đổi Laplace\nPhương pháp tính\nVật lý đại cương\nThống kê máy tính và ứng dụng\nNhập môn Khoa học Dữ liệu\nLập trình phân tích dữ liệu\nQuá trình ngẫu nhiên\nCác ngôn ngữ truy vấn cơ sở dữ liệu\nKiến trúc hướng dịch vụ và Điện toán đám mây\nNhững vấn đề xã hội và đạo đức nghề nghiệp\nKhai thác dữ liệu và ứng dụng\nPhát triển ứng dụng\nMáy học\nTối ưu hóa cho Khoa học dữ liệu\nPhân tích chuỗi thời gian\nKỹ thuật tài chính\nXử lý ảnh\nTư tưởng Hồ Chí Minh\nNhập môn an toàn thông tin\nTương tác người máy\nCông nghệ phần mềm\nXử lý ngôn ngữ tự nhiên\nNhập môn dữ liệu lớn\nTiếp thị điện tử\nNhập môn Robot\nGiao dịch định lượng\nTính toán song song\nKhai phá đồ thị\nHệ khuyến nghị\nLý thuyết trò chơi\nĐường lối cách mạng của Đảng Cộng sản Việt Nam\nCông nghệ mới trong phát triển ứng dụng CNTT\nHội họa\nXã hội học\nCơ sở văn hóa Việt Nam\nÂm nhạc – Nhạc lý và Guitar căn bản\nTâm lý học đại cương\nĐảm bảo chất lượng và Kiểm thử phần mềm\nHọc sâu\nThị giác máy tính\nPhân tích dữ liệu Bayesian\nPhân tích kinh doanh\nGiải tích ngẫu nhiên cho tài chính\nChứng chỉ TOEIC 450\nKhóa luận tốt nghiệp\n"
     ]
    }
   ],
   "source": [
    "for i in xeploai_df.loc[xeploai_df['Họ và tên'] == 'Nguyễn Văn Anh Tuấn', subjects].items():\n",
    "    if (type(i[1].values[0]) in [float, np.float64] and 'Tiếng' not in i[0]):\n",
    "        print(i[0])"
   ]
  },
  {
   "cell_type": "code",
   "execution_count": 75,
   "metadata": {},
   "outputs": [],
   "source": [
    "df.to_csv('../csv_files/cleaned_data.csv')"
   ]
  },
  {
   "cell_type": "code",
   "execution_count": 76,
   "metadata": {},
   "outputs": [
    {
     "output_type": "execute_result",
     "data": {
      "text/plain": [
       "                  6.3               6.5   \n",
       "5                                                6.2               7.7   \n",
       "6                                                7.9               6.5   \n",
       "7                                                6.0               7.9   \n",
       "8                                                5.6               8.3   \n",
       "9                                                7.1               7.2   \n",
       "10                                               6.7               7.5   \n",
       "11                                               4.5               7.1   \n",
       "12                                               4.9               5.7   \n",
       "13                                               5.6               7.5   \n",
       "14                                               5.3               6.1   \n",
       "15                                               6.0               6.4   \n",
       "16                                               6.3               6.1   \n",
       "17                                               6.5               7.2   \n",
       "18                                               6.0               7.9   \n",
       "19                                               6.3               6.8   \n",
       "20                                               5.7               6.6   \n",
       "21                                               4.6               7.5   \n",
       "22                                               8.1               7.6   \n",
       "23                                               6.4               5.5   \n",
       "24                                               4.6               7.1   \n",
       "25                                               6.3               6.8   \n",
       "26                                               5.3               7.4   \n",
       "27                                               6.5               7.3   \n",
       "28                                               5.2               7.1   \n",
       "29                                               4.4               7.7   \n",
       "30                                               5.5               8.3   \n",
       "31                                               5.8               5.2   \n",
       "32                                               5.1               8.3   \n",
       "33                                               5.1               7.6   \n",
       "34                                               5.3               7.8   \n",
       "35                                               5.7               7.4   \n",
       "36                                               1.5               5.8   \n",
       "37                                               1.0               7.6   \n",
       "38                                               5.2               5.2   \n",
       "39                                               5.8               6.9   \n",
       "40                                               2.0               6.7   \n",
       "41                                               4.7               6.1   \n",
       "42                                               5.7               7.6   \n",
       "43                                               5.6               7.7   \n",
       "44                                               7.9               6.7   \n",
       "45                                               6.4               6.3   \n",
       "46                                               5.7               6.3   \n",
       "47                                               6.4               5.9   \n",
       "48                                               5.7               5.6   \n",
       "49                                               5.9               5.3   \n",
       "50                                               6.3               6.4   \n",
       "51                                               5.0               NaN   \n",
       "52                                               5.3               6.6   \n",
       "53                                               5.9               5.9   \n",
       "54                                               4.9               5.2   \n",
       "55                                               5.0               5.6   \n",
       "56                                               5.6               6.2   \n",
       "57                                               5.9               6.2   \n",
       "58                                               5.4               NaN   \n",
       "59                                               4.5               7.6   \n",
       "\n",
       "    Giáo dục Quốc phòng và An ninh 1  Toán cao cấp 1  ...  \\\n",
       "0                                7.5             9.9  ...   \n",
       "1                                7.5             9.8  ...   \n",
       "2                                7.0             9.5  ...   \n",
       "3                                7.5             9.5  ...   \n",
       "4                                8.0             8.4  ...   \n",
       "5                                8.0             8.6  ...   \n",
       "6                                6.5             9.6  ...   \n",
       "7                                7.5             8.5  ...   \n",
       "8                                6.5             9.0  ...   \n",
       "9                                6.0             7.9  ...   \n",
       "10                               6.5             8.6  ...   \n",
       "11                               7.0             7.5  ...   \n",
       "12                               8.0             9.8  ...   \n",
       "13                               7.0             6.0  ...   \n",
       "14                               7.5             7.1  ...   \n",
       "15                               7.5             9.0  ...   \n",
       "16                               6.5             6.6  ...   \n",
       "17                               7.0             8.6  ...   \n",
       "18                               7.0             7.4  ...   \n",
       "19                               7.0             7.4  ...   \n",
       "20                               8.0             8.1  ...   \n",
       "21                               6.5             9.5  ...   \n",
       "22                               8.0             7.1  ...   \n",
       "23                               7.5             8.1  ...   \n",
       "24                               6.5             9.2  ...   \n",
       "25                               7.5             6.0  ...   \n",
       "26                               7.5             8.0  ...   \n",
       "27                               7.0             8.9  ...   \n",
       "28                               7.0             9.1  ...   \n",
       "29                               6.5             8.8  ...   \n",
       "30                               7.0             6.7  ...   \n",
       "31                               7.0             7.9  ...   \n",
       "32                               7.0             8.5  ...   \n",
       "33                               7.0             5.6  ...   \n",
       "34                               7.5             9.5  ...   \n",
       "35                               6.5             7.6  ...   \n",
       "36                               6.5             7.0  ...   \n",
       "37                               6.5             5.7  ...   \n",
       "38                               7.0             7.6  ...   \n",
       "39                               6.5             7.6  ...   \n",
       "40                               7.0             5.7  ...   \n",
       "41                               6.5             7.5  ...   \n",
       "42                               7.5             7.9  ...   \n",
       "43                               7.0             8.4  ...   \n",
       "44                               7.0             7.4  ...   \n",
       "45                               6.5             7.7  ...   \n",
       "46                               8.0             6.1  ...   \n",
       "47                               6.0             6.5  ...   \n",
       "48                               7.5             7.5  ...   \n",
       "49                               6.5             7.7  ...   \n",
       "50                               6.5             7.0  ...   \n",
       "51                               7.0             6.7  ...   \n",
       "52                               7.0             8.5  ...   \n",
       "53                               5.0             4.5  ...   \n",
       "54                               7.5             0.0  ...   \n",
       "55                               7.5             7.0  ...   \n",
       "56                               7.0             7.5  ...   \n",
       "57                               7.5             6.4  ...   \n",
       "58                               7.0             5.4  ...   \n",
       "59                               7.0             2.5  ...   \n",
       "\n",
       "    Giải tích ngẫu nhiên cho tài chính  Chứng chỉ TOEIC 450  \\\n",
       "0                                  NaN                  NaN   \n",
       "1                                  NaN                  NaN   \n",
       "2                                  NaN                  NaN   \n",
       "3                                  NaN                  NaN   \n",
       "4                                  NaN                  NaN   \n",
       "5                                  NaN                  NaN   \n",
       "6                                  NaN                  NaN   \n",
       "7                                  NaN                  NaN   \n",
       "8                                  NaN                  NaN   \n",
       "9                                  NaN                  NaN   \n",
       "10                                 NaN                  NaN   \n",
       "11                                 NaN                  NaN   \n",
       "12                                 NaN                  NaN   \n",
       "13                                 NaN                  NaN   \n",
       "14                                 NaN                  NaN   \n",
       "15                                 NaN                  NaN   \n",
       "16                                 NaN                  NaN   \n",
       "17                                 NaN                  NaN   \n",
       "18                                 NaN                  NaN   \n",
       "19                                 NaN                  NaN   \n",
       "20                                 NaN                  NaN   \n",
       "21                                 NaN                  NaN   \n",
       "22                                 NaN                  NaN   \n",
       "23                                 NaN                  NaN   \n",
       "24                                 NaN                  NaN   \n",
       "25                                 NaN                  NaN   \n",
       "26                                 NaN                  NaN   \n",
       "27                                 NaN                  NaN   \n",
       "28                                 NaN                  NaN   \n",
       "29                                 NaN                  NaN   \n",
       "30                                 NaN                  NaN   \n",
       "31                                 NaN                  NaN   \n",
       "32                                 NaN                  NaN   \n",
       "33                                 NaN                  NaN   \n",
       "34                                 NaN                  NaN   \n",
       "35                                 NaN                  NaN   \n",
       "36                                 NaN                  NaN   \n",
       "37                                 NaN                  NaN   \n",
       "38                                 NaN                  NaN   \n",
       "39                                 NaN                  NaN   \n",
       "40                                 NaN                  NaN   \n",
       "41                                 NaN                  NaN   \n",
       "42                                 NaN                  NaN   \n",
       "43                                 NaN                  NaN   \n",
       "44                                 NaN                  NaN   \n",
       "45                                 NaN                  NaN   \n",
       "46                                 NaN                  NaN   \n",
       "47                                 NaN                  NaN   \n",
       "48                                 NaN                  NaN   \n",
       "49                                 NaN                  NaN   \n",
       "50                                 NaN                  NaN   \n",
       "51                                 NaN                  NaN   \n",
       "52                                 NaN                  NaN   \n",
       "53                                 NaN                  NaN   \n",
       "54                                 NaN                  NaN   \n",
       "55                                 NaN                  NaN   \n",
       "56                                 NaN                  NaN   \n",
       "57                                 NaN                  NaN   \n",
       "58                                 NaN                  NaN   \n",
       "59                                 NaN                  NaN   \n",
       "\n",
       "    Khóa luận tốt nghiệp  Thực tập doanh nghiệp  Số tín chỉ  Điểm 10  Điểm 4  \\\n",
       "0                    NaN                    NaN          25      8.7    3.69   \n",
       "1                    NaN                    NaN          27      8.3    3.47   \n",
       "2                    NaN                    NaN          22      8.3    3.47   \n",
       "3                    NaN                    NaN          21        8    3.31   \n",
       "4                    NaN                    NaN          25      7.9    3.24   \n",
       "5                    NaN                    NaN          18      7.7    3.23   \n",
       "6                    NaN                    NaN          22      7.9     3.2   \n",
       "7                    NaN                    NaN          21      7.6    3.19   \n",
       "8                    NaN                    NaN          25      7.8    3.17   \n",
       "9                    NaN                    NaN          19      7.6     3.1   \n",
       "10                   NaN                    NaN          21      7.5    3.09   \n",
       "11                   NaN                    NaN          21      7.5    3.06   \n",
       "12                   NaN                    NaN          18      7.6    3.04   \n",
       "13                   NaN                    NaN          25      7.5    3.02   \n",
       "14                   NaN                    NaN          18      7.4    2.97   \n",
       "15                   NaN                    NaN          21      7.3    2.96   \n",
       "16                   NaN                    NaN          22      7.3    2.92   \n",
       "17                   NaN                    NaN          15      7.2    2.92   \n",
       "18                   NaN                    NaN          25      7.2    2.91   \n",
       "19                   NaN                    NaN          23      7.3    2.89   \n",
       "20                   NaN                    NaN          25      7.2    2.89   \n",
       "21                   NaN                    NaN          21      7.3    2.88   \n",
       "22                   NaN                    NaN          25      7.3    2.88   \n",
       "23                   NaN                    NaN          21      7.1    2.81   \n",
       "24                   NaN                    NaN          25      7.1     2.8   \n",
       "25                   NaN                    NaN          21      7.2    2.78   \n",
       "26                   NaN                    NaN          21      6.9    2.65   \n",
       "27                   NaN                    NaN          25      6.8    2.64   \n",
       "28                   NaN                    NaN          18      6.8     2.6   \n",
       "29                   NaN                    NaN          18      6.7    2.58   \n",
       "30                   NaN                    NaN          21      6.6    2.55   \n",
       "31                   NaN                    NaN          18      6.6    2.55   \n",
       "32                   NaN                    NaN          29      6.6    2.49   \n",
       "33                   NaN                    NaN          25      6.4    2.44   \n",
       "34                   NaN                    NaN          15      6.5    2.44   \n",
       "35                   NaN                    NaN          22      6.5    2.42   \n",
       "36                   NaN                    NaN          20      6.3     2.4   \n",
       "37                   NaN                    NaN          17      6.2    2.35   \n",
       "38                   NaN                    NaN          21      6.3    2.32   \n",
       "39                   NaN                    NaN          25      6.3    2.27   \n",
       "40                   NaN                    NaN          18      6.2    2.27   \n",
       "41                   NaN                    NaN          15        6    2.22   \n",
       "42                   NaN                    NaN          18      6.2    2.18   \n",
       "43                   NaN                    NaN          21      5.9    2.17   \n",
       "44                   NaN                    NaN          13      6.1    2.15   \n",
       "45                   NaN                    NaN          25        6    2.14   \n",
       "46                   NaN                    NaN          18        6    2.11   \n",
       "47                   NaN                    NaN          18      5.7     2.1   \n",
       "48                   NaN                    NaN          19      5.9    2.07   \n",
       "49                   NaN                    NaN          11      6.1    2.04   \n",
       "50                   NaN                    NaN          21      5.4    1.99   \n",
       "51                   NaN                    NaN          20      5.7    1.98   \n",
       "52                   NaN                    NaN          25      5.4    1.94   \n",
       "53                   NaN                    NaN          19      4.9    1.69   \n",
       "54                   NaN                    NaN           9      4.5    1.68   \n",
       "55                   NaN                    NaN          25        5    1.67   \n",
       "56                   NaN                    NaN          21      3.9    1.54   \n",
       "57                   NaN                    NaN          11      3.8    1.34   \n",
       "58                   NaN                    NaN          16      3.9    1.33   \n",
       "59                   NaN                    NaN          13        4    1.26   \n",
       "\n",
       "    Điểm chữ        Xếp loại                Họ và tên  \n",
       "0         B+             Khá         Phạm Thành Trung  \n",
       "1         B+             Khá           Ngô Quốc Hoàng  \n",
       "2         B+             Khá          Lưu Thị Yến Nhi  \n",
       "3         B+             Khá           Lê Thanh Phong  \n",
       "4          B             Khá        Trương Thị Cẩm Ly  \n",
       "5          B             Khá        Trịnh Thị Bảo Bảo  \n",
       "6          B             Khá             Trần Tuấn Vũ  \n",
       "7          B             Khá          Huỳnh Minh Toàn  \n",
       "8          B             Khá             Hồ Quang Huy  \n",
       "9          B             Khá         Nguyễn Tuấn Sinh  \n",
       "10         B             Khá              Trần Nam Bá  \n",
       "11         B             Khá                   Văn Sỹ  \n",
       "12         B             Khá     Nguyễn Thị Thanh Hòa  \n",
       "13         B             Khá      Nguyễn Văn Anh Tuấn  \n",
       "14         B             Khá               Hà Bảo Anh  \n",
       "15         B             Khá            Thái Thị Hiền  \n",
       "16         B             Khá           Phan Chí Trung  \n",
       "17         B             Khá            Vũ Minh Quang  \n",
       "18         B             Khá     Nguyễn Văn Phúc Nhân  \n",
       "19         B             Khá             Đỗ Văn Thắng  \n",
       "20         B             Khá           Nguyễn Tiến Sỹ  \n",
       "21         B             Khá           Trần Xuân Thủy  \n",
       "22         B             Khá   Phan Nguyễn Mai Phương  \n",
       "23         B             Khá            Phạm Thế Hiển  \n",
       "24         B             Khá               Lê Duy Tâm  \n",
       "25         B             Khá    Phan Nguyễn Trọng Tân  \n",
       "26        C+      Trung bình           Phạm Trung Sơn  \n",
       "27        C+      Trung bình         Trần Hồ Phi Long  \n",
       "28        C+      Trung bình           Dương Văn Sang  \n",
       "29        C+      Trung bình          Nguyễn Anh Toàn  \n",
       "30        C+      Trung bình    Trương Nguyễn Duy Tân  \n",
       "31        C+      Trung bình  Phạm Huỳnh Trường Thịnh  \n",
       "32        C+      Trung bình            Đinh Tuấn Anh  \n",
       "33        C+      Trung bình         Lê Mỹ Thanh Lành  \n",
       "34        C+      Trung bình              Ngô Đức Bảo  \n",
       "35        C+      Trung bình           Trịnh Ngọc Đức  \n",
       "36        C+      Trung bình              Lê Văn Tiến  \n",
       "37        C+      Trung bình       Phan Lê Hoàng Việt  \n",
       "38        C+      Trung bình           Đào Duy Trường  \n",
       "39        C+      Trung bình            Tăng Hoài Duy  \n",
       "40        C+      Trung bình         Nguyễn Đức Thịnh  \n",
       "41        C+      Trung bình        Nguyễn Tuấn Trung  \n",
       "42        C+      Trung bình           Trần Minh Hiếu  \n",
       "43        D+  Trung bình yếu              Lưu Đức Anh  \n",
       "44        C+      Trung bình             Lê Văn Trung  \n",
       "45        C+      Trung bình             Huỳnh Anh Tú  \n",
       "46        C+      Trung bình        Quách Trọng Nghĩa  \n",
       "47        D+  Trung bình yếu     Phạm Hoàng Duy Khang  \n",
       "48        D+  Trung bình yếu              Lê Huy Phát  \n",
       "49        C+      Trung bình        Nguyễn Quang Quốc  \n",
       "50        D+  Trung bình yếu           Phạm Minh Tuấn  \n",
       "51        D+  Trung bình yếu         Phạm Hà Văn Đông  \n",
       "52        D+  Trung bình yếu      Phạm Tài Đức Phú Đa  \n",
       "53         D  Trung bình yếu               Lê Tấn Đạt  \n",
       "54         D  Trung bình yếu         Đoàn Minh Trường  \n",
       "55        D+  Trung bình yếu    Nguyễn Đặng Minh Toại  \n",
       "56         F             Kém         Lương Quang Khải  \n",
       "57         F             Kém     Lưu Hoàng Ngọc Trinh  \n",
       "58         F             Kém        Đỗ Xuân Đức Chung  \n",
       "59         D  Trung bình yếu        Nguyễn Thành Nhân  \n",
       "\n",
       "[60 rows x 92 columns]"
      ],
      "text/html": "<div>\n<style scoped>\n    .dataframe tbody tr th:only-of-type {\n        vertical-align: middle;\n    }\n\n    .dataframe tbody tr th {\n        vertical-align: top;\n    }\n\n    .dataframe thead th {\n        text-align: right;\n    }\n</style>\n<table border=\"1\" class=\"dataframe\">\n  <thead>\n    <tr style=\"text-align: right;\">\n      <th></th>\n      <th>level_0</th>\n      <th>index</th>\n      <th>STT</th>\n      <th>Mã sinh viên</th>\n      <th>Họ đệm</th>\n      <th>Tên</th>\n      <th>Những nguyên lý cơ bản của Chủ nghĩa Mác - Lênin</th>\n      <th>Nhập môn Tin học</th>\n      <th>Giáo dục Quốc phòng và An ninh 1</th>\n      <th>Toán cao cấp 1</th>\n      <th>...</th>\n      <th>Giải tích ngẫu nhiên cho tài chính</th>\n      <th>Chứng chỉ TOEIC 450</th>\n      <th>Khóa luận tốt nghiệp</th>\n      <th>Thực tập doanh nghiệp</th>\n      <th>Số tín chỉ</th>\n      <th>Điểm 10</th>\n      <th>Điểm 4</th>\n      <th>Điểm chữ</th>\n      <th>Xếp loại</th>\n      <th>Họ và tên</th>\n    </tr>\n  </thead>\n  <tbody>\n    <tr>\n      <th>0</th>\n      <td>51</td>\n      <td>52</td>\n      <td>52.0</td>\n      <td>19502701.0</td>\n      <td>Phạm Thành</td>\n      <td>Trung</td>\n      <td>8.0</td>\n      <td>7.9</td>\n      <td>7.5</td>\n      <td>9.9</td>\n      <td>...</td>\n      <td>NaN</td>\n      <td>NaN</td>\n      <td>NaN</td>\n      <td>NaN</td>\n      <td>25</td>\n      <td>8.7</td>\n      <td>3.69</td>\n      <td>B+</td>\n      <td>Khá</td>\n      <td>Phạm Thành Trung</td>\n    </tr>\n    <tr>\n      <th>1</th>\n      <td>16</td>\n      <td>17</td>\n      <td>17.0</td>\n      <td>19477071.0</td>\n      <td>Ngô Quốc</td>\n      <td>Hoàng</td>\n      <td>7.1</td>\n      <td>7.8</td>\n      <td>7.5</td>\n      <td>9.8</td>\n      <td>...</td>\n      <td>NaN</td>\n      <td>NaN</td>\n      <td>NaN</td>\n      <td>NaN</td>\n      <td>27</td>\n      <td>8.3</td>\n      <td>3.47</td>\n      <td>B+</td>\n      <td>Khá</td>\n      <td>Ngô Quốc Hoàng</td>\n    </tr>\n    <tr>\n      <th>2</th>\n      <td>26</td>\n      <td>27</td>\n      <td>27.0</td>\n      <td>19522491.0</td>\n      <td>Lưu Thị Yến</td>\n      <td>Nhi</td>\n      <td>7.0</td>\n      <td>7.5</td>\n      <td>7.0</td>\n      <td>9.5</td>\n      <td>...</td>\n      <td>NaN</td>\n      <td>NaN</td>\n      <td>NaN</td>\n      <td>NaN</td>\n      <td>22</td>\n      <td>8.3</td>\n      <td>3.47</td>\n      <td>B+</td>\n      <td>Khá</td>\n      <td>Lưu Thị Yến Nhi</td>\n    </tr>\n    <tr>\n      <th>3</th>\n      <td>28</td>\n      <td>29</td>\n      <td>29.0</td>\n      <td>19475611.0</td>\n      <td>Lê Thanh</td>\n      <td>Phong</td>\n      <td>7.0</td>\n      <td>8.2</td>\n      <td>7.5</td>\n      <td>9.5</td>\n      <td>...</td>\n      <td>NaN</td>\n      <td>NaN</td>\n      <td>NaN</td>\n      <td>NaN</td>\n      <td>21</td>\n      <td>8</td>\n      <td>3.31</td>\n      <td>B+</td>\n      <td>Khá</td>\n      <td>Lê Thanh Phong</td>\n    </tr>\n    <tr>\n      <th>4</th>\n      <td>22</td>\n      <td>23</td>\n      <td>23.0</td>\n      <td>19532211.0</td>\n      <td>Trương Thị Cẩm</td>\n      <td>Ly</td>\n      <td>6.3</td>\n      <td>6.5</td>\n      <td>8.0</td>\n      <td>8.4</td>\n      <td>...</td>\n      <td>NaN</td>\n      <td>NaN</td>\n      <td>NaN</td>\n      <td>NaN</td>\n      <td>25</td>\n      <td>7.9</td>\n      <td>3.24</td>\n      <td>B</td>\n      <td>Khá</td>\n      <td>Trương Thị Cẩm Ly</td>\n    </tr>\n    <tr>\n      <th>5</th>\n      <td>5</td>\n      <td>6</td>\n      <td>6.0</td>\n      <td>19514491.0</td>\n      <td>Trịnh Thị Bảo</td>\n      <td>Bảo</td>\n      <td>6.2</td>\n      <td>7.7</td>\n      <td>8.0</td>\n      <td>8.6</td>\n      <td>...</td>\n      <td>NaN</td>\n      <td>NaN</td>\n      <td>NaN</td>\n      <td>NaN</td>\n      <td>18</td>\n      <td>7.7</td>\n      <td>3.23</td>\n      <td>B</td>\n      <td>Khá</td>\n      <td>Trịnh Thị Bảo Bảo</td>\n    </tr>\n    <tr>\n      <th>6</th>\n      <td>59</td>\n      <td>60</td>\n      <td>60.0</td>\n      <td>19474281.0</td>\n      <td>Trần Tuấn</td>\n      <td>Vũ</td>\n      <td>7.9</td>\n      <td>6.5</td>\n      <td>6.5</td>\n      <td>9.6</td>\n      <td>...</td>\n      <td>NaN</td>\n      <td>NaN</td>\n      <td>NaN</td>\n      <td>NaN</td>\n      <td>22</td>\n      <td>7.9</td>\n      <td>3.2</td>\n      <td>B</td>\n      <td>Khá</td>\n      <td>Trần Tuấn Vũ</td>\n    </tr>\n    <tr>\n      <th>7</th>\n      <td>46</td>\n      <td>47</td>\n      <td>47.0</td>\n      <td>19500761.0</td>\n      <td>Huỳnh Minh</td>\n      <td>Toàn</td>\n      <td>6.0</td>\n      <td>7.9</td>\n      <td>7.5</td>\n      <td>8.5</td>\n      <td>...</td>\n      <td>NaN</td>\n      <td>NaN</td>\n      <td>NaN</td>\n      <td>NaN</td>\n      <td>21</td>\n      <td>7.6</td>\n      <td>3.19</td>\n      <td>B</td>\n      <td>Khá</td>\n      <td>Huỳnh Minh Toàn</td>\n    </tr>\n    <tr>\n      <th>8</th>\n      <td>17</td>\n      <td>18</td>\n      <td>18.0</td>\n      <td>19443561.0</td>\n      <td>Hồ Quang</td>\n      <td>Huy</td>\n      <td>5.6</td>\n      <td>8.3</td>\n      <td>6.5</td>\n      <td>9.0</td>\n      <td>...</td>\n      <td>NaN</td>\n      <td>NaN</td>\n      <td>NaN</td>\n      <td>NaN</td>\n      <td>25</td>\n      <td>7.8</td>\n      <td>3.17</td>\n      <td>B</td>\n      <td>Khá</td>\n      <td>Hồ Quang Huy</td>\n    </tr>\n    <tr>\n      <th>9</th>\n      <td>33</td>\n      <td>34</td>\n      <td>34.0</td>\n      <td>19477821.0</td>\n      <td>Nguyễn Tuấn</td>\n      <td>Sinh</td>\n      <td>7.1</td>\n      <td>7.2</td>\n      <td>6.0</td>\n      <td>7.9</td>\n      <td>...</td>\n      <td>NaN</td>\n      <td>NaN</td>\n      <td>NaN</td>\n      <td>NaN</td>\n      <td>19</td>\n      <td>7.6</td>\n      <td>3.1</td>\n      <td>B</td>\n      <td>Khá</td>\n      <td>Nguyễn Tuấn Sinh</td>\n    </tr>\n    <tr>\n      <th>10</th>\n      <td>3</td>\n      <td>4</td>\n      <td>4.0</td>\n      <td>19506751.0</td>\n      <td>Trần Nam</td>\n      <td>Bá</td>\n      <td>6.7</td>\n      <td>7.5</td>\n      <td>6.5</td>\n      <td>8.6</td>\n      <td>...</td>\n      <td>NaN</td>\n      <td>NaN</td>\n      <td>NaN</td>\n      <td>NaN</td>\n      <td>21</td>\n      <td>7.5</td>\n      <td>3.09</td>\n      <td>B</td>\n      <td>Khá</td>\n      <td>Trần Nam Bá</td>\n    </tr>\n    <tr>\n      <th>11</th>\n      <td>36</td>\n      <td>37</td>\n      <td>37.0</td>\n      <td>19495751.0</td>\n      <td>Văn</td>\n      <td>Sỹ</td>\n      <td>4.5</td>\n      <td>7.1</td>\n      <td>7.0</td>\n      <td>7.5</td>\n      <td>...</td>\n      <td>NaN</td>\n      <td>NaN</td>\n      <td>NaN</td>\n      <td>NaN</td>\n      <td>21</td>\n      <td>7.5</td>\n      <td>3.06</td>\n      <td>B</td>\n      <td>Khá</td>\n      <td>Văn Sỹ</td>\n    </tr>\n    <tr>\n      <th>12</th>\n      <td>15</td>\n      <td>16</td>\n      <td>16.0</td>\n      <td>19429041.0</td>\n      <td>Nguyễn Thị Thanh</td>\n      <td>Hòa</td>\n      <td>4.9</td>\n      <td>5.7</td>\n      <td>8.0</td>\n      <td>9.8</td>\n      <td>...</td>\n      <td>NaN</td>\n      <td>NaN</td>\n      <td>NaN</td>\n      <td>NaN</td>\n      <td>18</td>\n      <td>7.6</td>\n      <td>3.04</td>\n      <td>B</td>\n      <td>Khá</td>\n      <td>Nguyễn Thị Thanh Hòa</td>\n    </tr>\n    <tr>\n      <th>13</th>\n      <td>56</td>\n      <td>57</td>\n      <td>57.0</td>\n      <td>19497581.0</td>\n      <td>Nguyễn Văn Anh</td>\n      <td>Tuấn</td>\n      <td>5.6</td>\n      <td>7.5</td>\n      <td>7.0</td>\n      <td>6.0</td>\n      <td>...</td>\n      <td>NaN</td>\n      <td>NaN</td>\n      <td>NaN</td>\n      <td>NaN</td>\n      <td>25</td>\n      <td>7.5</td>\n      <td>3.02</td>\n      <td>B</td>\n      <td>Khá</td>\n      <td>Nguyễn Văn Anh Tuấn</td>\n    </tr>\n    <tr>\n      <th>14</th>\n      <td>1</td>\n      <td>2</td>\n      <td>2.0</td>\n      <td>19442001.0</td>\n      <td>Hà Bảo</td>\n      <td>Anh</td>\n      <td>5.3</td>\n      <td>6.1</td>\n      <td>7.5</td>\n      <td>7.1</td>\n      <td>...</td>\n      <td>NaN</td>\n      <td>NaN</td>\n      <td>NaN</td>\n      <td>NaN</td>\n      <td>18</td>\n      <td>7.4</td>\n      <td>2.97</td>\n      <td>B</td>\n      <td>Khá</td>\n      <td>Hà Bảo Anh</td>\n    </tr>\n    <tr>\n      <th>15</th>\n      <td>12</td>\n      <td>13</td>\n      <td>13.0</td>\n      <td>19527801.0</td>\n      <td>Thái Thị</td>\n      <td>Hiền</td>\n      <td>6.0</td>\n      <td>6.4</td>\n      <td>7.5</td>\n      <td>9.0</td>\n      <td>...</td>\n      <td>NaN</td>\n      <td>NaN</td>\n      <td>NaN</td>\n      <td>NaN</td>\n      <td>21</td>\n      <td>7.3</td>\n      <td>2.96</td>\n      <td>B</td>\n      <td>Khá</td>\n      <td>Thái Thị Hiền</td>\n    </tr>\n    <tr>\n      <th>16</th>\n      <td>52</td>\n      <td>53</td>\n      <td>53.0</td>\n      <td>19499041.0</td>\n      <td>Phan Chí</td>\n      <td>Trung</td>\n      <td>6.3</td>\n      <td>6.1</td>\n      <td>6.5</td>\n      <td>6.6</td>\n      <td>...</td>\n      <td>NaN</td>\n      <td>NaN</td>\n      <td>NaN</td>\n      <td>NaN</td>\n      <td>22</td>\n      <td>7.3</td>\n      <td>2.92</td>\n      <td>B</td>\n      <td>Khá</td>\n      <td>Phan Chí Trung</td>\n    </tr>\n    <tr>\n      <th>17</th>\n      <td>30</td>\n      <td>31</td>\n      <td>31.0</td>\n      <td>19495101.0</td>\n      <td>Vũ Minh</td>\n      <td>Quang</td>\n      <td>6.5</td>\n      <td>7.2</td>\n      <td>7.0</td>\n      <td>8.6</td>\n      <td>...</td>\n      <td>NaN</td>\n      <td>NaN</td>\n      <td>NaN</td>\n      <td>NaN</td>\n      <td>15</td>\n      <td>7.2</td>\n      <td>2.92</td>\n      <td>B</td>\n      <td>Khá</td>\n      <td>Vũ Minh Quang</td>\n    </tr>\n    <tr>\n      <th>18</th>\n      <td>25</td>\n      <td>26</td>\n      <td>26.0</td>\n      <td>19440221.0</td>\n      <td>Nguyễn Văn Phúc</td>\n      <td>Nhân</td>\n      <td>6.0</td>\n      <td>7.9</td>\n      <td>7.0</td>\n      <td>7.4</td>\n      <td>...</td>\n      <td>NaN</td>\n      <td>NaN</td>\n      <td>NaN</td>\n      <td>NaN</td>\n      <td>25</td>\n      <td>7.2</td>\n      <td>2.91</td>\n      <td>B</td>\n      <td>Khá</td>\n      <td>Nguyễn Văn Phúc Nhân</td>\n    </tr>\n    <tr>\n      <th>19</th>\n      <td>40</td>\n      <td>41</td>\n      <td>41.0</td>\n      <td>19469481.0</td>\n      <td>Đỗ Văn</td>\n      <td>Thắng</td>\n      <td>6.3</td>\n      <td>6.8</td>\n      <td>7.0</td>\n      <td>7.4</td>\n      <td>...</td>\n      <td>NaN</td>\n      <td>NaN</td>\n      <td>NaN</td>\n      <td>NaN</td>\n      <td>23</td>\n      <td>7.3</td>\n      <td>2.89</td>\n      <td>B</td>\n      <td>Khá</td>\n      <td>Đỗ Văn Thắng</td>\n    </tr>\n    <tr>\n      <th>20</th>\n      <td>35</td>\n      <td>36</td>\n      <td>36.0</td>\n      <td>19440181.0</td>\n      <td>Nguyễn Tiến</td>\n      <td>Sỹ</td>\n      <td>5.7</td>\n      <td>6.6</td>\n      <td>8.0</td>\n      <td>8.1</td>\n      <td>...</td>\n      <td>NaN</td>\n      <td>NaN</td>\n      <td>NaN</td>\n      <td>NaN</td>\n      <td>25</td>\n      <td>7.2</td>\n      <td>2.89</td>\n      <td>B</td>\n      <td>Khá</td>\n      <td>Nguyễn Tiến Sỹ</td>\n    </tr>\n    <tr>\n      <th>21</th>\n      <td>43</td>\n      <td>44</td>\n      <td>44.0</td>\n      <td>19446021.0</td>\n      <td>Trần Xuân</td>\n      <td>Thủy</td>\n      <td>4.6</td>\n      <td>7.5</td>\n      <td>6.5</td>\n      <td>9.5</td>\n      <td>...</td>\n      <td>NaN</td>\n      <td>NaN</td>\n      <td>NaN</td>\n      <td>NaN</td>\n      <td>21</td>\n      <td>7.3</td>\n      <td>2.88</td>\n      <td>B</td>\n      <td>Khá</td>\n      <td>Trần Xuân Thủy</td>\n    </tr>\n    <tr>\n      <th>22</th>\n      <td>29</td>\n      <td>30</td>\n      <td>30.0</td>\n      <td>19469121.0</td>\n      <td>Phan Nguyễn Mai</td>\n      <td>Phương</td>\n      <td>8.1</td>\n      <td>7.6</td>\n      <td>8.0</td>\n      <td>7.1</td>\n      <td>...</td>\n      <td>NaN</td>\n      <td>NaN</td>\n      <td>NaN</td>\n      <td>NaN</td>\n      <td>25</td>\n      <td>7.3</td>\n      <td>2.88</td>\n      <td>B</td>\n      <td>Khá</td>\n      <td>Phan Nguyễn Mai Phương</td>\n    </tr>\n    <tr>\n      <th>23</th>\n      <td>13</td>\n      <td>14</td>\n      <td>14.0</td>\n      <td>19529741.0</td>\n      <td>Phạm Thế</td>\n      <td>Hiển</td>\n      <td>6.4</td>\n      <td>5.5</td>\n      <td>7.5</td>\n      <td>8.1</td>\n      <td>...</td>\n      <td>NaN</td>\n      <td>NaN</td>\n      <td>NaN</td>\n      <td>NaN</td>\n      <td>21</td>\n      <td>7.1</td>\n      <td>2.81</td>\n      <td>B</td>\n      <td>Khá</td>\n      <td>Phạm Thế Hiển</td>\n    </tr>\n    <tr>\n      <th>24</th>\n      <td>37</td>\n      <td>38</td>\n      <td>38.0</td>\n      <td>19445631.0</td>\n      <td>Lê Duy</td>\n      <td>Tâm</td>\n      <td>4.6</td>\n      <td>7.1</td>\n      <td>6.5</td>\n      <td>9.2</td>\n      <td>...</td>\n      <td>NaN</td>\n      <td>NaN</td>\n      <td>NaN</td>\n      <td>NaN</td>\n      <td>25</td>\n      <td>7.1</td>\n      <td>2.8</td>\n      <td>B</td>\n      <td>Khá</td>\n      <td>Lê Duy Tâm</td>\n    </tr>\n    <tr>\n      <th>25</th>\n      <td>38</td>\n      <td>39</td>\n      <td>39.0</td>\n      <td>19502821.0</td>\n      <td>Phan Nguyễn Trọng</td>\n      <td>Tân</td>\n      <td>6.3</td>\n      <td>6.8</td>\n      <td>7.5</td>\n      <td>6.0</td>\n      <td>...</td>\n      <td>NaN</td>\n      <td>NaN</td>\n      <td>NaN</td>\n      <td>NaN</td>\n      <td>21</td>\n      <td>7.2</td>\n      <td>2.78</td>\n      <td>B</td>\n      <td>Khá</td>\n      <td>Phan Nguyễn Trọng Tân</td>\n    </tr>\n    <tr>\n      <th>26</th>\n      <td>34</td>\n      <td>35</td>\n      <td>35.0</td>\n      <td>19518291.0</td>\n      <td>Phạm Trung</td>\n      <td>Sơn</td>\n      <td>5.3</td>\n      <td>7.4</td>\n      <td>7.5</td>\n      <td>8.0</td>\n      <td>...</td>\n      <td>NaN</td>\n      <td>NaN</td>\n      <td>NaN</td>\n      <td>NaN</td>\n      <td>21</td>\n      <td>6.9</td>\n      <td>2.65</td>\n      <td>C+</td>\n      <td>Trung bình</td>\n      <td>Phạm Trung Sơn</td>\n    </tr>\n    <tr>\n      <th>27</th>\n      <td>21</td>\n      <td>22</td>\n      <td>22.0</td>\n      <td>19500551.0</td>\n      <td>Trần Hồ Phi</td>\n      <td>Long</td>\n      <td>6.5</td>\n      <td>7.3</td>\n      <td>7.0</td>\n      <td>8.9</td>\n      <td>...</td>\n      <td>NaN</td>\n      <td>NaN</td>\n      <td>NaN</td>\n      <td>NaN</td>\n      <td>25</td>\n      <td>6.8</td>\n      <td>2.64</td>\n      <td>C+</td>\n      <td>Trung bình</td>\n      <td>Trần Hồ Phi Long</td>\n    </tr>\n    <tr>\n      <th>28</th>\n      <td>32</td>\n      <td>33</td>\n      <td>33.0</td>\n      <td>19495031.0</td>\n      <td>Dương Văn</td>\n      <td>Sang</td>\n      <td>5.2</td>\n      <td>7.1</td>\n      <td>7.0</td>\n      <td>9.1</td>\n      <td>...</td>\n      <td>NaN</td>\n      <td>NaN</td>\n      <td>NaN</td>\n      <td>NaN</td>\n      <td>18</td>\n      <td>6.8</td>\n      <td>2.6</td>\n      <td>C+</td>\n      <td>Trung bình</td>\n      <td>Dương Văn Sang</td>\n    </tr>\n    <tr>\n      <th>29</th>\n      <td>47</td>\n      <td>48</td>\n      <td>48.0</td>\n      <td>19447201.0</td>\n      <td>Nguyễn Anh</td>\n      <td>Toàn</td>\n      <td>4.4</td>\n      <td>7.7</td>\n      <td>6.5</td>\n      <td>8.8</td>\n      <td>...</td>\n      <td>NaN</td>\n      <td>NaN</td>\n      <td>NaN</td>\n      <td>NaN</td>\n      <td>18</td>\n      <td>6.7</td>\n      <td>2.58</td>\n      <td>C+</td>\n      <td>Trung bình</td>\n      <td>Nguyễn Anh Toàn</td>\n    </tr>\n    <tr>\n      <th>30</th>\n      <td>39</td>\n      <td>40</td>\n      <td>40.0</td>\n      <td>19485441.0</td>\n      <td>Trương Nguyễn Duy</td>\n      <td>Tân</td>\n      <td>5.5</td>\n      <td>8.3</td>\n      <td>7.0</td>\n      <td>6.7</td>\n      <td>...</td>\n      <td>NaN</td>\n      <td>NaN</td>\n      <td>NaN</td>\n      <td>NaN</td>\n      <td>21</td>\n      <td>6.6</td>\n      <td>2.55</td>\n      <td>C+</td>\n      <td>Trung bình</td>\n      <td>Trương Nguyễn Duy Tân</td>\n    </tr>\n    <tr>\n      <th>31</th>\n      <td>42</td>\n      <td>43</td>\n      <td>43.0</td>\n      <td>19471271.0</td>\n      <td>Phạm Huỳnh Trường</td>\n      <td>Thịnh</td>\n      <td>5.8</td>\n      <td>5.2</td>\n      <td>7.0</td>\n      <td>7.9</td>\n      <td>...</td>\n      <td>NaN</td>\n      <td>NaN</td>\n      <td>NaN</td>\n      <td>NaN</td>\n      <td>18</td>\n      <td>6.6</td>\n      <td>2.55</td>\n      <td>C+</td>\n      <td>Trung bình</td>\n      <td>Phạm Huỳnh Trường Thịnh</td>\n    </tr>\n    <tr>\n      <th>32</th>\n      <td>0</td>\n      <td>1</td>\n      <td>1.0</td>\n      <td>19489471.0</td>\n      <td>Đinh Tuấn</td>\n      <td>Anh</td>\n      <td>5.1</td>\n      <td>8.3</td>\n      <td>7.0</td>\n      <td>8.5</td>\n      <td>...</td>\n      <td>NaN</td>\n      <td>NaN</td>\n      <td>NaN</td>\n      <td>NaN</td>\n      <td>29</td>\n      <td>6.6</td>\n      <td>2.49</td>\n      <td>C+</td>\n      <td>Trung bình</td>\n      <td>Đinh Tuấn Anh</td>\n    </tr>\n    <tr>\n      <th>33</th>\n      <td>20</td>\n      <td>21</td>\n      <td>21.0</td>\n      <td>19525231.0</td>\n      <td>Lê Mỹ Thanh</td>\n      <td>Lành</td>\n      <td>5.1</td>\n      <td>7.6</td>\n      <td>7.0</td>\n      <td>5.6</td>\n      <td>...</td>\n      <td>NaN</td>\n      <td>NaN</td>\n      <td>NaN</td>\n      <td>NaN</td>\n      <td>25</td>\n      <td>6.4</td>\n      <td>2.44</td>\n      <td>C+</td>\n      <td>Trung bình</td>\n      <td>Lê Mỹ Thanh Lành</td>\n    </tr>\n    <tr>\n      <th>34</th>\n      <td>4</td>\n      <td>5</td>\n      <td>5.0</td>\n      <td>19487461.0</td>\n      <td>Ngô Đức</td>\n      <td>Bảo</td>\n      <td>5.3</td>\n      <td>7.8</td>\n      <td>7.5</td>\n      <td>9.5</td>\n      <td>...</td>\n      <td>NaN</td>\n      <td>NaN</td>\n      <td>NaN</td>\n      <td>NaN</td>\n      <td>15</td>\n      <td>6.5</td>\n      <td>2.44</td>\n      <td>C+</td>\n      <td>Trung bình</td>\n      <td>Ngô Đức Bảo</td>\n    </tr>\n    <tr>\n      <th>35</th>\n      <td>10</td>\n      <td>11</td>\n      <td>11.0</td>\n      <td>19469091.0</td>\n      <td>Trịnh Ngọc</td>\n      <td>Đức</td>\n      <td>5.7</td>\n      <td>7.4</td>\n      <td>6.5</td>\n      <td>7.6</td>\n      <td>...</td>\n      <td>NaN</td>\n      <td>NaN</td>\n      <td>NaN</td>\n      <td>NaN</td>\n      <td>22</td>\n      <td>6.5</td>\n      <td>2.42</td>\n      <td>C+</td>\n      <td>Trung bình</td>\n      <td>Trịnh Ngọc Đức</td>\n    </tr>\n    <tr>\n      <th>36</th>\n      <td>44</td>\n      <td>45</td>\n      <td>45.0</td>\n      <td>19430791.0</td>\n      <td>Lê Văn</td>\n      <td>Tiến</td>\n      <td>1.5</td>\n      <td>5.8</td>\n      <td>6.5</td>\n      <td>7.0</td>\n      <td>...</td>\n      <td>NaN</td>\n      <td>NaN</td>\n      <td>NaN</td>\n      <td>NaN</td>\n      <td>20</td>\n      <td>6.3</td>\n      <td>2.4</td>\n      <td>C+</td>\n      <td>Trung bình</td>\n      <td>Lê Văn Tiến</td>\n    </tr>\n    <tr>\n      <th>37</th>\n      <td>58</td>\n      <td>59</td>\n      <td>59.0</td>\n      <td>19512321.0</td>\n      <td>Phan Lê Hoàng</td>\n      <td>Việt</td>\n      <td>1.0</td>\n      <td>7.6</td>\n      <td>6.5</td>\n      <td>5.7</td>\n      <td>...</td>\n      <td>NaN</td>\n      <td>NaN</td>\n      <td>NaN</td>\n      <td>NaN</td>\n      <td>17</td>\n      <td>6.2</td>\n      <td>2.35</td>\n      <td>C+</td>\n      <td>Trung bình</td>\n      <td>Phan Lê Hoàng Việt</td>\n    </tr>\n    <tr>\n      <th>38</th>\n      <td>53</td>\n      <td>54</td>\n      <td>54.0</td>\n      <td>19510211.0</td>\n      <td>Đào Duy</td>\n      <td>Trường</td>\n      <td>5.2</td>\n      <td>5.2</td>\n      <td>7.0</td>\n      <td>7.6</td>\n      <td>...</td>\n      <td>NaN</td>\n      <td>NaN</td>\n      <td>NaN</td>\n      <td>NaN</td>\n      <td>21</td>\n      <td>6.3</td>\n      <td>2.32</td>\n      <td>C+</td>\n      <td>Trung bình</td>\n      <td>Đào Duy Trường</td>\n    </tr>\n    <tr>\n      <th>39</th>\n      <td>11</td>\n      <td>12</td>\n      <td>12.0</td>\n      <td>19498561.0</td>\n      <td>Tăng Hoài</td>\n      <td>Duy</td>\n      <td>5.8</td>\n      <td>6.9</td>\n      <td>6.5</td>\n      <td>7.6</td>\n      <td>...</td>\n      <td>NaN</td>\n      <td>NaN</td>\n      <td>NaN</td>\n      <td>NaN</td>\n      <td>25</td>\n      <td>6.3</td>\n      <td>2.27</td>\n      <td>C+</td>\n      <td>Trung bình</td>\n      <td>Tăng Hoài Duy</td>\n    </tr>\n    <tr>\n      <th>40</th>\n      <td>41</td>\n      <td>42</td>\n      <td>42.0</td>\n      <td>19501001.0</td>\n      <td>Nguyễn Đức</td>\n      <td>Thịnh</td>\n      <td>2.0</td>\n      <td>6.7</td>\n      <td>7.0</td>\n      <td>5.7</td>\n      <td>...</td>\n      <td>NaN</td>\n      <td>NaN</td>\n      <td>NaN</td>\n      <td>NaN</td>\n      <td>18</td>\n      <td>6.2</td>\n      <td>2.27</td>\n      <td>C+</td>\n      <td>Trung bình</td>\n      <td>Nguyễn Đức Thịnh</td>\n    </tr>\n    <tr>\n      <th>41</th>\n      <td>50</td>\n      <td>51</td>\n      <td>51.0</td>\n      <td>19477111.0</td>\n      <td>Nguyễn Tuấn</td>\n      <td>Trung</td>\n      <td>4.7</td>\n      <td>6.1</td>\n      <td>6.5</td>\n      <td>7.5</td>\n      <td>...</td>\n      <td>NaN</td>\n      <td>NaN</td>\n      <td>NaN</td>\n      <td>NaN</td>\n      <td>15</td>\n      <td>6</td>\n      <td>2.22</td>\n      <td>C+</td>\n      <td>Trung bình</td>\n      <td>Nguyễn Tuấn Trung</td>\n    </tr>\n    <tr>\n      <th>42</th>\n      <td>14</td>\n      <td>15</td>\n      <td>15.0</td>\n      <td>19441341.0</td>\n      <td>Trần Minh</td>\n      <td>Hiếu</td>\n      <td>5.7</td>\n      <td>7.6</td>\n      <td>7.5</td>\n      <td>7.9</td>\n      <td>...</td>\n      <td>NaN</td>\n      <td>NaN</td>\n      <td>NaN</td>\n      <td>NaN</td>\n      <td>18</td>\n      <td>6.2</td>\n      <td>2.18</td>\n      <td>C+</td>\n      <td>Trung bình</td>\n      <td>Trần Minh Hiếu</td>\n    </tr>\n    <tr>\n      <th>43</th>\n      <td>2</td>\n      <td>3</td>\n      <td>3.0</td>\n      <td>19478881.0</td>\n      <td>Lưu Đức</td>\n      <td>Anh</td>\n      <td>5.6</td>\n      <td>7.7</td>\n      <td>7.0</td>\n      <td>8.4</td>\n      <td>...</td>\n      <td>NaN</td>\n      <td>NaN</td>\n      <td>NaN</td>\n      <td>NaN</td>\n      <td>21</td>\n      <td>5.9</td>\n      <td>2.17</td>\n      <td>D+</td>\n      <td>Trung bình yếu</td>\n      <td>Lưu Đức Anh</td>\n    </tr>\n    <tr>\n      <th>44</th>\n      <td>49</td>\n      <td>50</td>\n      <td>50.0</td>\n      <td>19491741.0</td>\n      <td>Lê Văn</td>\n      <td>Trung</td>\n      <td>7.9</td>\n      <td>6.7</td>\n      <td>7.0</td>\n      <td>7.4</td>\n      <td>...</td>\n      <td>NaN</td>\n      <td>NaN</td>\n      <td>NaN</td>\n      <td>NaN</td>\n      <td>13</td>\n      <td>6.1</td>\n      <td>2.15</td>\n      <td>C+</td>\n      <td>Trung bình</td>\n      <td>Lê Văn Trung</td>\n    </tr>\n    <tr>\n      <th>45</th>\n      <td>55</td>\n      <td>56</td>\n      <td>56.0</td>\n      <td>19446701.0</td>\n      <td>Huỳnh Anh</td>\n      <td>Tú</td>\n      <td>6.4</td>\n      <td>6.3</td>\n      <td>6.5</td>\n      <td>7.7</td>\n      <td>...</td>\n      <td>NaN</td>\n      <td>NaN</td>\n      <td>NaN</td>\n      <td>NaN</td>\n      <td>25</td>\n      <td>6</td>\n      <td>2.14</td>\n      <td>C+</td>\n      <td>Trung bình</td>\n      <td>Huỳnh Anh Tú</td>\n    </tr>\n    <tr>\n      <th>46</th>\n      <td>23</td>\n      <td>24</td>\n      <td>24.0</td>\n      <td>19502841.0</td>\n      <td>Quách Trọng</td>\n      <td>Nghĩa</td>\n      <td>5.7</td>\n      <td>6.3</td>\n      <td>8.0</td>\n      <td>6.1</td>\n      <td>...</td>\n      <td>NaN</td>\n      <td>NaN</td>\n      <td>NaN</td>\n      <td>NaN</td>\n      <td>18</td>\n      <td>6</td>\n      <td>2.11</td>\n      <td>C+</td>\n      <td>Trung bình</td>\n      <td>Quách Trọng Nghĩa</td>\n    </tr>\n    <tr>\n      <th>47</th>\n      <td>19</td>\n      <td>20</td>\n      <td>20.0</td>\n      <td>19526961.0</td>\n      <td>Phạm Hoàng Duy</td>\n      <td>Khang</td>\n      <td>6.4</td>\n      <td>5.9</td>\n      <td>6.0</td>\n      <td>6.5</td>\n      <td>...</td>\n      <td>NaN</td>\n      <td>NaN</td>\n      <td>NaN</td>\n      <td>NaN</td>\n      <td>18</td>\n      <td>5.7</td>\n      <td>2.1</td>\n      <td>D+</td>\n      <td>Trung bình yếu</td>\n      <td>Phạm Hoàng Duy Khang</td>\n    </tr>\n    <tr>\n      <th>48</th>\n      <td>27</td>\n      <td>28</td>\n      <td>28.0</td>\n      <td>19469351.0</td>\n      <td>Lê Huy</td>\n      <td>Phát</td>\n      <td>5.7</td>\n      <td>5.6</td>\n      <td>7.5</td>\n      <td>7.5</td>\n      <td>...</td>\n      <td>NaN</td>\n      <td>NaN</td>\n      <td>NaN</td>\n      <td>NaN</td>\n      <td>19</td>\n      <td>5.9</td>\n      <td>2.07</td>\n      <td>D+</td>\n      <td>Trung bình yếu</td>\n      <td>Lê Huy Phát</td>\n    </tr>\n    <tr>\n      <th>49</th>\n      <td>31</td>\n      <td>32</td>\n      <td>32.0</td>\n      <td>19477141.0</td>\n      <td>Nguyễn Quang</td>\n      <td>Quốc</td>\n      <td>5.9</td>\n      <td>5.3</td>\n      <td>6.5</td>\n      <td>7.7</td>\n      <td>...</td>\n      <td>NaN</td>\n      <td>NaN</td>\n      <td>NaN</td>\n      <td>NaN</td>\n      <td>11</td>\n      <td>6.1</td>\n      <td>2.04</td>\n      <td>C+</td>\n      <td>Trung bình</td>\n      <td>Nguyễn Quang Quốc</td>\n    </tr>\n    <tr>\n      <th>50</th>\n      <td>57</td>\n      <td>58</td>\n      <td>58.0</td>\n      <td>19469421.0</td>\n      <td>Phạm Minh</td>\n      <td>Tuấn</td>\n      <td>6.3</td>\n      <td>6.4</td>\n      <td>6.5</td>\n      <td>7.0</td>\n      <td>...</td>\n      <td>NaN</td>\n      <td>NaN</td>\n      <td>NaN</td>\n      <td>NaN</td>\n      <td>21</td>\n      <td>5.4</td>\n      <td>1.99</td>\n      <td>D+</td>\n      <td>Trung bình yếu</td>\n      <td>Phạm Minh Tuấn</td>\n    </tr>\n    <tr>\n      <th>51</th>\n      <td>9</td>\n      <td>10</td>\n      <td>10.0</td>\n      <td>19500311.0</td>\n      <td>Phạm Hà Văn</td>\n      <td>Đông</td>\n      <td>5.0</td>\n      <td>NaN</td>\n      <td>7.0</td>\n      <td>6.7</td>\n      <td>...</td>\n      <td>NaN</td>\n      <td>NaN</td>\n      <td>NaN</td>\n      <td>NaN</td>\n      <td>20</td>\n      <td>5.7</td>\n      <td>1.98</td>\n      <td>D+</td>\n      <td>Trung bình yếu</td>\n      <td>Phạm Hà Văn Đông</td>\n    </tr>\n    <tr>\n      <th>52</th>\n      <td>7</td>\n      <td>8</td>\n      <td>8.0</td>\n      <td>19442481.0</td>\n      <td>Phạm Tài Đức Phú</td>\n      <td>Đa</td>\n      <td>5.3</td>\n      <td>6.6</td>\n      <td>7.0</td>\n      <td>8.5</td>\n      <td>...</td>\n      <td>NaN</td>\n      <td>NaN</td>\n      <td>NaN</td>\n      <td>NaN</td>\n      <td>25</td>\n      <td>5.4</td>\n      <td>1.94</td>\n      <td>D+</td>\n      <td>Trung bình yếu</td>\n      <td>Phạm Tài Đức Phú Đa</td>\n    </tr>\n    <tr>\n      <th>53</th>\n      <td>8</td>\n      <td>9</td>\n      <td>9.0</td>\n      <td>19463951.0</td>\n      <td>Lê Tấn</td>\n      <td>Đạt</td>\n      <td>5.9</td>\n      <td>5.9</td>\n      <td>5.0</td>\n      <td>4.5</td>\n      <td>...</td>\n      <td>NaN</td>\n      <td>NaN</td>\n      <td>NaN</td>\n      <td>NaN</td>\n      <td>19</td>\n      <td>4.9</td>\n      <td>1.69</td>\n      <td>D</td>\n      <td>Trung bình yếu</td>\n      <td>Lê Tấn Đạt</td>\n    </tr>\n    <tr>\n      <th>54</th>\n      <td>54</td>\n      <td>55</td>\n      <td>55.0</td>\n      <td>19519011.0</td>\n      <td>Đoàn Minh</td>\n      <td>Trường</td>\n      <td>4.9</td>\n      <td>5.2</td>\n      <td>7.5</td>\n      <td>0.0</td>\n      <td>...</td>\n      <td>NaN</td>\n      <td>NaN</td>\n      <td>NaN</td>\n      <td>NaN</td>\n      <td>9</td>\n      <td>4.5</td>\n      <td>1.68</td>\n      <td>D</td>\n      <td>Trung bình yếu</td>\n      <td>Đoàn Minh Trường</td>\n    </tr>\n    <tr>\n      <th>55</th>\n      <td>45</td>\n      <td>46</td>\n      <td>46.0</td>\n      <td>19529711.0</td>\n      <td>Nguyễn Đặng Minh</td>\n      <td>Toại</td>\n      <td>5.0</td>\n      <td>5.6</td>\n      <td>7.5</td>\n      <td>7.0</td>\n      <td>...</td>\n      <td>NaN</td>\n      <td>NaN</td>\n      <td>NaN</td>\n      <td>NaN</td>\n      <td>25</td>\n      <td>5</td>\n      <td>1.67</td>\n      <td>D+</td>\n      <td>Trung bình yếu</td>\n      <td>Nguyễn Đặng Minh Toại</td>\n    </tr>\n    <tr>\n      <th>56</th>\n      <td>18</td>\n      <td>19</td>\n      <td>19.0</td>\n      <td>19529041.0</td>\n      <td>Lương Quang</td>\n      <td>Khải</td>\n      <td>5.6</td>\n      <td>6.2</td>\n      <td>7.0</td>\n      <td>7.5</td>\n      <td>...</td>\n      <td>NaN</td>\n      <td>NaN</td>\n      <td>NaN</td>\n      <td>NaN</td>\n      <td>21</td>\n      <td>3.9</td>\n      <td>1.54</td>\n      <td>F</td>\n      <td>Kém</td>\n      <td>Lương Quang Khải</td>\n    </tr>\n    <tr>\n      <th>57</th>\n      <td>48</td>\n      <td>49</td>\n      <td>49.0</td>\n      <td>19477811.0</td>\n      <td>Lưu Hoàng Ngọc</td>\n      <td>Trinh</td>\n      <td>5.9</td>\n      <td>6.2</td>\n      <td>7.5</td>\n      <td>6.4</td>\n      <td>...</td>\n      <td>NaN</td>\n      <td>NaN</td>\n      <td>NaN</td>\n      <td>NaN</td>\n      <td>11</td>\n      <td>3.8</td>\n      <td>1.34</td>\n      <td>F</td>\n      <td>Kém</td>\n      <td>Lưu Hoàng Ngọc Trinh</td>\n    </tr>\n    <tr>\n      <th>58</th>\n      <td>6</td>\n      <td>7</td>\n      <td>7.0</td>\n      <td>19498401.0</td>\n      <td>Đỗ Xuân Đức</td>\n      <td>Chung</td>\n      <td>5.4</td>\n      <td>NaN</td>\n      <td>7.0</td>\n      <td>5.4</td>\n      <td>...</td>\n      <td>NaN</td>\n      <td>NaN</td>\n      <td>NaN</td>\n      <td>NaN</td>\n      <td>16</td>\n      <td>3.9</td>\n      <td>1.33</td>\n      <td>F</td>\n      <td>Kém</td>\n      <td>Đỗ Xuân Đức Chung</td>\n    </tr>\n    <tr>\n      <th>59</th>\n      <td>24</td>\n      <td>25</td>\n      <td>25.0</td>\n      <td>19499101.0</td>\n      <td>Nguyễn Thành</td>\n      <td>Nhân</td>\n      <td>4.5</td>\n      <td>7.6</td>\n      <td>7.0</td>\n      <td>2.5</td>\n      <td>...</td>\n      <td>NaN</td>\n      <td>NaN</td>\n      <td>NaN</td>\n      <td>NaN</td>\n      <td>13</td>\n      <td>4</td>\n      <td>1.26</td>\n      <td>D</td>\n      <td>Trung bình yếu</td>\n      <td>Nguyễn Thành Nhân</td>\n    </tr>\n  </tbody>\n</table>\n<p>60 rows × 92 columns</p>\n</div>"
     },
     "metadata": {},
     "execution_count": 76
    }
   ],
   "source": [
    "df.sort_values(by='Điểm 4', ascending=False).reset_index()"
   ]
  },
  {
   "cell_type": "code",
   "execution_count": 77,
   "metadata": {},
   "outputs": [
    {
     "output_type": "execute_result",
     "data": {
      "text/plain": [
       "0     5.1\n",
       "1     5.3\n",
       "2     5.6\n",
       "3     6.7\n",
       "4     5.3\n",
       "5     6.2\n",
       "6     5.4\n",
       "7     5.3\n",
       "8     5.9\n",
       "9     5.0\n",
       "10    5.7\n",
       "11    5.8\n",
       "12    6.0\n",
       "13    6.4\n",
       "14    5.7\n",
       "15    4.9\n",
       "16    7.1\n",
       "17    5.6\n",
       "18    5.6\n",
       "19    6.4\n",
       "20    5.1\n",
       "21    6.5\n",
       "22    6.3\n",
       "23    5.7\n",
       "24    4.5\n",
       "25    6.0\n",
       "26    7.0\n",
       "27    5.7\n",
       "28    7.0\n",
       "29    8.1\n",
       "30    6.5\n",
       "31    5.9\n",
       "32    5.2\n",
       "33    7.1\n",
       "34    5.3\n",
       "35    5.7\n",
       "36    4.5\n",
       "37    4.6\n",
       "38    6.3\n",
       "39    5.5\n",
       "40    6.3\n",
       "41    2.0\n",
       "42    5.8\n",
       "43    4.6\n",
       "44    1.5\n",
       "45    5.0\n",
       "46    6.0\n",
       "47    4.4\n",
       "48    5.9\n",
       "49    7.9\n",
       "50    4.7\n",
       "51    8.0\n",
       "52    6.3\n",
       "53    5.2\n",
       "54    4.9\n",
       "55    6.4\n",
       "56    5.6\n",
       "57    6.3\n",
       "58    1.0\n",
       "59    7.9\n",
       "Name: Những nguyên lý cơ bản của Chủ nghĩa Mác - Lênin, dtype: float64"
      ]
     },
     "metadata": {},
     "execution_count": 77
    }
   ],
   "source": [
    "df['Những nguyên lý cơ bản của Chủ nghĩa Mác - Lênin']"
   ]
  }
 ],
 "metadata": {
  "kernelspec": {
   "display_name": "Python 3",
   "language": "python",
   "name": "python3"
  },
  "language_info": {
   "codemirror_mode": {
    "name": "ipython",
    "version": 3
   },
   "file_extension": ".py",
   "mimetype": "text/x-python",
   "name": "python",
   "nbconvert_exporter": "python",
   "pygments_lexer": "ipython3",
   "version": "3.8.3-final"
  }
 },
 "nbformat": 4,
 "nbformat_minor": 4
}